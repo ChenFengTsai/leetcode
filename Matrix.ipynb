{
 "cells": [
  {
   "cell_type": "markdown",
   "id": "a2db040f-8e85-4e47-900e-3c1f64ce4fdf",
   "metadata": {},
   "source": [
    "# Matrix"
   ]
  },
  {
   "cell_type": "markdown",
   "id": "07767408-2248-4665-b641-3d46179f9d55",
   "metadata": {},
   "source": [
    "### Print all unique rows of the given matrix"
   ]
  },
  {
   "cell_type": "code",
   "execution_count": 1,
   "id": "b2a0bfa6-44f1-4f80-b140-813e5f084812",
   "metadata": {},
   "outputs": [],
   "source": [
    "### in tree doc"
   ]
  },
  {
   "cell_type": "markdown",
   "id": "12a574b2-5781-41eb-984b-e803b087908a",
   "metadata": {},
   "source": [
    "### Number of Islands"
   ]
  },
  {
   "cell_type": "code",
   "execution_count": null,
   "id": "2c844b78-c0c8-47dd-b49f-eac57c8e0dba",
   "metadata": {},
   "outputs": [],
   "source": [
    "# Input: grid = [\n",
    "#   [\"1\",\"1\",\"1\",\"1\",\"0\"],\n",
    "#   [\"1\",\"1\",\"0\",\"1\",\"0\"],\n",
    "#   [\"1\",\"1\",\"0\",\"0\",\"0\"],\n",
    "#   [\"0\",\"0\",\"0\",\"0\",\"0\"]\n",
    "# ]\n",
    "# Output: 1\n",
    "# BFS method\n",
    "from collections import deque\n",
    "class Solution(object):\n",
    "    def numIslands(self, grid):\n",
    "        \"\"\"\n",
    "        :type grid: List[List[str]]\n",
    "        :rtype: int\n",
    "        \"\"\"\n",
    "        if not grid:\n",
    "            return 0\n",
    "        rows, cols = len(grid), len(grid[0])\n",
    "        visit = set()\n",
    "        islands = 0\n",
    "\n",
    "        def bfs(r, c):\n",
    "            q = deque()\n",
    "            visit.add((r,c))\n",
    "            q.append((r,c))\n",
    "\n",
    "            while q:\n",
    "                row, col = q.popleft()\n",
    "                directions = [[1, 0], [-1, 0], [0, 1], [0, -1]]\n",
    "                for dr, dc in directions:\n",
    "                    r, c = row + dr, col + dc\n",
    "                    if (r in range(rows) and\n",
    "                        c in range(cols) and\n",
    "                        grid[r][c] == '1' and\n",
    "                        (r, c) not in visit):\n",
    "                        q.append((r, c))\n",
    "                        visit.add((r, c))\n",
    "        \n",
    "        for r in range(rows):\n",
    "            for c in range(cols):\n",
    "                if grid[r][c] == '1' and (r, c) not in visit:\n",
    "                    bfs(r, c)\n",
    "                    islands += 1\n",
    "        \n",
    "        return islands"
   ]
  },
  {
   "cell_type": "markdown",
   "id": "85cac4d5-33dc-41d7-a454-4a37e8046a48",
   "metadata": {},
   "source": [
    "### Pacific Atlantic Water Flow"
   ]
  },
  {
   "cell_type": "code",
   "execution_count": null,
   "id": "e46334c8-8298-498e-81af-cbb1df7dcef9",
   "metadata": {},
   "outputs": [],
   "source": [
    "### look into best_practice"
   ]
  }
 ],
 "metadata": {
  "kernelspec": {
   "display_name": "Python 3.10.11 64-bit",
   "language": "python",
   "name": "python3"
  },
  "language_info": {
   "codemirror_mode": {
    "name": "ipython",
    "version": 3
   },
   "file_extension": ".py",
   "mimetype": "text/x-python",
   "name": "python",
   "nbconvert_exporter": "python",
   "pygments_lexer": "ipython3",
   "version": "3.10.11"
  },
  "vscode": {
   "interpreter": {
    "hash": "aee8b7b246df8f9039afb4144a1f6fd8d2ca17a180786b69acc140d282b71a49"
   }
  }
 },
 "nbformat": 4,
 "nbformat_minor": 5
}
