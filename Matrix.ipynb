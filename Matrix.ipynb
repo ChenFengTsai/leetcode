{
 "cells": [
  {
   "cell_type": "markdown",
   "id": "a2db040f-8e85-4e47-900e-3c1f64ce4fdf",
   "metadata": {},
   "source": [
    "# Matrix"
   ]
  },
  {
   "cell_type": "markdown",
   "id": "07767408-2248-4665-b641-3d46179f9d55",
   "metadata": {},
   "source": [
    "### Print all unique rows of the given matrix"
   ]
  },
  {
   "cell_type": "code",
   "execution_count": 1,
   "id": "b2a0bfa6-44f1-4f80-b140-813e5f084812",
   "metadata": {},
   "outputs": [],
   "source": [
    "### in tree doc"
   ]
  },
  {
   "cell_type": "markdown",
   "id": "12a574b2-5781-41eb-984b-e803b087908a",
   "metadata": {},
   "source": [
    "### Number of Islands (similar to the pacific atlantic problem in best_practice)"
   ]
  },
  {
   "cell_type": "code",
   "execution_count": null,
   "id": "2c844b78-c0c8-47dd-b49f-eac57c8e0dba",
   "metadata": {},
   "outputs": [],
   "source": [
    "# Input: grid = [\n",
    "#   [\"1\",\"1\",\"1\",\"1\",\"0\"],\n",
    "#   [\"1\",\"1\",\"0\",\"1\",\"0\"],\n",
    "#   [\"1\",\"1\",\"0\",\"0\",\"0\"],\n",
    "#   [\"0\",\"0\",\"0\",\"0\",\"0\"]\n",
    "# ]\n",
    "# Output: 1\n",
    "\n",
    "# BFS method\n",
    "from collections import deque\n",
    "class Solution(object):\n",
    "    def numIslands(self, grid):\n",
    "        \"\"\"\n",
    "        :type grid: List[List[str]]\n",
    "        :rtype: int\n",
    "        \"\"\"\n",
    "        if not grid:\n",
    "            return 0\n",
    "        rows, cols = len(grid), len(grid[0])\n",
    "        visit = set()\n",
    "        islands = 0\n",
    "      \n",
    "        for r in range(rows):\n",
    "            for c in range(cols):\n",
    "                if grid[r][c] == '1' and (r, c) not in visit:\n",
    "                    # bfs\n",
    "                    q = deque()\n",
    "                    visit.add((r,c))\n",
    "                    q.append((r,c))\n",
    "                    while q:\n",
    "                        r, c = q.popleft()\n",
    "                        directions = [(1, 0), (-1, 0), (0, 1), (0, -1)]\n",
    "                        for dr, dc in directions:\n",
    "                            nr, nc = r + dr, c + dc\n",
    "                            if (nr in range(rows) and\n",
    "                                nc in range(cols) and\n",
    "                                grid[nr][nc] == '1' and\n",
    "                                (nr, nc) not in visit):\n",
    "                                q.append((nr, nc))\n",
    "                                visit.add((nr, nc))\n",
    "                    islands += 1\n",
    "        \n",
    "        return islands"
   ]
  },
  {
   "cell_type": "markdown",
   "id": "85cac4d5-33dc-41d7-a454-4a37e8046a48",
   "metadata": {},
   "source": [
    "### Pacific Atlantic Water Flow"
   ]
  },
  {
   "cell_type": "code",
   "execution_count": null,
   "id": "e46334c8-8298-498e-81af-cbb1df7dcef9",
   "metadata": {},
   "outputs": [],
   "source": [
    "### look into best_practice"
   ]
  },
  {
   "cell_type": "markdown",
   "id": "524c089d",
   "metadata": {},
   "source": [
    "### Print all unique rows of the given matrix"
   ]
  },
  {
   "cell_type": "code",
   "execution_count": null,
   "id": "91c20134",
   "metadata": {},
   "outputs": [],
   "source": [
    "## Another method is to use hashing to assign each row a distinct value\n",
    "## use set or dict\n",
    "## Time complexity: O( ROW x COL )\n",
    "def printArray(matrix):\n",
    " \n",
    "    rowCount = len(matrix)\n",
    "    if not rowCount:\n",
    "        return\n",
    " \n",
    "    columnCount = len(matrix[0])\n",
    "    if not columnCount:\n",
    "        return\n",
    " \n",
    "    printed = set()\n",
    "    for row in matrix:\n",
    "        # substitutes those placeholders with values from the row variable.\n",
    "        routput = ''.join(map(str, row))\n",
    "\n",
    "        if routput not in printed:\n",
    "            printed.add(routput)\n",
    "            print(routput)\n",
    "\n",
    "if __name__ == '__main__':\n",
    "     \n",
    "    M = [ [ 0, 1, 0, 0, 1 ],\n",
    "          [ 1, 0, 1, 1, 0 ],\n",
    "          [ 0, 1, 0, 0, 1 ],\n",
    "          [ 1, 0, 1, 0, 0 ] ]\n",
    " \n",
    "    printArray(M)"
   ]
  },
  {
   "cell_type": "markdown",
   "id": "e1224184",
   "metadata": {},
   "source": [
    "### Island Perimeter (exactly one island)"
   ]
  },
  {
   "cell_type": "code",
   "execution_count": null,
   "id": "9af8b36d",
   "metadata": {},
   "outputs": [],
   "source": [
    "class Solution(object):\n",
    "    def islandPerimeter(self, grid):\n",
    "        \"\"\"\n",
    "        :type grid: List[List[int]]\n",
    "        :rtype: int\n",
    "        \"\"\"\n",
    "        visit = set()\n",
    "        def dfs(i, j):\n",
    "            # out of bounce or go to water\n",
    "            if i >= len(grid) or j >= len(grid[0]) or \\\n",
    "            i < 0 or j < 0 or grid[i][j] == 0:\n",
    "                return 1\n",
    "            if (i, j) in visit:\n",
    "                return 0\n",
    "            \n",
    "            visit.add((i,j))\n",
    "            perim = 0\n",
    "            direction = [(1,0), (-1,0), (0,1), (0,-1)]\n",
    "            for dr, dc in direction:\n",
    "                r, c = i+dr, j+dc\n",
    "                perim += dfs(r,c)\n",
    "            return perim\n",
    "        \n",
    "        for i in range(len(grid)):\n",
    "            for j in range(len(grid[0])):\n",
    "                if grid[i][j]:\n",
    "                    return dfs(i,j)\n",
    "\n",
    "# BFS Solution more intuitive        \n",
    "class Solution(object):\n",
    "    def islandPerimeter(self, grid):\n",
    "        \"\"\"\n",
    "        :type grid: List[List[int]]\n",
    "        :rtype: int\n",
    "        \"\"\"\n",
    "        visit = set()\n",
    "        perim = 0\n",
    "        for i in range(len(grid)):\n",
    "            for j in range(len(grid[0])):\n",
    "                if grid[i][j] and (i,j) not in visit:\n",
    "                    q = deque()\n",
    "                    visit.add((i,j))\n",
    "                    q.append((i,j))\n",
    "                    while q:\n",
    "                        r,c = q.popleft()\n",
    "                        for dr, dc in [(1,0),(0,1),(-1,0),(0,-1)]:\n",
    "                            nr, nc = r+dr, c+dc\n",
    "                            if (nr not in range(len(grid)) or\\\n",
    "                            nc not in range(len(grid[0])) or\\\n",
    "                            grid[nr][nc] == 0) and \\\n",
    "                            (grid[r][c] == 1):\n",
    "                                perim += 1\n",
    "                            elif grid[nr][nc] == 1 and\\\n",
    "                            (nr, nc) not in visit:\n",
    "                                q.append((nr,nc))\n",
    "                                visit.add((nr,nc))\n",
    "        return perim"
   ]
  },
  {
   "cell_type": "markdown",
   "id": "de5b0b5e",
   "metadata": {},
   "source": [
    "### Pacific Atlantic Water Flow"
   ]
  },
  {
   "cell_type": "code",
   "execution_count": null,
   "id": "bccdfbdc",
   "metadata": {},
   "outputs": [],
   "source": [
    "class Solution(object):\n",
    "    def pacificAtlantic(self, heights):\n",
    "        \"\"\"\n",
    "        :type heights: List[List[int]]\n",
    "        :rtype: List[List[int]]\n",
    "        \"\"\"\n",
    "        rows, cols = len(heights), len(heights[0])\n",
    "        pac, atl = set(), set()\n",
    "\n",
    "        def dfs(r, c, visit, prev_height):\n",
    "            if ((r, c) in visit    \n",
    "                or r not in range(rows) \n",
    "                or c not in range(cols) \n",
    "                or heights[r][c] < prev_height):\n",
    "                \n",
    "                return\n",
    "            visit.add((r, c))\n",
    "            dfs(r+1, c, visit, heights[r][c])\n",
    "            dfs(r-1, c, visit, heights[r][c])\n",
    "            dfs(r, c+1, visit, heights[r][c])\n",
    "            dfs(r, c-1, visit, heights[r][c])\n",
    "\n",
    "        for c in range(cols):\n",
    "            dfs(0, c, pac, 0)\n",
    "            dfs(rows-1, c, atl, 0)\n",
    "        \n",
    "        for r in range(rows):\n",
    "            dfs(r, 0, pac, 0)\n",
    "            dfs(r, cols-1, atl, 0)\n",
    "        \n",
    "        res = []\n",
    "        for r in range(rows):\n",
    "            for c in range(cols):\n",
    "                if (r,c) in pac and (r,c) in atl:\n",
    "                    res.append([r, c])\n",
    "        return res"
   ]
  },
  {
   "cell_type": "markdown",
   "id": "6aaded8c",
   "metadata": {},
   "source": [
    "### Search a 2D Matrix II\n"
   ]
  },
  {
   "cell_type": "code",
   "execution_count": null,
   "id": "2346d760",
   "metadata": {},
   "outputs": [],
   "source": [
    "### Matrix are in increasing order in both direction\n",
    "class Solution(object):\n",
    "    def searchMatrix(self, matrix, target):\n",
    "        \"\"\"\n",
    "        :type matrix: List[List[int]]\n",
    "        :type target: int\n",
    "        :rtype: bool\n",
    "        \"\"\"\n",
    "        rows = len(matrix)\n",
    "        cols = len(matrix[0])\n",
    "        r = rows-1\n",
    "        c = 0\n",
    "\n",
    "        while r >= 0 and c < cols:\n",
    "            if matrix[r][c] == target:\n",
    "                return True\n",
    "            elif matrix[r][c] < target:\n",
    "                c += 1\n",
    "            elif matrix[r][c] > target:\n",
    "                r -= 1\n",
    "        return False"
   ]
  },
  {
   "cell_type": "markdown",
   "id": "aac430dd",
   "metadata": {},
   "source": [
    "### Rotate Image"
   ]
  },
  {
   "cell_type": "code",
   "execution_count": null,
   "id": "6579b1ef",
   "metadata": {},
   "outputs": [],
   "source": [
    "### Rotation = Transpose + Reverse rows\n",
    "class Solution(object):\n",
    "    def rotate(self, matrix):\n",
    "        \"\"\"\n",
    "        :type matrix: List[List[int]]\n",
    "        :rtype: None Do not return anything, modify matrix in-place instead.\n",
    "        \"\"\"\n",
    "        # transpose\n",
    "        for i in range(len(matrix)):\n",
    "            for j in range(len(matrix[0])):\n",
    "                matrix[i][j], matrix[j][i] = matrix[j][i], matrix[i][j]\n",
    "        \n",
    "        for r in range(len(matrix[0])):\n",
    "            matrix[r] = matrix[r][::-1] "
   ]
  }
 ],
 "metadata": {
  "kernelspec": {
   "display_name": "Python 3.10.11 64-bit",
   "language": "python",
   "name": "python3"
  },
  "language_info": {
   "codemirror_mode": {
    "name": "ipython",
    "version": 3
   },
   "file_extension": ".py",
   "mimetype": "text/x-python",
   "name": "python",
   "nbconvert_exporter": "python",
   "pygments_lexer": "ipython3",
   "version": "3.10.11"
  },
  "vscode": {
   "interpreter": {
    "hash": "aee8b7b246df8f9039afb4144a1f6fd8d2ca17a180786b69acc140d282b71a49"
   }
  }
 },
 "nbformat": 4,
 "nbformat_minor": 5
}
