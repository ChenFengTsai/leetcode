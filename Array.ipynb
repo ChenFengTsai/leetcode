{
 "cells": [
  {
   "cell_type": "markdown",
   "id": "978585fc-4e62-478a-9173-3c9ea9153cb3",
   "metadata": {},
   "source": [
    "# Array"
   ]
  },
  {
   "cell_type": "markdown",
   "id": "738ad702-ec74-429a-b88e-f7aa57fb9c7f",
   "metadata": {
    "jp-MarkdownHeadingCollapsed": true,
    "tags": []
   },
   "source": [
    "### Remove Duplicate elements from sorted array"
   ]
  },
  {
   "cell_type": "code",
   "execution_count": 3,
   "id": "555caf62-60b2-435c-821b-221e5520c7d8",
   "metadata": {},
   "outputs": [
    {
     "data": {
      "text/plain": [
       "[1, 2, 3, 4, 5, 6]"
      ]
     },
     "execution_count": 3,
     "metadata": {},
     "output_type": "execute_result"
    }
   ],
   "source": [
    "# def remove(arr):\n",
    "#     if len(arr) == 0 or len(arr) == 1:\n",
    "#         return arr\n",
    "#     n = len(arr)\n",
    "#     j = 0\n",
    "#     for i in range(n-1):\n",
    "#         if arr[i] != arr[i+1]:\n",
    "#             arr[j] = arr[i]\n",
    "#             j+=1\n",
    "#     # crucial since we did not add the last value for comparison\n",
    "#     arr[j] = arr[n-1]\n",
    "#     return arr[0:j+1]\n",
    "\n",
    "def remove(arr):\n",
    "    l = 1\n",
    "    for r in range(1, len(arr)):\n",
    "        if arr[r] != arr[r-1]:\n",
    "            arr[l] = arr[r]\n",
    "            l += 1\n",
    "    return arr[:l]\n",
    "\n",
    "arr = [1, 2, 2, 3, 4, 4, 4, 5, 6]\n",
    "remove(arr)\n",
    "# Time: O(n)\n",
    "# Space: O(1)"
   ]
  },
  {
   "cell_type": "markdown",
   "id": "b81b3a3c-58e1-4444-bad2-b6d6fd1380d7",
   "metadata": {
    "jp-MarkdownHeadingCollapsed": true,
    "tags": []
   },
   "source": [
    "### Find the Increasing subsequence of length three with maximum product (non-negative)"
   ]
  },
  {
   "cell_type": "code",
   "execution_count": 3,
   "id": "268c09ec",
   "metadata": {},
   "outputs": [
    {
     "name": "stdout",
     "output_type": "stream",
     "text": [
      "(4500, [10, 15, 30])\n"
     ]
    }
   ],
   "source": [
    "from bisect import bisect_left\n",
    "\n",
    "def BinarySearch(a, x):\n",
    "    i = bisect_left(a, x)\n",
    "    return i\n",
    "\n",
    "def countArray(arr):\n",
    "    # the right position\n",
    "    LGR = [0]*len(arr)\n",
    "    LGR[-1] = float('-inf')\n",
    "    max_from_right = arr[len(arr) - 1]\n",
    "    for i in range(len(arr) - 2, -1, -1):\n",
    "        if arr[i] > max_from_right:\n",
    "            max_from_right = arr[i]\n",
    "        LGR[i] = max_from_right\n",
    "    \n",
    "    # the left position\n",
    "    LSL = [0]*len(arr)\n",
    "    LSL[0] = float('inf')\n",
    "    lst = [arr[0]]\n",
    "    for i in range(1, len(arr)):\n",
    "        # find the closest number from the left\n",
    "        idx = BinarySearch(lst, arr[i])\n",
    "        if idx != 0:\n",
    "            # the closest from the left is idx-1\n",
    "            LSL[i] = lst[idx-1]\n",
    "        lst.insert(idx, arr[i])\n",
    "    \n",
    "    # find max product\n",
    "    max_p = float('-inf')\n",
    "    for i in range(len(arr)):\n",
    "        curr = LSL[i]*arr[i]*LGR[i]\n",
    "        if curr > max_p and LSL[i] < arr[i] and LGR[i]> arr[i]:\n",
    "            max_p = curr\n",
    "            ans = [LSL[i], arr[i], LGR[i]]\n",
    "            \n",
    "    return max_p, ans\n",
    "        \n",
    "ans = countArray([10, 7, 10, 1, 2, 15, 9, 30])\n",
    "print(ans)\n",
    "    "
   ]
  },
  {
   "cell_type": "markdown",
   "id": "e000b6cb-6b07-44b3-a7da-274947b85fe7",
   "metadata": {
    "jp-MarkdownHeadingCollapsed": true,
    "tags": []
   },
   "source": [
    "### Quick Sort Implementation with array"
   ]
  },
  {
   "cell_type": "code",
   "execution_count": 8,
   "id": "1d17930b-49c7-45f2-8be1-3958996a4e12",
   "metadata": {},
   "outputs": [
    {
     "name": "stdout",
     "output_type": "stream",
     "text": [
      "[1, 1, 2, 3, 6, 8, 10]\n"
     ]
    }
   ],
   "source": [
    "def quicksort(arr):\n",
    "    if len(arr) <= 1:\n",
    "        return arr\n",
    "    pivot = arr[len(arr)//2]\n",
    "    left = [x for x in arr if x < pivot]\n",
    "    middle = [x for x in arr if x == pivot]\n",
    "    right = [x for x in arr if x > pivot]\n",
    "    return quicksort(left) + middle + quicksort(right)\n",
    "print(quicksort([3,6,8,10,1,2,1]))"
   ]
  },
  {
   "cell_type": "markdown",
   "id": "daa2852b-ce05-443e-86b1-91a68dfd1f7b",
   "metadata": {
    "jp-MarkdownHeadingCollapsed": true,
    "tags": []
   },
   "source": [
    "### Quick Sort Implementation with Doubly Linkedlist"
   ]
  },
  {
   "cell_type": "code",
   "execution_count": 18,
   "id": "c6caf9ea-f68d-4f74-9577-86d67f3022e9",
   "metadata": {},
   "outputs": [
    {
     "name": "stdout",
     "output_type": "stream",
     "text": [
      "1 2 6 7 9 10 "
     ]
    }
   ],
   "source": [
    "class Node:\n",
    "    def __init__(self, val, prev=None):\n",
    "        self.val = val\n",
    "        self.next = None\n",
    "        self.prev = prev\n",
    "\n",
    "#https://www.codesdope.com/blog/article/quicksort-on-doubly-linked-list/\n",
    "def partition(left, right):\n",
    "    pivot = right\n",
    "    i = left\n",
    "    ptr = left\n",
    "    \n",
    "    while ptr != right:\n",
    "        if ptr.val <= pivot.val:     \n",
    "            # switch smaller value to the front\n",
    "            i.val, ptr.val = ptr.val, i.val\n",
    "            i = i.next\n",
    "        ptr = ptr.next\n",
    "    # switching the pivot node with i.next to make left of pivot is smaller than right of pivot\n",
    "    i.val, pivot.val = pivot.val, i.val\n",
    "    # return the  pivot node\n",
    "    return i\n",
    "\n",
    "\n",
    "def QuickSort(left, right):\n",
    "    if right != None and left != right and left != right.next:\n",
    "        p = partition(left, right)\n",
    "        QuickSort(left, p.prev)\n",
    "        QuickSort(p.next, right)\n",
    "\n",
    "\n",
    "if __name__ == (\"__main__\"):\n",
    "    head = Node(6)\n",
    "    head.next = first = Node(2, head)\n",
    "    first.next = second = Node(1, first)\n",
    "    second.next = third = Node(7, second)\n",
    "    third.next = fourth = Node(9, third)\n",
    "    fourth.next = fifth = Node(10, fourth)\n",
    "    # 6<=>2<=>1<=>7<=>9<=>3\n",
    "    QuickSort(head, fifth)\n",
    "    # Print the list.\n",
    "    while head != None:\n",
    "        print(head.val, end=\" \")\n",
    "        head = head.next"
   ]
  },
  {
   "cell_type": "markdown",
   "id": "2d2bcb4a-3eda-4515-9018-82e0334db5c3",
   "metadata": {
    "tags": []
   },
   "source": [
    "### Find Longest Subsequence with Increasing order"
   ]
  },
  {
   "cell_type": "code",
   "execution_count": 3,
   "id": "cddedca3-c444-42c4-8533-3a697120c6a4",
   "metadata": {},
   "outputs": [
    {
     "data": {
      "text/plain": [
       "4"
      ]
     },
     "execution_count": 3,
     "metadata": {},
     "output_type": "execute_result"
    }
   ],
   "source": [
    "# dynamic programming problem\n",
    "def subsequence(arr):\n",
    "    ls = [1]*len(arr)\n",
    "    for i in range(len(arr)-1, -1, -1):\n",
    "        for j in range(i+1, len(arr)):\n",
    "            if arr[i] < arr[j]:\n",
    "                ls[i] = max(ls[i], ls[j]+1)\n",
    "    return max(ls)\n",
    "\n",
    "a = [3,4,6,2,7]\n",
    "subsequence(a)"
   ]
  },
  {
   "cell_type": "markdown",
   "id": "d4c9d61b-20ed-45f9-85d2-283e560172e1",
   "metadata": {},
   "source": [
    "### Maximum Subarray"
   ]
  },
  {
   "cell_type": "code",
   "execution_count": null,
   "id": "78277018-678a-4d0c-b679-b16ca91de98b",
   "metadata": {},
   "outputs": [],
   "source": [
    "class Solution(object):\n",
    "    def maxSubArray(self, nums):\n",
    "        \"\"\"\n",
    "        :type nums: List[int]\n",
    "        :rtype: int\n",
    "        \"\"\"\n",
    "        maxsub = float('-inf')\n",
    "        cursum = 0\n",
    "        for i in nums:\n",
    "            cursum += i\n",
    "            maxsub = max(maxsub, cursum)\n",
    "            if cursum < 0:\n",
    "                cursum = 0\n",
    "        return maxsub"
   ]
  },
  {
   "cell_type": "markdown",
   "id": "1cf316bf-6077-4866-9d12-429b381e2f23",
   "metadata": {},
   "source": [
    "### Product of Array Except Self"
   ]
  },
  {
   "cell_type": "code",
   "execution_count": null,
   "id": "8e1c6279-fd06-4a9e-b9c3-8a62f6e8dec6",
   "metadata": {},
   "outputs": [],
   "source": [
    "class Solution(object):\n",
    "    def productExceptSelf(self, nums):\n",
    "        \"\"\"\n",
    "        :type nums: List[int]\n",
    "        :rtype: List[int]\n",
    "        \"\"\"\n",
    "        ct = 0\n",
    "        for i in range(len(nums)):\n",
    "            if nums[i] == 0:\n",
    "                ct += 1\n",
    "                t = i\n",
    "        \n",
    "        zero = [0]*len(nums)\n",
    "        if ct > 1:\n",
    "            return zero\n",
    "        \n",
    "        if ct == 1:\n",
    "            l = 1\n",
    "            for j in nums[:t]:\n",
    "                l *= j\n",
    "            r = 1\n",
    "            for q in nums[t+1:]:\n",
    "                r *= q\n",
    "            zero[t] = l*r\n",
    "            return zero\n",
    "        \n",
    "        if ct == 0:\n",
    "            total = 1\n",
    "            for j in nums:\n",
    "                total*=j\n",
    "            for i in range(len(nums)):\n",
    "                zero[i] = total/nums[i]\n",
    "            return zero"
   ]
  },
  {
   "cell_type": "markdown",
   "id": "5047855c-2662-45cb-894b-35c9bcc1dd25",
   "metadata": {},
   "source": [
    "### Merge Intervals"
   ]
  },
  {
   "cell_type": "code",
   "execution_count": null,
   "id": "ac057b35-e335-40dd-ae98-b1dd904d7868",
   "metadata": {},
   "outputs": [],
   "source": [
    "class Solution(object):\n",
    "    def merge(self, intervals):\n",
    "        \"\"\"\n",
    "        :type intervals: List[List[int]]\n",
    "        :rtype: List[List[int]]\n",
    "        \"\"\"\n",
    "        intervals.sort(key = lambda i :i[0])\n",
    "        output = [intervals[0]]\n",
    "\n",
    "        for int in intervals[1:]:\n",
    "            curr_start = int[0]\n",
    "            curr_end = int[1]\n",
    "            prev_end = output[-1][1]\n",
    "            if curr_start <= prev_end:\n",
    "                output[-1][1] = max(prev_end, curr_end)\n",
    "            else:\n",
    "                output.append(int)\n",
    "        return output"
   ]
  },
  {
   "cell_type": "markdown",
   "id": "95719e79-dc02-4109-99a1-c907cee6ca85",
   "metadata": {},
   "source": [
    "### Search in Rotated Sorted Array"
   ]
  },
  {
   "cell_type": "code",
   "execution_count": null,
   "id": "d30c5c2f-9c73-4294-b5f0-8820d5d29d54",
   "metadata": {},
   "outputs": [],
   "source": [
    "### Binary search method\n",
    "# Input: nums = [4,5,6,7,0,1,2], target = 0\n",
    "# Output: 4\n",
    "\n",
    "class Solution(object):\n",
    "    def search(self, nums, target):\n",
    "        \"\"\"\n",
    "        :type nums: List[int]\n",
    "        :type target: int\n",
    "        :rtype: int\n",
    "        \"\"\" \n",
    "        l ,r = 0, len(nums) -1\n",
    "\n",
    "        while l <= r:\n",
    "            mid = l + (r-l)//2\n",
    "            if target == nums[mid]:\n",
    "                return mid\n",
    "            # first check how the rotation starts\n",
    "            if nums[l] <= nums[mid]:\n",
    "                if target > nums[mid] or target < nums[l]:\n",
    "                    l = mid+1\n",
    "                else:\n",
    "                    r = mid-1\n",
    "            else:\n",
    "                if target < nums[mid] or target > nums[r]:\n",
    "                    r = mid-1   \n",
    "                else:\n",
    "                    l = mid+1\n",
    "        return -1"
   ]
  },
  {
   "cell_type": "markdown",
   "id": "f13e0832-1091-4d8f-b7d5-996a1a8b83b4",
   "metadata": {},
   "source": [
    "### Find Minimum in Rotated Sorted Array"
   ]
  },
  {
   "cell_type": "code",
   "execution_count": 14,
   "id": "9207bce7-391a-4658-8d63-0a1ed99df2d4",
   "metadata": {},
   "outputs": [
    {
     "data": {
      "text/plain": [
       "2"
      ]
     },
     "execution_count": 14,
     "metadata": {},
     "output_type": "execute_result"
    }
   ],
   "source": [
    "# Input: [3,4,5,1,2]\n",
    "\n",
    "### Binary Search\n",
    "class Solution(object):\n",
    "    def findMin(self, nums):\n",
    "        \"\"\"\n",
    "        :type nums: List[int]\n",
    "        :rtype: int\n",
    "        \"\"\"\n",
    "        i = 0\n",
    "        j = len(nums) - 1\n",
    "        while i <= j:\n",
    "            if nums[i] <= nums[j]:\n",
    "                return nums[i]\n",
    "            mid =  i + (j-i)//2\n",
    "            if nums[mid] >= nums[0]:\n",
    "                i = mid+1\n",
    "            else:\n",
    "                j = mid-1\n",
    "                \n",
    "t = Solution()\n",
    "t.findMin([3,4,5,2])"
   ]
  },
  {
   "cell_type": "markdown",
   "id": "b9dff1aa-84e5-400a-8dbc-aea1c74efce1",
   "metadata": {},
   "source": [
    "### Palindromic Substrings"
   ]
  },
  {
   "cell_type": "code",
   "execution_count": null,
   "id": "3815ca52-c67d-464c-8e35-379b9136d146",
   "metadata": {},
   "outputs": [],
   "source": [
    "### look into sliding window"
   ]
  },
  {
   "cell_type": "markdown",
   "id": "3512bb15-0f1b-42df-b74c-8caac3aa6edc",
   "metadata": {},
   "source": [
    "### Non-overlapping Intervals (similar with merge intervals but this ask for minimum removal count)"
   ]
  },
  {
   "cell_type": "code",
   "execution_count": null,
   "id": "70d42eb0-0457-4a5b-a722-0d9bd415d82b",
   "metadata": {},
   "outputs": [],
   "source": [
    "class Solution(object):\n",
    "    def eraseOverlapIntervals(self, intervals):\n",
    "        \"\"\"\n",
    "        :type intervals: List[List[int]]\n",
    "        :rtype: int\n",
    "        \"\"\"\n",
    "        count = 0\n",
    "        intervals.sort(key = lambda i: i[0])\n",
    "        prevEnd = intervals[0][1]\n",
    "        for i in range(1, len(intervals)):\n",
    "            currStart = intervals[i][0]\n",
    "            currEnd = intervals[i][1]\n",
    "            if prevEnd <= currStart:\n",
    "                prevEnd = currEnd\n",
    "            else:\n",
    "                count += 1\n",
    "                prevEnd = min(currEnd, prevEnd)\n",
    "        return count"
   ]
  },
  {
   "cell_type": "markdown",
   "id": "1dbf8cf4",
   "metadata": {},
   "source": [
    "### Insert Interval"
   ]
  },
  {
   "cell_type": "code",
   "execution_count": null,
   "id": "545d9978-8bb3-464d-b088-f44c9c8478be",
   "metadata": {},
   "outputs": [],
   "source": [
    "# Input: intervals = [[1,3],[6,9]], newInterval = [2,5]\n",
    "# Output: [[1,5],[6,9]]\n",
    "\n",
    "### You can also use Merge Intervals solution after adding the new Interval\n",
    "class Solution(object):\n",
    "    def insert(self, intervals, newInterval):\n",
    "        \"\"\"\n",
    "        :type intervals: List[List[int]]\n",
    "        :type newInterval: List[int]\n",
    "        :rtype: List[List[int]]\n",
    "        \"\"\"\n",
    "        res = []\n",
    "        for i in range(len(intervals)):\n",
    "            if newInterval[1] < intervals[i][0]:\n",
    "                res.append(newInterval)\n",
    "                return res + intervals[i:]\n",
    "            elif newInterval[0] > intervals[i][1]:\n",
    "                res.append(intervals[i])\n",
    "            else:\n",
    "                newInterval = [min(newInterval[0], intervals[i][0]), \n",
    "                                max(newInterval[1], intervals[i][1])]\n",
    "        # when it is the last interval to insert\n",
    "        res.append(newInterval)\n",
    "        return res\n",
    "    \n",
    "## The method that combine the merge interval approach from above\n",
    "class Solution(object):\n",
    "    def insert(self, intervals, newInterval):\n",
    "        \"\"\"\n",
    "        :type intervals: List[List[int]]\n",
    "        :type newInterval: List[int]\n",
    "        :rtype: List[List[int]]\n",
    "        \"\"\"\n",
    "        intervals.append(newInterval)\n",
    "        intervals.sort(key = lambda i :i[0])\n",
    "        output = [intervals[0]]\n",
    "\n",
    "        for int in intervals[1:]:\n",
    "            curr_start = int[0]\n",
    "            curr_end = int[1]\n",
    "            prev_end = output[-1][1]\n",
    "            if curr_start <= prev_end:\n",
    "                output[-1][1] = max(prev_end, curr_end)\n",
    "            else:\n",
    "                output.append(int)\n",
    "        return output"
   ]
  },
  {
   "cell_type": "markdown",
   "id": "f237148b",
   "metadata": {},
   "source": [
    "### Meeting rooms 2"
   ]
  },
  {
   "cell_type": "code",
   "execution_count": 17,
   "id": "c89c1b7f",
   "metadata": {},
   "outputs": [
    {
     "data": {
      "text/plain": [
       "2"
      ]
     },
     "execution_count": 17,
     "metadata": {},
     "output_type": "execute_result"
    }
   ],
   "source": [
    "# find minimum needed room to be booked\n",
    "# Input: [[0, 30],[5, 10],[15, 20]]\n",
    "# Output: 2\n",
    "import heapq\n",
    "class Solution:\n",
    "    def min_meeting(self, meeting):\n",
    "        res = 0\n",
    "        meeting.sort(key = lambda i: i[0])\n",
    "        prevEnd = meeting[0][1]\n",
    "        needed = 1\n",
    "        for i in range(1, len(meeting)):\n",
    "            currStart = meeting[i][0]\n",
    "            currEnd = meeting[i][1]\n",
    "            if prevEnd <= currStart:\n",
    "                needed = 1\n",
    "                prevEnd = currEnd\n",
    "            else:\n",
    "                needed += 1\n",
    "                prevEnd = min(prevEnd, currEnd)\n",
    "                res = max(needed, res)\n",
    "        return res\n",
    "\n",
    "\n",
    "## heap solution\n",
    "    def min_meeting2(self, meeting):\n",
    "        meeting.sort(key = lambda i: i[0])\n",
    "        free = []\n",
    "        heapq.heappush(free, meeting[0][1])\n",
    "        for i in range(1, len(meeting)):\n",
    "            if meeting[i][0] >= free[0]:\n",
    "                heapq.heappop(free)\n",
    "            heapq.heappush(free, meeting[i][1])\n",
    "        return len(free)\n",
    "        \n",
    "solution = Solution()\n",
    "solution.min_meeting2([(1, 3), (2, 4), (3, 5)])"
   ]
  },
  {
   "cell_type": "markdown",
   "id": "90526555",
   "metadata": {},
   "source": [
    "### Longest Consecutive Sequence"
   ]
  },
  {
   "cell_type": "code",
   "execution_count": 1,
   "id": "1bd35fb1",
   "metadata": {},
   "outputs": [],
   "source": [
    "# do not sort it since sort it requires O(nlogn) time but we want O(n) so we utilize memory with O(n) to have less time\n",
    "# Input: nums = [100,4,200,1,3,2]\n",
    "# Output: 4 \n",
    "# since [1,2,3,4]\n",
    "class Solution(object):\n",
    "    def longestConsecutive(self, nums):\n",
    "        \"\"\"\n",
    "        :type nums: List[int]\n",
    "        :rtype: int\n",
    "        \"\"\"\n",
    "        numSet = set(nums)\n",
    "        longest = 0\n",
    "        for n in nums:\n",
    "            # check if it is the start of a sequence\n",
    "            if (n-1) not in numSet:\n",
    "                length = 1\n",
    "                while (n+length) in numSet:\n",
    "                    length+=1\n",
    "                longest = max(longest, length)\n",
    "        return longest"
   ]
  },
  {
   "cell_type": "markdown",
   "id": "2f29a681",
   "metadata": {},
   "source": [
    "### Rotate Array"
   ]
  },
  {
   "cell_type": "code",
   "execution_count": null,
   "id": "b25fca14",
   "metadata": {},
   "outputs": [],
   "source": [
    "class Solution(object):\n",
    "    def rotate(self, nums, k):\n",
    "        \"\"\"\n",
    "        :type nums: List[int]\n",
    "        :type k: int\n",
    "        :rtype: None Do not return anything, modify nums in-place instead.\n",
    "        \"\"\"\n",
    "        k = k%len(nums)\n",
    "        l, r = 0, len(nums)-1\n",
    "        while l < r:\n",
    "            nums[l], nums[r] = nums[r], nums[l]\n",
    "            l += 1\n",
    "            r -= 1\n",
    "        l = 0\n",
    "        r = k-1\n",
    "        while l < r:\n",
    "            nums[l], nums[r] = nums[r], nums[l]\n",
    "            l += 1\n",
    "            r -= 1\n",
    "        r = len(nums)-1\n",
    "        l = k\n",
    "        while l < r:\n",
    "            nums[l], nums[r] = nums[r], nums[l]\n",
    "            l += 1\n",
    "            r -= 1\n",
    "        #return nums"
   ]
  }
 ],
 "metadata": {
  "kernelspec": {
   "display_name": "Python 3.10.11 64-bit",
   "language": "python",
   "name": "python3"
  },
  "language_info": {
   "codemirror_mode": {
    "name": "ipython",
    "version": 3
   },
   "file_extension": ".py",
   "mimetype": "text/x-python",
   "name": "python",
   "nbconvert_exporter": "python",
   "pygments_lexer": "ipython3",
   "version": "3.10.11"
  },
  "vscode": {
   "interpreter": {
    "hash": "aee8b7b246df8f9039afb4144a1f6fd8d2ca17a180786b69acc140d282b71a49"
   }
  }
 },
 "nbformat": 4,
 "nbformat_minor": 5
}
