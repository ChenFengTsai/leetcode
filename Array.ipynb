{
 "cells": [
  {
   "cell_type": "markdown",
   "id": "978585fc-4e62-478a-9173-3c9ea9153cb3",
   "metadata": {},
   "source": [
    "# Array"
   ]
  },
  {
   "cell_type": "markdown",
   "id": "738ad702-ec74-429a-b88e-f7aa57fb9c7f",
   "metadata": {
    "jp-MarkdownHeadingCollapsed": true,
    "tags": []
   },
   "source": [
    "### Remove Duplicate elements from sorted array (inplace)"
   ]
  },
  {
   "cell_type": "code",
   "execution_count": 3,
   "id": "555caf62-60b2-435c-821b-221e5520c7d8",
   "metadata": {},
   "outputs": [
    {
     "data": {
      "text/plain": [
       "[1, 2, 3, 4, 5, 6]"
      ]
     },
     "execution_count": 3,
     "metadata": {},
     "output_type": "execute_result"
    }
   ],
   "source": [
    "def remove(arr):\n",
    "    l = 1\n",
    "    for r in range(1, len(arr)):\n",
    "        if arr[r] != arr[r-1]:\n",
    "            arr[l] = arr[r]\n",
    "            l += 1\n",
    "    return arr[:l]\n",
    "\n",
    "arr = [1, 2, 2, 3, 4, 4, 4, 5, 6]\n",
    "remove(arr)\n",
    "# Time: O(n)\n",
    "# Space: O(1)"
   ]
  },
  {
   "cell_type": "markdown",
   "id": "b81b3a3c-58e1-4444-bad2-b6d6fd1380d7",
   "metadata": {
    "jp-MarkdownHeadingCollapsed": true,
    "tags": []
   },
   "source": [
    "### Find the Increasing subsequence of length three with maximum product (non-negative / 2 condition)"
   ]
  },
  {
   "cell_type": "code",
   "execution_count": 46,
   "id": "268c09ec",
   "metadata": {},
   "outputs": [
    {
     "name": "stdout",
     "output_type": "stream",
     "text": [
      "[-inf, -inf, 5]\n",
      "[5, 4, 6]\n",
      "[6, 6, -inf]\n",
      "(-inf, 'not found')\n",
      "\n",
      "\n",
      "[-inf, 10, -inf, -inf, 5, -inf, 11]\n",
      "[10, 11, 9, 5, 6, 1, 20]\n",
      "[20, 20, 20, 20, 20, 20, -inf]\n",
      "(2200, [10, 11, 20])\n"
     ]
    }
   ],
   "source": [
    "#from bisect import bisect_left\n",
    "\n",
    "### we need to find arr[i]*arr[j]*arr[k] such that \n",
    "# arr[i] < arr[j] < arr[k] and i < j < k < n \n",
    "\n",
    "# left is easy since the larger from the current value the better (just find max)\n",
    "# right is hard since we have to find the closest not the largest to fulfill the \n",
    "# condition of arr[i] < arr[j] < arr[k]\n",
    "\n",
    "def bisect_left(arr, x):\n",
    "    # return the index where you should insert the value in this sorted arr\n",
    "    lo = 0\n",
    "    hi = len(arr)-1\n",
    "    while lo <= hi:\n",
    "        mid = lo + (hi-lo) // 2\n",
    "        if arr[mid] < x:\n",
    "            lo = mid + 1\n",
    "        else:\n",
    "            hi = mid - 1\n",
    "    return lo\n",
    "\n",
    "def countArray(arr):\n",
    "    # the right position\n",
    "    LGR = [0]*len(arr)\n",
    "    LGR[-1] = float('-inf')\n",
    "    max_from_right = arr[len(arr) - 1]\n",
    "    for i in range(len(arr) - 2, -1, -1):\n",
    "        LGR[i] = max_from_right\n",
    "        if arr[i] > max_from_right:\n",
    "            max_from_right = arr[i]\n",
    "\n",
    "    # the left position\n",
    "    LSL = [float('-inf')]*len(arr)\n",
    "\n",
    "    lst = [arr[0]]\n",
    "    for i in range(1, len(arr)):\n",
    "        # find the closest number from the left\n",
    "        idx = bisect_left(lst, arr[i])\n",
    "        if idx != 0: # this condition makes sure it is not the smallest if added to lst\n",
    "            # the closest from the left is at postion idx-1 in lst\n",
    "            LSL[i] = lst[idx-1]\n",
    "        lst.insert(idx, arr[i])\n",
    "    print(LSL)\n",
    "    print(arr)\n",
    "    print(LGR)\n",
    "    # find max product\n",
    "    max_p = float('-inf')\n",
    "    ans = []\n",
    "    for i in range(1, len(arr)-1):\n",
    "        curr = LSL[i]*arr[i]*LGR[i]\n",
    "        if curr > max_p and LSL[i] < arr[i] and LGR[i]> arr[i]:\n",
    "            max_p = curr\n",
    "            ans = [LSL[i], arr[i], LGR[i]]\n",
    "            \n",
    "    return max_p, 'not found' if not ans else ans\n",
    "        \n",
    "ans = countArray([5,4,6])\n",
    "print(ans)\n",
    "print(\"\\n\")\n",
    "ans = countArray([10, 11, 9, 5, 6, 1, 20])\n",
    "print(ans)"
   ]
  },
  {
   "cell_type": "markdown",
   "id": "4f22e1c2",
   "metadata": {},
   "source": [
    "### bisect_left: Binary Search to find index where you should insert or leftmost same element"
   ]
  },
  {
   "cell_type": "code",
   "execution_count": 21,
   "id": "edb89292",
   "metadata": {},
   "outputs": [
    {
     "data": {
      "text/plain": [
       "2"
      ]
     },
     "execution_count": 21,
     "metadata": {},
     "output_type": "execute_result"
    }
   ],
   "source": [
    "def bisect_left(arr, x):\n",
    "    lo = 0\n",
    "    hi = len(arr)-1\n",
    "    while lo <= hi:\n",
    "        mid = lo + (hi-lo) // 2\n",
    "        if arr[mid] < x:\n",
    "            lo = mid + 1\n",
    "        else:\n",
    "            hi = mid - 1\n",
    "    return lo\n",
    "\n",
    "bisect_left([1,2,3,3,4,5], 3)"
   ]
  },
  {
   "cell_type": "markdown",
   "id": "e000b6cb-6b07-44b3-a7da-274947b85fe7",
   "metadata": {
    "jp-MarkdownHeadingCollapsed": true,
    "tags": []
   },
   "source": [
    "### Quick Sort Implementation with array (pivot at middle)"
   ]
  },
  {
   "cell_type": "code",
   "execution_count": 4,
   "id": "1d17930b-49c7-45f2-8be1-3958996a4e12",
   "metadata": {},
   "outputs": [
    {
     "name": "stdout",
     "output_type": "stream",
     "text": [
      "[1, 1, 2, 3, 6, 8, 10]\n"
     ]
    }
   ],
   "source": [
    "def quicksort(arr):\n",
    "    if not arr:\n",
    "        return []\n",
    "    pivot = arr[len(arr)//2]\n",
    "    left = [x for x in arr if x < pivot]\n",
    "    middle = [x for x in arr if x == pivot]\n",
    "    right = [x for x in arr if x > pivot]\n",
    "    return quicksort(left) + middle + quicksort(right)\n",
    "print(quicksort([3,6,8,10,1,2,1]))"
   ]
  },
  {
   "cell_type": "markdown",
   "id": "daa2852b-ce05-443e-86b1-91a68dfd1f7b",
   "metadata": {
    "jp-MarkdownHeadingCollapsed": true,
    "tags": []
   },
   "source": [
    "### Quick Sort Implementation with Doubly Linkedlist (pivot from the right)"
   ]
  },
  {
   "cell_type": "code",
   "execution_count": 11,
   "id": "c6caf9ea-f68d-4f74-9577-86d67f3022e9",
   "metadata": {},
   "outputs": [
    {
     "name": "stdout",
     "output_type": "stream",
     "text": [
      "1 2 6 7 9 10 "
     ]
    }
   ],
   "source": [
    "class Node:\n",
    "    def __init__(self, val, prev=None):\n",
    "        self.val = val\n",
    "        self.next = None\n",
    "        self.prev = prev\n",
    "\n",
    "#https://www.codesdope.com/blog/article/quicksort-on-doubly-linked-list/\n",
    "### Important: Links between nodes do not change but the value of the node change\n",
    "def partition(left, right):\n",
    "    pivot = right\n",
    "    i = left\n",
    "    ptr = left\n",
    "    \n",
    "    # switch smaller value to the front, \n",
    "    # ptr will move to check, i will be the position to keep track where to change\n",
    "    while ptr != right:\n",
    "        if ptr.val <= pivot.val:     \n",
    "            i.val, ptr.val = ptr.val, i.val\n",
    "            i = i.next\n",
    "        ptr = ptr.next\n",
    "    # switching the pivot node with i.next to make left of pivot is smaller than right of pivot\n",
    "    i.val, pivot.val = pivot.val, i.val\n",
    "    # return the  pivot node\n",
    "    return i\n",
    "\n",
    "def QuickSort(left, right):\n",
    "    # 1. the pivot is the smallest node of the sublist\n",
    "    # 2. the pivot is the largest node of the sublist\n",
    "    if right != None and left != right.next:\n",
    "        p = partition(left, right)\n",
    "        QuickSort(left, p.prev)\n",
    "        QuickSort(p.next, right)\n",
    "\n",
    "\n",
    "if __name__ == (\"__main__\"):\n",
    "    head = Node(6)\n",
    "    head.next = first = Node(2, head)\n",
    "    first.next = second = Node(1, first)\n",
    "    second.next = third = Node(7, second)\n",
    "    third.next = fourth = Node(9, third)\n",
    "    fourth.next = fifth = Node(10, fourth)\n",
    "    # 6<=>2<=>1<=>7<=>9<=>3\n",
    "    QuickSort(head, fifth)\n",
    "    # Print the list.\n",
    "    while head != None:\n",
    "        print(head.val, end=\" \")\n",
    "        head = head.next"
   ]
  },
  {
   "cell_type": "markdown",
   "id": "2d2bcb4a-3eda-4515-9018-82e0334db5c3",
   "metadata": {
    "tags": []
   },
   "source": [
    "### Find Longest Subsequence with Increasing order (count of element)"
   ]
  },
  {
   "cell_type": "code",
   "execution_count": 30,
   "id": "cddedca3-c444-42c4-8533-3a697120c6a4",
   "metadata": {},
   "outputs": [
    {
     "data": {
      "text/plain": [
       "4"
      ]
     },
     "execution_count": 30,
     "metadata": {},
     "output_type": "execute_result"
    }
   ],
   "source": [
    "# dynamic programming problem\n",
    "# def subsequence(arr):\n",
    "#     ls = [1]*len(arr)\n",
    "#     for i in range(len(arr)-1, -1, -1):\n",
    "#         for j in range(i+1, len(arr)):\n",
    "#             if arr[i] < arr[j]:\n",
    "#                 ls[i] = max(ls[i], ls[j]+1)\n",
    "#     return max(ls)\n",
    "\n",
    "# Time complexity: O(nlogn)\n",
    "def subsequence(arr):\n",
    "    LIS = []\n",
    "    for num in arr:\n",
    "        if not LIS or num > LIS[-1]:\n",
    "            LIS.append(num)\n",
    "        else:\n",
    "            l,r = 0, len(LIS)-1\n",
    "            while l <= r:\n",
    "                mid = l+(r-l)//2\n",
    "                if LIS[mid] < num:\n",
    "                    l = mid+1\n",
    "                else:\n",
    "                    r = mid-1\n",
    "            LIS[l] = num\n",
    "    return len(LIS)\n",
    "\n",
    "a = [3,4,6,2,7]\n",
    "subsequence(a)"
   ]
  },
  {
   "cell_type": "markdown",
   "id": "c36c0d5d",
   "metadata": {},
   "source": [
    "### Russian Doll Envelopes"
   ]
  },
  {
   "cell_type": "code",
   "execution_count": null,
   "id": "5fc96b14",
   "metadata": {},
   "outputs": [],
   "source": [
    "class Solution(object):\n",
    "    def maxEnvelopes(self, envelopes):\n",
    "        \"\"\"\n",
    "        :type envelopes: List[List[int]]\n",
    "        :rtype: int\n",
    "        \"\"\"\n",
    "        # sort width in ascending order (w,h) so we only need to look at height later\n",
    "        envelopes.sort(key=lambda x: (x[0],-x[1]))\n",
    "        # longest increaing subsequence\n",
    "        LIS = []\n",
    "        for (w,h) in envelopes:\n",
    "            if not LIS or h > LIS[-1]:\n",
    "                LIS.append(h)\n",
    "            else:\n",
    "                l,r = 0, len(LIS)\n",
    "                while l <= r:\n",
    "                    mid = l+(r-l)//2\n",
    "                    if LIS[mid] < h:\n",
    "                        l = mid+1\n",
    "                    else:\n",
    "                        r = mid-1\n",
    "                LIS[l] = h\n",
    "        return len(LIS)"
   ]
  },
  {
   "cell_type": "markdown",
   "id": "d4c9d61b-20ed-45f9-85d2-283e560172e1",
   "metadata": {},
   "source": [
    "### Maximum Subarray"
   ]
  },
  {
   "cell_type": "code",
   "execution_count": null,
   "id": "78277018-678a-4d0c-b679-b16ca91de98b",
   "metadata": {},
   "outputs": [],
   "source": [
    "class Solution(object):\n",
    "    def maxSubArray(self, nums):\n",
    "        \"\"\"\n",
    "        :type nums: List[int]\n",
    "        :rtype: int\n",
    "        \"\"\"\n",
    "        maxsub = float('-inf')\n",
    "        cursum = 0\n",
    "        for i in nums:\n",
    "            cursum += i\n",
    "            maxsub = max(maxsub, cursum)\n",
    "            if cursum < 0:\n",
    "                cursum = 0\n",
    "        return maxsub"
   ]
  },
  {
   "cell_type": "markdown",
   "id": "1cf316bf-6077-4866-9d12-429b381e2f23",
   "metadata": {},
   "source": [
    "### Product of Array Except Self"
   ]
  },
  {
   "cell_type": "code",
   "execution_count": null,
   "id": "8e1c6279-fd06-4a9e-b9c3-8a62f6e8dec6",
   "metadata": {},
   "outputs": [],
   "source": [
    "class Solution(object):\n",
    "    def productExceptSelf(self, nums):\n",
    "        \"\"\"\n",
    "        :type nums: List[int]\n",
    "        :rtype: List[int]\n",
    "        \"\"\"\n",
    "        ct = 0\n",
    "        for i in range(len(nums)):\n",
    "            if nums[i] == 0:\n",
    "                ct += 1\n",
    "                t = i\n",
    "        \n",
    "        zero = [0]*len(nums)\n",
    "        if ct > 1:\n",
    "            return zero\n",
    "        \n",
    "        if ct == 1:\n",
    "            l = 1\n",
    "            for j in nums[:t]:\n",
    "                l *= j\n",
    "            r = 1\n",
    "            for q in nums[t+1:]:\n",
    "                r *= q\n",
    "            zero[t] = l*r\n",
    "            return zero\n",
    "        \n",
    "        if ct == 0:\n",
    "            total = 1\n",
    "            for j in nums:\n",
    "                total*=j\n",
    "            for i in range(len(nums)):\n",
    "                zero[i] = total/nums[i]\n",
    "            return zero"
   ]
  },
  {
   "cell_type": "markdown",
   "id": "5047855c-2662-45cb-894b-35c9bcc1dd25",
   "metadata": {},
   "source": [
    "### Merge Intervals"
   ]
  },
  {
   "cell_type": "code",
   "execution_count": null,
   "id": "ac057b35-e335-40dd-ae98-b1dd904d7868",
   "metadata": {},
   "outputs": [],
   "source": [
    "class Solution(object):\n",
    "    def merge(self, intervals):\n",
    "        \"\"\"\n",
    "        :type intervals: List[List[int]]\n",
    "        :rtype: List[List[int]]\n",
    "        \"\"\"\n",
    "        intervals.sort(key = lambda i :i[0])\n",
    "        output = [intervals[0]]\n",
    "\n",
    "        for int in intervals[1:]:\n",
    "            curr_start = int[0]\n",
    "            curr_end = int[1]\n",
    "            prev_end = output[-1][1]\n",
    "            if curr_start <= prev_end:\n",
    "                output[-1][1] = max(prev_end, curr_end)\n",
    "            else:\n",
    "                output.append(int)\n",
    "        return output"
   ]
  },
  {
   "cell_type": "markdown",
   "id": "95719e79-dc02-4109-99a1-c907cee6ca85",
   "metadata": {},
   "source": [
    "### Search in Rotated Sorted Array"
   ]
  },
  {
   "cell_type": "code",
   "execution_count": null,
   "id": "d30c5c2f-9c73-4294-b5f0-8820d5d29d54",
   "metadata": {},
   "outputs": [],
   "source": [
    "### Binary search method\n",
    "# Input: nums = [4,5,6,7,0,1,2], target = 0\n",
    "# Output: 4\n",
    "\n",
    "# Important: when doing binary search, if it is an even list, it will always find the left element\n",
    "class Solution(object):\n",
    "    def search(self, nums, target):\n",
    "        \"\"\"\n",
    "        :type nums: List[int]\n",
    "        :type target: int\n",
    "        :rtype: int\n",
    "        \"\"\" \n",
    "        l ,r = 0, len(nums) -1\n",
    "\n",
    "        while l <= r:\n",
    "            mid = l + (r-l)//2\n",
    "            if target == nums[mid]:\n",
    "                return mid\n",
    "            # first check how the rotation starts\n",
    "            if nums[l] <= nums[mid]:\n",
    "                if target > nums[mid] or target < nums[l]:\n",
    "                    l = mid+1\n",
    "                else:\n",
    "                    r = mid-1\n",
    "            else:\n",
    "                if target < nums[mid] or target > nums[r]:\n",
    "                    r = mid-1   \n",
    "                else:\n",
    "                    l = mid+1\n",
    "        return -1"
   ]
  },
  {
   "cell_type": "markdown",
   "id": "f13e0832-1091-4d8f-b7d5-996a1a8b83b4",
   "metadata": {},
   "source": [
    "### Find Minimum in Rotated Sorted Array"
   ]
  },
  {
   "cell_type": "code",
   "execution_count": 21,
   "id": "9207bce7-391a-4658-8d63-0a1ed99df2d4",
   "metadata": {},
   "outputs": [
    {
     "data": {
      "text/plain": [
       "1"
      ]
     },
     "execution_count": 21,
     "metadata": {},
     "output_type": "execute_result"
    }
   ],
   "source": [
    "# Input: [3,4,5,1,2]\n",
    "\n",
    "class Solution(object):\n",
    "    def findMin(self, nums):\n",
    "        \"\"\"\n",
    "        :type nums: List[int]\n",
    "        :rtype: int\n",
    "        \"\"\"\n",
    "        l = 0\n",
    "        r = len(nums) - 1\n",
    "        while l <= r:\n",
    "            if nums[l] <= nums[r]:\n",
    "                return nums[l]\n",
    "            mid = l + (r - l) // 2\n",
    "            if nums[mid] >= nums[r]:\n",
    "                l = mid + 1\n",
    "            else:\n",
    "                ### Set this to mid, not mid-1, different from normal binary search\n",
    "                # since we have not check the midpoint yet we should not exclude it\n",
    "                r = mid\n",
    "\n",
    "\n",
    "t = Solution()\n",
    "t.findMin([3,4,5,1,2])"
   ]
  },
  {
   "cell_type": "markdown",
   "id": "b9dff1aa-84e5-400a-8dbc-aea1c74efce1",
   "metadata": {},
   "source": [
    "### Palindromic Substrings"
   ]
  },
  {
   "cell_type": "code",
   "execution_count": null,
   "id": "3815ca52-c67d-464c-8e35-379b9136d146",
   "metadata": {},
   "outputs": [],
   "source": [
    "### look into sliding window"
   ]
  },
  {
   "cell_type": "markdown",
   "id": "3512bb15-0f1b-42df-b74c-8caac3aa6edc",
   "metadata": {},
   "source": [
    "### Non-overlapping Intervals (similar with merge intervals but this ask for minimum removal count)"
   ]
  },
  {
   "cell_type": "code",
   "execution_count": null,
   "id": "70d42eb0-0457-4a5b-a722-0d9bd415d82b",
   "metadata": {},
   "outputs": [],
   "source": [
    "# keep the smaller endpoint to get less removal\n",
    "class Solution(object):\n",
    "    def eraseOverlapIntervals(self, intervals):\n",
    "        \"\"\"\n",
    "        :type intervals: List[List[int]]\n",
    "        :rtype: int\n",
    "        \"\"\"\n",
    "        count = 0\n",
    "        intervals.sort(key = lambda i: i[0])\n",
    "        prevEnd = intervals[0][1]\n",
    "        for i in range(1, len(intervals)):\n",
    "            currStart = intervals[i][0]\n",
    "            currEnd = intervals[i][1]\n",
    "            if prevEnd <= currStart:\n",
    "                prevEnd = currEnd\n",
    "            else:\n",
    "                count += 1\n",
    "                prevEnd = min(currEnd, prevEnd)\n",
    "        return count"
   ]
  },
  {
   "cell_type": "markdown",
   "id": "1dbf8cf4",
   "metadata": {},
   "source": [
    "### Insert Interval"
   ]
  },
  {
   "cell_type": "code",
   "execution_count": null,
   "id": "545d9978-8bb3-464d-b088-f44c9c8478be",
   "metadata": {},
   "outputs": [],
   "source": [
    "# Input: intervals = [[1,3],[6,9]], newInterval = [2,5]\n",
    "# Output: [[1,5],[6,9]]\n",
    "\n",
    "### You can also use Merge Intervals solution after adding the new Interval\n",
    "## Time complexity is O(n)\n",
    "class Solution(object):\n",
    "    def insert(self, intervals, newInterval):\n",
    "        \"\"\"\n",
    "        :type intervals: List[List[int]]\n",
    "        :type newInterval: List[int]\n",
    "        :rtype: List[List[int]]\n",
    "        \"\"\"\n",
    "        res = []\n",
    "        for i in range(len(intervals)):\n",
    "            if newInterval[1] < intervals[i][0]:\n",
    "                res.append(newInterval)\n",
    "                return res + intervals[i:]\n",
    "            elif newInterval[0] > intervals[i][1]:\n",
    "                res.append(intervals[i])\n",
    "            else:\n",
    "                newInterval = [min(newInterval[0], intervals[i][0]), \n",
    "                                max(newInterval[1], intervals[i][1])]\n",
    "        # when it is the last interval to insert\n",
    "        res.append(newInterval)\n",
    "        return res\n",
    "    \n",
    "## The method that combine the merge interval approach from above\n",
    "## Time complexity is O(nlogn) since sorting\n",
    "class Solution(object):\n",
    "    def insert(self, intervals, newInterval):\n",
    "        \"\"\"\n",
    "        :type intervals: List[List[int]]\n",
    "        :type newInterval: List[int]\n",
    "        :rtype: List[List[int]]\n",
    "        \"\"\"\n",
    "        intervals.append(newInterval)\n",
    "        intervals.sort(key = lambda i :i[0])\n",
    "        res = [intervals[0]]\n",
    "\n",
    "        for int in intervals[1:]:\n",
    "            curr_start = int[0]\n",
    "            curr_end = int[1]\n",
    "            prev_end = res[-1][1]\n",
    "            if curr_start <= prev_end:\n",
    "                res[-1][1] = max(prev_end, curr_end)\n",
    "            else:\n",
    "                res.append(int)\n",
    "        return res"
   ]
  },
  {
   "cell_type": "markdown",
   "id": "f237148b",
   "metadata": {},
   "source": [
    "### Meeting rooms 2"
   ]
  },
  {
   "cell_type": "code",
   "execution_count": 17,
   "id": "c89c1b7f",
   "metadata": {},
   "outputs": [
    {
     "data": {
      "text/plain": [
       "2"
      ]
     },
     "execution_count": 17,
     "metadata": {},
     "output_type": "execute_result"
    }
   ],
   "source": [
    "# find minimum needed room to be booked\n",
    "# Input: [[0, 30],[5, 10],[15, 20]]\n",
    "# Output: 2\n",
    "import heapq\n",
    "class Solution:\n",
    "    ### This solution is like minimum removal count, remove the least amount of interval \n",
    "    # and give them another room\n",
    "    def min_meeting(self, meeting):\n",
    "        res = 0\n",
    "        meeting.sort(key = lambda i: i[0])\n",
    "        prevEnd = meeting[0][1]\n",
    "        needed = 1\n",
    "        for i in range(1, len(meeting)):\n",
    "            currStart = meeting[i][0]\n",
    "            currEnd = meeting[i][1]\n",
    "            if prevEnd <= currStart:\n",
    "                needed = 1\n",
    "                prevEnd = currEnd\n",
    "            else:\n",
    "                needed += 1\n",
    "                prevEnd = min(prevEnd, currEnd)\n",
    "                res = max(needed, res)\n",
    "        return res\n",
    "\n",
    "## heap solution\n",
    "    def min_meeting2(self, meeting):\n",
    "        meeting.sort(key = lambda i: i[0])\n",
    "        free = []\n",
    "        heapq.heappush(free, meeting[0][1])\n",
    "        for i in range(1, len(meeting)):\n",
    "            # If the current meeting can start after the earliest finishing meeting, \n",
    "            # remove that meeting's end time from the heap, \n",
    "            # indicating that its room becomes free.\n",
    "            if free[0] <= meeting[i][0]:\n",
    "                heapq.heappop(free)\n",
    "            heapq.heappush(free, meeting[i][1])\n",
    "        return len(free)\n",
    "        \n",
    "solution = Solution()\n",
    "solution.min_meeting2([(1, 3), (2, 4), (3, 5)])"
   ]
  },
  {
   "cell_type": "markdown",
   "id": "2f29a681",
   "metadata": {},
   "source": [
    "### Rotate Array (inplace replacement)"
   ]
  },
  {
   "cell_type": "code",
   "execution_count": 23,
   "id": "b25fca14",
   "metadata": {},
   "outputs": [
    {
     "name": "stdout",
     "output_type": "stream",
     "text": [
      "[5, 6, 7, 1, 2, 3, 4]\n"
     ]
    }
   ],
   "source": [
    "class Solution(object):\n",
    "    def rotate(self, nums, k):\n",
    "        \"\"\"\n",
    "        :type nums: List[int]\n",
    "        :type k: int\n",
    "        :rtype: None Do not return anything, modify nums in-place instead.\n",
    "        \"\"\"\n",
    "        k = k%len(nums)\n",
    "        l, r = 0, len(nums)-1\n",
    "        while l <= r:\n",
    "            nums[l], nums[r] = nums[r], nums[l]\n",
    "            l += 1\n",
    "            r -= 1\n",
    "        l = 0\n",
    "        r = k-1\n",
    "        while l <= r:\n",
    "            nums[l], nums[r] = nums[r], nums[l]\n",
    "            l += 1\n",
    "            r -= 1\n",
    "        l = k\n",
    "        r = len(nums)-1\n",
    "        while l <= r:\n",
    "            nums[l], nums[r] = nums[r], nums[l]\n",
    "            l += 1\n",
    "            r -= 1\n",
    "solution = Solution()\n",
    "\n",
    "# Test Case 1: Rotate a list by 3 positions\n",
    "nums1 = [1, 2, 3, 4, 5, 6, 7]\n",
    "k1 = 3\n",
    "solution.rotate(nums1, k1)\n",
    "print(nums1)  # Output should be [5, 6, 7, 1, 2, 3, 4]"
   ]
  },
  {
   "cell_type": "markdown",
   "id": "ac766406",
   "metadata": {},
   "source": [
    "### Median of Two Sorted Arrays"
   ]
  },
  {
   "cell_type": "code",
   "execution_count": 25,
   "id": "49b93273",
   "metadata": {},
   "outputs": [
    {
     "name": "stdout",
     "output_type": "stream",
     "text": [
      "3.5\n"
     ]
    }
   ],
   "source": [
    "class Solution(object):\n",
    "    def findMedianSortedArrays(self, nums1, nums2):\n",
    "        \"\"\"\n",
    "        :type nums1: List[int]\n",
    "        :type nums2: List[int]\n",
    "        :rtype: float\n",
    "        \"\"\"\n",
    "        i = 0  # Current index of input array nums1\n",
    "        j = 0  # Current index of input array nums2\n",
    "        n = len(nums1)\n",
    "        m = len(nums2)\n",
    "        m1, m2 = -1, -1\n",
    "        \n",
    "        # add one so it will stop at the right point when it is an even list\n",
    "        for count in range(((n + m) // 2) + 1):\n",
    "            m2 = m1  # Store the previous value of m1\n",
    "            if (i < n and j < m):\n",
    "                if nums1[i] > nums2[j]:\n",
    "                    m1 = nums2[j]\n",
    "                    j += 1\n",
    "                else:\n",
    "                    m1 = nums1[i]\n",
    "                    i += 1\n",
    "            elif (i < n):\n",
    "                m1 = nums1[i]\n",
    "                i += 1\n",
    "            else:\n",
    "                m1 = nums2[j]\n",
    "                j += 1\n",
    "\n",
    "        if (n + m) % 2 == 1:\n",
    "            return float(m1)\n",
    "        else:\n",
    "            return (m1 + m2) / 2.0\n",
    "        \n",
    "solution = Solution()\n",
    "\n",
    "# Test Case 1: Rotate a list by 3 positions\n",
    "nums1 = [1, 2, 3]\n",
    "nums2 = [4, 5, 6]\n",
    "res = solution.findMedianSortedArrays(nums1, nums2)\n",
    "print(res)  "
   ]
  },
  {
   "cell_type": "markdown",
   "id": "7dea1c02",
   "metadata": {},
   "source": [
    "### Merge Sorted Array (inplace)"
   ]
  },
  {
   "cell_type": "code",
   "execution_count": null,
   "id": "9681d4e3",
   "metadata": {},
   "outputs": [],
   "source": [
    "class Solution(object):\n",
    "    def merge(self, nums1, m, nums2, n):\n",
    "        \"\"\"\n",
    "        :type nums1: List[int]\n",
    "        :type m: int\n",
    "        :type nums2: List[int]\n",
    "        :type n: int\n",
    "        :rtype: None Do not return anything, modify nums1 in-place instead.\n",
    "        \"\"\"\n",
    "        # if nums1 is empty\n",
    "        if m == 0:\n",
    "            for i in range(n):\n",
    "                nums1[i] = nums2[i]\n",
    "        else:\n",
    "            for i in range(len(nums1)):\n",
    "                if nums2 and nums1[i] >= nums2[0]:\n",
    "                    n2 = nums2.pop(0)\n",
    "                    nums1[i+1:len(nums1)-len(nums2)] = nums1[i:len(nums1)-len(nums2)-1]\n",
    "                    nums1[i] = n2\n",
    "            nums1[len(nums1)-len(nums2):] = nums2\n",
    "        return"
   ]
  },
  {
   "cell_type": "markdown",
   "id": "405260d4",
   "metadata": {},
   "source": [
    "### Count Primes"
   ]
  },
  {
   "cell_type": "code",
   "execution_count": null,
   "id": "bb3b94fd",
   "metadata": {},
   "outputs": [],
   "source": [
    "# Time complexity: O(n log log n) Sieve of Eratosthenes algorithm\n",
    "# Space complexity: O(n)\n",
    "class Solution(object):\n",
    "    def countPrimes(self, n):\n",
    "        \"\"\"\n",
    "        :type n: int\n",
    "        :rtype: int\n",
    "        \"\"\"\n",
    "        if n == 0 or n == 1:\n",
    "            return 0\n",
    "        primes = [1]*n\n",
    "        primes[0] = 0\n",
    "        primes[1] = 0\n",
    "        i = 2\n",
    "        while i < n:\n",
    "            temp = i\n",
    "            if primes[temp]:\n",
    "                temp += i\n",
    "                while temp < n:\n",
    "                    primes[temp] = 0\n",
    "                    temp += i\n",
    "            i += 1\n",
    "        return sum(primes)"
   ]
  },
  {
   "cell_type": "markdown",
   "id": "7334b79a",
   "metadata": {},
   "source": [
    "### Non-decreasing Array"
   ]
  },
  {
   "cell_type": "code",
   "execution_count": null,
   "id": "5a4453a3",
   "metadata": {},
   "outputs": [],
   "source": [
    "# Input: nums = [4,2,3]\n",
    "# Output: true\n",
    "# Explanation: You could modify the first 4 to 1 (at most one element) to get a non-decreasing array.\n",
    "\n",
    "class Solution(object):\n",
    "    def checkPossibility(self, nums):\n",
    "        \"\"\"\n",
    "        :type nums: List[int]\n",
    "        :rtype: bool\n",
    "        \"\"\"\n",
    "        changed = False\n",
    "        for i in range(len(nums)-1):\n",
    "            if nums[i] > nums[i+1]:\n",
    "                if changed:\n",
    "                    return False             \n",
    "                if i == 0 or nums[i+1] >= nums[i-1]:\n",
    "                    # you can change to i+1 or i-1 value both is in the possible range\n",
    "                    nums[i] = nums[i+1]\n",
    "                else:\n",
    "                    nums[i+1] = nums[i]\n",
    "                changed = True\n",
    "        return True"
   ]
  },
  {
   "cell_type": "markdown",
   "id": "ed7de153",
   "metadata": {},
   "source": [
    "### Sort Colors (inplace replacement)"
   ]
  },
  {
   "cell_type": "code",
   "execution_count": null,
   "id": "cf4266c1",
   "metadata": {},
   "outputs": [],
   "source": [
    "# Input: nums = [2,0,2,1,1,0]\n",
    "# Output: [0,0,1,1,2,2]\n",
    "class Solution(object):\n",
    "    def sortColors(self, nums):\n",
    "        \"\"\"\n",
    "        :type nums: List[int]\n",
    "        :rtype: None Do not return anything, modify nums in-place instead.\n",
    "        \"\"\"\n",
    "        # using three pointer to keep track three start colors\n",
    "        left = 0\n",
    "        right = len(nums)-1\n",
    "        mid = 0\n",
    "        \n",
    "        while mid <= right:\n",
    "            if nums[mid] == 0:\n",
    "                nums[left], nums[mid] = nums[mid], nums[left]\n",
    "                left += 1\n",
    "                mid += 1\n",
    "            elif nums[mid] == 2:\n",
    "                nums[right], nums[mid] = nums[mid], nums[right]\n",
    "                right -= 1\n",
    "            elif nums[mid] == 1:\n",
    "                mid += 1"
   ]
  },
  {
   "cell_type": "markdown",
   "id": "4ac9fe53",
   "metadata": {},
   "source": [
    "### Find the Duplicate Number (Cycle Detection)"
   ]
  },
  {
   "cell_type": "code",
   "execution_count": null,
   "id": "ee555d94",
   "metadata": {},
   "outputs": [],
   "source": [
    "# https://takeuforward.org/data-structure/find-the-duplicate-in-an-array-of-n1-integers/\n",
    "class Solution(object):\n",
    "    def findDuplicate(self, nums):\n",
    "        \"\"\"\n",
    "        :type nums: List[int]\n",
    "        :rtype: int\n",
    "        \"\"\"\n",
    "        slow = nums[0]\n",
    "        fast = nums[0]\n",
    "        while True:\n",
    "            slow = nums[slow]\n",
    "            fast = nums[nums[fast]]\n",
    "            if slow == fast:\n",
    "                break\n",
    "        fast = nums[0]\n",
    "        while slow != fast:\n",
    "            slow = nums[slow]\n",
    "            fast = nums[fast]\n",
    "        return slow"
   ]
  },
  {
   "cell_type": "markdown",
   "id": "0ae0d37b",
   "metadata": {},
   "source": [
    "### Find First and Last Position of Element in Sorted Array (binary search)"
   ]
  },
  {
   "cell_type": "code",
   "execution_count": null,
   "id": "1997e18c",
   "metadata": {},
   "outputs": [],
   "source": [
    "# Input: nums = [5,7,7,8,8,10], target = 8\n",
    "# Output: [3,4]\n",
    "class Solution(object):\n",
    "    def searchRange(self, nums, target):\n",
    "        \"\"\"\n",
    "        :type nums: List[int]\n",
    "        :type target: int\n",
    "        :rtype: List[int]\n",
    "        \"\"\"\n",
    "        def find(nums, target, position):\n",
    "            l = 0\n",
    "            r = len(nums)-1\n",
    "            res = -1\n",
    "            while l <= r:\n",
    "                mid = l + (r-l)//2\n",
    "                if nums[mid] > target:\n",
    "                    r = mid-1\n",
    "                elif nums[mid] < target:\n",
    "                    l = mid+1\n",
    "                else:\n",
    "                    # use res to keep the current found target\n",
    "                    res = mid\n",
    "                    if position == 'start':\n",
    "                        r = mid-1\n",
    "                    elif position == 'end':\n",
    "                        l = mid+1\n",
    "            return res\n",
    "        start = find(nums, target, 'start')\n",
    "        end = find(nums, target, 'end')\n",
    "        return [start, end]"
   ]
  },
  {
   "cell_type": "markdown",
   "id": "4e197e5d",
   "metadata": {},
   "source": [
    "### Queue Reconstruction by Height"
   ]
  },
  {
   "cell_type": "code",
   "execution_count": null,
   "id": "a3b611e9",
   "metadata": {},
   "outputs": [],
   "source": [
    "# Input: people = [[7,0],[4,4],[7,1],[5,0],[6,1],[5,2]]\n",
    "# Output: [[5,0],[7,0],[5,2],[6,1],[4,4],[7,1]]\n",
    "# Explanation:\n",
    "# Person 0 has height 5 with no other people taller or the same height in front.\n",
    "# Person 1 has height 7 with no other people taller or the same height in front.\n",
    "# Person 2 has height 5 with two persons taller or the same height in front, which is person 0 and 1.\n",
    "class Solution(object):\n",
    "    def reconstructQueue(self, people):\n",
    "        \"\"\"\n",
    "        :type people: List[List[int]]\n",
    "        :rtype: List[List[int]]\n",
    "        \"\"\"\n",
    "        # Sort the height from tall to low first\n",
    "        # Then sort them based on the higher person in front them\n",
    "        people.sort(key = lambda x: (-x[0], x[1]))\n",
    "        res = []\n",
    "        # insert them from taller person since their position are not affected by shorter person\n",
    "        for p in people:\n",
    "            res.insert(p[1], p)\n",
    "        return res"
   ]
  },
  {
   "cell_type": "markdown",
   "id": "d838726b",
   "metadata": {},
   "source": [
    "### Trapping Rain Water"
   ]
  },
  {
   "cell_type": "code",
   "execution_count": null,
   "id": "b6c79baf",
   "metadata": {},
   "outputs": [],
   "source": [
    "class Solution(object):\n",
    "    def trap(self, height):\n",
    "        \"\"\"\n",
    "        :type height: List[int]\n",
    "        :rtype: int\n",
    "        \"\"\"\n",
    "        if not height:\n",
    "            return 0\n",
    "        l, r = 0, len(height)-1\n",
    "        leftmax, rightmax = height[l], height[r]\n",
    "        res = 0\n",
    "        while l < r:\n",
    "            if leftmax < rightmax:\n",
    "                l += 1\n",
    "                leftmax = max(leftmax, height[l])\n",
    "                res += leftmax - height[l]\n",
    "            else:\n",
    "                r -= 1\n",
    "                rightmax = max(rightmax, height[r])\n",
    "                res += rightmax - height[r]\n",
    "        return res"
   ]
  },
  {
   "cell_type": "markdown",
   "id": "236f026c",
   "metadata": {},
   "source": [
    "### First Missing Positive"
   ]
  },
  {
   "cell_type": "code",
   "execution_count": null,
   "id": "ad9de27d",
   "metadata": {},
   "outputs": [],
   "source": [
    "class Solution(object):\n",
    "    def firstMissingPositive(self, nums):\n",
    "        \"\"\"\n",
    "        :type nums: List[int]\n",
    "        :rtype: int\n",
    "        \"\"\"\n",
    "        # sort the value to the right index position using swapping\n",
    "        # Although it is using while loop inside for loop \n",
    "        # but the while loop actually only run through the list one time O(1)\n",
    "        # so the time complexity is still O(N)\n",
    "        for i in range(len(nums)):\n",
    "            while 1 <= nums[i] <= len(nums) and nums[i] != nums[nums[i] - 1]:\n",
    "                temp = nums[i]\n",
    "                nums[i] = nums[nums[i] - 1]\n",
    "                nums[temp - 1] = temp\n",
    "        for i in range(len(nums)):\n",
    "            if nums[i] != i + 1:\n",
    "                return i + 1\n",
    "        # if the list is not missing, return the last element\n",
    "        return len(nums) + 1"
   ]
  },
  {
   "cell_type": "markdown",
   "id": "3ba6e244",
   "metadata": {},
   "source": []
  },
  {
   "cell_type": "code",
   "execution_count": 1,
   "id": "bab2e154",
   "metadata": {},
   "outputs": [
    {
     "name": "stdout",
     "output_type": "stream",
     "text": [
      "Sorted array: [5, 6, 7, 11, 12, 13]\n"
     ]
    }
   ],
   "source": [
    "def merge_sort(arr):\n",
    "    if len(arr) > 1:\n",
    "        # Split the array into two halves\n",
    "        mid = len(arr) // 2\n",
    "        left_half = arr[:mid]\n",
    "        right_half = arr[mid:]\n",
    "\n",
    "        # Recursively sort both halves\n",
    "        merge_sort(left_half)\n",
    "        merge_sort(right_half)\n",
    "\n",
    "        # Merge the sorted halves back together\n",
    "        i = j = k = 0  # Initialize indices for left_half, right_half, and merged array\n",
    "\n",
    "        while i < len(left_half) and j < len(right_half):\n",
    "            if left_half[i] < right_half[j]:\n",
    "                arr[k] = left_half[i]\n",
    "                i += 1\n",
    "            else:\n",
    "                arr[k] = right_half[j]\n",
    "                j += 1\n",
    "            k += 1\n",
    "\n",
    "        # Check if any elements were left in either left_half or right_half\n",
    "        while i < len(left_half):\n",
    "            arr[k] = left_half[i]\n",
    "            i += 1\n",
    "            k += 1\n",
    "\n",
    "        while j < len(right_half):\n",
    "            arr[k] = right_half[j]\n",
    "            j += 1\n",
    "            k += 1\n",
    "\n",
    "# Example usage:\n",
    "arr = [12, 11, 13, 5, 6, 7]\n",
    "merge_sort(arr)\n",
    "print(\"Sorted array:\", arr)\n"
   ]
  },
  {
   "cell_type": "markdown",
   "id": "47eb5ce3",
   "metadata": {},
   "source": [
    "### Count of Smaller Numbers After Self (use mergeSort to solve since the smaller element at the right is the element count that move to its left so just find how many time moves)"
   ]
  },
  {
   "cell_type": "code",
   "execution_count": 6,
   "id": "a9cac391",
   "metadata": {},
   "outputs": [
    {
     "data": {
      "text/plain": [
       "[2, 1, 1, 0]"
      ]
     },
     "execution_count": 6,
     "metadata": {},
     "output_type": "execute_result"
    }
   ],
   "source": [
    "class Solution(object):\n",
    "    def countSmaller(self, nums):\n",
    "        \"\"\"\n",
    "        :type nums: List[int]\n",
    "        :rtype: List[int]\n",
    "        \"\"\"\n",
    "\n",
    "        res = [0]*len(nums)\n",
    "        # use enumerate to keep the position for res\n",
    "        enum = list(enumerate(nums))\n",
    "        self.mergeSort(enum, 0, len(nums)-1, res)\n",
    "        return res\n",
    "    \n",
    "    def mergeSort(self, enum, start, end, res):\n",
    "        if start >= end:\n",
    "            return\n",
    "        \n",
    "        mid = start + (end-start)//2\n",
    "        self.mergeSort(enum, start, mid, res)\n",
    "        self.mergeSort(enum, mid+1, end, res)\n",
    "        # initialize the starting point from both halves\n",
    "        i, j = start, mid+1\n",
    "        # moving from right half to left half\n",
    "        move_cnt = 0\n",
    "        temp = []\n",
    "\n",
    "        while i <= mid and j <= end:\n",
    "            if enum[i][1] <= enum[j][1]:\n",
    "                temp.append(enum[i])\n",
    "                res[enum[i][0]] += move_cnt\n",
    "                i += 1\n",
    "            else:\n",
    "                temp.append(enum[j])\n",
    "                move_cnt += 1\n",
    "                j += 1\n",
    "        while i <= mid:\n",
    "            temp.append(enum[i])\n",
    "            res[enum[i][0]] += move_cnt\n",
    "            i += 1\n",
    "        while j <= end:\n",
    "            temp.append(enum[j])\n",
    "            move_cnt += 1\n",
    "            j += 1\n",
    "        enum[start:end+1] = temp"
   ]
  },
  {
   "cell_type": "markdown",
   "id": "def4d815",
   "metadata": {},
   "source": [
    "### Shortest Palindrome"
   ]
  },
  {
   "cell_type": "code",
   "execution_count": null,
   "id": "7e07c64d",
   "metadata": {},
   "outputs": [],
   "source": [
    "class Solution(object):\n",
    "    def shortestPalindrome(self, s):\n",
    "        \"\"\"\n",
    "        :type s: str\n",
    "        :rtype: str\n",
    "        \"\"\"\n",
    "        # Function to check if a substring is a palindrome\n",
    "        def is_palindrome(string):\n",
    "            return string == string[::-1]\n",
    "\n",
    "        if not s:\n",
    "            return \"\"\n",
    "\n",
    "        # Start from the end of the string and find the longest palindrome starting from index 0\n",
    "        for i in range(len(s), 0, -1):\n",
    "            if is_palindrome(s[:i]):\n",
    "                # Add the remaining characters to the prefix deque\n",
    "                res = s[i:][::-1]\n",
    "                break\n",
    "        return \"\".join(res) + s"
   ]
  }
 ],
 "metadata": {
  "kernelspec": {
   "display_name": "Python 3.10.11 64-bit",
   "language": "python",
   "name": "python3"
  },
  "language_info": {
   "codemirror_mode": {
    "name": "ipython",
    "version": 3
   },
   "file_extension": ".py",
   "mimetype": "text/x-python",
   "name": "python",
   "nbconvert_exporter": "python",
   "pygments_lexer": "ipython3",
   "version": "3.10.11"
  },
  "vscode": {
   "interpreter": {
    "hash": "aee8b7b246df8f9039afb4144a1f6fd8d2ca17a180786b69acc140d282b71a49"
   }
  }
 },
 "nbformat": 4,
 "nbformat_minor": 5
}
