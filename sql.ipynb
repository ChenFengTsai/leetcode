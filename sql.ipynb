{
 "cells": [
  {
   "cell_type": "markdown",
   "metadata": {},
   "source": [
    "### Pivot table"
   ]
  },
  {
   "cell_type": "markdown",
   "metadata": {},
   "source": [
    "+----+------+-------+\n",
    "| ID | Type | Value |\n",
    "+----+------+-------+\n",
    "| 1  | A    | 10    |\n",
    "| 1  | B    | 20    |\n",
    "| 2  | A    | 30    |\n",
    "| 2  | B    | 40    |\n",
    "+----+------+-------+\n",
    "to \n",
    "+----+---------+---------+\n",
    "| ID | A_Value | B_Value |\n",
    "+----+---------+---------+\n",
    "| 1  | 10      | 20      |\n",
    "| 2  | 30      | 40      |\n",
    "+----+---------+---------+\n",
    "\n"
   ]
  },
  {
   "cell_type": "code",
   "execution_count": null,
   "metadata": {
    "vscode": {
     "languageId": "sql"
    }
   },
   "outputs": [],
   "source": [
    "# need Max here since \n",
    "SELECT\n",
    "  ID,\n",
    "  MAX(CASE WHEN Type = 'A' THEN Value END) AS A_Value,\n",
    "  MAX(CASE WHEN Type = 'B' THEN Value END) AS B_Value\n",
    "FROM\n",
    "  your_table_name\n",
    "GROUP BY\n",
    "  ID;\n"
   ]
  },
  {
   "cell_type": "code",
   "execution_count": null,
   "metadata": {
    "vscode": {
     "languageId": "sql"
    }
   },
   "outputs": [],
   "source": [
    "WITH t1 as (\n",
    "SELECT candidate_id,\n",
    "      MAX(CASE WHEN skill = 'Python' THEN 'yes' END) as python,\n",
    "      MAX(CASE WHEN skill = 'Tableau' THEN 'yes' END) as tableau,\n",
    "      MAX(CASE WHEN skill = 'PostgreSQL' THEN 'yes' END) as postgresql\n",
    "FROM candidates\n",
    "GROUP BY candidate_id)\n",
    "\n",
    "SELECT candidate_id\n",
    "FROM t1\n",
    "WHERE python is not NULL\n",
    "AND tableau is not NULL\n",
    "AND postgresql is not NULL\n",
    "ORDER BY candidate_id ASC;"
   ]
  },
  {
   "cell_type": "markdown",
   "metadata": {},
   "source": [
    "## Date Calculation in PostgreSql"
   ]
  },
  {
   "cell_type": "code",
   "execution_count": null,
   "metadata": {
    "vscode": {
     "languageId": "sql"
    }
   },
   "outputs": [],
   "source": [
    "SELECT \n",
    "\tuser_id, \n",
    "    MAX(post_date::DATE) - MIN(post_date::DATE) AS days_between\n",
    "FROM posts\n",
    "WHERE DATE_PART('year', post_date::DATE) = 2021 \n",
    "GROUP BY user_id\n",
    "HAVING COUNT(post_id)>1;"
   ]
  },
  {
   "cell_type": "markdown",
   "metadata": {},
   "source": [
    "## Find Duplicates with Group By"
   ]
  },
  {
   "cell_type": "code",
   "execution_count": null,
   "metadata": {
    "vscode": {
     "languageId": "sql"
    }
   },
   "outputs": [],
   "source": [
    "WITH job_count_cte AS (\n",
    "  SELECT \n",
    "    company_id, \n",
    "    title, \n",
    "    description, \n",
    "    COUNT(job_id) AS job_count\n",
    "  FROM job_listings\n",
    "  GROUP BY company_id, title, description\n",
    ")\n",
    "\n",
    "SELECT COUNT(DISTINCT company_id) AS duplicate_companies\n",
    "FROM job_count_cte\n",
    "WHERE job_count > 1;"
   ]
  },
  {
   "cell_type": "markdown",
   "metadata": {},
   "source": [
    "## Concat Number and symbol or character"
   ]
  },
  {
   "cell_type": "code",
   "execution_count": null,
   "metadata": {
    "vscode": {
     "languageId": "sql"
    }
   },
   "outputs": [],
   "source": [
    "SELECT \n",
    "  manufacturer, \n",
    "  CONCAT('$', ROUND(SUM(total_sales) / 1000000), ' million') AS sales_mil\n",
    "FROM pharmacy_sales \n",
    "GROUP BY manufacturer;"
   ]
  }
 ],
 "metadata": {
  "kernelspec": {
   "display_name": "Python 3.10.11 64-bit",
   "language": "python",
   "name": "python3"
  },
  "language_info": {
   "name": "python",
   "version": "3.10.11"
  },
  "orig_nbformat": 4,
  "vscode": {
   "interpreter": {
    "hash": "aee8b7b246df8f9039afb4144a1f6fd8d2ca17a180786b69acc140d282b71a49"
   }
  }
 },
 "nbformat": 4,
 "nbformat_minor": 2
}
