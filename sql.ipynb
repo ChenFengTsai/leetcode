{
 "cells": [
  {
   "cell_type": "markdown",
   "metadata": {},
   "source": [
    "### Pivot table"
   ]
  },
  {
   "cell_type": "markdown",
   "metadata": {},
   "source": [
    "+----+------+-------+\n",
    "| ID | Type | Value |\n",
    "+----+------+-------+\n",
    "| 1  | A    | 10    |\n",
    "| 1  | B    | 20    |\n",
    "| 2  | A    | 30    |\n",
    "| 2  | B    | 40    |\n",
    "+----+------+-------+\n",
    "to \n",
    "+----+---------+---------+\n",
    "| ID | A_Value | B_Value |\n",
    "+----+---------+---------+\n",
    "| 1  | 10      | 20      |\n",
    "| 2  | 30      | 40      |\n",
    "+----+---------+---------+\n",
    "\n"
   ]
  },
  {
   "cell_type": "code",
   "execution_count": null,
   "metadata": {
    "vscode": {
     "languageId": "sql"
    }
   },
   "outputs": [],
   "source": [
    "-- need Max here since \n",
    "SELECT\n",
    "  ID,\n",
    "  MAX(CASE WHEN Type = 'A' THEN Value END) AS A_Value,\n",
    "  MAX(CASE WHEN Type = 'B' THEN Value END) AS B_Value\n",
    "FROM\n",
    "  your_table_name\n",
    "GROUP BY\n",
    "  ID;\n"
   ]
  },
  {
   "cell_type": "code",
   "execution_count": null,
   "metadata": {
    "vscode": {
     "languageId": "sql"
    }
   },
   "outputs": [],
   "source": [
    "WITH t1 as (\n",
    "SELECT candidate_id,\n",
    "      MAX(CASE WHEN skill = 'Python' THEN 'yes' END) as python,\n",
    "      MAX(CASE WHEN skill = 'Tableau' THEN 'yes' END) as tableau,\n",
    "      MAX(CASE WHEN skill = 'PostgreSQL' THEN 'yes' END) as postgresql\n",
    "FROM candidates\n",
    "GROUP BY candidate_id)\n",
    "\n",
    "SELECT candidate_id\n",
    "FROM t1\n",
    "WHERE python is not NULL\n",
    "AND tableau is not NULL\n",
    "AND postgresql is not NULL\n",
    "ORDER BY candidate_id ASC;"
   ]
  },
  {
   "cell_type": "markdown",
   "metadata": {},
   "source": [
    "### Date Calculation in PostgreSql"
   ]
  },
  {
   "cell_type": "code",
   "execution_count": null,
   "metadata": {
    "vscode": {
     "languageId": "sql"
    }
   },
   "outputs": [],
   "source": [
    "SELECT \n",
    "\tuser_id, \n",
    "    MAX(post_date::DATE) - MIN(post_date::DATE) AS days_between\n",
    "FROM posts\n",
    "WHERE DATE_PART('year', post_date::DATE) = 2021 \n",
    "GROUP BY user_id\n",
    "HAVING COUNT(post_id)>1;"
   ]
  },
  {
   "cell_type": "markdown",
   "metadata": {},
   "source": [
    "### Date Calculation with INTERVAL"
   ]
  },
  {
   "cell_type": "code",
   "execution_count": null,
   "metadata": {
    "vscode": {
     "languageId": "sql"
    }
   },
   "outputs": [],
   "source": [
    "with t1 as \n",
    "(SELECT \n",
    "  policy_holder_id,\n",
    "  call_received AS current_call,\n",
    "  lag(call_received) OVER(PARTITION BY policy_holder_id ORDER BY call_received) as pre_call\n",
    "FROM callers)\n",
    "\n",
    "SELECT count(DISTINCT policy_holder_id) AS patient_count\n",
    "FROM t1\n",
    "WHERE current_call - pre_call < INTERVAL '7 days'\n",
    ";"
   ]
  },
  {
   "cell_type": "markdown",
   "metadata": {},
   "source": [
    "### Find Duplicates with Group By"
   ]
  },
  {
   "cell_type": "code",
   "execution_count": null,
   "metadata": {
    "vscode": {
     "languageId": "sql"
    }
   },
   "outputs": [],
   "source": [
    "WITH job_count_cte AS (\n",
    "  SELECT \n",
    "    company_id, \n",
    "    title, \n",
    "    description, \n",
    "    COUNT(job_id) AS job_count\n",
    "  FROM job_listings\n",
    "  GROUP BY company_id, title, description\n",
    ")\n",
    "\n",
    "SELECT COUNT(DISTINCT company_id) AS duplicate_companies\n",
    "FROM job_count_cte\n",
    "WHERE job_count > 1;"
   ]
  },
  {
   "cell_type": "markdown",
   "metadata": {},
   "source": [
    "### Concat Number and symbol or character"
   ]
  },
  {
   "cell_type": "code",
   "execution_count": null,
   "metadata": {
    "vscode": {
     "languageId": "sql"
    }
   },
   "outputs": [],
   "source": [
    "SELECT \n",
    "  manufacturer, \n",
    "  CONCAT('$', ROUND(SUM(total_sales) / 1000000), ' million') AS sales_mil\n",
    "FROM pharmacy_sales \n",
    "GROUP BY manufacturer;"
   ]
  },
  {
   "cell_type": "markdown",
   "metadata": {},
   "source": [
    "### Row_number() over(Partition_by ... Order_by ...)"
   ]
  },
  {
   "cell_type": "code",
   "execution_count": null,
   "metadata": {
    "vscode": {
     "languageId": "sql"
    }
   },
   "outputs": [],
   "source": [
    "with t1 as (\n",
    "SELECT *, \n",
    "  row_number() OVER(\n",
    "  PARTITION BY user_id ORDER BY transaction_date) as r\n",
    "FROM transactions)\n",
    "\n",
    "SELECT user_id, spend, transaction_date\n",
    "FROM t1\n",
    "WHERE r = 3;"
   ]
  },
  {
   "cell_type": "markdown",
   "metadata": {},
   "source": [
    "### Using average with \"partition by\" and \"rows between\" to get rolling average"
   ]
  },
  {
   "cell_type": "code",
   "execution_count": null,
   "metadata": {
    "vscode": {
     "languageId": "sql"
    }
   },
   "outputs": [],
   "source": [
    "SELECT    \n",
    "  user_id,    \n",
    "  tweet_date,   \n",
    "  ROUND(AVG(tweet_count) OVER (\n",
    "    PARTITION BY user_id     \n",
    "    ORDER BY tweet_date     \n",
    "    ROWS BETWEEN 2 PRECEDING AND CURRENT ROW)\n",
    "  ,2) AS rolling_avg_3d\n",
    "FROM tweets;\n",
    "\n"
   ]
  },
  {
   "cell_type": "markdown",
   "metadata": {},
   "source": [
    "### Getting the top two value"
   ]
  },
  {
   "cell_type": "code",
   "execution_count": null,
   "metadata": {
    "vscode": {
     "languageId": "sql"
    }
   },
   "outputs": [],
   "source": [
    "with t as (\n",
    "SELECT category, product, SUM(spend) as total_spend,\n",
    "      RANK() OVER(PARTITION BY category ORDER BY SUM(spend) DESC) as ranking\n",
    "FROM product_spend\n",
    "WHERE date_part('year', transaction_date) = 2022\n",
    "GROUP BY category, product)\n",
    "\n",
    "SELECT category, product, total_spend\n",
    "FROM t\n",
    "WHERE ranking <= 2\n",
    "ORDER BY category, ranking;"
   ]
  },
  {
   "cell_type": "markdown",
   "metadata": {},
   "source": [
    "### Dense_rank() and join lots of tables"
   ]
  },
  {
   "cell_type": "code",
   "execution_count": null,
   "metadata": {
    "vscode": {
     "languageId": "sql"
    }
   },
   "outputs": [],
   "source": [
    "with t1 as (\n",
    "    SELECT a.artist_name,  \n",
    "        dense_rank() OVER(ORDER BY COUNT(*) DESC) as artist_rank\n",
    "    FROM global_song_rank g \n",
    "    JOIN songs s on g.song_id = s.song_id\n",
    "    JOIN artists a on s.artist_id = a.artist_id\n",
    "    where g.rank <= 10\n",
    "    GROUP BY a.artist_name)\n",
    "\n",
    "SELECT * \n",
    "FROM t1\n",
    "WHERE artist_rank <= 5\n",
    ";"
   ]
  },
  {
   "cell_type": "markdown",
   "metadata": {},
   "source": [
    "### Left join 2 times to get caller and receiver"
   ]
  },
  {
   "cell_type": "code",
   "execution_count": null,
   "metadata": {
    "vscode": {
     "languageId": "sql"
    }
   },
   "outputs": [],
   "source": [
    "with t1 as (\n",
    "    SELECT pc.caller_id, pc.receiver_id, \n",
    "        pic.country_id as caller_country, \n",
    "        pir.country_id as receiver_country\n",
    "    FROM phone_calls pc \n",
    "    LEFT JOIN phone_info pic on pc.caller_id = pic.caller_id\n",
    "    LEFT JOIN phone_info pir on pc.receiver_id = pir.caller_id)\n",
    "\n",
    "SELECT ROUND(COUNT(*)*100.0/(SELECT COUNT(*) FROM t1),1)\n",
    "FROM t1\n",
    "WHERE caller_country != receiver_country\n",
    ";"
   ]
  },
  {
   "cell_type": "markdown",
   "metadata": {},
   "source": [
    "### Create 2 tables for current month and previous month with lag"
   ]
  },
  {
   "cell_type": "code",
   "execution_count": 9,
   "metadata": {
    "vscode": {
     "languageId": "sql"
    }
   },
   "outputs": [
    {
     "ename": "SyntaxError",
     "evalue": "invalid syntax (2954275414.py, line 1)",
     "output_type": "error",
     "traceback": [
      "\u001b[0;36m  Cell \u001b[0;32mIn[9], line 1\u001b[0;36m\u001b[0m\n\u001b[0;31m    WITH a AS (\u001b[0m\n\u001b[0m         ^\u001b[0m\n\u001b[0;31mSyntaxError\u001b[0m\u001b[0;31m:\u001b[0m invalid syntax\n"
     ]
    }
   ],
   "source": [
    "-- note here: lag is based on the rows, and distinct is based on the whole combination of rows\n",
    "\n",
    "WITH a AS (\n",
    "select distinct user_id, date_part('month', event_date) as aaa\n",
    "from user_actions\n",
    "),\n",
    "\n",
    "b AS (\n",
    "SELECT a.aaa as cur_mth,\n",
    "lag(aaa, 1) OVER (PARTITION BY user_id ORDER BY a.aaa ASC) as pre_mth\n",
    "FROM a)\n",
    "\n",
    "SELECT cur_mth as mth,\n",
    "COUNT(*) as count\n",
    "FROM b\n",
    "WHERE cur_mth - pre_mth = 1\n",
    "AND cur_mth = 7\n",
    "GROUP BY cur_mth\n",
    ";"
   ]
  },
  {
   "cell_type": "markdown",
   "metadata": {
    "vscode": {
     "languageId": "sql"
    }
   },
   "source": [
    "### Median: Percentile_cont(0.5) and \n",
    "### Create number of rows based on frequency using recursive method"
   ]
  },
  {
   "cell_type": "code",
   "execution_count": null,
   "metadata": {
    "vscode": {
     "languageId": "sql"
    }
   },
   "outputs": [],
   "source": [
    "-- flatten the table\n",
    "with recursive nums as (\n",
    "    SELECT \n",
    "        1 as value, \n",
    "        searches,\n",
    "        num_users\n",
    "    FROM search_frequency\n",
    "    union all \n",
    "    SELECT \n",
    "        value + 1 as value,\n",
    "        searches,\n",
    "        num_users\n",
    "    WHERE value < num_users\n",
    ")\n",
    "-- find median (for postgresql)\n",
    "select round(percentile_cont(0.5) within group(order by searches::decimal),1) as median\n",
    "FROM nums"
   ]
  },
  {
   "cell_type": "markdown",
   "metadata": {},
   "source": [
    "### Cross join to make combination of the same table"
   ]
  },
  {
   "cell_type": "code",
   "execution_count": null,
   "metadata": {
    "vscode": {
     "languageId": "sql"
    }
   },
   "outputs": [],
   "source": [
    "-- where statement make the combination unique\n",
    "SELECT \n",
    "  concat(p1.topping_name, ',', p2.topping_name, ',', p3.topping_name) as pizza,\n",
    "  p1.ingredient_cost + p2.ingredient_cost + p3.ingredient_cost as total_cost\n",
    "FROM pizza_toppings AS p1\n",
    "cross join\n",
    "  pizza_toppings as p2,\n",
    "  pizza_toppings as p3\n",
    "where p1.topping_name < p2.topping_name\n",
    "AND p2.topping_name < p3.topping_name\n",
    "ORDER BY total_cost DESC, pizza ASC;"
   ]
  },
  {
   "cell_type": "markdown",
   "metadata": {},
   "source": [
    "### RegexP_Like() in where statement"
   ]
  },
  {
   "cell_type": "code",
   "execution_count": null,
   "metadata": {
    "vscode": {
     "languageId": "sql"
    }
   },
   "outputs": [],
   "source": [
    "SELECT name\n",
    "FROM employees\n",
    "WHERE REGEXP_LIKE(name, '^J..');\n"
   ]
  }
 ],
 "metadata": {
  "kernelspec": {
   "display_name": "Python 3.10.11 64-bit",
   "language": "python",
   "name": "python3"
  },
  "language_info": {
   "codemirror_mode": {
    "name": "ipython",
    "version": 3
   },
   "file_extension": ".py",
   "mimetype": "text/x-python",
   "name": "python",
   "nbconvert_exporter": "python",
   "pygments_lexer": "ipython3",
   "version": "3.10.11"
  },
  "orig_nbformat": 4,
  "vscode": {
   "interpreter": {
    "hash": "aee8b7b246df8f9039afb4144a1f6fd8d2ca17a180786b69acc140d282b71a49"
   }
  }
 },
 "nbformat": 4,
 "nbformat_minor": 2
}
