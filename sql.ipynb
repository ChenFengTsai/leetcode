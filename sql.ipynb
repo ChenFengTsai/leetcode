{
 "cells": [
  {
   "cell_type": "markdown",
   "metadata": {},
   "source": [
    "### 1. Distinct 2. Order By (default ASC)"
   ]
  },
  {
   "cell_type": "code",
   "execution_count": null,
   "metadata": {
    "vscode": {
     "languageId": "sql"
    }
   },
   "outputs": [],
   "source": [
    "select distinct author_id as id\n",
    "from view\n",
    "where author_id = view_id\n",
    "order by author_id"
   ]
  },
  {
   "cell_type": "markdown",
   "metadata": {},
   "source": [
    "### 1. Common Table Expression (CTE) 2. Case When 3. Coalesce 4. nullif"
   ]
  },
  {
   "cell_type": "code",
   "execution_count": null,
   "metadata": {
    "vscode": {
     "languageId": "sql"
    }
   },
   "outputs": [],
   "source": [
    "with t1 as(\n",
    "select ad_id, sum(case when action in ('Clicked') then 1 else 0 end) as clicked\n",
    "from ads\n",
    "group by ad_id\n",
    ")\n",
    "\n",
    ", t2 as\n",
    "(\n",
    "Select ad_id as ad, sum(case when action in ('Clicked','Viewed') then 1 else 0 end) as total\n",
    "from ads\n",
    "group by ad_id\n",
    ")\n",
    "\n",
    "Select a.ad_id, coalesce(round((clicked+0.0)/nullif((total+0.0), 0)*100, 2),0) as ctr\n",
    "from\n",
    "(\n",
    "select *\n",
    "from t1 join t2\n",
    "on t1.ad_id = t2.ad) a\n",
    "order by ctr desc, ad_id"
   ]
  },
  {
   "cell_type": "markdown",
   "metadata": {},
   "source": [
    "### Having (only used with Group By and need aggregation function)"
   ]
  },
  {
   "cell_type": "code",
   "execution_count": null,
   "metadata": {
    "vscode": {
     "languageId": "sql"
    }
   },
   "outputs": [],
   "source": [
    "Select actor_id, director_id\n",
    "from actordirector\n",
    "group by actor_id, director_id\n",
    "having count(*)>=3"
   ]
  },
  {
   "cell_type": "markdown",
   "metadata": {},
   "source": [
    "### 1. Subquery 2. Between (with date)"
   ]
  },
  {
   "cell_type": "code",
   "execution_count": null,
   "metadata": {
    "vscode": {
     "languageId": "sql"
    }
   },
   "outputs": [],
   "source": [
    "Select d.product_id, round((sum(price*units)+0.00)/(sum(units)+0.00),2) as average_price\n",
    "from(\n",
    "Select *\n",
    "from prices p inner join unitssold u\n",
    "where u.purchase_date between p.start_date and p.end_date) d\n",
    "group by d.product_id "
   ]
  },
  {
   "cell_type": "markdown",
   "metadata": {},
   "source": []
  },
  {
   "cell_type": "code",
   "execution_count": null,
   "metadata": {
    "vscode": {
     "languageId": "sql"
    }
   },
   "outputs": [],
   "source": []
  },
  {
   "cell_type": "markdown",
   "metadata": {},
   "source": [
    "### Pivot table"
   ]
  },
  {
   "cell_type": "markdown",
   "metadata": {},
   "source": [
    "+----+------+-------+\n",
    "| ID | Type | Value |\n",
    "+----+------+-------+\n",
    "| 1  | A    | 10    |\n",
    "| 1  | B    | 20    |\n",
    "| 2  | A    | 30    |\n",
    "| 2  | B    | 40    |\n",
    "+----+------+-------+\n",
    "to \n",
    "+----+---------+---------+\n",
    "| ID | A_Value | B_Value |\n",
    "+----+---------+---------+\n",
    "| 1  | 10      | 20      |\n",
    "| 2  | 30      | 40      |\n",
    "+----+---------+---------+\n",
    "\n"
   ]
  },
  {
   "cell_type": "code",
   "execution_count": null,
   "metadata": {
    "vscode": {
     "languageId": "sql"
    }
   },
   "outputs": [],
   "source": [
    "-- need Max() and group by here since there is null value \n",
    "SELECT\n",
    "  ID,\n",
    "  MAX(CASE WHEN Type = 'A' THEN Value END) AS A_Value,\n",
    "  MAX(CASE WHEN Type = 'B' THEN Value END) AS B_Value\n",
    "FROM\n",
    "  your_table_name\n",
    "GROUP BY\n",
    "  ID;\n"
   ]
  },
  {
   "cell_type": "code",
   "execution_count": null,
   "metadata": {
    "vscode": {
     "languageId": "sql"
    }
   },
   "outputs": [],
   "source": [
    "WITH t1 as (\n",
    "SELECT candidate_id,\n",
    "      MAX(CASE WHEN skill = 'Python' THEN 'yes' END) as python,\n",
    "      MAX(CASE WHEN skill = 'Tableau' THEN 'yes' END) as tableau,\n",
    "      MAX(CASE WHEN skill = 'PostgreSQL' THEN 'yes' END) as postgresql\n",
    "FROM candidates\n",
    "GROUP BY candidate_id)\n",
    "\n",
    "SELECT candidate_id\n",
    "FROM t1\n",
    "WHERE python is not NULL\n",
    "AND tableau is not NULL\n",
    "AND postgresql is not NULL\n",
    "ORDER BY candidate_id ASC;"
   ]
  },
  {
   "cell_type": "markdown",
   "metadata": {},
   "source": [
    "### Date Calculation in PostgreSql"
   ]
  },
  {
   "cell_type": "code",
   "execution_count": null,
   "metadata": {
    "vscode": {
     "languageId": "sql"
    }
   },
   "outputs": [],
   "source": [
    "SELECT \n",
    "\tuser_id, \n",
    "    MAX(post_date::DATE) - MIN(post_date::DATE) AS days_between\n",
    "FROM posts\n",
    "WHERE DATE_PART('year', post_date::DATE) = 2021 \n",
    "GROUP BY user_id\n",
    "HAVING COUNT(post_id)>1;"
   ]
  },
  {
   "cell_type": "markdown",
   "metadata": {},
   "source": [
    "### Date Calculation with INTERVAL"
   ]
  },
  {
   "cell_type": "code",
   "execution_count": null,
   "metadata": {
    "vscode": {
     "languageId": "sql"
    }
   },
   "outputs": [],
   "source": [
    "with t1 as \n",
    "(SELECT \n",
    "  policy_holder_id,\n",
    "  call_received AS current_call,\n",
    "  lag(call_received) OVER(PARTITION BY policy_holder_id ORDER BY call_received) as pre_call\n",
    "FROM callers)\n",
    "\n",
    "SELECT count(DISTINCT policy_holder_id) AS patient_count\n",
    "FROM t1\n",
    "WHERE current_call - pre_call < INTERVAL '7 days'\n",
    ";"
   ]
  },
  {
   "cell_type": "markdown",
   "metadata": {},
   "source": [
    "### Find Duplicates with Group By"
   ]
  },
  {
   "cell_type": "code",
   "execution_count": null,
   "metadata": {
    "vscode": {
     "languageId": "sql"
    }
   },
   "outputs": [],
   "source": [
    "WITH job_count_cte AS (\n",
    "  SELECT \n",
    "    company_id, \n",
    "    title, \n",
    "    description, \n",
    "    COUNT(job_id) AS job_count\n",
    "  FROM job_listings\n",
    "  GROUP BY company_id, title, description\n",
    ")\n",
    "\n",
    "SELECT COUNT(DISTINCT company_id) AS duplicate_companies\n",
    "FROM job_count_cte\n",
    "WHERE job_count > 1;"
   ]
  },
  {
   "cell_type": "markdown",
   "metadata": {},
   "source": [
    "### Concat Number and symbol or character"
   ]
  },
  {
   "cell_type": "code",
   "execution_count": null,
   "metadata": {
    "vscode": {
     "languageId": "sql"
    }
   },
   "outputs": [],
   "source": [
    "SELECT \n",
    "  manufacturer, \n",
    "  CONCAT('$', ROUND(SUM(total_sales) / 1000000), ' million') AS sales_mil\n",
    "FROM pharmacy_sales \n",
    "GROUP BY manufacturer;"
   ]
  },
  {
   "cell_type": "markdown",
   "metadata": {},
   "source": [
    "### Row_number() over(Partition_by ... Order_by ...)"
   ]
  },
  {
   "cell_type": "code",
   "execution_count": null,
   "metadata": {
    "vscode": {
     "languageId": "sql"
    }
   },
   "outputs": [],
   "source": [
    "with t1 as (\n",
    "SELECT *, \n",
    "  row_number() OVER(\n",
    "  PARTITION BY user_id ORDER BY transaction_date) as r\n",
    "FROM transactions)\n",
    "\n",
    "SELECT user_id, spend, transaction_date\n",
    "FROM t1\n",
    "WHERE r = 3;"
   ]
  },
  {
   "cell_type": "markdown",
   "metadata": {},
   "source": [
    "### Using average with \"partition by\" and \"rows between\" to get rolling average"
   ]
  },
  {
   "cell_type": "code",
   "execution_count": null,
   "metadata": {
    "vscode": {
     "languageId": "sql"
    }
   },
   "outputs": [],
   "source": [
    "SELECT    \n",
    "  user_id,    \n",
    "  tweet_date,   \n",
    "  ROUND(AVG(tweet_count) OVER (\n",
    "    PARTITION BY user_id     \n",
    "    ORDER BY tweet_date     \n",
    "    ROWS BETWEEN 2 PRECEDING AND CURRENT ROW)\n",
    "  ,2) AS rolling_avg_3d\n",
    "FROM tweets;"
   ]
  },
  {
   "cell_type": "markdown",
   "metadata": {},
   "source": [
    "### Getting the top two value"
   ]
  },
  {
   "cell_type": "code",
   "execution_count": null,
   "metadata": {
    "vscode": {
     "languageId": "sql"
    }
   },
   "outputs": [],
   "source": [
    "with t as (\n",
    "SELECT category, product, SUM(spend) as total_spend,\n",
    "      RANK() OVER(PARTITION BY category ORDER BY SUM(spend) DESC) as ranking\n",
    "FROM product_spend\n",
    "WHERE date_part('year', transaction_date) = 2022\n",
    "GROUP BY category, product)\n",
    "\n",
    "SELECT category, product, total_spend\n",
    "FROM t\n",
    "WHERE ranking <= 2\n",
    "ORDER BY category, ranking;"
   ]
  },
  {
   "cell_type": "markdown",
   "metadata": {},
   "source": [
    "### Dense_rank() and join lots of tables"
   ]
  },
  {
   "cell_type": "code",
   "execution_count": null,
   "metadata": {
    "vscode": {
     "languageId": "sql"
    }
   },
   "outputs": [],
   "source": [
    "with t1 as (\n",
    "    SELECT a.artist_name,  \n",
    "        dense_rank() OVER(ORDER BY COUNT(*) DESC) as artist_rank\n",
    "    FROM global_song_rank g \n",
    "    JOIN songs s on g.song_id = s.song_id\n",
    "    JOIN artists a on s.artist_id = a.artist_id\n",
    "    where g.rank <= 10\n",
    "    GROUP BY a.artist_name)\n",
    "\n",
    "SELECT * \n",
    "FROM t1\n",
    "WHERE artist_rank <= 5\n",
    ";"
   ]
  },
  {
   "cell_type": "markdown",
   "metadata": {},
   "source": [
    "### Left join 2 times to get caller and receiver"
   ]
  },
  {
   "cell_type": "code",
   "execution_count": null,
   "metadata": {
    "vscode": {
     "languageId": "sql"
    }
   },
   "outputs": [],
   "source": [
    "with t1 as (\n",
    "    SELECT pc.caller_id, pc.receiver_id, \n",
    "        pic.country_id as caller_country, \n",
    "        pir.country_id as receiver_country\n",
    "    FROM phone_calls pc \n",
    "    LEFT JOIN phone_info pic on pc.caller_id = pic.caller_id\n",
    "    LEFT JOIN phone_info pir on pc.receiver_id = pir.caller_id)\n",
    "\n",
    "SELECT ROUND(COUNT(*)*100.0/(SELECT COUNT(*) FROM t1),1)\n",
    "FROM t1\n",
    "WHERE caller_country != receiver_country\n",
    ";"
   ]
  },
  {
   "cell_type": "markdown",
   "metadata": {},
   "source": [
    "### Create 2 tables for current month and previous month with lag"
   ]
  },
  {
   "cell_type": "code",
   "execution_count": 9,
   "metadata": {
    "vscode": {
     "languageId": "sql"
    }
   },
   "outputs": [
    {
     "ename": "SyntaxError",
     "evalue": "invalid syntax (2954275414.py, line 1)",
     "output_type": "error",
     "traceback": [
      "\u001b[0;36m  Cell \u001b[0;32mIn[9], line 1\u001b[0;36m\u001b[0m\n\u001b[0;31m    WITH a AS (\u001b[0m\n\u001b[0m         ^\u001b[0m\n\u001b[0;31mSyntaxError\u001b[0m\u001b[0;31m:\u001b[0m invalid syntax\n"
     ]
    }
   ],
   "source": [
    "-- note here: lag is based on the rows, and distinct is based on the whole combination of rows\n",
    "\n",
    "WITH a AS (\n",
    "select distinct user_id, date_part('month', event_date) as aaa\n",
    "from user_actions\n",
    "),\n",
    "\n",
    "b AS (\n",
    "SELECT a.aaa as cur_mth,\n",
    "lag(aaa, 1) OVER (PARTITION BY user_id ORDER BY a.aaa ASC) as pre_mth\n",
    "FROM a)\n",
    "\n",
    "SELECT cur_mth as mth,\n",
    "COUNT(*) as count\n",
    "FROM b\n",
    "WHERE cur_mth - pre_mth = 1\n",
    "AND cur_mth = 7\n",
    "GROUP BY cur_mth\n",
    ";"
   ]
  },
  {
   "cell_type": "markdown",
   "metadata": {
    "vscode": {
     "languageId": "sql"
    }
   },
   "source": [
    "### Median: Percentile_cont(0.5) this is in postgresql only and \n",
    "### Create number of rows based on frequency using recursive method"
   ]
  },
  {
   "cell_type": "code",
   "execution_count": null,
   "metadata": {
    "vscode": {
     "languageId": "sql"
    }
   },
   "outputs": [],
   "source": [
    "-- flatten the table\n",
    "with recursive nums as (\n",
    "    SELECT \n",
    "        1 as value, \n",
    "        searches,\n",
    "        num_users\n",
    "    FROM search_frequency\n",
    "    union all \n",
    "    SELECT \n",
    "        value + 1 as value,\n",
    "        searches,\n",
    "        num_users\n",
    "    WHERE value < num_users\n",
    ")\n",
    "-- find median (for postgresql)\n",
    "select round(percentile_cont(0.5) within group(order by searches::decimal), 1) as median\n",
    "FROM nums"
   ]
  },
  {
   "cell_type": "markdown",
   "metadata": {},
   "source": [
    "### create number from 1 to 5"
   ]
  },
  {
   "cell_type": "code",
   "execution_count": null,
   "metadata": {
    "vscode": {
     "languageId": "sql"
    }
   },
   "outputs": [],
   "source": [
    "WITH RECURSIVE numbers AS (\n",
    "  SELECT 1 AS n\n",
    "  UNION ALL\n",
    "  SELECT n + 1 FROM numbers WHERE n < 5 -- Adjust the end value as needed\n",
    ")\n",
    "SELECT n FROM numbers;\n"
   ]
  },
  {
   "cell_type": "markdown",
   "metadata": {},
   "source": [
    "### Cross join to make combination of the same table"
   ]
  },
  {
   "cell_type": "code",
   "execution_count": null,
   "metadata": {
    "vscode": {
     "languageId": "sql"
    }
   },
   "outputs": [],
   "source": [
    "-- where statement make the combination unique\n",
    "SELECT \n",
    "  concat(p1.topping_name, ',', p2.topping_name, ',', p3.topping_name) as pizza,\n",
    "  p1.ingredient_cost + p2.ingredient_cost + p3.ingredient_cost as total_cost\n",
    "FROM pizza_toppings AS p1\n",
    "cross join\n",
    "  pizza_toppings as p2,\n",
    "  pizza_toppings as p3\n",
    "where p1.topping_name < p2.topping_name\n",
    "AND p2.topping_name < p3.topping_name\n",
    "ORDER BY total_cost DESC, pizza ASC;"
   ]
  },
  {
   "cell_type": "markdown",
   "metadata": {},
   "source": [
    "### RegexP_Like() in where statement"
   ]
  },
  {
   "cell_type": "code",
   "execution_count": null,
   "metadata": {
    "vscode": {
     "languageId": "sql"
    }
   },
   "outputs": [],
   "source": [
    "SELECT name\n",
    "FROM employees\n",
    "WHERE REGEXP_LIKE(name, '^J..');\n"
   ]
  },
  {
   "cell_type": "markdown",
   "metadata": {},
   "source": [
    "### Multiple if statement to exchange seat"
   ]
  },
  {
   "cell_type": "code",
   "execution_count": null,
   "metadata": {
    "vscode": {
     "languageId": "sql"
    }
   },
   "outputs": [],
   "source": [
    "select if(id < (select max(id) from seat), \n",
    "        if(id%2=0, id-1,id+1), \n",
    "        if(id%2=0, id-1, id)) as id, student\n",
    "from seat\n",
    "order by id;"
   ]
  },
  {
   "cell_type": "markdown",
   "metadata": {},
   "source": [
    "# Great advanced practices"
   ]
  },
  {
   "cell_type": "markdown",
   "metadata": {},
   "source": [
    "### Retrieve top 5 highest salary employee in each department"
   ]
  },
  {
   "cell_type": "code",
   "execution_count": null,
   "metadata": {
    "vscode": {
     "languageId": "sql"
    }
   },
   "outputs": [],
   "source": [
    "\n",
    "with t1 as (\n",
    "    select \n",
    "        department,\n",
    "        employee,\n",
    "        salary,\n",
    "        row_number() over (partition by department order by salary desc) as rank\n",
    "    from employees\n",
    ")\n",
    "\n",
    "select\n",
    "    department,\n",
    "    employee,\n",
    "    salary\n",
    "from t1\n",
    "where rank <= 5;"
   ]
  },
  {
   "cell_type": "markdown",
   "metadata": {},
   "source": [
    "### Calculate total sales for each month of the current year (including months with zero sales)\n",
    "### This is for postgresql (generate_series(), date_trunc(), current_date), otherwise you need to use recursive for mysql"
   ]
  },
  {
   "cell_type": "markdown",
   "metadata": {},
   "source": [
    "  sale_date  \n",
    "------------\n",
    " 2023-01-01\n",
    " 2023-02-01\n",
    " 2023-03-01\n",
    " 2023-04-01\n",
    " 2023-05-01\n",
    " 2023-06-01\n",
    " 2023-07-01\n",
    " 2023-08-01\n",
    " 2023-09-01\n",
    " 2023-10-01\n",
    " 2023-11-01\n",
    " 2023-12-01\n",
    "(12 rows)\n"
   ]
  },
  {
   "cell_type": "code",
   "execution_count": null,
   "metadata": {
    "vscode": {
     "languageId": "sql"
    }
   },
   "outputs": [],
   "source": [
    "-- this cte is to generate the month table that has all the month\n",
    "with t1 as (\n",
    "    generate_series(\n",
    "        date_trunc('year', current_date), -- from when \n",
    "        date_trunc('year', current_date) + interval '1 year' - interval '1 day', -- to when\n",
    "        interval '1 month' -- window interval\n",
    "    ) as month_date\n",
    ")\n",
    "\n",
    "select \n",
    "    to_char(t1.month_date, 'YYYY-MM') as month,\n",
    "    coalesce(sum(sales.sales), 0) as monthly sales\n",
    "from \n",
    "    t1 \n",
    "left join sales on to_char(t1.month_date, 'YYYY-MM') = to_char(sales.sales_date, 'YYYY-MM')\n",
    "group by month;"
   ]
  },
  {
   "cell_type": "markdown",
   "metadata": {},
   "source": [
    "### Find customers who have made a purchase every month for last six months"
   ]
  },
  {
   "cell_type": "code",
   "execution_count": null,
   "metadata": {
    "vscode": {
     "languageId": "sql"
    }
   },
   "outputs": [],
   "source": [
    "select \n",
    "    customer_id\n",
    "from\n",
    "    purchase\n",
    "where\n",
    "    date_trunc('month', purchase_date) - interval '1 month' <= 6\n",
    "group by \n",
    "    customer_id\n",
    "having\n",
    "    count(distinct date_trunc('month', purchase_date)) = 6;"
   ]
  },
  {
   "cell_type": "markdown",
   "metadata": {},
   "source": [
    "### Calculate running total of sales for each day within the past month"
   ]
  },
  {
   "cell_type": "code",
   "execution_count": null,
   "metadata": {
    "vscode": {
     "languageId": "sql"
    }
   },
   "outputs": [],
   "source": [
    "-- use cte to create date table\n",
    "with t1 as (\n",
    "    generate_series(\n",
    "        date_trunc('month', current_date) - interval '1 month', -- from when\n",
    "        date_trunc('month', current_date) - interval '1 day', -- to when (inclusive)\n",
    "        interval '1 day' -- interval\n",
    "    ) as date\n",
    ")\n",
    "select\n",
    "    t1.date,\n",
    "    sum(coalesce(sales.sales_amount, 0)) over(order by t1.date) as running total\n",
    "from \n",
    "    t1\n",
    "left join sales on t1.date = sales.date;"
   ]
  },
  {
   "cell_type": "markdown",
   "metadata": {},
   "source": [
    "### Find the employees who manage the same number of employees as their manager"
   ]
  },
  {
   "cell_type": "code",
   "execution_count": null,
   "metadata": {
    "vscode": {
     "languageId": "sql"
    }
   },
   "outputs": [],
   "source": [
    "select\n",
    "    e1.employee_name as employee,\n",
    "    e1.managed_count as managed_count\n",
    "from \n",
    "    employees e1\n",
    "join \n",
    "    employees e2 on e1.manger_id = e2.employee_id\n",
    "where \n",
    "    e1.managed_count = e2.managed_count;"
   ]
  },
  {
   "cell_type": "markdown",
   "metadata": {},
   "source": [
    "### calculate 30-day moving average of sales for each product (range between)"
   ]
  },
  {
   "cell_type": "code",
   "execution_count": null,
   "metadata": {
    "vscode": {
     "languageId": "sql"
    }
   },
   "outputs": [],
   "source": [
    "select\n",
    "    product_id,\n",
    "    sales_date,\n",
    "    sales_amount,\n",
    "    avg(sales_amount) over (\n",
    "                    partition by product_id \n",
    "                    order by sales_date range between interval '30 days' preceding and current row) as moving_avg\n",
    "from\n",
    "    sales;"
   ]
  }
 ],
 "metadata": {
  "kernelspec": {
   "display_name": "Python 3.10.11 64-bit",
   "language": "python",
   "name": "python3"
  },
  "language_info": {
   "codemirror_mode": {
    "name": "ipython",
    "version": 3
   },
   "file_extension": ".py",
   "mimetype": "text/x-python",
   "name": "python",
   "nbconvert_exporter": "python",
   "pygments_lexer": "ipython3",
   "version": "3.10.11"
  },
  "orig_nbformat": 4,
  "vscode": {
   "interpreter": {
    "hash": "aee8b7b246df8f9039afb4144a1f6fd8d2ca17a180786b69acc140d282b71a49"
   }
  }
 },
 "nbformat": 4,
 "nbformat_minor": 2
}
