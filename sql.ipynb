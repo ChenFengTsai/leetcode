{
 "cells": [
  {
   "cell_type": "markdown",
   "metadata": {},
   "source": [
    "### 1. Distinct 2. Order By (default ASC)"
   ]
  },
  {
   "cell_type": "code",
   "execution_count": null,
   "metadata": {
    "vscode": {
     "languageId": "sql"
    }
   },
   "outputs": [],
   "source": [
    "select distinct author_id as id\n",
    "from view\n",
    "where author_id = view_id\n",
    "order by author_id;"
   ]
  },
  {
   "cell_type": "markdown",
   "metadata": {},
   "source": [
    "### 1. Common Table Expression (CTE) 2. Sum with Case When...then..else...end (counting the if else) 3. Coalesce 4. nullif"
   ]
  },
  {
   "cell_type": "code",
   "execution_count": null,
   "metadata": {
    "vscode": {
     "languageId": "sql"
    }
   },
   "outputs": [],
   "source": [
    "with t1 as(\n",
    "select ad_id, sum(case when action in ('Clicked') then 1 else 0 end) as clicked\n",
    "from ads\n",
    "group by ad_id\n",
    ")\n",
    "\n",
    ", t2 as\n",
    "(\n",
    "Select ad_id as ad, sum(case when action in ('Clicked','Viewed') then 1 else 0 end) as total\n",
    "from ads\n",
    "group by ad_id\n",
    ")\n",
    "\n",
    "Select a.ad_id, coalesce(round((clicked+0.0)/nullif((total+0.0), 0)*100, 2),0) as ctr\n",
    "from\n",
    "(\n",
    "select *\n",
    "from t1 join t2\n",
    "on t1.ad_id = t2.ad) a\n",
    "order by ctr desc, ad_id;"
   ]
  },
  {
   "cell_type": "markdown",
   "metadata": {},
   "source": [
    "### Having (only used with Group By and need aggregation function)"
   ]
  },
  {
   "cell_type": "code",
   "execution_count": null,
   "metadata": {
    "vscode": {
     "languageId": "sql"
    }
   },
   "outputs": [],
   "source": [
    "Select actor_id, director_id\n",
    "from actordirector\n",
    "group by actor_id, director_id\n",
    "having count(*)>=3;"
   ]
  },
  {
   "cell_type": "markdown",
   "metadata": {},
   "source": [
    "### 1. Subquery 2. Between (with date) 3. between value1 and value2 = (a >= value1 AND a <= value2)"
   ]
  },
  {
   "cell_type": "code",
   "execution_count": null,
   "metadata": {
    "vscode": {
     "languageId": "sql"
    }
   },
   "outputs": [],
   "source": [
    "Select d.product_id, round((sum(price*units)+0.00)/(sum(units)+0.00),2) as average_price\n",
    "from(\n",
    "Select *\n",
    "from prices p inner join unitssold u\n",
    "where u.purchase_date between p.start_date and p.end_date) d\n",
    "group by d.product_id;"
   ]
  },
  {
   "cell_type": "markdown",
   "metadata": {},
   "source": [
    "### 1. Lead(col, 1) over() and Lag 2. find neighboring seat is free"
   ]
  },
  {
   "cell_type": "code",
   "execution_count": null,
   "metadata": {
    "vscode": {
     "languageId": "sql"
    }
   },
   "outputs": [],
   "source": [
    "​​Select seat_id\n",
    "from(\n",
    "select seat_id, free,\n",
    "lead(free,1) over() as next,\n",
    "lag(free,1) over() as prev\n",
    "from cinema) a\n",
    "where a.free=True and (next = True or prev=True)\n",
    "order by seat_id;"
   ]
  },
  {
   "cell_type": "markdown",
   "metadata": {},
   "source": [
    "### Union"
   ]
  },
  {
   "cell_type": "code",
   "execution_count": null,
   "metadata": {
    "vscode": {
     "languageId": "sql"
    }
   },
   "outputs": [],
   "source": [
    "(Select '[0-5>' as bin, \n",
    " sum(case when duration/60 < 5 then 1 else 0 end) as total from Sessions)\n",
    "union\n",
    "(Select '[5-10>' as bin, \n",
    "sum(case when ((duration/60 >= 5) and (duration/60 < 10)) then 1 else 0 end) as total from Sessions)\n",
    " union\n",
    "(Select '[10-15>' as bin, \n",
    " sum(case when ((duration/60 >= 10) and (duration/60 < 15)) then 1 else 0 end) as total from Sessions)\n",
    " union\n",
    "(Select '15 or more' as bin, \n",
    " sum(case when duration/60 >= 15 then 1 else 0 end) as total from Sessions);\n"
   ]
  },
  {
   "cell_type": "markdown",
   "metadata": {},
   "source": [
    "### Select the 21th with Limit and Offset"
   ]
  },
  {
   "cell_type": "code",
   "execution_count": null,
   "metadata": {
    "vscode": {
     "languageId": "sql"
    }
   },
   "outputs": [],
   "source": [
    "SELECT\n",
    "    *\n",
    "FROM\n",
    "    mytable\n",
    "ORDER BY\n",
    "    somefield\n",
    "LIMIT 1 OFFSET 20;"
   ]
  },
  {
   "cell_type": "markdown",
   "metadata": {},
   "source": [
    "### Where [colA] not in [colB]"
   ]
  },
  {
   "cell_type": "code",
   "execution_count": null,
   "metadata": {
    "vscode": {
     "languageId": "sql"
    }
   },
   "outputs": [],
   "source": [
    "SELECT Name AS Customers\n",
    "FROM Customers\n",
    "WHERE id not in  (\n",
    "    SELECT c.id\n",
    "    FROM Customers c\n",
    "    LEFT JOIN Orders o ON c.id = o.Customerid\n",
    "    WHERE o.Customerid IS NOT NULL\n",
    ");\n"
   ]
  },
  {
   "cell_type": "markdown",
   "metadata": {},
   "source": [
    "### 1. Rank() over(partition by [col] order by [col]) 2. Delete from"
   ]
  },
  {
   "cell_type": "code",
   "execution_count": null,
   "metadata": {
    "vscode": {
     "languageId": "sql"
    }
   },
   "outputs": [],
   "source": [
    "With t1 as\n",
    "(\n",
    " Select *,\n",
    "    rank() over(partition by email order by id desc) as rk\n",
    "    from person\n",
    ")\n",
    "\n",
    "Delete from person\n",
    "where id in (Select t1.id from t1 where t1.rk>1);"
   ]
  },
  {
   "cell_type": "markdown",
   "metadata": {},
   "source": [
    "### Avg"
   ]
  },
  {
   "cell_type": "code",
   "execution_count": null,
   "metadata": {
    "vscode": {
     "languageId": "sql"
    }
   },
   "outputs": [],
   "source": [
    "Select query_name, round(sum(rating/position)/count(*),2) as quality, \n",
    "round(avg(case when rating<3 then 1 else 0 end)*100,2) as poor_query_percentage\n",
    "from queries\n",
    "group by query_name;"
   ]
  },
  {
   "cell_type": "markdown",
   "metadata": {},
   "source": [
    "### 1. Join (with the same table to compare the next day's temperature) 2. INTERVAL (datetime) 3. Add one day with PostgreSQL (YEAR, MONTH ,DAY ,HOUR ,MINUTE ,SECOND)"
   ]
  },
  {
   "cell_type": "code",
   "execution_count": null,
   "metadata": {
    "vscode": {
     "languageId": "sql"
    }
   },
   "outputs": [],
   "source": [
    "--MySQL (date_add) use Postgresql since it is more intuitive\n",
    "select a.Id\n",
    "from weather a\n",
    "join weather b on a.record_date = date_add(b.record_date, INTERVAL 1 day)\n",
    "where a.temperature > b.temperature\n",
    "\n",
    "--PostgreSQL (+)\n",
    "SELECT a.Id\n",
    "FROM weather a\n",
    "JOIN weather b ON a.record_date = b.record_date + INTERVAL '1 day'\n",
    "WHERE a.temperature > b.temperature;"
   ]
  },
  {
   "cell_type": "markdown",
   "metadata": {},
   "source": [
    "### Where [col] In and Not In (filtering)"
   ]
  },
  {
   "cell_type": "code",
   "execution_count": null,
   "metadata": {
    "vscode": {
     "languageId": "sql"
    }
   },
   "outputs": [],
   "source": [
    "Select distinct a.buyer_id\n",
    "from sales a join\n",
    "product b\n",
    "on a.product_id = b.product_id\n",
    "where a.buyer_id in\n",
    "(Select a.buyer_id from sales a join product b on a.product_id = b.product_id where b.product_name = 'S8') \n",
    "and\n",
    "a.buyer_id not in (Select a.buyer_id from sales a join product b on a.product_id = b.product_id where b.product_name = 'iPhone');\n"
   ]
  },
  {
   "cell_type": "markdown",
   "metadata": {},
   "source": [
    "### Where [date col] >= 'YYYY-MM-DD' (filtering datetime)\n",
    "### Format for datetime: 'HH:MM:SS' or 'YYYY-MM-DD HH:MM:SS'"
   ]
  },
  {
   "cell_type": "code",
   "execution_count": null,
   "metadata": {
    "vscode": {
     "languageId": "sql"
    }
   },
   "outputs": [],
   "source": [
    "select distinct a.product_id, product_name from sales a join product b on a.product_id = b.product_id where a.product_id \n",
    "in\n",
    "(select product_id from sales where sale_date >= '2019-01-01' and sale_date <= '2019-03-31')\n",
    "and\n",
    "a.product_id not in \n",
    "(select product_id from sales where sale_date > '2019-03-31' or sale_date < '2019-01-01');\n"
   ]
  },
  {
   "cell_type": "markdown",
   "metadata": {},
   "source": [
    "### Get the second large"
   ]
  },
  {
   "cell_type": "code",
   "execution_count": null,
   "metadata": {
    "vscode": {
     "languageId": "sql"
    }
   },
   "outputs": [],
   "source": [
    "select max(salary) as SecondHighestSalary\n",
    "from employee\n",
    "where salary ! = (Select max(salary)\n",
    "                   from employee);"
   ]
  },
  {
   "cell_type": "markdown",
   "metadata": {},
   "source": [
    "### DATEDIFF (this is only for date not time) / Date_part('day') with subtraction"
   ]
  },
  {
   "cell_type": "code",
   "execution_count": 2,
   "metadata": {
    "vscode": {
     "languageId": "sql"
    }
   },
   "outputs": [
    {
     "ename": "SyntaxError",
     "evalue": "invalid syntax (2030557356.py, line 1)",
     "output_type": "error",
     "traceback": [
      "\u001b[0;36m  Cell \u001b[0;32mIn[2], line 1\u001b[0;36m\u001b[0m\n\u001b[0;31m    --- MySQL (Datediff) use Postgresql more comprehensive\u001b[0m\n\u001b[0m                         ^\u001b[0m\n\u001b[0;31mSyntaxError\u001b[0m\u001b[0;31m:\u001b[0m invalid syntax\n"
     ]
    }
   ],
   "source": [
    "--- MySQL (Datediff) use Postgresql more comprehensive\n",
    "with t1 as (\n",
    "select id,login_date,\n",
    "lead(login_date,4) over(partition by id order by login_date) date_5\n",
    "from (select distinct * from Logins) b\n",
    ")\n",
    "\n",
    "select distinct a.id, a.name from t1\n",
    "inner join accounts a \n",
    "on t1.id = a.id\n",
    "where DATEDIFF(t1.date_5, login_date) = 4\n",
    "order by id\n",
    "\n",
    "--- PostgreSQL (DATE_PART with subtraction)\n",
    "WITH t1 AS (\n",
    "    SELECT id, login_date,\n",
    "           LEAD(login_date, 4) OVER (PARTITION BY id ORDER BY login_date) AS date_5\n",
    "    FROM (SELECT DISTINCT * FROM Logins) b\n",
    ")\n",
    "\n",
    "SELECT DISTINCT a.id, a.name\n",
    "FROM t1\n",
    "INNER JOIN accounts a ON t1.id = a.id\n",
    "WHERE DATE_PART('day', t1.date_5 - login_date) = 4\n",
    "ORDER BY id;"
   ]
  },
  {
   "cell_type": "markdown",
   "metadata": {},
   "source": [
    "### 1. Multiple Case When 2. max([col]) over(partition by [col]) "
   ]
  },
  {
   "cell_type": "code",
   "execution_count": null,
   "metadata": {
    "vscode": {
     "languageId": "sql"
    }
   },
   "outputs": [],
   "source": [
    "with t1 as (\n",
    "select company_id, employee_id, employee_name, salary as sa, \n",
    "max(salary) over(partition by company_id) as maximum\n",
    "from salaries)\n",
    "\n",
    "select company_id, employee_id, employee_name,\n",
    "case when t1.maximum<1000 then t1.sa\n",
    "when t1.maximum between 1000 and 10000 then round(t1.sa*.76,0)\n",
    "else round(t1.sa*.51,0)\n",
    "end as salary\n",
    "from t1;\n"
   ]
  },
  {
   "cell_type": "markdown",
   "metadata": {},
   "source": [
    "### row_number() over() (this will assign index based on row number not value of the order col like rank)"
   ]
  },
  {
   "cell_type": "code",
   "execution_count": null,
   "metadata": {
    "vscode": {
     "languageId": "sql"
    }
   },
   "outputs": [],
   "source": [
    "select min(log_id) as start_id, max(log_id) as end_id\n",
    "from(\n",
    "select log_id, log_id, row_number() over (order by log_id desc) as rk\n",
    "from logs) a\n",
    "group by rk;"
   ]
  },
  {
   "cell_type": "markdown",
   "metadata": {},
   "source": [
    "### 1. Concat 2. Upper 3. Substring([col], start_idx, end_idx)"
   ]
  },
  {
   "cell_type": "code",
   "execution_count": null,
   "metadata": {
    "vscode": {
     "languageId": "sql"
    }
   },
   "outputs": [],
   "source": [
    "select concat(name,'(',upper(substring(occupation,1,1)),')') \n",
    "from occupations\n",
    "order by name;"
   ]
  },
  {
   "cell_type": "markdown",
   "metadata": {},
   "source": [
    "### Dense_rank() (will not skip rank if same tie)"
   ]
  },
  {
   "cell_type": "code",
   "execution_count": null,
   "metadata": {
    "vscode": {
     "languageId": "sql"
    }
   },
   "outputs": [],
   "source": [
    "select distinct a.salary\n",
    "      from\n",
    "      (select salary, \n",
    "      dense_rank() over(order by salary desc) as rk\n",
    "      from Employee) a\n",
    "      where a.rk = N"
   ]
  },
  {
   "cell_type": "markdown",
   "metadata": {},
   "source": [
    "### Date format 'YYYY-MM-DD'to 'YYYY-MM'"
   ]
  },
  {
   "cell_type": "code",
   "execution_count": null,
   "metadata": {
    "vscode": {
     "languageId": "sql"
    }
   },
   "outputs": [],
   "source": [
    "--- For PostgreSQL (use this)\n",
    "to_char(column_name, 'YYYY-MM')\n",
    "\n",
    "--- For MySQL\n",
    "DATE_FORMAT(column_name, '%Y-%m')"
   ]
  },
  {
   "cell_type": "markdown",
   "metadata": {},
   "source": [
    "### Important!!! Joining the same table to find parent node (ex. manager of employee)"
   ]
  },
  {
   "cell_type": "code",
   "execution_count": null,
   "metadata": {
    "vscode": {
     "languageId": "sql"
    }
   },
   "outputs": [],
   "source": [
    "---Write an SQL query to find number of comments per each post.\n",
    "---https://leetcode.ca/2019-04-24-1241-Number-of-Comments-per-Post/\n",
    "---Submissions table:\n",
    "+---------+------------+\n",
    "| sub_id  | parent_id  |\n",
    "+---------+------------+\n",
    "| 1       | Null       |\n",
    "| 2       | Null       |\n",
    "| 1       | Null       |\n",
    "| 12      | Null       |\n",
    "| 3       | 1          |\n",
    "| 5       | 2          |\n",
    "| 3       | 1          |\n",
    "| 4       | 1          |\n",
    "| 9       | 1          |\n",
    "| 10      | 2          |\n",
    "| 6       | 7          |\n",
    "+---------+------------+\n",
    "\n",
    "---Result table:\n",
    "+---------+--------------------+\n",
    "| post_id | number_of_comments |\n",
    "+---------+--------------------+\n",
    "| 1       | 3                  |\n",
    "| 2       | 2                  |\n",
    "| 12      | 0                  |\n",
    "+---------+--------------------+\n",
    "\n",
    "\n",
    "-- There is no primary key for this table, it may have duplicate rows.\n",
    "-- Each row can be a post or comment on the post.\n",
    "-- parent_id is null for posts.\n",
    "-- parent_id for comments is sub_id for another post in the table.\n",
    "\n",
    "select s_posts.sub_id as post_id,count(distinct s.sub_id) as number_of_comments\n",
    "from Submissions s\n",
    "right outer join\n",
    "(select distinct sub_id from Submissions\n",
    "where parent_id is null) as s_posts\n",
    "on s.parent_id = s_posts.sub_id\n",
    "group by post_id\n",
    "order by post_id\n",
    "\n",
    "--- More Example:\n",
    "SELECT\n",
    "  e.FirstName + ' ' + e.LastName Employee\n",
    "  ,m.FirstName + ' ' + m.LastName Manager\n",
    "FROM Employee e\n",
    "INNER JOIN Employee m\n",
    "\tON m.EmployeeID = e.ManagerID\n",
    "ORDER BY Manager;\n",
    "                                    "
   ]
  },
  {
   "cell_type": "markdown",
   "metadata": {},
   "source": [
    "### Min(Case When [col] = 'value') or Max both works(to pivot table)"
   ]
  },
  {
   "cell_type": "code",
   "execution_count": null,
   "metadata": {
    "vscode": {
     "languageId": "sql"
    }
   },
   "outputs": [],
   "source": [
    "SELECT\n",
    "\tUsers.id as id,\n",
    "\tUsers.username as username,\n",
    "\tMIN(CASE WHEN Users_meta.meta = 'first_name' THEN Users_meta.value ELSE NULL END) AS first_name,\n",
    "\tMIN(CASE WHEN Users_meta.meta = 'last_name' THEN Users_meta.value ELSE NULL END) AS last_name,\n",
    "\tMIN(CASE WHEN Users_meta.meta = 'user_level' THEN Users_meta.value ELSE NULL END) AS user_level\n",
    "FROM\n",
    "\tUsers\n",
    "LEFT JOIN Users_meta\n",
    "\tON Users_meta.[user] = Users.id\n",
    "\n",
    "GROUP BY\n",
    "\tUsers.id, users.username;\n",
    "\n",
    "--- More Example:\n",
    "<--- \n",
    "+----+------+-------+\n",
    "| ID | Type | Value |\n",
    "+----+------+-------+\n",
    "| 1  | A    | 10    |\n",
    "| 1  | B    | 20    |\n",
    "| 2  | A    | 30    |\n",
    "| 2  | B    | 40    |\n",
    "+----+------+-------+\n",
    "\n",
    "without Group By and Max, only Case When\n",
    "+----+---------+---------+\n",
    "| ID | A_Value | B_Value |\n",
    "+----+---------+---------+\n",
    "| 1  |   10    |   NULL  |\n",
    "| 1  |   NULL  |   20    |\n",
    "| 2  |   30    |   NULL  |\n",
    "| 2  |   NULL  |   40    |\n",
    "+----+---------+---------+\n",
    "\n",
    "with group by and Max \n",
    "+----+---------+---------+\n",
    "| ID | A_Value | B_Value |\n",
    "+----+---------+---------+\n",
    "| 1  | 10      | 20      |\n",
    "| 2  | 30      | 40      |\n",
    "+----+---------+---------+ \n",
    "-->\n",
    "\n",
    "-- need Max() and group by here since there is null value \n",
    "SELECT\n",
    "  ID,\n",
    "  MAX(CASE WHEN Type = 'A' THEN Value END) AS A_Value,\n",
    "  MAX(CASE WHEN Type = 'B' THEN Value END) AS B_Value\n",
    "FROM\n",
    "  your_table_name\n",
    "GROUP BY\n",
    "  ID;\n"
   ]
  },
  {
   "cell_type": "markdown",
   "metadata": {},
   "source": [
    "### 1. Max(Case When ...) 2. is not NULL"
   ]
  },
  {
   "cell_type": "code",
   "execution_count": null,
   "metadata": {
    "vscode": {
     "languageId": "sql"
    }
   },
   "outputs": [],
   "source": [
    "WITH t1 as (\n",
    "SELECT candidate_id,\n",
    "      MAX(CASE WHEN skill = 'Python' THEN 'yes' END) as python,\n",
    "      MAX(CASE WHEN skill = 'Tableau' THEN 'yes' END) as tableau,\n",
    "      MAX(CASE WHEN skill = 'PostgreSQL' THEN 'yes' END) as postgresql\n",
    "FROM candidates\n",
    "GROUP BY candidate_id)\n",
    "\n",
    "SELECT candidate_id\n",
    "FROM t1\n",
    "WHERE python is not NULL\n",
    "AND tableau is not NULL\n",
    "AND postgresql is not NULL\n",
    "ORDER BY candidate_id ASC;"
   ]
  },
  {
   "cell_type": "markdown",
   "metadata": {},
   "source": [
    "### Date Calculation in PostgreSql (:: is only used in postgresql)"
   ]
  },
  {
   "cell_type": "code",
   "execution_count": null,
   "metadata": {
    "vscode": {
     "languageId": "sql"
    }
   },
   "outputs": [],
   "source": [
    "SELECT \n",
    "\tuser_id, \n",
    "    MAX(post_date::DATE) - MIN(post_date::DATE) AS days_between\n",
    "FROM posts\n",
    "WHERE DATE_PART('year', post_date::DATE) = 2021 \n",
    "GROUP BY user_id\n",
    "HAVING COUNT(post_id)>1;"
   ]
  },
  {
   "cell_type": "markdown",
   "metadata": {},
   "source": [
    "### Date Calculation with INTERVAL"
   ]
  },
  {
   "cell_type": "code",
   "execution_count": null,
   "metadata": {
    "vscode": {
     "languageId": "sql"
    }
   },
   "outputs": [],
   "source": [
    "with t1 as \n",
    "(SELECT \n",
    "  policy_holder_id,\n",
    "  call_received AS current_call,\n",
    "  lag(call_received) OVER(PARTITION BY policy_holder_id ORDER BY call_received) as pre_call\n",
    "FROM callers)\n",
    "\n",
    "SELECT count(DISTINCT policy_holder_id) AS patient_count\n",
    "FROM t1\n",
    "WHERE current_call - pre_call < INTERVAL '7 days'\n",
    ";"
   ]
  },
  {
   "cell_type": "markdown",
   "metadata": {},
   "source": [
    "### Find Duplicates with Group By"
   ]
  },
  {
   "cell_type": "code",
   "execution_count": null,
   "metadata": {
    "vscode": {
     "languageId": "sql"
    }
   },
   "outputs": [],
   "source": [
    "WITH job_count_cte AS (\n",
    "  SELECT \n",
    "    company_id, \n",
    "    title, \n",
    "    description, \n",
    "    COUNT(job_id) AS job_count\n",
    "  FROM job_listings\n",
    "  GROUP BY company_id, title, description\n",
    ")\n",
    "\n",
    "SELECT COUNT(DISTINCT company_id) AS duplicate_companies\n",
    "FROM job_count_cte\n",
    "WHERE job_count > 1;"
   ]
  },
  {
   "cell_type": "markdown",
   "metadata": {},
   "source": [
    "### Concat Number and symbol or character"
   ]
  },
  {
   "cell_type": "code",
   "execution_count": null,
   "metadata": {
    "vscode": {
     "languageId": "sql"
    }
   },
   "outputs": [],
   "source": [
    "SELECT \n",
    "  manufacturer, \n",
    "  CONCAT('$', ROUND(SUM(total_sales) / 1000000), ' million') AS sales_mil\n",
    "FROM pharmacy_sales \n",
    "GROUP BY manufacturer;"
   ]
  },
  {
   "cell_type": "markdown",
   "metadata": {},
   "source": [
    "### Row_number() over(Partition_by ... Order_by ...)"
   ]
  },
  {
   "cell_type": "code",
   "execution_count": null,
   "metadata": {
    "vscode": {
     "languageId": "sql"
    }
   },
   "outputs": [],
   "source": [
    "with t1 as (\n",
    "SELECT *, \n",
    "  row_number() OVER(\n",
    "  PARTITION BY user_id ORDER BY transaction_date) as r\n",
    "FROM transactions)\n",
    "\n",
    "SELECT user_id, spend, transaction_date\n",
    "FROM t1\n",
    "WHERE r = 3;"
   ]
  },
  {
   "cell_type": "markdown",
   "metadata": {},
   "source": [
    "### Using average with \"partition by\" and \"rows between\" to get rolling average"
   ]
  },
  {
   "cell_type": "code",
   "execution_count": null,
   "metadata": {
    "vscode": {
     "languageId": "sql"
    }
   },
   "outputs": [],
   "source": [
    "SELECT    \n",
    "  user_id,    \n",
    "  tweet_date,   \n",
    "  ROUND(AVG(tweet_count) OVER (\n",
    "    PARTITION BY user_id     \n",
    "    ORDER BY tweet_date     \n",
    "    ROWS BETWEEN 2 PRECEDING AND CURRENT ROW)\n",
    "  ,2) AS rolling_avg_3d\n",
    "FROM tweets;"
   ]
  },
  {
   "cell_type": "markdown",
   "metadata": {},
   "source": [
    "### Getting the top two value"
   ]
  },
  {
   "cell_type": "code",
   "execution_count": null,
   "metadata": {
    "vscode": {
     "languageId": "sql"
    }
   },
   "outputs": [],
   "source": [
    "with t as (\n",
    "SELECT category, product, SUM(spend) as total_spend,\n",
    "      RANK() OVER(PARTITION BY category ORDER BY SUM(spend) DESC) as ranking\n",
    "FROM product_spend\n",
    "WHERE date_part('year', transaction_date) = 2022\n",
    "GROUP BY category, product)\n",
    "\n",
    "SELECT category, product, total_spend\n",
    "FROM t\n",
    "WHERE ranking <= 2\n",
    "ORDER BY category, ranking;"
   ]
  },
  {
   "cell_type": "markdown",
   "metadata": {},
   "source": [
    "### Dense_rank() and join lots of tables"
   ]
  },
  {
   "cell_type": "code",
   "execution_count": null,
   "metadata": {
    "vscode": {
     "languageId": "sql"
    }
   },
   "outputs": [],
   "source": [
    "with t1 as (\n",
    "    SELECT a.artist_name,  \n",
    "        dense_rank() OVER(ORDER BY COUNT(*) DESC) as artist_rank\n",
    "    FROM global_song_rank g \n",
    "    JOIN songs s on g.song_id = s.song_id\n",
    "    JOIN artists a on s.artist_id = a.artist_id\n",
    "    where g.rank <= 10\n",
    "    GROUP BY a.artist_name)\n",
    "\n",
    "SELECT * \n",
    "FROM t1\n",
    "WHERE artist_rank <= 5\n",
    ";"
   ]
  },
  {
   "cell_type": "markdown",
   "metadata": {},
   "source": [
    "### Left join 2 times to get caller and receiver"
   ]
  },
  {
   "cell_type": "code",
   "execution_count": null,
   "metadata": {
    "vscode": {
     "languageId": "sql"
    }
   },
   "outputs": [],
   "source": [
    "with t1 as (\n",
    "    SELECT pc.caller_id, pc.receiver_id, \n",
    "        pic.country_id as caller_country, \n",
    "        pir.country_id as receiver_country\n",
    "    FROM phone_calls pc \n",
    "    LEFT JOIN phone_info pic on pc.caller_id = pic.caller_id\n",
    "    LEFT JOIN phone_info pir on pc.receiver_id = pir.caller_id)\n",
    "\n",
    "SELECT ROUND(COUNT(*)*100.0/(SELECT COUNT(*) FROM t1),1)\n",
    "FROM t1\n",
    "WHERE caller_country != receiver_country\n",
    ";"
   ]
  },
  {
   "cell_type": "markdown",
   "metadata": {},
   "source": [
    "### Create 2 tables for current month and previous month with lag([col], [val]) over(partition by ... order by ...) "
   ]
  },
  {
   "cell_type": "code",
   "execution_count": 9,
   "metadata": {
    "vscode": {
     "languageId": "sql"
    }
   },
   "outputs": [
    {
     "ename": "SyntaxError",
     "evalue": "invalid syntax (2954275414.py, line 1)",
     "output_type": "error",
     "traceback": [
      "\u001b[0;36m  Cell \u001b[0;32mIn[9], line 1\u001b[0;36m\u001b[0m\n\u001b[0;31m    WITH a AS (\u001b[0m\n\u001b[0m         ^\u001b[0m\n\u001b[0;31mSyntaxError\u001b[0m\u001b[0;31m:\u001b[0m invalid syntax\n"
     ]
    }
   ],
   "source": [
    "-- note here: lag is based on the rows, and distinct is based on the whole combination of rows\n",
    "\n",
    "WITH a AS (\n",
    "select distinct user_id, date_part('month', event_date) as aaa\n",
    "from user_actions\n",
    "),\n",
    "\n",
    "b AS (\n",
    "SELECT a.aaa as cur_mth,\n",
    "lag(aaa, 1) OVER (PARTITION BY user_id ORDER BY a.aaa ASC) as pre_mth\n",
    "FROM a)\n",
    "\n",
    "SELECT cur_mth as mth,\n",
    "COUNT(*) as count\n",
    "FROM b\n",
    "WHERE cur_mth - pre_mth = 1\n",
    "AND cur_mth = 7\n",
    "GROUP BY cur_mth\n",
    ";"
   ]
  },
  {
   "cell_type": "markdown",
   "metadata": {
    "vscode": {
     "languageId": "sql"
    }
   },
   "source": [
    "### 1. Median: Percentile_cont(0.5) (postgresql only) 2. Create number of rows based on frequency using recursive method"
   ]
  },
  {
   "cell_type": "code",
   "execution_count": null,
   "metadata": {
    "vscode": {
     "languageId": "sql"
    }
   },
   "outputs": [],
   "source": [
    "-- flatten the table\n",
    "with recursive nums as (\n",
    "    SELECT \n",
    "        1 as value, \n",
    "        searches,\n",
    "        num_users\n",
    "    FROM search_frequency\n",
    "    union all \n",
    "    SELECT \n",
    "        value + 1 as value,\n",
    "        searches,\n",
    "        num_users\n",
    "    WHERE value < num_users\n",
    ")\n",
    "-- find median (for postgresql)\n",
    "select round(percentile_cont(0.5) within group(order by searches::decimal), 1) as median\n",
    "FROM nums"
   ]
  },
  {
   "cell_type": "markdown",
   "metadata": {},
   "source": [
    "### create number from 1 to 5 (recursive method)"
   ]
  },
  {
   "cell_type": "code",
   "execution_count": null,
   "metadata": {
    "vscode": {
     "languageId": "sql"
    }
   },
   "outputs": [],
   "source": [
    "WITH RECURSIVE numbers AS (\n",
    "  SELECT 1 AS n\n",
    "  UNION ALL\n",
    "  SELECT n + 1 FROM numbers WHERE n < 5 -- Adjust the end value as needed\n",
    ")\n",
    "SELECT n FROM numbers;"
   ]
  },
  {
   "cell_type": "markdown",
   "metadata": {},
   "source": [
    "### Cross join to make combination of the same table"
   ]
  },
  {
   "cell_type": "code",
   "execution_count": null,
   "metadata": {
    "vscode": {
     "languageId": "sql"
    }
   },
   "outputs": [],
   "source": [
    "-- where statement make the combination unique\n",
    "SELECT \n",
    "  concat(p1.topping_name, ',', p2.topping_name, ',', p3.topping_name) as pizza,\n",
    "  p1.ingredient_cost + p2.ingredient_cost + p3.ingredient_cost as total_cost\n",
    "FROM pizza_toppings AS p1\n",
    "cross join\n",
    "  pizza_toppings as p2,\n",
    "  pizza_toppings as p3\n",
    "where p1.topping_name < p2.topping_name\n",
    "AND p2.topping_name < p3.topping_name\n",
    "ORDER BY total_cost DESC, pizza ASC;"
   ]
  },
  {
   "cell_type": "markdown",
   "metadata": {},
   "source": [
    "### RegexP_Like() in where statement"
   ]
  },
  {
   "cell_type": "code",
   "execution_count": null,
   "metadata": {
    "vscode": {
     "languageId": "sql"
    }
   },
   "outputs": [],
   "source": [
    "SELECT name\n",
    "FROM employees\n",
    "WHERE REGEXP_LIKE(name, '^J.*');"
   ]
  },
  {
   "cell_type": "markdown",
   "metadata": {},
   "source": [
    "### Nested case when (if statement) to exchange seat"
   ]
  },
  {
   "cell_type": "code",
   "execution_count": null,
   "metadata": {
    "vscode": {
     "languageId": "sql"
    }
   },
   "outputs": [],
   "source": [
    "SELECT \n",
    "    CASE\n",
    "        WHEN id < (SELECT MAX(id) FROM seat) THEN\n",
    "            CASE\n",
    "                WHEN id % 2 = 0 THEN id - 1\n",
    "                ELSE id + 1\n",
    "            END\n",
    "        ELSE\n",
    "            CASE\n",
    "                WHEN id % 2 = 0 THEN id - 1\n",
    "                ELSE id\n",
    "            END\n",
    "    END AS id,\n",
    "    student\n",
    "FROM seat\n",
    "ORDER BY id;\n"
   ]
  },
  {
   "cell_type": "markdown",
   "metadata": {},
   "source": [
    "# Great advanced practices"
   ]
  },
  {
   "cell_type": "markdown",
   "metadata": {},
   "source": [
    "### Retrieve top 5 highest salary employee in each department"
   ]
  },
  {
   "cell_type": "code",
   "execution_count": null,
   "metadata": {
    "vscode": {
     "languageId": "sql"
    }
   },
   "outputs": [],
   "source": [
    "with t1 as (\n",
    "    select \n",
    "        department,\n",
    "        employee,\n",
    "        salary,\n",
    "        row_number() over (partition by department order by salary desc) as rank\n",
    "    from employees\n",
    ")\n",
    "\n",
    "select\n",
    "    department,\n",
    "    employee,\n",
    "    salary\n",
    "from t1\n",
    "where rank <= 5;"
   ]
  },
  {
   "cell_type": "markdown",
   "metadata": {},
   "source": [
    "### Calculate total sales for each month of the current year (including months with zero sales)\n",
    "### This is for postgresql (generate_series(), date_trunc(), current_date), otherwise you need to use recursive for mysql"
   ]
  },
  {
   "cell_type": "markdown",
   "metadata": {},
   "source": [
    "  sale_date  \n",
    "------------\n",
    " 2023-01-01\n",
    " 2023-02-01\n",
    " 2023-03-01\n",
    " 2023-04-01\n",
    " 2023-05-01\n",
    " 2023-06-01\n",
    " 2023-07-01\n",
    " 2023-08-01\n",
    " 2023-09-01\n",
    " 2023-10-01\n",
    " 2023-11-01\n",
    " 2023-12-01\n",
    "(12 rows)\n"
   ]
  },
  {
   "cell_type": "code",
   "execution_count": null,
   "metadata": {
    "vscode": {
     "languageId": "sql"
    }
   },
   "outputs": [],
   "source": [
    "-- this cte is to generate the month table that has all the month\n",
    "with t1 as (\n",
    "    generate_series(\n",
    "        date_trunc('year', current_date), -- from when (beginning of the year)\n",
    "        date_trunc('year', current_date) + interval '1 year' - interval '1 day', -- to when (end of the year)\n",
    "        interval '1 month' -- interval\n",
    "    ) as month_date\n",
    ")\n",
    "\n",
    "select \n",
    "    to_char(t1.month_date, 'YYYY-MM') as month,\n",
    "    coalesce(sum(sales.sales), 0) as monthly sales\n",
    "from \n",
    "    t1 \n",
    "left join sales on to_char(t1.month_date, 'YYYY-MM') = to_char(sales.sales_date, 'YYYY-MM')\n",
    "group by month;"
   ]
  },
  {
   "cell_type": "markdown",
   "metadata": {},
   "source": [
    "### Find customers who have made a purchase every month for last six months\n",
    "### date_trunc() only used in postgresql\n",
    "### DATE_FORMAT(your_date_column, '%Y-%m-01') is the version in MySQL"
   ]
  },
  {
   "cell_type": "code",
   "execution_count": 3,
   "metadata": {
    "vscode": {
     "languageId": "sql"
    }
   },
   "outputs": [
    {
     "ename": "SyntaxError",
     "evalue": "invalid syntax (1943954009.py, line 1)",
     "output_type": "error",
     "traceback": [
      "\u001b[0;36m  Cell \u001b[0;32mIn[3], line 1\u001b[0;36m\u001b[0m\n\u001b[0;31m    --- date_trunc() vs. date_part()\u001b[0m\n\u001b[0m                     ^\u001b[0m\n\u001b[0;31mSyntaxError\u001b[0m\u001b[0;31m:\u001b[0m invalid syntax\n"
     ]
    }
   ],
   "source": [
    "--- date_trunc vs. date_part\n",
    "--- https://stackoverflow.com/questions/75389458/when-to-use-date-trunc-vs-date-part\n",
    "\n",
    "select \n",
    "    customer_id\n",
    "from\n",
    "    purchase\n",
    "where\n",
    "    date_trunc('month', purchase_date) - interval '1 month' <= 6\n",
    "group by \n",
    "    customer_id\n",
    "having\n",
    "    count(distinct date_trunc('month', purchase_date)) = 6;"
   ]
  },
  {
   "cell_type": "markdown",
   "metadata": {},
   "source": [
    "### Calculate running total of sales for each day within the past month\n",
    "### 1. generate_series() is only in postgresql\n",
    "### 2. generate_series() is same as using recursive call in mysql"
   ]
  },
  {
   "cell_type": "code",
   "execution_count": null,
   "metadata": {
    "vscode": {
     "languageId": "sql"
    }
   },
   "outputs": [],
   "source": [
    "-- use cte to create date table\n",
    "with t1 as (\n",
    "    generate_series(\n",
    "        date_trunc('month', current_date) - interval '1 month', -- from when\n",
    "        date_trunc('month', current_date) - interval '1 day', -- to when (inclusive)\n",
    "        interval '1 day' -- interval\n",
    "    ) as date\n",
    ")\n",
    "select\n",
    "    t1.date,\n",
    "    sum(coalesce(sales.sales_amount, 0)) over(order by t1.date) as running total\n",
    "from \n",
    "    t1\n",
    "left join sales on t1.date = sales.date;"
   ]
  },
  {
   "cell_type": "markdown",
   "metadata": {},
   "source": [
    "### Find the employees who manage the same number of employees as their manager"
   ]
  },
  {
   "cell_type": "code",
   "execution_count": null,
   "metadata": {
    "vscode": {
     "languageId": "sql"
    }
   },
   "outputs": [],
   "source": [
    "select\n",
    "    e1.employee_name as employee,\n",
    "    e1.managed_count as managed_count\n",
    "from \n",
    "    employees e1\n",
    "join \n",
    "    employees e2 on e1.manger_id = e2.employee_id\n",
    "where \n",
    "    e1.managed_count = e2.managed_count;"
   ]
  },
  {
   "cell_type": "markdown",
   "metadata": {},
   "source": [
    "### calculate 30-day moving average of sales for each product (range between)"
   ]
  },
  {
   "cell_type": "code",
   "execution_count": null,
   "metadata": {
    "vscode": {
     "languageId": "sql"
    }
   },
   "outputs": [],
   "source": [
    "select\n",
    "    product_id,\n",
    "    sales_date,\n",
    "    sales_amount,\n",
    "    avg(sales_amount) over (\n",
    "                    partition by product_id \n",
    "                    order by sales_date \n",
    "                    range between interval '30 days' preceding and current row) as moving_avg\n",
    "from\n",
    "    sales;"
   ]
  }
 ],
 "metadata": {
  "kernelspec": {
   "display_name": "Python 3.10.11 64-bit",
   "language": "python",
   "name": "python3"
  },
  "language_info": {
   "codemirror_mode": {
    "name": "ipython",
    "version": 3
   },
   "file_extension": ".py",
   "mimetype": "text/x-python",
   "name": "python",
   "nbconvert_exporter": "python",
   "pygments_lexer": "ipython3",
   "version": "3.10.11"
  },
  "orig_nbformat": 4,
  "vscode": {
   "interpreter": {
    "hash": "aee8b7b246df8f9039afb4144a1f6fd8d2ca17a180786b69acc140d282b71a49"
   }
  }
 },
 "nbformat": 4,
 "nbformat_minor": 2
}
