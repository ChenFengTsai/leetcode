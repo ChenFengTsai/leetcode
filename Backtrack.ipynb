{
 "cells": [
  {
   "cell_type": "markdown",
   "metadata": {},
   "source": [
    "### K-th Symbol in Grammar (Recursion)"
   ]
  },
  {
   "cell_type": "code",
   "execution_count": null,
   "metadata": {},
   "outputs": [],
   "source": [
    "import math\n",
    "class Solution(object):\n",
    "    def kthGrammar(self, n, k):\n",
    "        \"\"\"\n",
    "        :type n: int\n",
    "        :type k: int\n",
    "        :rtype: int\n",
    "        \"\"\"\n",
    "        if n == 1:\n",
    "            return 0\n",
    "        parent = self.kthGrammar(n-1, math.ceil(float(k)/2))\n",
    "        if k%2 == 0:\n",
    "            isodd = False\n",
    "        else:\n",
    "            isodd = True\n",
    "        if parent == 1: # 1 0\n",
    "            return 1 if isodd else 0\n",
    "        elif parent == 0: # 0 1\n",
    "            return 0 if isodd else 1"
   ]
  },
  {
   "cell_type": "markdown",
   "metadata": {},
   "source": [
    "### Generate Parentheses (backtrack)"
   ]
  },
  {
   "cell_type": "code",
   "execution_count": null,
   "metadata": {},
   "outputs": [],
   "source": [
    "class Solution(object):\n",
    "    def generateParenthesis(self, n):\n",
    "        \"\"\"\n",
    "        :type n: int\n",
    "        :rtype: List[str]\n",
    "        \"\"\"\n",
    "        self.result = []\n",
    "        self.n = n\n",
    "        self.gen(0, 0, \"\")\n",
    "        return self.result\n",
    "    \n",
    "    def gen(self, open, closed, temp):\n",
    "        if open == self.n and closed == self.n:\n",
    "            self.result.append(temp)\n",
    "            return \n",
    "        if open < self.n:\n",
    "            self.gen(open + 1, closed, temp + '(')\n",
    "        if closed < open:\n",
    "            self.gen(open, closed + 1, temp + ')')"
   ]
  },
  {
   "cell_type": "markdown",
   "metadata": {},
   "source": [
    "### Permutations (in any order)"
   ]
  },
  {
   "cell_type": "code",
   "execution_count": null,
   "metadata": {},
   "outputs": [],
   "source": [
    "class Solution:\n",
    "    def permute(self, nums):\n",
    "        ans = []\n",
    "        used = [False]*len(nums)\n",
    "        \n",
    "        def dfs(path):\n",
    "            if len(path) == len(nums):\n",
    "                ans.append(path[:])\n",
    "                return\n",
    "            for i in range(len(nums)):\n",
    "                if nums[i]:\n",
    "                    continue\n",
    "                path.append(nums[i])\n",
    "                used[i] = True\n",
    "                dfs(path)\n",
    "                path.pop()\n",
    "                used[i] = False\n",
    "        dfs([])\n",
    "        return ans   "
   ]
  },
  {
   "cell_type": "markdown",
   "metadata": {},
   "source": [
    "### Subsets (backtrack similar to above permutation but more condition)"
   ]
  },
  {
   "cell_type": "code",
   "execution_count": null,
   "metadata": {},
   "outputs": [],
   "source": [
    "class Solution(object):\n",
    "    def subsets(self, nums):\n",
    "        \"\"\"\n",
    "        :type nums: List[int]\n",
    "        :rtype: List[List[int]]\n",
    "        \"\"\"\n",
    "        res = []\n",
    "        def dfs(path, size):\n",
    "            if len(path) == size:\n",
    "                res.append(path[:])\n",
    "                return\n",
    "            for j in range(len(nums)):\n",
    "                if used[j]:\n",
    "                    continue\n",
    "                if path and nums[j] < path[-1]:\n",
    "                    continue\n",
    "                path.append(nums[j])\n",
    "                used[j] = True\n",
    "                dfs(path, size)\n",
    "                path.pop()\n",
    "                used[j] = False\n",
    "        \n",
    "        for i in range(0, len(nums)+1):\n",
    "            used = [False]*len(nums)\n",
    "            dfs([], i)\n",
    "        return res"
   ]
  }
 ],
 "metadata": {
  "kernelspec": {
   "display_name": "Python 3.10.11 64-bit",
   "language": "python",
   "name": "python3"
  },
  "language_info": {
   "name": "python",
   "version": "3.10.11"
  },
  "orig_nbformat": 4,
  "vscode": {
   "interpreter": {
    "hash": "aee8b7b246df8f9039afb4144a1f6fd8d2ca17a180786b69acc140d282b71a49"
   }
  }
 },
 "nbformat": 4,
 "nbformat_minor": 2
}
