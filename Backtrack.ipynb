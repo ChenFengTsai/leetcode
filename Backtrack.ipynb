{
 "cells": [
  {
   "cell_type": "markdown",
   "metadata": {},
   "source": [
    "### Generate Parentheses (backtrack)"
   ]
  },
  {
   "cell_type": "code",
   "execution_count": null,
   "metadata": {},
   "outputs": [],
   "source": [
    "# Input: n = 3\n",
    "# Output: [\"((()))\",\"(()())\",\"(())()\",\"()(())\",\"()()()\"]\n",
    "class Solution(object):\n",
    "    def generateParenthesis(self, n):\n",
    "        \"\"\"\n",
    "        :type n: int\n",
    "        :rtype: List[str]\n",
    "        \"\"\"\n",
    "        self.result = []\n",
    "        self.n = n\n",
    "        self.gen(0, 0, [])\n",
    "        return self.result\n",
    "\n",
    "    def gen(self, open, closed, stack):\n",
    "        if open == self.n and closed == self.n:\n",
    "            self.result.append(\"\".join(stack))\n",
    "            return\n",
    "        if open < self.n:\n",
    "            stack.append(\"(\")\n",
    "            self.gen(open + 1, closed, stack)\n",
    "            stack.pop()  # Backtrack by removing the last choice\n",
    "        if closed < open:\n",
    "            stack.append(\")\")\n",
    "            self.gen(open, closed + 1, stack)\n",
    "            stack.pop()  # Backtrack by removing the last choice\n"
   ]
  },
  {
   "cell_type": "markdown",
   "metadata": {},
   "source": [
    "### Permutations (in any order)"
   ]
  },
  {
   "cell_type": "code",
   "execution_count": null,
   "metadata": {},
   "outputs": [],
   "source": [
    "class Solution(object):\n",
    "    def permute(self, nums):\n",
    "        \"\"\"\n",
    "        :type nums: List[int]\n",
    "        :rtype: List[List[int]]\n",
    "        \"\"\"\n",
    "        self.ans = []\n",
    "        self.nums = nums\n",
    "        used = [False] * len(nums)\n",
    "        self.backtrack(used, [])\n",
    "        return self.ans\n",
    "\n",
    "    def backtrack(self, used, temp):\n",
    "        if len(temp) == len(self.nums):\n",
    "            self.ans.append(temp[:])\n",
    "            return\n",
    "\n",
    "        for i in range(len(self.nums)):\n",
    "            if not used[i]:\n",
    "                used[i] = True\n",
    "                temp.append(self.nums[i])\n",
    "                self.backtrack(used, temp)\n",
    "                temp.pop()\n",
    "                used[i] = False"
   ]
  },
  {
   "cell_type": "markdown",
   "metadata": {},
   "source": [
    "### Subsets (backtrack similar to above permutation but more condition)"
   ]
  },
  {
   "cell_type": "code",
   "execution_count": 1,
   "metadata": {},
   "outputs": [],
   "source": [
    "class Solution(object):\n",
    "    def subsets(self, nums):\n",
    "        \"\"\"\n",
    "        :type nums: List[int]\n",
    "        :rtype: List[List[int]]\n",
    "        \"\"\"\n",
    "        self.res = []\n",
    "        self.nums = nums\n",
    "        track = -1\n",
    "        for i in range(len(nums)+1):\n",
    "            self.backtrack([], i, track)\n",
    "        return self.res\n",
    "\n",
    "    def backtrack(self, temp, size, track):\n",
    "        if len(temp) == size:\n",
    "            self.res.append(temp[:])\n",
    "            return\n",
    "\n",
    "        for j in range(len(self.nums)):\n",
    "            if j > track:\n",
    "                temp.append(self.nums[j])\n",
    "                self.backtrack(temp, size, j)\n",
    "                temp.pop()"
   ]
  },
  {
   "cell_type": "markdown",
   "metadata": {},
   "source": [
    "### Word Search (Also look in Trie if there are multiple words)"
   ]
  },
  {
   "cell_type": "code",
   "execution_count": null,
   "metadata": {},
   "outputs": [],
   "source": [
    "# Input: board = [[\"A\",\"B\",\"C\",\"E\"],[\"S\",\"F\",\"C\",\"S\"],[\"A\",\"D\",\"E\",\"E\"]], word = \"ABCCED\"\n",
    "# Output: true\n",
    "class Solution(object):\n",
    "    def exist(self, board, word):\n",
    "        \"\"\"\n",
    "        :type board: List[List[str]]\n",
    "        :type word: str\n",
    "        :rtype: bool\n",
    "        \"\"\"\n",
    "        self.visited = set()\n",
    "        self.word = word\n",
    "        self.board = board\n",
    "        for r in range(len(self.board)):\n",
    "            for c in range(len(self.board[0])):\n",
    "                if self.backtrack(r,c,0):\n",
    "                    return True\n",
    "        return False\n",
    "    \n",
    "    def backtrack(self, r, c, i):\n",
    "        if i == len(self.word):\n",
    "            return True\n",
    "        if r<0 or c<0 or r>=len(self.board) or c>= len(self.board[0])\\\n",
    "            or (r,c) in self.visited or self.word[i] != self.board[r][c]:\n",
    "            return False\n",
    "        self.visited.add((r,c))\n",
    "        res = (self.backtrack(r+1,c,i+1)) or (self.backtrack(r-1,c,i+1)) or\\\n",
    "            (self.backtrack(r,c+1,i+1)) or (self.backtrack(r,c-1,i+1))\n",
    "        self.visited.remove((r,c))\n",
    "        return res"
   ]
  },
  {
   "cell_type": "markdown",
   "metadata": {},
   "source": [
    "### Word Break II"
   ]
  },
  {
   "cell_type": "code",
   "execution_count": 1,
   "metadata": {},
   "outputs": [],
   "source": [
    "# Time complexity : O(n^2 * m) due to n + (n-1) + (n-2) +...+1 which is n^2\n",
    "# Space:  O(n^2) due to all posible combo (dont need to *m since there are duplicate)\n",
    "class Solution(object):\n",
    "    def __init__(self):\n",
    "        # used to reduce duplicate operation\n",
    "        # cannot use defaultdict since it will return true if key is not there\n",
    "        # and recursion will not end\n",
    "        self.memo = dict()\n",
    "\n",
    "    def wordBreak(self, s, wordDict):\n",
    "        \"\"\"\n",
    "        :type s: str\n",
    "        :type wordDict: Set[str]\n",
    "        :rtype: List[str]\n",
    "        \"\"\"\n",
    "        self.wordDict = wordDict\n",
    "        return self.helper(s)\n",
    "        \n",
    "    def helper(self, s):\n",
    "        if s in self.memo:\n",
    "            return self.memo[s]\n",
    "        if not s:\n",
    "            return []\n",
    "        \n",
    "        # re-initialized everytime so we not getting past record\n",
    "        res = []\n",
    "        for word in self.wordDict:\n",
    "            if not s.startswith(word):\n",
    "                continue\n",
    "            # the last word\n",
    "            elif s.startswith(word) and len(word) == len(s):\n",
    "                res.append(word)\n",
    "            else:\n",
    "                resOfRest = self.helper(s[len(word):])\n",
    "                for combo in resOfRest:\n",
    "                    combo = word + \" \" + combo\n",
    "                    res.append(combo)\n",
    "        self.memo[s] = res\n",
    "        return res"
   ]
  },
  {
   "cell_type": "markdown",
   "metadata": {},
   "source": [
    "### N-Queens"
   ]
  },
  {
   "cell_type": "code",
   "execution_count": null,
   "metadata": {},
   "outputs": [],
   "source": [
    "# cannot have other Q in same row, column, two diagnal\n",
    "class Solution:\n",
    "    def solveNQueens(self, n):\n",
    "        board = [['.']*n for j in range(n)]\n",
    "        col = set()\n",
    "        pos_diag = set()\n",
    "        neg_diag = set()\n",
    "        ret = []\n",
    "\n",
    "        def backtrack(r):\n",
    "            if r == n:\n",
    "                res = [''.join(row) for row in board]\n",
    "                ret.append(res)\n",
    "                return\n",
    "            for c in range(n):\n",
    "                if c in col or (r+c) in pos_diag or (r-c) in neg_diag:\n",
    "                    continue\n",
    "                else:\n",
    "                    col.add(c)\n",
    "                    pos_diag.add(r+c)\n",
    "                    neg_diag.add(r-c)\n",
    "                    board[r][c] = 'Q'\n",
    "                    backtrack(r+1)\n",
    "                    col.remove(c)\n",
    "                    pos_diag.remove(r+c)\n",
    "                    neg_diag.remove(r-c)\n",
    "                    board[r][c] = '.'\n",
    "        backtrack(0)\n",
    "        return ret"
   ]
  },
  {
   "cell_type": "markdown",
   "metadata": {},
   "source": [
    "### Sudoku Solver"
   ]
  },
  {
   "cell_type": "code",
   "execution_count": null,
   "metadata": {},
   "outputs": [],
   "source": [
    "class Solution:\n",
    "    def solveSudoku(self, board):\n",
    "        self.board = board\n",
    "        self.solve()\n",
    "    \n",
    "    def isValid(self, row, col, char):\n",
    "        for i in range(9):\n",
    "            if self.board[i][col] == char \\\n",
    "                or self.board[row][i] == char\\\n",
    "                or self.board[3*(row//3)+i//3][3*(col//3)+i%3] == char:\n",
    "                return False\n",
    "        return True\n",
    "\n",
    "\n",
    "    def solve(self):\n",
    "        for i in range(9):\n",
    "            for j in range(9):\n",
    "                if self.board[i][j] == '.':\n",
    "                    for c in range(1,10):\n",
    "                        if self.isValid(i, j, str(c)):\n",
    "                            self.board[i][j] = str(c)\n",
    "                            if self.solve():\n",
    "                                return True\n",
    "                            else:\n",
    "                                self.board[i][j] = '.'\n",
    "                    return False\n",
    "        return True"
   ]
  },
  {
   "cell_type": "markdown",
   "metadata": {},
   "source": [
    "### Expression Add Operators"
   ]
  },
  {
   "cell_type": "code",
   "execution_count": null,
   "metadata": {},
   "outputs": [],
   "source": [
    "class Solution:\n",
    "    def addOperators(self, num, target):\n",
    "        num_l = len(num)\n",
    "        res = []\n",
    "        def dfs(start_idx, path, prev, total):\n",
    "            # stop condition\n",
    "            if start_idx == num_l:\n",
    "                if total == target:\n",
    "                    res.append(path)\n",
    "                return\n",
    "            for end_idx in range(start_idx, num_l):\n",
    "                # if it is more than one digit number then dontconsider condition like \"01....\"\n",
    "                if end_idx > start_idx and num[start_idx] == '0':\n",
    "                    break\n",
    "                curr_num = int(num[start_idx:end_idx+1])\n",
    "\n",
    "                if start_idx == 0:\n",
    "                    dfs(end_idx+1, str(curr_num), curr_num, curr_num)\n",
    "                else:\n",
    "                    dfs(end_idx+1, path+'+'+str(curr_num), curr_num, total+curr_num)\n",
    "                    dfs(end_idx+1, path+'-'+str(curr_num), -curr_num, total-curr_num)\n",
    "                    dfs(end_idx+1, path+'*'+str(curr_num), prev*curr_num, total-prev+(prev*curr_num))\n",
    "        dfs(0,'',0,0)\n",
    "        return res      "
   ]
  },
  {
   "cell_type": "markdown",
   "metadata": {},
   "source": [
    "### Robot Room Cleaner"
   ]
  },
  {
   "cell_type": "code",
   "execution_count": null,
   "metadata": {},
   "outputs": [],
   "source": [
    "class Solution:\n",
    "    def cleanRoom(self, robot):\n",
    "        \"\"\"\n",
    "        :type robot: Robot\n",
    "        :rtype: None\n",
    "        \"\"\"\n",
    "        directions = [(-1,0), (0,1), (1,0), (0,-1)]\n",
    "        visited = set()\n",
    "        def backtrack(x, y, direction):\n",
    "            visited.add((x, y))\n",
    "            robot.clean()\n",
    "            for i in range(len(directions)):\n",
    "                new_d = (direction + i) % 4\n",
    "                new_x = x + new_d[0]\n",
    "                new_y = y + new_d[1]\n",
    "                if (new_x, new_y) not in visited and robot.move():\n",
    "                    backtrack(new_x, new_y, new_d)\n",
    "                    # move back one step\n",
    "                    robot.turnRight()\n",
    "                    robot.turnRight()\n",
    "                    robot.move()\n",
    "                    robot.turnRight()\n",
    "                    robot.turnRight()\n",
    "                    \n",
    "                robot.turnRight()\n",
    "        backtrack(0,0,0)\n",
    "                "
   ]
  }
 ],
 "metadata": {
  "kernelspec": {
   "display_name": "Python 3.10.11 64-bit",
   "language": "python",
   "name": "python3"
  },
  "language_info": {
   "codemirror_mode": {
    "name": "ipython",
    "version": 3
   },
   "file_extension": ".py",
   "mimetype": "text/x-python",
   "name": "python",
   "nbconvert_exporter": "python",
   "pygments_lexer": "ipython3",
   "version": "3.10.11"
  },
  "orig_nbformat": 4,
  "vscode": {
   "interpreter": {
    "hash": "aee8b7b246df8f9039afb4144a1f6fd8d2ca17a180786b69acc140d282b71a49"
   }
  }
 },
 "nbformat": 4,
 "nbformat_minor": 2
}
