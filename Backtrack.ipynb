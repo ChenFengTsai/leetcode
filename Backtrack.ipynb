{
 "cells": [
  {
   "cell_type": "markdown",
   "metadata": {},
   "source": [
    "### Generate Parentheses (backtrack)"
   ]
  },
  {
   "cell_type": "code",
   "execution_count": null,
   "metadata": {},
   "outputs": [],
   "source": [
    "# Input: n = 3\n",
    "# Output: [\"((()))\",\"(()())\",\"(())()\",\"()(())\",\"()()()\"]\n",
    "class Solution(object):\n",
    "    def generateParenthesis(self, n):\n",
    "        \"\"\"\n",
    "        :type n: int\n",
    "        :rtype: List[str]\n",
    "        \"\"\"\n",
    "        self.result = []\n",
    "        self.n = n\n",
    "        self.gen(0, 0, [])\n",
    "        return self.result\n",
    "\n",
    "    def gen(self, open, closed, stack):\n",
    "        if open == self.n and closed == self.n:\n",
    "            self.result.append(\"\".join(stack))\n",
    "            return\n",
    "        if open < self.n:\n",
    "            stack.append(\"(\")\n",
    "            self.gen(open + 1, closed, stack)\n",
    "            stack.pop()  # Backtrack by removing the last choice\n",
    "        if closed < open:\n",
    "            stack.append(\")\")\n",
    "            self.gen(open, closed + 1, stack)\n",
    "            stack.pop()  # Backtrack by removing the last choice\n"
   ]
  },
  {
   "cell_type": "markdown",
   "metadata": {},
   "source": [
    "### Permutations (in any order)"
   ]
  },
  {
   "cell_type": "code",
   "execution_count": null,
   "metadata": {},
   "outputs": [],
   "source": [
    "class Solution(object):\n",
    "    def permute(self, nums):\n",
    "        \"\"\"\n",
    "        :type nums: List[int]\n",
    "        :rtype: List[List[int]]\n",
    "        \"\"\"\n",
    "        self.ans = []\n",
    "        self.nums = nums\n",
    "        used = [False] * len(nums)\n",
    "        self.backtrack(used, [])\n",
    "        return self.ans\n",
    "\n",
    "    def backtrack(self, used, temp):\n",
    "        if len(temp) == len(self.nums):\n",
    "            self.ans.append(temp[:])\n",
    "            return\n",
    "\n",
    "        for i in range(len(self.nums)):\n",
    "            if not used[i]:\n",
    "                used[i] = True\n",
    "                temp.append(self.nums[i])\n",
    "                self.backtrack(used, temp)\n",
    "                temp.pop()\n",
    "                used[i] = False"
   ]
  },
  {
   "cell_type": "markdown",
   "metadata": {},
   "source": [
    "### Subsets (backtrack similar to above permutation but more condition)"
   ]
  },
  {
   "cell_type": "code",
   "execution_count": 1,
   "metadata": {},
   "outputs": [],
   "source": [
    "class Solution(object):\n",
    "    def subsets(self, nums):\n",
    "        \"\"\"\n",
    "        :type nums: List[int]\n",
    "        :rtype: List[List[int]]\n",
    "        \"\"\"\n",
    "        self.res = []\n",
    "        self.nums = nums\n",
    "        track = -1\n",
    "        for i in range(len(nums)+1):\n",
    "            self.backtrack([], i, track)\n",
    "        return self.res\n",
    "\n",
    "    def backtrack(self, temp, size, track):\n",
    "        if len(temp) == size:\n",
    "            self.res.append(temp[:])\n",
    "            return\n",
    "\n",
    "        for j in range(len(self.nums)):\n",
    "            if j > track:\n",
    "                temp.append(self.nums[j])\n",
    "                self.backtrack(temp, size, j)\n",
    "                temp.pop()"
   ]
  },
  {
   "cell_type": "markdown",
   "metadata": {},
   "source": [
    "### Word Search (Also look in Trie if there are multiple words)"
   ]
  },
  {
   "cell_type": "code",
   "execution_count": null,
   "metadata": {},
   "outputs": [],
   "source": [
    "# Input: board = [[\"A\",\"B\",\"C\",\"E\"],[\"S\",\"F\",\"C\",\"S\"],[\"A\",\"D\",\"E\",\"E\"]], word = \"ABCCED\"\n",
    "# Output: true\n",
    "class Solution(object):\n",
    "    def exist(self, board, word):\n",
    "        \"\"\"\n",
    "        :type board: List[List[str]]\n",
    "        :type word: str\n",
    "        :rtype: bool\n",
    "        \"\"\"\n",
    "        self.visited = set()\n",
    "        self.word = word\n",
    "        self.board = board\n",
    "        for r in range(len(self.board)):\n",
    "            for c in range(len(self.board[0])):\n",
    "                if self.backtrack(r,c,0):\n",
    "                    return True\n",
    "        return False\n",
    "    \n",
    "    def backtrack(self, r, c, i):\n",
    "        if i == len(self.word):\n",
    "            return True\n",
    "        if r<0 or c<0 or r>=len(self.board) or c>= len(self.board[0])\\\n",
    "            or (r,c) in self.visited or self.word[i] != self.board[r][c]:\n",
    "            return False\n",
    "        self.visited.add((r,c))\n",
    "        res = (self.backtrack(r+1,c,i+1)) or (self.backtrack(r-1,c,i+1)) or\\\n",
    "            (self.backtrack(r,c+1,i+1)) or (self.backtrack(r,c-1,i+1))\n",
    "        self.visited.remove((r,c))\n",
    "        return res"
   ]
  }
 ],
 "metadata": {
  "kernelspec": {
   "display_name": "Python 3.10.11 64-bit",
   "language": "python",
   "name": "python3"
  },
  "language_info": {
   "codemirror_mode": {
    "name": "ipython",
    "version": 3
   },
   "file_extension": ".py",
   "mimetype": "text/x-python",
   "name": "python",
   "nbconvert_exporter": "python",
   "pygments_lexer": "ipython3",
   "version": "3.10.11"
  },
  "orig_nbformat": 4,
  "vscode": {
   "interpreter": {
    "hash": "aee8b7b246df8f9039afb4144a1f6fd8d2ca17a180786b69acc140d282b71a49"
   }
  }
 },
 "nbformat": 4,
 "nbformat_minor": 2
}
