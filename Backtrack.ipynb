{
 "cells": [
  {
   "cell_type": "markdown",
   "metadata": {},
   "source": [
    "### K-th Symbol in Grammar (Recursion)"
   ]
  },
  {
   "cell_type": "code",
   "execution_count": 1,
   "metadata": {},
   "outputs": [],
   "source": [
    "# Input: n = 2, k = 1\n",
    "# Output: 0\n",
    "# Explanation: \n",
    "# row 1: 0\n",
    "# row 2: 01\n",
    "\n",
    "import math\n",
    "class Solution(object):\n",
    "    def kthGrammar(self, n, k):\n",
    "        \"\"\"\n",
    "        :type n: int\n",
    "        :type k: int\n",
    "        :rtype: int\n",
    "        \"\"\"\n",
    "        if n == 1:\n",
    "            return 0\n",
    "        parent = self.kthGrammar(n-1, math.ceil(float(k)/2))\n",
    "        if k%2 == 0:\n",
    "            isodd = False\n",
    "        else:\n",
    "            isodd = True\n",
    "        if parent == 1: # 1 0\n",
    "            return 1 if isodd else 0\n",
    "        elif parent == 0: # 0 1\n",
    "            return 0 if isodd else 1"
   ]
  },
  {
   "cell_type": "markdown",
   "metadata": {},
   "source": [
    "### Generate Parentheses (backtrack)"
   ]
  },
  {
   "cell_type": "code",
   "execution_count": null,
   "metadata": {},
   "outputs": [],
   "source": [
    "# Input: n = 3\n",
    "# Output: [\"((()))\",\"(()())\",\"(())()\",\"()(())\",\"()()()\"]\n",
    "class Solution(object):\n",
    "    def generateParenthesis(self, n):\n",
    "        \"\"\"\n",
    "        :type n: int\n",
    "        :rtype: List[str]\n",
    "        \"\"\"\n",
    "        self.result = []\n",
    "        self.n = n\n",
    "        self.gen(0, 0, \"\")\n",
    "        return self.result\n",
    "    \n",
    "    def gen(self, open, closed, temp):\n",
    "        if open == self.n and closed == self.n:\n",
    "            self.result.append(temp)\n",
    "            return \n",
    "        if open < self.n:\n",
    "            self.gen(open + 1, closed, temp + '(')\n",
    "        if closed < open:\n",
    "            self.gen(open, closed + 1, temp + ')')"
   ]
  },
  {
   "cell_type": "markdown",
   "metadata": {},
   "source": [
    "### Permutations (in any order)"
   ]
  },
  {
   "cell_type": "code",
   "execution_count": null,
   "metadata": {},
   "outputs": [],
   "source": [
    "class Solution(object):\n",
    "    def permute(self, nums):\n",
    "        \"\"\"\n",
    "        :type nums: List[int]\n",
    "        :rtype: List[List[int]]\n",
    "        \"\"\"\n",
    "        self.ans = []\n",
    "        self.nums = nums\n",
    "        used = [False] * len(nums)\n",
    "        self.backtrack(used, [])\n",
    "        return self.ans\n",
    "\n",
    "    def backtrack(self, used, temp):\n",
    "        if len(temp) == len(self.nums):\n",
    "            self.ans.append(temp[:])\n",
    "            return\n",
    "\n",
    "        for i in range(len(self.nums)):\n",
    "            if not used[i]:\n",
    "                used[i] = True\n",
    "                temp.append(self.nums[i])\n",
    "                self.backtrack(used, temp)\n",
    "                temp.pop()\n",
    "                used[i] = False"
   ]
  },
  {
   "cell_type": "markdown",
   "metadata": {},
   "source": [
    "### Subsets (backtrack similar to above permutation but more condition)"
   ]
  },
  {
   "cell_type": "code",
   "execution_count": 1,
   "metadata": {},
   "outputs": [],
   "source": [
    "class Solution(object):\n",
    "    def subsets(self, nums):\n",
    "        \"\"\"\n",
    "        :type nums: List[int]\n",
    "        :rtype: List[List[int]]\n",
    "        \"\"\"\n",
    "        self.res = []\n",
    "        self.nums = nums\n",
    "        used = [False]*len(nums)\n",
    "        for i in range(len(nums)+1):\n",
    "            self.backtrack(used, [], i)\n",
    "        return self.res\n",
    "\n",
    "    def backtrack(self, used, temp, size):\n",
    "        if len(temp) == size:\n",
    "            self.res.append(temp[:])\n",
    "\n",
    "        for j in range(len(self.nums)):\n",
    "            if used[j]:\n",
    "                continue\n",
    "            if temp and temp[-1] > self.nums[j]:\n",
    "                continue\n",
    "            temp.append(self.nums[j])\n",
    "            used[j] = True\n",
    "            self.backtrack(used, temp, size)\n",
    "            temp.pop()\n",
    "            used[j] = False\n",
    "            \n",
    "### More Comprehensive solution\n",
    "    def subsets_2(self, nums):\n",
    "        \"\"\"\n",
    "        :type nums: List[int]\n",
    "        :rtype: List[List[int]]\n",
    "        \"\"\"\n",
    "        self.res = []\n",
    "        self.nums = nums\n",
    "        track = -1\n",
    "        for i in range(len(nums)+1):\n",
    "            self.backtrack([], i, track)\n",
    "        return self.res\n",
    "\n",
    "    def backtrack(self, temp, size, track):\n",
    "        if len(temp) == size:\n",
    "            self.res.append(temp[:])\n",
    "            return\n",
    "\n",
    "        for j in range(len(self.nums)):\n",
    "            if j > track:\n",
    "                temp.append(self.nums[j])\n",
    "                self.backtrack(temp, size, j)\n",
    "                temp.pop()"
   ]
  },
  {
   "cell_type": "markdown",
   "metadata": {},
   "source": []
  },
  {
   "cell_type": "code",
   "execution_count": null,
   "metadata": {},
   "outputs": [],
   "source": []
  }
 ],
 "metadata": {
  "kernelspec": {
   "display_name": "Python 3.10.11 64-bit",
   "language": "python",
   "name": "python3"
  },
  "language_info": {
   "codemirror_mode": {
    "name": "ipython",
    "version": 3
   },
   "file_extension": ".py",
   "mimetype": "text/x-python",
   "name": "python",
   "nbconvert_exporter": "python",
   "pygments_lexer": "ipython3",
   "version": "3.10.11"
  },
  "orig_nbformat": 4,
  "vscode": {
   "interpreter": {
    "hash": "aee8b7b246df8f9039afb4144a1f6fd8d2ca17a180786b69acc140d282b71a49"
   }
  }
 },
 "nbformat": 4,
 "nbformat_minor": 2
}
