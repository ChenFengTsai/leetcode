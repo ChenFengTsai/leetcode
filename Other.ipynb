{
 "cells": [
  {
   "cell_type": "markdown",
   "metadata": {},
   "source": [
    "### K-th Symbol in Grammar (Recursion)"
   ]
  },
  {
   "cell_type": "code",
   "execution_count": null,
   "metadata": {},
   "outputs": [],
   "source": [
    "class Solution(object):\n",
    "    def kthGrammar(self, n, k):\n",
    "        \"\"\"\n",
    "        :type n: int\n",
    "        :type k: int\n",
    "        :rtype: int\n",
    "        \"\"\"\n",
    "        if n == 1:\n",
    "            return 0\n",
    "        parent = self.kthGrammar(n-1, math.ceil(float(k)/2))\n",
    "        if k%2 == 0:\n",
    "            isodd = False\n",
    "        else:\n",
    "            isodd = True\n",
    "        if parent == 1: # 1 0\n",
    "            return 1 if isodd else 0\n",
    "        elif parent == 0: # 0 1\n",
    "            return 0 if isodd else 1"
   ]
  }
 ],
 "metadata": {
  "language_info": {
   "name": "python"
  },
  "orig_nbformat": 4
 },
 "nbformat": 4,
 "nbformat_minor": 2
}
