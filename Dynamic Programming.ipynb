{
 "cells": [
  {
   "cell_type": "markdown",
   "id": "6beb47ae-e7ba-4f37-aabd-911c350e8a9b",
   "metadata": {},
   "source": [
    "# Dynamic Programming"
   ]
  },
  {
   "cell_type": "markdown",
   "id": "a6e559c0-f789-43fb-be14-729db9e0b9b9",
   "metadata": {},
   "source": [
    "### Find Longest Subsequence with Increasing order"
   ]
  },
  {
   "cell_type": "code",
   "execution_count": null,
   "id": "aa120734-2c7b-4aa1-a62e-97aa7a8a66a3",
   "metadata": {},
   "outputs": [],
   "source": [
    "### in array doc"
   ]
  },
  {
   "cell_type": "markdown",
   "id": "83c6e0f4-13a8-45b4-a212-886987a3bb14",
   "metadata": {
    "tags": []
   },
   "source": [
    "### Number of Unique BST with a given key"
   ]
  },
  {
   "cell_type": "code",
   "execution_count": null,
   "id": "719df8ea-abea-405d-819a-8f79c2781d3d",
   "metadata": {},
   "outputs": [],
   "source": [
    "# https://www.youtube.com/watch?v=OIc0mHgHUww&t=300s&ab_channel=TECHDOSE\n",
    "def numberOfBST(n):\n",
    " \n",
    "    # DP to store the number of unique\n",
    "    # BST with key i\n",
    "    dp = [0] * (n + 1)\n",
    " \n",
    "    # Base case\n",
    "    dp[0], dp[1] = 1, 1\n",
    " \n",
    "    # i is how many nodes\n",
    "    # j is to control how many nodes on both sides\n",
    "    # start from 2 since we already check if there is only one node already\n",
    "    for i in range(2, n + 1):\n",
    "        # total is the number of BST combination with i number of nodes\n",
    "        total = 0\n",
    "        for j in range(0, i):\n",
    "            left = j\n",
    "            right = i-j-1\n",
    "            total += dp[left]*dp[right]\n",
    "        dp[i] = total\n",
    "    return dp[n]  "
   ]
  },
  {
   "cell_type": "markdown",
   "id": "4128d5ad-2bf9-4ea2-ac8a-2b5c79269f37",
   "metadata": {},
   "source": [
    "### Maximum Product Subarray"
   ]
  },
  {
   "cell_type": "code",
   "execution_count": null,
   "id": "aef5d1b8-6ee6-478c-8b51-a4d4b6180595",
   "metadata": {},
   "outputs": [],
   "source": [
    "### look into w1_sequences"
   ]
  },
  {
   "cell_type": "markdown",
   "id": "d705bc6d",
   "metadata": {},
   "source": [
    "### Climbing Stairs\n"
   ]
  },
  {
   "cell_type": "code",
   "execution_count": null,
   "id": "0282a9d7",
   "metadata": {},
   "outputs": [],
   "source": [
    "# Input: n = 2\n",
    "# Output: 2\n",
    "# Explanation: There are two ways to climb to the top.\n",
    "# 1. 1 step + 1 step\n",
    "# 2. 2 steps\n",
    "# Each time you can either climb 1 or 2 steps.\n",
    "\n",
    "class Solution(object):\n",
    "    def climbStairs(self, n):\n",
    "        \"\"\"\n",
    "        :type n: int\n",
    "        :rtype: int\n",
    "        \"\"\"\n",
    "        dp = [0]*(n+1)\n",
    "        dp[0], dp[1] = 1, 1\n",
    "        \n",
    "        for i in range(2, n+1):\n",
    "            dp[i] = dp[i-1] + dp[i-2]\n",
    "        return dp[n]"
   ]
  },
  {
   "cell_type": "markdown",
   "id": "0c5f268f",
   "metadata": {},
   "source": [
    "### Coin Change\n"
   ]
  },
  {
   "cell_type": "code",
   "execution_count": null,
   "id": "8d984f56",
   "metadata": {},
   "outputs": [],
   "source": [
    "# Input: coins = [1,2,5], amount = 11\n",
    "# Output: 3\n",
    "# Explanation: 11 = 5 + 5 + 1\n",
    "# Return the fewest number of coins that you need to make up that amount.\n",
    "class Solution(object):\n",
    "    def coinChange(self, coins, amount):\n",
    "        \"\"\"\n",
    "        :type coins: List[int]\n",
    "        :type amount: int\n",
    "        :rtype: int\n",
    "        \"\"\"\n",
    "        dp = [float('inf')]*(amount+1)\n",
    "        dp[0] = 0\n",
    "        for a in range(1, amount+1):\n",
    "            for c in coins:\n",
    "                if a-c >= 0:\n",
    "                    # update the fewest coin by looping through each coin you have\n",
    "                    dp[a] = min(dp[a], 1+dp[a-c])\n",
    "        return dp[amount] if dp[amount] != float('inf') else -1"
   ]
  },
  {
   "cell_type": "markdown",
   "id": "4a8d1795",
   "metadata": {},
   "source": [
    "### Combination Sum IV\n"
   ]
  },
  {
   "cell_type": "code",
   "execution_count": null,
   "id": "00d18fdb",
   "metadata": {},
   "outputs": [],
   "source": [
    "# Input: nums = [1,2,3], target = 4\n",
    "# Output: 7\n",
    "# Explanation:\n",
    "# The possible combination ways are:\n",
    "# (1, 1, 1, 1)\n",
    "# (1, 1, 2)\n",
    "# (1, 2, 1)\n",
    "# (1, 3)\n",
    "# (2, 1, 1)\n",
    "# (2, 2)\n",
    "# (3, 1)\n",
    "# Note that different sequences are counted as different combinations.\n",
    "\n",
    "class Solution(object):\n",
    "    def combinationSum4(self, nums, target):\n",
    "        \"\"\"\n",
    "        :type nums: List[int]\n",
    "        :type target: int\n",
    "        :rtype: int\n",
    "        \"\"\"\n",
    "        dp = {0: 1}\n",
    "        for total in range(1, target+1):\n",
    "            dp[total] = 0\n",
    "            for n in nums:\n",
    "                # if not exist in dp dic, get 0\n",
    "                dp[total] += dp.get(total-n, 0)\n",
    "        return dp[target]\n",
    "    \n",
    "    ### Another way using list, which is same as above question\n",
    "    def combinationSum4(self, nums, target):\n",
    "        dp = [0]*(target+1)\n",
    "        dp[0] = 1\n",
    "        for total in range(1, target+1):\n",
    "            for n in nums:\n",
    "                # if not exist in dp dic, get 0\n",
    "                if total-n >= 0:\n",
    "                    dp[total] += dp[total-n]\n",
    "        return dp[target]"
   ]
  },
  {
   "cell_type": "markdown",
   "id": "8d014a39",
   "metadata": {},
   "source": [
    "### House Robber\n"
   ]
  },
  {
   "cell_type": "code",
   "execution_count": null,
   "id": "ee11e59b",
   "metadata": {},
   "outputs": [],
   "source": [
    "# Given an integer array nums representing the amount of money of each house, \n",
    "# return the maximum amount of money you can rob tonight \n",
    "# without alerting the police(if two adjacent houses were broken into on the same night.).\n",
    "\n",
    "# Input: nums = [1,2,3,1]\n",
    "# Output: 4\n",
    "# Explanation: Rob house 1 (money = 1) and then rob house 3 (money = 3).\n",
    "# Total amount you can rob = 1 + 3 = 4.\n",
    "\n",
    "class Solution(object):\n",
    "    def rob(self, nums):\n",
    "        \"\"\"\n",
    "        :type nums: List[int]\n",
    "        :rtype: int\n",
    "        \"\"\"\n",
    "        rob1, rob2 = 0, 0\n",
    "\n",
    "        # [rob1, rob2, n, ...]\n",
    "        for n in nums:\n",
    "            temp = max(rob1 + n, rob2)\n",
    "            rob1 = rob2\n",
    "            rob2 = temp\n",
    "        return rob2\n",
    "    \n",
    "    # another approach that is more similar to the above practice by saving processes\n",
    "    def rob(self, nums):\n",
    "        n = len(nums)\n",
    "        r = [0]*(n+2)\n",
    "        r[0], r[1] = 0, 0\n",
    "\n",
    "        # [rob1, rob2, n, ...]\n",
    "        for i in range(2, n+2):\n",
    "            r[i] = max(r[i-2]+nums[i-2], r[i-1])\n",
    "        return r[-1]"
   ]
  },
  {
   "cell_type": "markdown",
   "id": "c4a1eda4",
   "metadata": {},
   "source": [
    "### House Robber II"
   ]
  },
  {
   "cell_type": "code",
   "execution_count": null,
   "id": "6ebc3bf4",
   "metadata": {},
   "outputs": [],
   "source": [
    "#  All houses at this place are arranged in a circle. That means the first house is the neighbor of the last one.\n",
    "class Solution(object):\n",
    "    def rob(self, nums):\n",
    "        \"\"\"\n",
    "        :type nums: List[int]\n",
    "        :rtype: int\n",
    "        \"\"\"\n",
    "        return max(nums[0], self.helper(nums[1:]), self.helper(nums[:-1]))\n",
    "        \n",
    "    # from house robber I\n",
    "    def helper(self, nums):\n",
    "        rob1, rob2 = 0,0\n",
    "        for n in nums:\n",
    "            newRob = max(rob1 + n, rob2)\n",
    "            rob1 = rob2\n",
    "            rob2 = newRob\n",
    "        return rob2"
   ]
  },
  {
   "cell_type": "markdown",
   "id": "716a65e3",
   "metadata": {},
   "source": [
    "### Decode Ways"
   ]
  },
  {
   "cell_type": "code",
   "execution_count": null,
   "id": "8e6ad354",
   "metadata": {},
   "outputs": [],
   "source": [
    "class Solution(object):\n",
    "    def numDecodings(self, s):\n",
    "        \"\"\"\n",
    "        :type s: str\n",
    "        :rtype: int\n",
    "        \"\"\"\n",
    "        n = len(s)\n",
    "        dp = [0] * n\n",
    "        if s[0] != '0':\n",
    "            dp[0]=1\n",
    "        for i in range(1, n):\n",
    "            x = int(s[i])\n",
    "            y = int(s[i-1:i+1])\n",
    "\n",
    "            if x >= 1 and x <= 9:\n",
    "                dp[i]+=dp[i-1]\n",
    "            if y >= 10 and y <= 26:\n",
    "                if i-2>=0:\n",
    "                    dp[i] += dp[i-2]\n",
    "                else:\n",
    "                    dp[i] += 1\n",
    "        return dp[-1]\n",
    "    \n",
    "    # another method using climbing stairs and add some of the condition\n",
    "    def numDecodings(self, s):\n",
    "        n = len(s)\n",
    "        dp = [0]*(n+1)\n",
    "        if s[0] != '0':\n",
    "            dp[0] = 1\n",
    "            dp[1] = 1\n",
    "        for i in range(2, n+1):\n",
    "            x = int(s[i-1])\n",
    "            y = int(s[i-2:i])\n",
    " \n",
    "            if x >= 1 and x <= 9:\n",
    "                dp[i] += dp[i-1]\n",
    "            if y >= 10 and y <= 26:\n",
    "                dp[i]+=dp[i-2]\n",
    "        return dp[-1]"
   ]
  },
  {
   "cell_type": "markdown",
   "id": "fbf0f2f0",
   "metadata": {},
   "source": [
    "### Unique Paths\n"
   ]
  },
  {
   "cell_type": "code",
   "execution_count": null,
   "id": "ed5a91cc",
   "metadata": {},
   "outputs": [],
   "source": [
    "# Given the two integers m and n, return the number of possible unique paths \n",
    "# that the robot can take to reach the bottom-right corner.\n",
    "# m x n grid\n",
    "class Solution(object):\n",
    "    def uniquePaths(self, m, n):\n",
    "        \"\"\"\n",
    "        :type m: int\n",
    "        :type n: int\n",
    "        :rtype: int\n",
    "        \"\"\"\n",
    "        row = [1]*n\n",
    "        for i in range(m-1):\n",
    "            newRow = [1]*n\n",
    "            for j in range(n-2, -1, -1):\n",
    "                newRow[j] = newRow[j+1] + row[j]\n",
    "            row = newRow\n",
    "        return row[0]"
   ]
  },
  {
   "cell_type": "markdown",
   "id": "11c2e480",
   "metadata": {},
   "source": [
    "### Jump Game\n"
   ]
  },
  {
   "cell_type": "code",
   "execution_count": null,
   "id": "ad3e6c57",
   "metadata": {},
   "outputs": [],
   "source": [
    "# You are initially positioned at the array's first index, and each element in \n",
    "# the array represents your maximum jump length at that position.\n",
    "# Return true if you can reach the last index, or false otherwise.\n",
    "\n",
    "# Input: nums = [2,3,1,1,4]\n",
    "# Output: true\n",
    "# Explanation: Jump 1 step from index 0 to 1, then 3 steps to the last index.\n",
    "\n",
    "class Solution(object):\n",
    "    def canJump(self, nums):\n",
    "        \"\"\"\n",
    "        :type nums: List[int]\n",
    "        :rtype: bool\n",
    "        \"\"\"\n",
    "        goal = len(nums) - 1\n",
    "        for i in range(len(nums) - 1, -1, -1):\n",
    "            # current goal position + how many steps it can move\n",
    "            if i + nums[i] >= goal:\n",
    "                goal = i\n",
    "        return True if goal == 0 else False"
   ]
  },
  {
   "cell_type": "markdown",
   "id": "abf2b707",
   "metadata": {},
   "source": [
    "### Word Break\n"
   ]
  },
  {
   "cell_type": "code",
   "execution_count": null,
   "id": "e8d9713b",
   "metadata": {},
   "outputs": [],
   "source": [
    "class Solution(object):\n",
    "    def wordBreak(self, s, wordDict):\n",
    "        \"\"\"\n",
    "        :type s: str\n",
    "        :type wordDict: List[str]\n",
    "        :rtype: bool\n",
    "        \"\"\"\n",
    "        dp = [False]*(len(s) + 1)\n",
    "        dp[len(s)] = True\n",
    "        for i in range(len(s)-1, -1, -1):\n",
    "            for w in wordDict:\n",
    "                if (i + len(w)) <= len(s) and s[i:i+len(w)] == w:\n",
    "                    dp[i] = dp[i + len(w)]\n",
    "                # terminate once it finds it is possible to fit the word in the dict\n",
    "                if dp[i]:\n",
    "                    break\n",
    "        return dp[0]"
   ]
  }
 ],
 "metadata": {
  "kernelspec": {
   "display_name": "Python 3.10.11 64-bit",
   "language": "python",
   "name": "python3"
  },
  "language_info": {
   "codemirror_mode": {
    "name": "ipython",
    "version": 3
   },
   "file_extension": ".py",
   "mimetype": "text/x-python",
   "name": "python",
   "nbconvert_exporter": "python",
   "pygments_lexer": "ipython3",
   "version": "3.10.11"
  },
  "vscode": {
   "interpreter": {
    "hash": "aee8b7b246df8f9039afb4144a1f6fd8d2ca17a180786b69acc140d282b71a49"
   }
  }
 },
 "nbformat": 4,
 "nbformat_minor": 5
}
