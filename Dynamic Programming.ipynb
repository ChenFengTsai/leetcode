{
 "cells": [
  {
   "cell_type": "markdown",
   "id": "6beb47ae-e7ba-4f37-aabd-911c350e8a9b",
   "metadata": {},
   "source": [
    "# Dynamic Programming"
   ]
  },
  {
   "cell_type": "markdown",
   "id": "a6e559c0-f789-43fb-be14-729db9e0b9b9",
   "metadata": {},
   "source": [
    "### Find Longest Subsequence with Increasing order"
   ]
  },
  {
   "cell_type": "code",
   "execution_count": null,
   "id": "aa120734-2c7b-4aa1-a62e-97aa7a8a66a3",
   "metadata": {},
   "outputs": [],
   "source": [
    "### in array doc"
   ]
  },
  {
   "cell_type": "markdown",
   "id": "83c6e0f4-13a8-45b4-a212-886987a3bb14",
   "metadata": {
    "tags": []
   },
   "source": [
    "### Number of Unique BST with a given key"
   ]
  },
  {
   "cell_type": "code",
   "execution_count": null,
   "id": "719df8ea-abea-405d-819a-8f79c2781d3d",
   "metadata": {},
   "outputs": [],
   "source": [
    "# https://www.youtube.com/watch?v=OIc0mHgHUww&t=300s&ab_channel=TECHDOSE\n",
    "def numberOfBST(n):\n",
    " \n",
    "    # DP to store the number of unique\n",
    "    # BST with key i\n",
    "    dp = [0] * (n + 1)\n",
    " \n",
    "    # Base case\n",
    "    dp[0], dp[1] = 1, 1\n",
    " \n",
    "    # i is nodes\n",
    "    # j is root\n",
    "    for i in range(2, n + 1):\n",
    "        total = 0\n",
    "        for j in range(1, i + 1):\n",
    "            left = j-1\n",
    "            right = i-j\n",
    "            total += dp[left]*dp[right]\n",
    "        dp[i] = total\n",
    "    return dp[n]"
   ]
  },
  {
   "cell_type": "markdown",
   "id": "4128d5ad-2bf9-4ea2-ac8a-2b5c79269f37",
   "metadata": {},
   "source": [
    "### Maximum Product Subarray"
   ]
  },
  {
   "cell_type": "code",
   "execution_count": null,
   "id": "aef5d1b8-6ee6-478c-8b51-a4d4b6180595",
   "metadata": {},
   "outputs": [],
   "source": [
    "### look into w1_sequences"
   ]
  },
  {
   "cell_type": "markdown",
   "id": "d705bc6d",
   "metadata": {},
   "source": [
    "### Climbing Stairs\n"
   ]
  },
  {
   "cell_type": "code",
   "execution_count": null,
   "id": "0282a9d7",
   "metadata": {},
   "outputs": [],
   "source": [
    "class Solution(object):\n",
    "    def climbStairs(self, n):\n",
    "        \"\"\"\n",
    "        :type n: int\n",
    "        :rtype: int\n",
    "        \"\"\"\n",
    "        one , two = 1,1\n",
    "        for i in range(n-1):\n",
    "            temp = one\n",
    "            one = one + two\n",
    "            two = temp\n",
    "        return one"
   ]
  },
  {
   "cell_type": "markdown",
   "id": "0c5f268f",
   "metadata": {},
   "source": [
    "### Coin Change\n"
   ]
  },
  {
   "cell_type": "code",
   "execution_count": null,
   "id": "8d984f56",
   "metadata": {},
   "outputs": [],
   "source": [
    "class Solution(object):\n",
    "    def coinChange(self, coins, amount):\n",
    "        \"\"\"\n",
    "        :type coins: List[int]\n",
    "        :type amount: int\n",
    "        :rtype: int\n",
    "        \"\"\"\n",
    "        dp = [amount+1]*(amount+1)\n",
    "        dp[0] = 0\n",
    "        for a in range(1, amount+1):\n",
    "            for c in coins:\n",
    "                if a-c >= 0:\n",
    "                    dp[a] = min(dp[a], 1+dp[a-c])\n",
    "        return dp[amount] if dp[amount] != amount + 1 else -1"
   ]
  }
 ],
 "metadata": {
  "kernelspec": {
   "display_name": "Python 3.10.11 64-bit",
   "language": "python",
   "name": "python3"
  },
  "language_info": {
   "codemirror_mode": {
    "name": "ipython",
    "version": 3
   },
   "file_extension": ".py",
   "mimetype": "text/x-python",
   "name": "python",
   "nbconvert_exporter": "python",
   "pygments_lexer": "ipython3",
   "version": "3.10.11"
  },
  "vscode": {
   "interpreter": {
    "hash": "aee8b7b246df8f9039afb4144a1f6fd8d2ca17a180786b69acc140d282b71a49"
   }
  }
 },
 "nbformat": 4,
 "nbformat_minor": 5
}
