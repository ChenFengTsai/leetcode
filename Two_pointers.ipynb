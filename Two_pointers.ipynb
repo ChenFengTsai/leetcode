{
 "cells": [
  {
   "cell_type": "markdown",
   "metadata": {},
   "source": [
    "# Two Pointers"
   ]
  },
  {
   "cell_type": "markdown",
   "metadata": {},
   "source": [
    "### Trapping Rain Water (4 pointers)"
   ]
  },
  {
   "cell_type": "code",
   "execution_count": null,
   "metadata": {},
   "outputs": [],
   "source": [
    "class Solution(object):\n",
    "    def trap(self, height):\n",
    "        \"\"\"\n",
    "        :type height: List[int]\n",
    "        :rtype: int\n",
    "        \"\"\"\n",
    "        if not height:\n",
    "            return 0\n",
    "        l, r = 0, len(height)-1\n",
    "        leftmax, rightmax = height[l], height[r]\n",
    "        res = 0\n",
    "        while l < r:\n",
    "            if leftmax < rightmax:\n",
    "                l += 1\n",
    "                leftmax = max(leftmax, height[l])\n",
    "                res += leftmax - height[l]\n",
    "            else:\n",
    "                r -= 1\n",
    "                rightmax = max(rightmax, height[r])\n",
    "                res += rightmax - height[r]\n",
    "        return res"
   ]
  },
  {
   "cell_type": "markdown",
   "metadata": {},
   "source": [
    "### Capacity To Ship Packages Within D Days (BS)"
   ]
  },
  {
   "cell_type": "code",
   "execution_count": null,
   "metadata": {},
   "outputs": [],
   "source": [
    "# Input: weights = [1,2,3,4,5,6,7,8,9,10], days = 5\n",
    "# Output: 15\n",
    "# Explanation: A ship capacity of 15 is the minimum to ship all the packages in 5 days like this:\n",
    "# 1st day: 1, 2, 3, 4, 5\n",
    "# 2nd day: 6, 7\n",
    "# 3rd day: 8\n",
    "# 4th day: 9\n",
    "# 5th day: 10\n",
    "class Solution(object):\n",
    "    def shipWithinDays(self, weights, days):\n",
    "        \"\"\"\n",
    "        :type weights: List[int]\n",
    "        :type days: int\n",
    "        :rtype: int\n",
    "        \"\"\"\n",
    "        l = max(weights)\n",
    "        r = sum(weights)\n",
    "        res = r\n",
    "        def canship(cap):\n",
    "            ships = 1\n",
    "            cur_w = 0\n",
    "            for w in weights:\n",
    "                if cur_w + w > cap:\n",
    "                    ships += 1\n",
    "                    # reset back since new ship\n",
    "                    cur_w = 0\n",
    "                cur_w += w\n",
    "            return True if ships <= days else False\n",
    "\n",
    "        while l <= r:\n",
    "            cap = (l+r)//2\n",
    "            if canship(cap):\n",
    "                res = cap\n",
    "                r = cap-1\n",
    "            else:\n",
    "                l = cap+1\n",
    "        return res"
   ]
  },
  {
   "cell_type": "markdown",
   "metadata": {},
   "source": [
    "### Koko Eating Bananas"
   ]
  },
  {
   "cell_type": "code",
   "execution_count": null,
   "metadata": {},
   "outputs": [],
   "source": [
    "class Solution(object):\n",
    "    def minEatingSpeed(self, piles, h):\n",
    "        \"\"\"\n",
    "        :type piles: List[int]\n",
    "        :type h: int\n",
    "        :rtype: int\n",
    "        \"\"\"\n",
    "        l = min(piles)//h or 1\n",
    "        r = max(piles)\n",
    "        res = r\n",
    "        def caneat(amount):\n",
    "            time = 0\n",
    "            for p in piles:\n",
    "                need_time = math.ceil(float(p)/amount)\n",
    "                time += need_time\n",
    "            return True if time <= h else False\n",
    "\n",
    "        while l <= r:\n",
    "            amount = (l+r)//2\n",
    "            if caneat(amount):\n",
    "                res = amount\n",
    "                r = amount - 1\n",
    "            else:\n",
    "                l = amount + 1\n",
    "        return res"
   ]
  },
  {
   "cell_type": "markdown",
   "metadata": {},
   "source": [
    "### Split Array Largest Sum (same as capacity to ship packages in above)"
   ]
  },
  {
   "cell_type": "code",
   "execution_count": null,
   "metadata": {},
   "outputs": [],
   "source": [
    "# Given an integer array nums and an integer k, split nums into k non-empty subarrays \n",
    "# such that the largest sum of any subarray is minimized.\n",
    "# Return the minimized largest sum of the split.\n",
    "# Input: nums = [1,2,3,4,5], k = 2\n",
    "# Output: 9\n",
    "# Explanation: There are four ways to split nums into two subarrays.\n",
    "# The best way is to split it into [1,2,3] and [4,5], where the largest sum \n",
    "# among the two subarrays is only 9.\n",
    "class Solution(object):\n",
    "    def __init__(self):\n",
    "        self.nums = None\n",
    "        self.k = None\n",
    "\n",
    "    def splitArray(self, nums, k):\n",
    "        \"\"\"\n",
    "        :type nums: List[int]\n",
    "        :type k: int\n",
    "        :rtype: int\n",
    "        \"\"\"\n",
    "        self.nums = nums\n",
    "        self.k = k\n",
    "        l = max(nums)\n",
    "        r = sum(nums)\n",
    "        res = r\n",
    "        while l <= r:\n",
    "            mid = (l + r) // 2\n",
    "            if self.isFeasible(mid):\n",
    "                res = mid\n",
    "                r = mid - 1\n",
    "            else:\n",
    "                l = mid + 1\n",
    "                \n",
    "        return res\n",
    "    \n",
    "    def isFeasible(self, mid):\n",
    "        cnt = 1\n",
    "        total = 0\n",
    "        for num in self.nums:\n",
    "            if total + num > mid:\n",
    "                cnt += 1\n",
    "                # reset\n",
    "                total = 0\n",
    "            total += num\n",
    "        return cnt <= self.k"
   ]
  },
  {
   "cell_type": "markdown",
   "metadata": {},
   "source": [
    "### Remove Duplicate elements from sorted array (inplace)"
   ]
  },
  {
   "cell_type": "code",
   "execution_count": 1,
   "metadata": {},
   "outputs": [],
   "source": [
    "## in array file"
   ]
  },
  {
   "cell_type": "markdown",
   "metadata": {},
   "source": [
    "### Find Longest Subsequence with Increasing order "
   ]
  },
  {
   "cell_type": "code",
   "execution_count": null,
   "metadata": {},
   "outputs": [],
   "source": [
    "## in array file"
   ]
  },
  {
   "cell_type": "markdown",
   "metadata": {},
   "source": [
    "### Russian Doll Envelopes"
   ]
  },
  {
   "cell_type": "code",
   "execution_count": null,
   "metadata": {},
   "outputs": [],
   "source": [
    "## in array file"
   ]
  },
  {
   "cell_type": "markdown",
   "metadata": {},
   "source": [
    "### Sort Colors (inplace, 3 pointers)"
   ]
  },
  {
   "cell_type": "code",
   "execution_count": null,
   "metadata": {},
   "outputs": [],
   "source": [
    "### in array file"
   ]
  },
  {
   "cell_type": "markdown",
   "metadata": {},
   "source": [
    "### Find First and Last Position of Element in Sorted Array (binary search)"
   ]
  },
  {
   "cell_type": "code",
   "execution_count": null,
   "metadata": {},
   "outputs": [],
   "source": [
    "### in array file"
   ]
  },
  {
   "cell_type": "markdown",
   "metadata": {},
   "source": [
    "### Minimum Window Substring"
   ]
  },
  {
   "cell_type": "code",
   "execution_count": 2,
   "metadata": {},
   "outputs": [],
   "source": [
    "### in best_practice"
   ]
  },
  {
   "cell_type": "markdown",
   "metadata": {},
   "source": [
    "### Number of subarrays having product less than K (elements are all >= 1)"
   ]
  },
  {
   "cell_type": "code",
   "execution_count": 1,
   "metadata": {},
   "outputs": [],
   "source": [
    "# Time O(n)\n",
    "def number_k(arr, k):\n",
    "    n = len(arr)\n",
    "    start = 0\n",
    "    end = 0\n",
    "    result = 0\n",
    "    p=1\n",
    "    while end < n:\n",
    "        p *= arr[end]\n",
    "        # start can never exceed end\n",
    "        while p >= k and start <= end:\n",
    "            p = int(p//arr[start])\n",
    "            start += 1\n",
    "        combo = end-start+1\n",
    "        result += combo\n",
    "        end += 1\n",
    "    return result"
   ]
  },
  {
   "cell_type": "markdown",
   "metadata": {},
   "source": [
    "### Container With Most Water"
   ]
  },
  {
   "cell_type": "code",
   "execution_count": null,
   "metadata": {},
   "outputs": [],
   "source": [
    "class Solution(object):\n",
    "    def maxArea(self, height):\n",
    "        \"\"\"\n",
    "        :type height: List[int]\n",
    "        :rtype: int\n",
    "        \"\"\"\n",
    "        area = 0\n",
    "        l = 0\n",
    "        r = len(height) - 1\n",
    "        while l < r:\n",
    "            area = max(area, (r-l)*min(height[l], height[r]))\n",
    "            if height[l] < height[r]:\n",
    "                l +=1\n",
    "            else:\n",
    "                r -= 1\n",
    "        return area"
   ]
  },
  {
   "cell_type": "markdown",
   "metadata": {},
   "source": [
    "### Move Zeros (inplace)"
   ]
  },
  {
   "cell_type": "code",
   "execution_count": null,
   "metadata": {},
   "outputs": [],
   "source": [
    "# Input: nums = [0,1,0,3,12]\n",
    "# Output: [1,3,12,0,0]\n",
    "class Solution(object):\n",
    "    def moveZeroes(self, nums):\n",
    "        \"\"\"\n",
    "        :type nums: List[int]\n",
    "        :rtype: None Do not return anything, modify nums in-place instead.\n",
    "        \"\"\"\n",
    "        l = len(nums)-1\n",
    "        r = len(nums)\n",
    "        while l >= 0:\n",
    "            if nums[l] == 0:\n",
    "                nums[l:r-1] = nums[l+1:r]\n",
    "                nums[r-1] = 0\n",
    "                r -= 1\n",
    "            l -= 1\n",
    "        return"
   ]
  }
 ],
 "metadata": {
  "kernelspec": {
   "display_name": "Python 3.10.11 64-bit",
   "language": "python",
   "name": "python3"
  },
  "language_info": {
   "codemirror_mode": {
    "name": "ipython",
    "version": 3
   },
   "file_extension": ".py",
   "mimetype": "text/x-python",
   "name": "python",
   "nbconvert_exporter": "python",
   "pygments_lexer": "ipython3",
   "version": "3.10.11"
  },
  "orig_nbformat": 4,
  "vscode": {
   "interpreter": {
    "hash": "aee8b7b246df8f9039afb4144a1f6fd8d2ca17a180786b69acc140d282b71a49"
   }
  }
 },
 "nbformat": 4,
 "nbformat_minor": 2
}
