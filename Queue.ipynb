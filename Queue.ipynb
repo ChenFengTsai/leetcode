{
 "cells": [
  {
   "cell_type": "markdown",
   "id": "120f4f23-9162-4c6b-bf83-0789c6426b1d",
   "metadata": {},
   "source": [
    "# Queue"
   ]
  },
  {
   "cell_type": "markdown",
   "id": "000f8620-eca7-494d-9cc3-6e5f5918cbeb",
   "metadata": {},
   "source": [
    "### Tree Traversal BFS"
   ]
  },
  {
   "cell_type": "code",
   "execution_count": null,
   "id": "95ee2bf5-26ca-47b5-9b3b-41b8c83134cb",
   "metadata": {},
   "outputs": [],
   "source": [
    "### in Tree doc"
   ]
  },
  {
   "cell_type": "markdown",
   "id": "a8dbed4a-3ee3-472c-9752-a13a1c00e8f2",
   "metadata": {},
   "source": [
    "### Sliding Window find Max"
   ]
  },
  {
   "cell_type": "code",
   "execution_count": null,
   "id": "eea3e44a-a7b5-47db-8811-8b04573e8a98",
   "metadata": {},
   "outputs": [],
   "source": [
    "### in Sliding window doc"
   ]
  }
 ],
 "metadata": {
  "kernelspec": {
   "display_name": "Python 3 (ipykernel)",
   "language": "python",
   "name": "python3"
  },
  "language_info": {
   "codemirror_mode": {
    "name": "ipython",
    "version": 3
   },
   "file_extension": ".py",
   "mimetype": "text/x-python",
   "name": "python",
   "nbconvert_exporter": "python",
   "pygments_lexer": "ipython3",
   "version": "3.8.10"
  }
 },
 "nbformat": 4,
 "nbformat_minor": 5
}
