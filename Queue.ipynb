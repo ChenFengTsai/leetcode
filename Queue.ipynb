{
 "cells": [
  {
   "cell_type": "markdown",
   "id": "120f4f23-9162-4c6b-bf83-0789c6426b1d",
   "metadata": {},
   "source": [
    "# Queue"
   ]
  },
  {
   "cell_type": "markdown",
   "id": "000f8620-eca7-494d-9cc3-6e5f5918cbeb",
   "metadata": {},
   "source": [
    "### Tree Traversal BFS"
   ]
  },
  {
   "cell_type": "code",
   "execution_count": null,
   "id": "95ee2bf5-26ca-47b5-9b3b-41b8c83134cb",
   "metadata": {},
   "outputs": [],
   "source": [
    "### in Tree doc"
   ]
  },
  {
   "cell_type": "markdown",
   "id": "a8dbed4a-3ee3-472c-9752-a13a1c00e8f2",
   "metadata": {},
   "source": [
    "### Sliding Window find Max"
   ]
  },
  {
   "cell_type": "code",
   "execution_count": null,
   "id": "eea3e44a-a7b5-47db-8811-8b04573e8a98",
   "metadata": {},
   "outputs": [],
   "source": [
    "### in Sliding window doc"
   ]
  },
  {
   "cell_type": "markdown",
   "id": "d2c0e8ae",
   "metadata": {},
   "source": [
    "### Find Median from Data Stream (Hard)\n"
   ]
  },
  {
   "cell_type": "code",
   "execution_count": null,
   "id": "c9fb70ad",
   "metadata": {},
   "outputs": [],
   "source": [
    "# Input\n",
    "# [\"MedianFinder\", \"addNum\", \"addNum\", \"findMedian\", \"addNum\", \"findMedian\"]\n",
    "# [[], [1], [2], [], [3], []]\n",
    "# Output\n",
    "# [null, null, null, 1.5, null, 2.0]\n",
    "import heapq\n",
    "class MedianFinder(object):\n",
    "\n",
    "    def __init__(self):\n",
    "        self.small = []\n",
    "        self.large = []\n",
    "\n",
    "    def addNum(self, num):\n",
    "        \"\"\"\n",
    "        :type num: int\n",
    "        :rtype: None\n",
    "        \"\"\"\n",
    "        # create max heap for small\n",
    "        heapq.heappush(self.small, -1*num)\n",
    "\n",
    "        # make sure biggest num in small is <= smallest num in large\n",
    "        if (self.small and self.large \n",
    "        and (-1*self.small[0]) > self.large[0]):\n",
    "            val = -1*heapq.heappop(self.small)\n",
    "            heapq.heappush(self.large, val)\n",
    "        # check even size for small and large\n",
    "        if len(self.small) > len(self.large) + 1:\n",
    "            val = -1*heapq.heappop(self.small)\n",
    "            heapq.heappush(self.large, val)\n",
    "        if len(self.large) > len(self.small) + 1:\n",
    "            val = heapq.heappop(self.large)\n",
    "            heapq.heappush(self.small, -1*val)\n",
    "\n",
    "    def findMedian(self):\n",
    "        \"\"\"\n",
    "        :rtype: float\n",
    "        \"\"\"\n",
    "        # the median is in the small heap\n",
    "        if len(self.small) > len(self.large):\n",
    "            return -1 * self.small[0]\n",
    "        # the median is in the large heap\n",
    "        if len(self.large) > len(self.small):\n",
    "            return self.large[0]\n",
    "        # the median is in the middle of the two heaps\n",
    "        return (-1*self.small[0] + self.large[0])/2.0"
   ]
  },
  {
   "cell_type": "markdown",
   "id": "60641ce7",
   "metadata": {},
   "source": [
    "### Merge k Sorted Lists"
   ]
  },
  {
   "cell_type": "code",
   "execution_count": null,
   "id": "b83e67f1",
   "metadata": {},
   "outputs": [],
   "source": [
    "### in linkedlist doc"
   ]
  }
 ],
 "metadata": {
  "kernelspec": {
   "display_name": "Python 3.10.11 64-bit",
   "language": "python",
   "name": "python3"
  },
  "language_info": {
   "codemirror_mode": {
    "name": "ipython",
    "version": 3
   },
   "file_extension": ".py",
   "mimetype": "text/x-python",
   "name": "python",
   "nbconvert_exporter": "python",
   "pygments_lexer": "ipython3",
   "version": "3.10.11"
  },
  "vscode": {
   "interpreter": {
    "hash": "aee8b7b246df8f9039afb4144a1f6fd8d2ca17a180786b69acc140d282b71a49"
   }
  }
 },
 "nbformat": 4,
 "nbformat_minor": 5
}
