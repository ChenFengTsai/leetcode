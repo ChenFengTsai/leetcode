{
 "cells": [
  {
   "cell_type": "markdown",
   "id": "781b2e21-0fcc-4674-8e68-c63f3cdd001f",
   "metadata": {},
   "source": [
    "# Graph"
   ]
  },
  {
   "cell_type": "markdown",
   "id": "8df3c951-e0d6-43ff-88d3-610448fa4c55",
   "metadata": {},
   "source": [
    "### Topological Sorting"
   ]
  },
  {
   "cell_type": "code",
   "execution_count": 2,
   "id": "34f18621-d871-4934-84df-1e55bf745e5c",
   "metadata": {},
   "outputs": [
    {
     "name": "stdout",
     "output_type": "stream",
     "text": [
      "Following is a Topological Sort of the given graph\n",
      "[5, 4, 2, 3, 1, 0]\n"
     ]
    }
   ],
   "source": [
    "# https://www.geeksforgeeks.org/topological-sorting/\n",
    "# no cycle\n",
    "from collections import defaultdict\n",
    "class Graph:\n",
    "    def __init__(self, vertices):\n",
    "        self.graph = defaultdict(list)\n",
    "        self.V = vertices # No. of vertices\n",
    "    \n",
    "    def addEdge(self, u, v):\n",
    "        self.graph[u].append(v)\n",
    "        \n",
    "    def topologicalSortUtil(self, v, visited, stack):\n",
    "        # Mark the current node as visited.\n",
    "        visited[v] = True\n",
    "        # Recur for all the vertices adjacent to this vertex\n",
    "        for i in self.graph[v]:\n",
    "            if visited[i] == False:\n",
    "                self.topologicalSortUtil(i, visited, stack)\n",
    "        # Push current vertex to stack which stores result\n",
    "        stack.append(v)\n",
    " \n",
    "    # The function to do Topological Sort. It uses recursive\n",
    "    # topologicalSortUtil()\n",
    "    def topologicalSort(self):\n",
    "        # Mark all the vertices as not visited\n",
    "        visited = [False]*self.V\n",
    "        stack = []\n",
    " \n",
    "        # Call the recursive helper function to store Topological\n",
    "        # Sort starting from all vertices one by one\n",
    "        for i in range(self.V):\n",
    "            if visited[i] == False:\n",
    "                self.topologicalSortUtil(i, visited, stack)\n",
    "        \n",
    "        return stack[::-1]\n",
    "\n",
    "if __name__ == '__main__':\n",
    "    g = Graph(6)\n",
    "    g.addEdge(5, 2)\n",
    "    g.addEdge(5, 0)\n",
    "    g.addEdge(4, 0)\n",
    "    g.addEdge(4, 1)\n",
    "    g.addEdge(2, 3)\n",
    "    g.addEdge(3, 1)\n",
    " \n",
    "    print(\"Following is a Topological Sort of the given graph\")\n",
    " \n",
    "    # Function Call\n",
    "    print(g.topologicalSort())\n",
    " "
   ]
  },
  {
   "cell_type": "markdown",
   "id": "d35a41db-a827-4796-b98b-2db52f43326b",
   "metadata": {},
   "source": [
    "### Clone Graph"
   ]
  },
  {
   "cell_type": "code",
   "execution_count": null,
   "id": "93477e23-fee4-4967-8fa5-951e520a3f3e",
   "metadata": {},
   "outputs": [],
   "source": [
    "class Solution(object):\n",
    "    def cloneGraph(self, node):\n",
    "        \"\"\"\n",
    "        :type node: Node\n",
    "        :rtype: Node\n",
    "        \"\"\"\n",
    "        oldTonew={}\n",
    "        def dfs(node):\n",
    "            if node in oldTonew:\n",
    "                return oldTonew[node]\n",
    "            # init the copy node\n",
    "            copy = Node(node.val)\n",
    "            oldTonew[node] = copy\n",
    "            for nei in node.neighbors:\n",
    "                copy.neighbors.append(dfs(nei))\n",
    "            return copy\n",
    "        return dfs(node) if node else None"
   ]
  },
  {
   "cell_type": "markdown",
   "id": "f043b0f1",
   "metadata": {},
   "source": [
    "### Number of Connected Components in an Undirected Graph"
   ]
  },
  {
   "cell_type": "code",
   "execution_count": 9,
   "id": "8126fc53-3290-4c41-86e2-85f79f1c92cf",
   "metadata": {},
   "outputs": [
    {
     "name": "stdout",
     "output_type": "stream",
     "text": [
      "[[0, 1, 2], [3, 4]]\n"
     ]
    }
   ],
   "source": [
    "class Graph:\n",
    "\tdef __init__(self, V):\n",
    "\t\tself.V = V\n",
    "\t\tself.adj = [[] for i in range(V)]\n",
    "\n",
    "\tdef addEdge(self, v, w):\n",
    "\t\tself.adj[v].append(w)\n",
    "\t\tself.adj[w].append(v)\n",
    "\n",
    "\tdef dfs(self, temp, v):\n",
    "\t\t# Mark the current vertex as visited\n",
    "\t\tself.visited.add(v)\n",
    "\t\t# Store the vertex to list\n",
    "\t\ttemp.append(v)\n",
    "\t\t# Repeat for all vertices adjacent\n",
    "\t\t# to this vertex v\n",
    "\t\tfor i in self.adj[v]:\n",
    "\t\t\tif i not in self.visited:\n",
    "\t\t\t\t# Update the list\n",
    "\t\t\t\ttemp = self.dfs(temp, i)\n",
    "\t\treturn temp\n",
    "\n",
    "\t# Method to retrieve connected components\n",
    "\t# in an undirected graph\n",
    "\tdef connectedComponents(self):\n",
    "\t\tself.visited = set()\n",
    "\t\tcc = []\n",
    "\t\tfor v in range(self.V):\n",
    "\t\t\tif v not in self.visited:\n",
    "\t\t\t\ttemp = []\n",
    "\t\t\t\tcc.append(self.dfs(temp, v))\n",
    "\t\treturn cc\n",
    "\n",
    "\n",
    "# Driver Code\n",
    "if __name__ == \"__main__\":\n",
    "\n",
    "\t# Create a graph given in the above diagram\n",
    "\t# 5 vertices numbered from 0 to 4\n",
    "\tg = Graph(5)\n",
    "\tg.addEdge(1, 0)\n",
    "\tg.addEdge(2, 1)\n",
    "\tg.addEdge(3, 4)\n",
    "\tcc = g.connectedComponents()\n",
    "\tprint(cc)"
   ]
  },
  {
   "cell_type": "markdown",
   "id": "aeec86c5",
   "metadata": {},
   "source": [
    "### Word Ladder (BFS)"
   ]
  },
  {
   "cell_type": "code",
   "execution_count": null,
   "id": "51a8dbd6-50a0-4924-8102-6f1a7de2530f",
   "metadata": {},
   "outputs": [],
   "source": [
    "# Input: beginWord = \"hit\", endWord = \"cog\", wordList = [\"hot\",\"dot\",\"dog\",\"lot\",\"log\",\"cog\"]\n",
    "# Output: 5\n",
    "# Explanation: One shortest transformation sequence is \"hit\" -> \"hot\" -> \"dot\" -> \"dog\" -> cog\", which is 5 words long.\n",
    "import collections\n",
    "class Solution(object):\n",
    "    def ladderLength(self, beginWord, endWord, wordList):\n",
    "        \"\"\"\n",
    "        :type beginWord: str\n",
    "        :type endWord: str\n",
    "        :type wordList: List[str]\n",
    "        :rtype: int\n",
    "        \"\"\"\n",
    "        nei = collections.defaultdict(list)\n",
    "        for word in wordList:\n",
    "            for j in range(len(word)):\n",
    "                pattern = word[:j] + '*' + word[j+1:]\n",
    "                nei[pattern].append(word)\n",
    "        \n",
    "        visited = set()\n",
    "        q = collections.deque()\n",
    "        q.append(beginWord)\n",
    "        res = 1\n",
    "        while q:\n",
    "            for i in range(len(q)):\n",
    "                word = q.popleft()\n",
    "                if word == endWord:\n",
    "                    return res\n",
    "                for j in range(len(word)):\n",
    "                    pattern = word[:j]+'*'+word[j+1:]\n",
    "                    for neiWord in nei[pattern]:\n",
    "                        if neiWord not in visited:\n",
    "                            visited.add(neiWord)\n",
    "                            q.append(neiWord)\n",
    "            res += 1\n",
    "        return 0"
   ]
  },
  {
   "cell_type": "markdown",
   "id": "baf6055f",
   "metadata": {},
   "source": [
    "### Course Schedule"
   ]
  },
  {
   "cell_type": "code",
   "execution_count": null,
   "id": "ec49ccee",
   "metadata": {},
   "outputs": [],
   "source": [
    "from collections import defaultdict\n",
    "\n",
    "class Solution(object):\n",
    "    def canFinish(self, numCourses, prerequisites):\n",
    "        \"\"\"\n",
    "        :type numCourses: int\n",
    "        :type prerequisites: List[List[int]]\n",
    "        :rtype: bool\n",
    "        \"\"\"\n",
    "        # Create a graph representation using a dictionary\n",
    "        graph = defaultdict(list)\n",
    "        for course, prereq in prerequisites:\n",
    "            graph[course].append(prereq)\n",
    "\n",
    "        # Define states for each course: 0 = unvisited, 1 = visiting, 2 = visited\n",
    "        state = [0] * numCourses\n",
    "\n",
    "        def hasCycle(course):\n",
    "            if state[course] == 1:\n",
    "                # If the course is currently being visited, we found a cycle\n",
    "                return True\n",
    "            if state[course] == 2:\n",
    "                # If the course has already been visited and no cycle was found, return False\n",
    "                return False\n",
    "\n",
    "            state[course] = 1  # Mark the course as visiting\n",
    "\n",
    "            # Check prerequisites of the course\n",
    "            for prereq in graph[course]:\n",
    "                if hasCycle(prereq):\n",
    "                    return True\n",
    "\n",
    "            state[course] = 2  # Mark the course as visited\n",
    "            return False\n",
    "\n",
    "        for course in range(numCourses):\n",
    "            if hasCycle(course):\n",
    "                return False\n",
    "\n",
    "        return True"
   ]
  }
 ],
 "metadata": {
  "kernelspec": {
   "display_name": "Python 3.10.11 64-bit",
   "language": "python",
   "name": "python3"
  },
  "language_info": {
   "codemirror_mode": {
    "name": "ipython",
    "version": 3
   },
   "file_extension": ".py",
   "mimetype": "text/x-python",
   "name": "python",
   "nbconvert_exporter": "python",
   "pygments_lexer": "ipython3",
   "version": "3.10.11"
  },
  "vscode": {
   "interpreter": {
    "hash": "aee8b7b246df8f9039afb4144a1f6fd8d2ca17a180786b69acc140d282b71a49"
   }
  }
 },
 "nbformat": 4,
 "nbformat_minor": 5
}
