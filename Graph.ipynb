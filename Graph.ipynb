{
 "cells": [
  {
   "cell_type": "markdown",
   "id": "781b2e21-0fcc-4674-8e68-c63f3cdd001f",
   "metadata": {},
   "source": [
    "# Graph"
   ]
  },
  {
   "cell_type": "markdown",
   "id": "8df3c951-e0d6-43ff-88d3-610448fa4c55",
   "metadata": {},
   "source": [
    "### Topological Sorting"
   ]
  },
  {
   "cell_type": "code",
   "execution_count": 2,
   "id": "34f18621-d871-4934-84df-1e55bf745e5c",
   "metadata": {},
   "outputs": [
    {
     "name": "stdout",
     "output_type": "stream",
     "text": [
      "Following is a Topological Sort of the given graph\n",
      "[5, 4, 2, 3, 1, 0]\n"
     ]
    }
   ],
   "source": [
    "# https://www.geeksforgeeks.org/topological-sorting/\n",
    "from collections import defaultdict\n",
    "class Graph:\n",
    "    def __init__(self, vertices):\n",
    "        self.graph = defaultdict(list)\n",
    "        self.V = vertices # No. of vertices\n",
    "    \n",
    "    def addEdge(self, u, v):\n",
    "        self.graph[u].append(v)\n",
    "        \n",
    "    def topologicalSortUtil(self, v, visited, stack):\n",
    "        # Mark the current node as visited.\n",
    "        visited[v] = True\n",
    "        # Recur for all the vertices adjacent to this vertex\n",
    "        for i in self.graph[v]:\n",
    "            if visited[i] == False:\n",
    "                self.topologicalSortUtil(i, visited, stack)\n",
    "        # Push current vertex to stack which stores result\n",
    "        stack.append(v)\n",
    " \n",
    "    # The function to do Topological Sort. It uses recursive\n",
    "    # topologicalSortUtil()\n",
    "    def topologicalSort(self):\n",
    "        # Mark all the vertices as not visited\n",
    "        visited = [False]*self.V\n",
    "        stack = []\n",
    " \n",
    "        # Call the recursive helper function to store Topological\n",
    "        # Sort starting from all vertices one by one\n",
    "        for i in range(self.V):\n",
    "            if visited[i] == False:\n",
    "                self.topologicalSortUtil(i, visited, stack)\n",
    "        \n",
    "        return stack[::-1]\n",
    "\n",
    "if __name__ == '__main__':\n",
    "    g = Graph(6)\n",
    "    g.addEdge(5, 2)\n",
    "    g.addEdge(5, 0)\n",
    "    g.addEdge(4, 0)\n",
    "    g.addEdge(4, 1)\n",
    "    g.addEdge(2, 3)\n",
    "    g.addEdge(3, 1)\n",
    " \n",
    "    print(\"Following is a Topological Sort of the given graph\")\n",
    " \n",
    "    # Function Call\n",
    "    print(g.topologicalSort())\n",
    " "
   ]
  },
  {
   "cell_type": "markdown",
   "id": "d35a41db-a827-4796-b98b-2db52f43326b",
   "metadata": {},
   "source": [
    "### Clone Graph"
   ]
  },
  {
   "cell_type": "code",
   "execution_count": null,
   "id": "93477e23-fee4-4967-8fa5-951e520a3f3e",
   "metadata": {},
   "outputs": [],
   "source": [
    "class Solution(object):\n",
    "    def cloneGraph(self, node):\n",
    "        \"\"\"\n",
    "        :type node: Node\n",
    "        :rtype: Node\n",
    "        \"\"\"\n",
    "        oldTonew={}\n",
    "        def dfs(node):\n",
    "            if node in oldTonew:\n",
    "                return oldTonew[node]\n",
    "            # init the copy node\n",
    "            copy = Node(node.val)\n",
    "            oldTonew[node] = copy\n",
    "            for nei in node.neighbors:\n",
    "                copy.neighbors.append(dfs(nei))\n",
    "            return copy\n",
    "        return dfs(node) if node else None"
   ]
  },
  {
   "cell_type": "code",
   "execution_count": null,
   "id": "8126fc53-3290-4c41-86e2-85f79f1c92cf",
   "metadata": {},
   "outputs": [],
   "source": []
  },
  {
   "cell_type": "code",
   "execution_count": null,
   "id": "51a8dbd6-50a0-4924-8102-6f1a7de2530f",
   "metadata": {},
   "outputs": [],
   "source": []
  }
 ],
 "metadata": {
  "kernelspec": {
   "display_name": "Python 3.10.11 64-bit",
   "language": "python",
   "name": "python3"
  },
  "language_info": {
   "codemirror_mode": {
    "name": "ipython",
    "version": 3
   },
   "file_extension": ".py",
   "mimetype": "text/x-python",
   "name": "python",
   "nbconvert_exporter": "python",
   "pygments_lexer": "ipython3",
   "version": "3.10.11"
  },
  "vscode": {
   "interpreter": {
    "hash": "aee8b7b246df8f9039afb4144a1f6fd8d2ca17a180786b69acc140d282b71a49"
   }
  }
 },
 "nbformat": 4,
 "nbformat_minor": 5
}
