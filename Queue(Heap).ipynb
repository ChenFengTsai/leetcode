{
 "cells": [
  {
   "cell_type": "markdown",
   "id": "120f4f23-9162-4c6b-bf83-0789c6426b1d",
   "metadata": {},
   "source": [
    "# Queue"
   ]
  },
  {
   "cell_type": "markdown",
   "id": "000f8620-eca7-494d-9cc3-6e5f5918cbeb",
   "metadata": {},
   "source": [
    "### Tree Traversal BFS"
   ]
  },
  {
   "cell_type": "code",
   "execution_count": null,
   "id": "95ee2bf5-26ca-47b5-9b3b-41b8c83134cb",
   "metadata": {},
   "outputs": [],
   "source": [
    "### in Tree doc"
   ]
  },
  {
   "cell_type": "markdown",
   "id": "a8dbed4a-3ee3-472c-9752-a13a1c00e8f2",
   "metadata": {},
   "source": [
    "### Sliding Window find Max"
   ]
  },
  {
   "cell_type": "code",
   "execution_count": null,
   "id": "eea3e44a-a7b5-47db-8811-8b04573e8a98",
   "metadata": {},
   "outputs": [],
   "source": [
    "### in Sliding window doc"
   ]
  },
  {
   "cell_type": "markdown",
   "id": "c75eae27",
   "metadata": {},
   "source": [
    "### Flip Numbers"
   ]
  },
  {
   "cell_type": "code",
   "execution_count": 2,
   "id": "f4449c7d",
   "metadata": {},
   "outputs": [
    {
     "name": "stdout",
     "output_type": "stream",
     "text": [
      "[-1, 1, 2, -4]\n"
     ]
    }
   ],
   "source": [
    "# nums = [1, 0, -2, 4]\n",
    "# intervals = [[0, 1], [1, 3]] (included two sides)\n",
    "# output = [-1, 0, 2, -4]\n",
    "## Time Complexity:  O(nlogn) due to sorting\n",
    "## the for loop only require O(len(nums)) and O(len(intervals)) since they ae independent\n",
    "## Space complexity: O(n)\n",
    "import heapq\n",
    "def flip(nums, intervals):\n",
    "    intervals.sort(key = lambda i: i[0])\n",
    "    k = 0\n",
    "    q = []\n",
    "    for i in range(len(nums)):\n",
    "        while q and q[0] < i:\n",
    "                heapq.heappop(q)\n",
    "        while intervals and intervals[0][0] <= i:\n",
    "            start, end = intervals.pop(0)\n",
    "            heapq.heappush(q, end)\n",
    "        if len(q)%2 == 1:\n",
    "            nums[i] = -nums[i]\n",
    "    return nums\n",
    "                 \n",
    "if __name__ == \"__main__\":\n",
    "    nums = [1, 1, -2, 4]\n",
    "    intervals = [[0, 1], [1, 3]]\n",
    "    res = flip(nums, intervals)\n",
    "    print(res)"
   ]
  },
  {
   "cell_type": "markdown",
   "id": "d2c0e8ae",
   "metadata": {},
   "source": [
    "### Find Median from Data Stream (Hard)\n"
   ]
  },
  {
   "cell_type": "code",
   "execution_count": null,
   "id": "c9fb70ad",
   "metadata": {},
   "outputs": [],
   "source": [
    "# Input\n",
    "# [\"MedianFinder\", \"addNum\", \"addNum\", \"findMedian\", \"addNum\", \"findMedian\"]\n",
    "# [[], [1], [2], [], [3], []]\n",
    "# Output\n",
    "# [null, null, null, 1.5, null, 2.0]\n",
    "import heapq\n",
    "\n",
    "class MedianFinder(object):\n",
    "\n",
    "    def __init__(self):\n",
    "        self.small = []\n",
    "        self.large = []\n",
    "\n",
    "    def addNum(self, num):\n",
    "        \"\"\"\n",
    "        :type num: int\n",
    "        :rtype: None\n",
    "        \"\"\"\n",
    "        # create max heap for small\n",
    "        heapq.heappush(self.small, -1*num)\n",
    "\n",
    "        # make sure biggest num in small is <= smallest num in large\n",
    "        if self.small and self.large \\\n",
    "            and (-1*self.small[0]) > self.large[0]:\n",
    "            val = -1*heapq.heappop(self.small)\n",
    "            heapq.heappush(self.large, val)\n",
    "        # check even size for small and large\n",
    "        if len(self.small) > len(self.large) + 1:\n",
    "            val = -1*heapq.heappop(self.small)\n",
    "            heapq.heappush(self.large, val)\n",
    "        if len(self.large) > len(self.small) + 1:\n",
    "            val = heapq.heappop(self.large)\n",
    "            heapq.heappush(self.small, -1*val)\n",
    "\n",
    "    def findMedian(self):\n",
    "        \"\"\"\n",
    "        :rtype: float\n",
    "        \"\"\"\n",
    "        # the median is in the small heap\n",
    "        if len(self.small) > len(self.large):\n",
    "            return -1 * self.small[0]\n",
    "        # the median is in the large heap\n",
    "        if len(self.large) > len(self.small):\n",
    "            return self.large[0]\n",
    "        # the median is in the middle of the two heaps\n",
    "        return (-1*self.small[0] + self.large[0])/2.0"
   ]
  },
  {
   "cell_type": "markdown",
   "id": "60641ce7",
   "metadata": {},
   "source": [
    "### Merge k Sorted Lists"
   ]
  },
  {
   "cell_type": "code",
   "execution_count": null,
   "id": "b83e67f1",
   "metadata": {},
   "outputs": [],
   "source": [
    "### in linkedlist doc"
   ]
  },
  {
   "cell_type": "markdown",
   "id": "43bff0d3",
   "metadata": {},
   "source": [
    "### Kth Largest Element in a Stream\n"
   ]
  },
  {
   "cell_type": "code",
   "execution_count": null,
   "id": "5e135888",
   "metadata": {},
   "outputs": [],
   "source": [
    "import heapq\n",
    "class KthLargest(object):\n",
    "\n",
    "    def __init__(self, k, nums):\n",
    "        \"\"\"\n",
    "        :type k: int\n",
    "        :type nums: List[int]\n",
    "        \"\"\"\n",
    "        self.heap = nums\n",
    "        self.k = k\n",
    "        heapq.heapify(self.heap)\n",
    "        print(self.heap[0])\n",
    "        while len(self.heap) > k:\n",
    "            heapq.heappop(self.heap)\n",
    "        print(self.heap[0])\n",
    "        \n",
    "        \n",
    "    def add(self, val):\n",
    "        \"\"\"\n",
    "        :type val: int\n",
    "        :rtype: int\n",
    "        \"\"\"\n",
    "        heapq.heappush(self.heap, val)\n",
    "        if len(self.heap) > self.k:\n",
    "            heapq.heappop(self.heap)\n",
    "        return self.heap[0]"
   ]
  },
  {
   "cell_type": "markdown",
   "id": "c07efdf8",
   "metadata": {},
   "source": [
    "### Find K Pairs with Smallest Sums"
   ]
  },
  {
   "cell_type": "code",
   "execution_count": null,
   "id": "99a51d3f",
   "metadata": {},
   "outputs": [],
   "source": [
    "import heapq\n",
    "class Solution(object):\n",
    "    def kSmallestPairs(self, nums1, nums2, k):\n",
    "        \"\"\"\n",
    "        :type nums1: List[int]\n",
    "        :type nums2: List[int]\n",
    "        :type k: int\n",
    "        :rtype: List[List[int]]\n",
    "        \"\"\"\n",
    "        res = []\n",
    "        heap = []\n",
    "        visited = set()\n",
    "        two_sum = nums1[0] + nums2[0]\n",
    "        heapq.heappush(heap, (two_sum, 0, 0))\n",
    "        visited.add((0,0))\n",
    "        while len(res) < k and heap:\n",
    "            _, i, j = heapq.heappop(heap)\n",
    "            res.append([nums1[i], nums2[j]])\n",
    "            if i+1 < len(nums1) and (i+1, j) not in visited:\n",
    "                two_sum = nums1[i+1] + nums2[j]\n",
    "                heapq.heappush(heap, (two_sum, i+1, j))\n",
    "                visited.add((i+1, j))\n",
    "            if j+1 < len(nums2) and (i, j+1) not in visited:\n",
    "                two_sum = nums1[i] + nums2[j+1]\n",
    "                heapq.heappush(heap, (two_sum, i, j+1))\n",
    "                visited.add((i, j+1))\n",
    "        return res"
   ]
  },
  {
   "cell_type": "markdown",
   "id": "ce638826",
   "metadata": {},
   "source": [
    "### Bus Stand"
   ]
  },
  {
   "cell_type": "code",
   "execution_count": 3,
   "id": "b7db5321",
   "metadata": {},
   "outputs": [
    {
     "name": "stdout",
     "output_type": "stream",
     "text": [
      "[2, 4, 0]\n",
      "[2, 3, 3, 3, 0, 0, 0]\n"
     ]
    }
   ],
   "source": [
    "# k = bus capacity\n",
    "# p = passenger patience time\n",
    "# q = bus arrival time\n",
    "import heapq\n",
    "def kthPerson(k, p, q):\n",
    "    idx_q = [(idx, qq) for idx, qq in enumerate(q)]\n",
    "    idx_q.sort(key = lambda i: i[1])\n",
    "    ret = [0]*len(q)\n",
    "    heap = []\n",
    "    j = 0\n",
    "    for idx, q in idx_q:\n",
    "        # pop out the element that is smaller than the bus arrival time\n",
    "        while heap and heap[0] < q:\n",
    "                heapq.heappop(heap)\n",
    "        # keep pushing to the heap if the bus is not full\n",
    "        while j < len(p) and len(heap) < k:\n",
    "            if p[j] >= q:\n",
    "                heapq.heappush(heap, p[j])\n",
    "            j += 1\n",
    "        # dont need to check elements that has arrival time larger than the max(patience time)\n",
    "        if j == len(p) and len(heap) < k:\n",
    "            break\n",
    "        ret[idx] = j\n",
    "    return ret\n",
    "\n",
    "# [2,4,0]\n",
    "print(kthPerson(k=2, p=[1,2,3,4], q=[1,3,4]))\n",
    "# [2,3,3,3,0,0,0]\n",
    "print(kthPerson(k=2, p=[1,4,4,3,1,2,6], q=[1,2,3,4,5,6,7]))"
   ]
  },
  {
   "cell_type": "code",
   "execution_count": null,
   "id": "bc24de00",
   "metadata": {},
   "outputs": [],
   "source": []
  }
 ],
 "metadata": {
  "kernelspec": {
   "display_name": "Python 3.10.11 64-bit",
   "language": "python",
   "name": "python3"
  },
  "language_info": {
   "codemirror_mode": {
    "name": "ipython",
    "version": 3
   },
   "file_extension": ".py",
   "mimetype": "text/x-python",
   "name": "python",
   "nbconvert_exporter": "python",
   "pygments_lexer": "ipython3",
   "version": "3.10.11"
  },
  "vscode": {
   "interpreter": {
    "hash": "aee8b7b246df8f9039afb4144a1f6fd8d2ca17a180786b69acc140d282b71a49"
   }
  }
 },
 "nbformat": 4,
 "nbformat_minor": 5
}
