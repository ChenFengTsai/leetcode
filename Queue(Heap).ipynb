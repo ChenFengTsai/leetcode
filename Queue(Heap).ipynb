{
 "cells": [
  {
   "cell_type": "markdown",
   "id": "120f4f23-9162-4c6b-bf83-0789c6426b1d",
   "metadata": {},
   "source": [
    "# Queue"
   ]
  },
  {
   "cell_type": "markdown",
   "id": "000f8620-eca7-494d-9cc3-6e5f5918cbeb",
   "metadata": {},
   "source": [
    "### Tree Traversal BFS"
   ]
  },
  {
   "cell_type": "code",
   "execution_count": null,
   "id": "95ee2bf5-26ca-47b5-9b3b-41b8c83134cb",
   "metadata": {},
   "outputs": [],
   "source": [
    "### in Tree doc"
   ]
  },
  {
   "cell_type": "markdown",
   "id": "a8dbed4a-3ee3-472c-9752-a13a1c00e8f2",
   "metadata": {},
   "source": [
    "### Sliding Window find Max"
   ]
  },
  {
   "cell_type": "code",
   "execution_count": null,
   "id": "eea3e44a-a7b5-47db-8811-8b04573e8a98",
   "metadata": {},
   "outputs": [],
   "source": [
    "### in Sliding window doc"
   ]
  },
  {
   "cell_type": "markdown",
   "id": "c75eae27",
   "metadata": {},
   "source": [
    "### Flip Numbers"
   ]
  },
  {
   "cell_type": "code",
   "execution_count": 2,
   "id": "f4449c7d",
   "metadata": {},
   "outputs": [
    {
     "name": "stdout",
     "output_type": "stream",
     "text": [
      "[-1, 1, 2, -4]\n"
     ]
    }
   ],
   "source": [
    "# nums = [1, 1, -2, 4]\n",
    "# intervals = [[0, 1], [1, 3]] (included two sides)\n",
    "# output = [-1, 1, 2, -4]\n",
    "## Time Complexity:  O(nlogn) due to sorting\n",
    "## the for loop only require O(len(nums)) and O(len(intervals)) since they ae independent\n",
    "## Space complexity: O(n)\n",
    "import heapq\n",
    "def flip(nums, intervals):\n",
    "    intervals.sort(key = lambda i: i[0])\n",
    "    q = []\n",
    "    for i in range(len(nums)):\n",
    "        # pop out the end indx in queue that is out of range\n",
    "        while q and q[0] < i:\n",
    "            heapq.heappop(q)\n",
    "        while intervals and intervals[0][0] == i:\n",
    "            start, end = intervals.pop(0)\n",
    "            heapq.heappush(q, end)\n",
    "        if len(q)%2 == 1:\n",
    "            nums[i] = -nums[i]\n",
    "    return nums\n",
    "                 \n",
    "if __name__ == \"__main__\":\n",
    "    nums = [1, 1, -2, 4]\n",
    "    intervals = [[0, 1], [1, 3]]\n",
    "    res = flip(nums, intervals)\n",
    "    print(res)"
   ]
  },
  {
   "cell_type": "markdown",
   "id": "d2c0e8ae",
   "metadata": {},
   "source": [
    "### Find Median from Data Stream (Hard)\n"
   ]
  },
  {
   "cell_type": "code",
   "execution_count": null,
   "id": "c9fb70ad",
   "metadata": {},
   "outputs": [],
   "source": [
    "# Input\n",
    "# [\"MedianFinder\", \"addNum\", \"addNum\", \"findMedian\", \"addNum\", \"findMedian\"]\n",
    "# [[], [1], [2], [], [3], []]\n",
    "# Output\n",
    "# [null, null, null, 1.5, null, 2.0]\n",
    "import heapq\n",
    "\n",
    "class MedianFinder(object):\n",
    "\n",
    "    def __init__(self):\n",
    "        self.small = []\n",
    "        self.large = []\n",
    "\n",
    "    def addNum(self, num):\n",
    "        \"\"\"\n",
    "        :type num: int\n",
    "        :rtype: None\n",
    "        \"\"\"\n",
    "        # create max heap for small\n",
    "        heapq.heappush(self.small, -1*num)\n",
    "\n",
    "        # make sure biggest num in small is <= smallest num in large\n",
    "        if self.small and self.large \\\n",
    "            and (-1*self.small[0]) > self.large[0]:\n",
    "            val = -1*heapq.heappop(self.small)\n",
    "            heapq.heappush(self.large, val)\n",
    "        # check even size for small and large\n",
    "        if len(self.small) > len(self.large) + 1:\n",
    "            val = -1*heapq.heappop(self.small)\n",
    "            heapq.heappush(self.large, val)\n",
    "        if len(self.large) > len(self.small) + 1:\n",
    "            val = heapq.heappop(self.large)\n",
    "            heapq.heappush(self.small, -1*val)\n",
    "\n",
    "    def findMedian(self):\n",
    "        \"\"\"\n",
    "        :rtype: float\n",
    "        \"\"\"\n",
    "        # the median is in the small heap\n",
    "        if len(self.small) > len(self.large):\n",
    "            return -1 * self.small[0]\n",
    "        # the median is in the large heap\n",
    "        if len(self.large) > len(self.small):\n",
    "            return self.large[0]\n",
    "        # the median is in the middle of the two heaps\n",
    "        return (-1*self.small[0] + self.large[0])/2.0"
   ]
  },
  {
   "cell_type": "markdown",
   "id": "60641ce7",
   "metadata": {},
   "source": [
    "### Merge k Sorted Lists"
   ]
  },
  {
   "cell_type": "code",
   "execution_count": null,
   "id": "b83e67f1",
   "metadata": {},
   "outputs": [],
   "source": [
    "### in linkedlist doc"
   ]
  },
  {
   "cell_type": "markdown",
   "id": "43bff0d3",
   "metadata": {},
   "source": [
    "### Kth Largest Element in a Stream\n"
   ]
  },
  {
   "cell_type": "code",
   "execution_count": null,
   "id": "5e135888",
   "metadata": {},
   "outputs": [],
   "source": [
    "import heapq\n",
    "class KthLargest(object):\n",
    "\n",
    "    def __init__(self, k, nums):\n",
    "        \"\"\"\n",
    "        :type k: int\n",
    "        :type nums: List[int]\n",
    "        \"\"\"\n",
    "        self.heap = []\n",
    "        self.k = k\n",
    "        for n in nums:\n",
    "            heapq.heappush(self.heap, n)\n",
    "            if len(self.heap) > self.k:\n",
    "                heapq.heappop(self.heap)\n",
    "        print(self.heap[0])\n",
    "        \n",
    "        \n",
    "    def add(self, val):\n",
    "        \"\"\"\n",
    "        :type val: int\n",
    "        :rtype: int\n",
    "        \"\"\"\n",
    "        heapq.heappush(self.heap, val)\n",
    "        if len(self.heap) > self.k:\n",
    "            heapq.heappop(self.heap)\n",
    "        return self.heap[0]"
   ]
  },
  {
   "cell_type": "markdown",
   "id": "c07efdf8",
   "metadata": {},
   "source": [
    "### Find K Pairs with Smallest Sums"
   ]
  },
  {
   "cell_type": "code",
   "execution_count": null,
   "id": "99a51d3f",
   "metadata": {},
   "outputs": [],
   "source": [
    "# Input: nums1 = [1,7,11], nums2 = [2,4,6] (non-decreasing order), k = 3\n",
    "# Output: [[1,2],[1,4],[1,6]]\n",
    "# Explanation: The first 3 pairs are returned from the sequence: [1,2],[1,4],[1,6],[7,2],[7,4],[11,2],[7,6],[11,4],[11,6]\n",
    "\n",
    "import heapq\n",
    "class Solution(object):\n",
    "    def kSmallestPairs(self, nums1, nums2, k):\n",
    "        \"\"\"\n",
    "        :type nums1: List[int]\n",
    "        :type nums2: List[int]\n",
    "        :type k: int\n",
    "        :rtype: List[List[int]]\n",
    "        \"\"\"\n",
    "        res = []\n",
    "        heap = []\n",
    "        visited = set()\n",
    "        two_sum = nums1[0] + nums2[0]\n",
    "        heapq.heappush(heap, (two_sum, 0, 0))\n",
    "        visited.add((0,0))\n",
    "        while len(res) < k and heap:\n",
    "            _, i, j = heapq.heappop(heap)\n",
    "            res.append([nums1[i], nums2[j]])\n",
    "            if i+1 < len(nums1) and (i+1, j) not in visited:\n",
    "                two_sum = nums1[i+1] + nums2[j]\n",
    "                heapq.heappush(heap, (two_sum, i+1, j))\n",
    "                visited.add((i+1, j))\n",
    "            if j+1 < len(nums2) and (i, j+1) not in visited:\n",
    "                two_sum = nums1[i] + nums2[j+1]\n",
    "                heapq.heappush(heap, (two_sum, i, j+1))\n",
    "                visited.add((i, j+1))\n",
    "        return res"
   ]
  },
  {
   "cell_type": "markdown",
   "id": "ce638826",
   "metadata": {},
   "source": [
    "### Bus Stand "
   ]
  },
  {
   "cell_type": "code",
   "execution_count": 3,
   "id": "b7db5321",
   "metadata": {},
   "outputs": [
    {
     "name": "stdout",
     "output_type": "stream",
     "text": [
      "[2, 4, 0]\n",
      "[2, 3, 3, 3, 0, 0, 0]\n"
     ]
    }
   ],
   "source": [
    "# k = bus capacity\n",
    "# p = passenger patience time\n",
    "# q = bus arrival time\n",
    "import heapq\n",
    "def kthPerson(k, p, q):\n",
    "    idx_q = [(idx, qq) for idx, qq in enumerate(q)]\n",
    "    idx_q.sort(key = lambda i: i[1])\n",
    "    ret = [0]*len(q)\n",
    "    heap = []\n",
    "    j = 0\n",
    "    for idx, qq in idx_q:\n",
    "        # pop out the element that is smaller than the bus arrival time\n",
    "        while heap and heap[0] < qq:\n",
    "                heapq.heappop(heap)\n",
    "        # keep pushing to the heap if the bus is not full\n",
    "        while j < len(p) and len(heap) < k:\n",
    "            if p[j] >= qq:\n",
    "                heapq.heappush(heap, p[j])\n",
    "            j += 1\n",
    "        # dont need to check elements that has arrival time larger than the max(patience time)\n",
    "        if j == len(p) and len(heap) < k:\n",
    "            break\n",
    "        ret[idx] = j\n",
    "    return ret\n",
    "\n",
    "# [2,4,0]\n",
    "print(kthPerson(k=2, p=[1,2,3,4], q=[1,3,4]))\n",
    "# [2,3,3,3,0,0,0]\n",
    "print(kthPerson(k=2, p=[1,4,4,3,1,2,6], q=[1,2,3,4,5,6,7]))"
   ]
  },
  {
   "cell_type": "markdown",
   "id": "af84774f",
   "metadata": {},
   "source": [
    "### Kth Largest Element in an Array (similar to above stream question)"
   ]
  },
  {
   "cell_type": "code",
   "execution_count": null,
   "id": "bc24de00",
   "metadata": {},
   "outputs": [],
   "source": [
    "import heapq\n",
    "class Solution(object):\n",
    "    def findKthLargest(self, nums, k):\n",
    "        \"\"\"\n",
    "        :type nums: List[int]\n",
    "        :type k: int\n",
    "        :rtype: int\n",
    "        \"\"\"\n",
    "        ls = []\n",
    "        for n in nums:\n",
    "            heapq.heappush(ls, n)\n",
    "            if len(ls) > k:\n",
    "                heapq.heappop(ls)\n",
    "        return ls[0]"
   ]
  },
  {
   "cell_type": "markdown",
   "id": "b3794ef5",
   "metadata": {},
   "source": [
    "### Task Scheduler"
   ]
  },
  {
   "cell_type": "code",
   "execution_count": 12,
   "id": "d5a3fc7d",
   "metadata": {},
   "outputs": [],
   "source": [
    "from collections import Counter, deque\n",
    "\n",
    "# Input: tasks = [\"A\",\"A\",\"A\",\"B\",\"B\",\"B\"], n = 2\n",
    "# Output: 8\n",
    "# Explanation: A possible sequence is: A -> B -> idle -> A -> B -> idle -> A -> B.\n",
    "# After completing task A, you must wait two cycles before doing A again. \n",
    "# The same applies to task B. In the 3rd interval, neither A nor B can be done, so you idle. \n",
    "# By the 4th cycle, you can do A again as 2 intervals have passed.\n",
    "class Solution(object):\n",
    "    def leastInterval(self, tasks, n):\n",
    "        \"\"\"\n",
    "        :type tasks: List[str]\n",
    "        :type n: int\n",
    "        :rtype: int\n",
    "        \"\"\"\n",
    "        count = Counter(tasks)\n",
    "        # create max heap\n",
    "        maxHeap = [-ct for ct in count.values()]\n",
    "        heapq.heapify(maxHeap)\n",
    "\n",
    "        time = 0\n",
    "        # countainer to keep not done tasks until it can be pushed back to heap\n",
    "        temp = deque()\n",
    "        while maxHeap or temp:\n",
    "            if temp and temp[0][1] == time:\n",
    "                heapq.heappush(maxHeap, temp.popleft()[0])\n",
    "            if maxHeap:\n",
    "                ct = 1 + heapq.heappop(maxHeap)\n",
    "                if ct < 0:\n",
    "                    temp.append((ct, time + n + 1)) # (how many A task left, time when A task can be pushed back to heap)\n",
    "            time += 1\n",
    "        return time"
   ]
  },
  {
   "cell_type": "markdown",
   "id": "22bbc06e",
   "metadata": {},
   "source": [
    "### Rearrange String k Distance Apart (Similar to task scheduler)"
   ]
  },
  {
   "cell_type": "code",
   "execution_count": 23,
   "id": "7c5bc814",
   "metadata": {},
   "outputs": [
    {
     "data": {
      "text/plain": [
       "'abcabc'"
      ]
     },
     "execution_count": 23,
     "metadata": {},
     "output_type": "execute_result"
    }
   ],
   "source": [
    "# Time complexity: O(nlogn)\n",
    "# you can make it to O(n) by this https://www.geeksforgeeks.org/rearrange-characters-string-no-two-adjacent/\n",
    "from collections import deque, Counter\n",
    "import heapq\n",
    "class Solution:\n",
    "    def rearrangeString(self, s: str, k: int) -> str:\n",
    "        maxHeap = [(-ct, ch) for ch, ct in Counter(s).items()]\n",
    "        heapq.heapify(maxHeap)\n",
    "        res = \"\"\n",
    "        temp = deque()\n",
    "        while maxHeap:\n",
    "            neg_ct, ch = heapq.heappop(maxHeap)\n",
    "            res += ch\n",
    "            temp.append((1+neg_ct, ch))\n",
    "            if len(temp) >= k:\n",
    "                neg_ct, ch = temp.popleft()\n",
    "                if neg_ct:\n",
    "                    heapq.heappush(maxHeap, (neg_ct, ch))\n",
    "        return res if len(res) == len(s) else \"\"\n",
    "\n",
    "solution = Solution()\n",
    "solution.rearrangeString(s = \"aabbcc\", k = 3)"
   ]
  },
  {
   "cell_type": "markdown",
   "id": "ab583f97",
   "metadata": {},
   "source": [
    "### Meeting rooms 2"
   ]
  },
  {
   "cell_type": "code",
   "execution_count": null,
   "id": "7bbc5ede",
   "metadata": {},
   "outputs": [],
   "source": [
    "## heap solution\n",
    "class Solution:\n",
    "    def min_meeting2(self, meeting):\n",
    "        meeting.sort(key = lambda i: i[0])\n",
    "        free = []\n",
    "        heapq.heappush(free, meeting[0][1])\n",
    "        for i in range(1, len(meeting)):\n",
    "            # If the current meeting can start after the earliest finishing meeting, \n",
    "            # remove that meeting's end time from the heap, \n",
    "            # indicating that its room becomes free.\n",
    "            if free[0] <= meeting[i][0]:\n",
    "                heapq.heappop(free)\n",
    "            heapq.heappush(free, meeting[i][1])\n",
    "        return len(free)\n",
    "        \n",
    "solution = Solution()\n",
    "solution.min_meeting2([(1, 3), (2, 4), (3, 5)])"
   ]
  },
  {
   "cell_type": "markdown",
   "id": "1b9115e9",
   "metadata": {},
   "source": [
    "### The Skyline Problem"
   ]
  },
  {
   "cell_type": "code",
   "execution_count": null,
   "id": "cc00a0a4",
   "metadata": {},
   "outputs": [],
   "source": [
    "# https://leetcode.com/problems/the-skyline-problem/description/\n",
    "# Input: buildings = [[2,9,10],[3,7,15],[5,12,12],[15,20,10],[19,24,8]] right left top\n",
    "# Output: [[2,10],[3,15],[7,12],[12,0],[15,10],[20,8],[24,0]] x, y\n",
    "# Explanation:\n",
    "# Figure A shows the buildings of the input.\n",
    "# Figure B shows the skyline formed by those buildings. The red points in \n",
    "# figure B represent the key points in the output list.\n",
    "\n",
    "import heapq\n",
    "class Solution(object):\n",
    "    def getSkyline(self, buildings):\n",
    "        \"\"\"\n",
    "        :type buildings: List[List[int]]\n",
    "        :rtype: List[List[int]]\n",
    "        \"\"\"\n",
    "        pos = sorted(set([l for l, _, _ in buildings]+[r for _, r, _ in buildings]))\n",
    "        seg_i = 0\n",
    "        prev_h = 0\n",
    "        alive = []\n",
    "        ret = []\n",
    "\n",
    "        for cur_pos in pos:\n",
    "            # remove position that is ended before the cur_pos\n",
    "            # <= since we need to append horizon (trigger else statement below)\n",
    "            while alive and alive[0][1]<=cur_pos:\n",
    "                heapq.heappop(alive)\n",
    "\n",
    "            # it is <= since it only records the leftmost corner's height\n",
    "            while seg_i<len(buildings) and buildings[seg_i][0]<=cur_pos:\n",
    "                # max heap\n",
    "                height = buildings[seg_i][2]\n",
    "                r = buildings[seg_i][1]\n",
    "                heapq.heappush(alive, (-height, r))\n",
    "                seg_i += 1\n",
    "            \n",
    "            if alive:\n",
    "                cur_h = -alive[0][0]\n",
    "                print(cur_pos, cur_h, prev_h)\n",
    "                if cur_h != prev_h:\n",
    "                    ret.append([cur_pos,cur_h])\n",
    "                    prev_h = cur_h\n",
    "            else:\n",
    "                # horizon (end of an overlapping segments)\n",
    "                ret.append([cur_pos, 0])\n",
    "                prev_h = 0\n",
    "        return ret"
   ]
  },
  {
   "cell_type": "markdown",
   "id": "e3333dc7",
   "metadata": {},
   "source": [
    "### Calculate Total Wait Time"
   ]
  },
  {
   "cell_type": "code",
   "execution_count": 10,
   "id": "ef93079d",
   "metadata": {},
   "outputs": [
    {
     "data": {
      "text/plain": [
       "(8, 0)"
      ]
     },
     "execution_count": 10,
     "metadata": {},
     "output_type": "execute_result"
    }
   ],
   "source": [
    "# N = 2, agent\n",
    "# M = 4, customer\n",
    "# T = [4, 5]\n",
    "# First and Third customer chooses agent 1. Second and Forth customer chooses agent 2.\n",
    "# Next Customer 5th will wait 8 minutes.\n",
    "# https://leetcode.com/discuss/interview-question/1920662/google-phone-calculate-total-wait-time\n",
    "\n",
    "import heapq\n",
    "\n",
    "def waitTime(N, M, T):\n",
    "    h = []\n",
    "    total_time = 0\n",
    "    for i in range(N):\n",
    "        heapq.heappush(h, (total_time, T[i], i))\n",
    "    for j in range(M):\n",
    "        total_time, t, agent = heapq.heappop(h)\n",
    "        total_time += t\n",
    "        heapq.heappush(h, (total_time, t, agent))\n",
    "    # The next customer\n",
    "    total_time, t, agent = heapq.heappop(h)\n",
    "    return total_time, agent\n",
    "\n",
    "waitTime(2,4,[4,5])"
   ]
  },
  {
   "cell_type": "markdown",
   "id": "e9dce3bc",
   "metadata": {},
   "source": [
    "### Smallest Range Covering Elements from K Lists"
   ]
  },
  {
   "cell_type": "code",
   "execution_count": null,
   "id": "b6362335",
   "metadata": {},
   "outputs": [],
   "source": [
    "# Find the smallest range that includes at least one number from each of the k lists.\n",
    "# Input: nums = [[4,10,15,24,26],[0,9,12,20],[5,18,22,30]] non-decreasing\n",
    "# Output: [20,24]\n",
    "# Explanation: \n",
    "# List 1: [4, 10, 15, 24,26], 24 is in range [20,24].\n",
    "# List 2: [0, 9, 12, 20], 20 is in range [20,24].\n",
    "# List 3: [5, 18, 22, 30], 22 is in range [20,24].\n",
    "class Solution:\n",
    "    def smallestRange(self, nums: List[List[int]]) -> List[int]:\n",
    "        heap = []\n",
    "        end = float(\"-Inf\")\n",
    "        for i in range(len(nums)):\n",
    "            heapq.heappush(heap, (nums[i][0], i, nums[i][1:]))\n",
    "            end = max(nums[i][0], end)\n",
    "        start = heap[0][0]\n",
    "        res = [start, end]\n",
    "        while heap:\n",
    "            smallest_val, i, remain = heapq.heappop(heap)\n",
    "            if not len(remain):\n",
    "                break\n",
    "            next_num = remain[0]\n",
    "            end = max(next_num, end)\n",
    "            heapq.heappush(heap, (next_num, i, remain[1:]))\n",
    "            start = heap[0][0]\n",
    "            if end - start < res[1]-res[0]:\n",
    "                res = [start, end]\n",
    "        return res"
   ]
  }
 ],
 "metadata": {
  "kernelspec": {
   "display_name": "Python 3.10.11 64-bit",
   "language": "python",
   "name": "python3"
  },
  "language_info": {
   "codemirror_mode": {
    "name": "ipython",
    "version": 3
   },
   "file_extension": ".py",
   "mimetype": "text/x-python",
   "name": "python",
   "nbconvert_exporter": "python",
   "pygments_lexer": "ipython3",
   "version": "3.10.11"
  },
  "vscode": {
   "interpreter": {
    "hash": "aee8b7b246df8f9039afb4144a1f6fd8d2ca17a180786b69acc140d282b71a49"
   }
  }
 },
 "nbformat": 4,
 "nbformat_minor": 5
}
