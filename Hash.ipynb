{
 "cells": [
  {
   "cell_type": "markdown",
   "id": "8ffa42ac-8b6c-4f04-94a9-dd90cefe5b87",
   "metadata": {},
   "source": [
    "# Hash"
   ]
  },
  {
   "cell_type": "markdown",
   "id": "af644f00-6356-40ec-96ba-acf5a68e1284",
   "metadata": {},
   "source": [
    "### Detect loop in linked list"
   ]
  },
  {
   "cell_type": "code",
   "execution_count": 1,
   "id": "bf67ad4e-29bb-4eea-9872-3eae5b6a412c",
   "metadata": {},
   "outputs": [],
   "source": [
    "### look in linkedlist doc"
   ]
  },
  {
   "cell_type": "markdown",
   "id": "c45600a4-72d0-4a34-95f0-e943f7cae032",
   "metadata": {},
   "source": [
    "### Print all unique rows of the given matrix"
   ]
  },
  {
   "cell_type": "code",
   "execution_count": null,
   "id": "917d615c-d4f8-45b5-bbe6-bd9514348d69",
   "metadata": {},
   "outputs": [],
   "source": [
    "### in tree doc"
   ]
  },
  {
   "cell_type": "markdown",
   "id": "6b1bb09c-a1d7-402e-9f87-f744de6478c4",
   "metadata": {
    "tags": []
   },
   "source": [
    "### Contains Duplicate II"
   ]
  },
  {
   "cell_type": "code",
   "execution_count": null,
   "id": "a4a1c59c-98bf-4119-a5f6-1bc3c8677627",
   "metadata": {},
   "outputs": [],
   "source": [
    "## naive solution \n",
    "## loop through all elements and set condition to remain range k\n",
    "## O(N*K)"
   ]
  },
  {
   "cell_type": "code",
   "execution_count": 1,
   "id": "d17b0b3d-d0c4-41a8-9bc7-41f534f8414a",
   "metadata": {},
   "outputs": [
    {
     "name": "stdout",
     "output_type": "stream",
     "text": [
      "Yes\n"
     ]
    }
   ],
   "source": [
    "## Hash table\n",
    "## O(n)\n",
    "# Given an integer array nums and an integer k, return true if there are two distinct \n",
    "# indices i and j in the array such that nums[i] == nums[j] and abs(i - j) <= k.\n",
    "def containsNearbyDuplicate(nums, k):\n",
    "    \"\"\"\n",
    "    :type nums: List[int]\n",
    "    :type k: int\n",
    "    :rtype: bool\n",
    "    \"\"\"\n",
    "    n = len(nums)\n",
    "    mydict = dict()\n",
    "    for i in range(n):\n",
    "        if nums[i] not in mydict:\n",
    "            mydict[nums[i]] = i\n",
    "        else:\n",
    "            if i - mydict[nums[i]] <= k:\n",
    "                return True\n",
    "            else:\n",
    "                mydict[nums[i]] = i\n",
    "    return False\n",
    "\n",
    "if __name__ == \"__main__\":\n",
    "     \n",
    "    arr = [10, 5, 3, 5, 4, 6]\n",
    "    n = len(arr)\n",
    "    if (containsNearbyDuplicate(arr, 3)):\n",
    "        print(\"Yes\")\n",
    "    else:\n",
    "        print(\"No\")"
   ]
  },
  {
   "cell_type": "markdown",
   "id": "cf82f39f-9358-4772-a51a-2ca10cec20a8",
   "metadata": {},
   "source": [
    "### Two Sum"
   ]
  },
  {
   "cell_type": "code",
   "execution_count": null,
   "id": "40fdce62-6e37-4734-a7ab-6949ef186dd4",
   "metadata": {},
   "outputs": [],
   "source": [
    "### look in w1_sequences"
   ]
  },
  {
   "cell_type": "markdown",
   "id": "99031f6f-1852-423d-801a-3ccd1f19c4ca",
   "metadata": {},
   "source": [
    "### Group Anagrams"
   ]
  },
  {
   "cell_type": "code",
   "execution_count": null,
   "id": "eb9c94be-2892-4d37-a314-e89e5ff8230a",
   "metadata": {},
   "outputs": [],
   "source": [
    "# Input: strs = [\"eat\",\"tea\",\"tan\",\"ate\",\"nat\",\"bat\"]\n",
    "# Output: [[\"bat\"],[\"nat\",\"tan\"],[\"ate\",\"eat\",\"tea\"]]\n",
    "from collections import defaultdict\n",
    "\n",
    "class Solution(object):\n",
    "    def groupAnagrams(self, strs):\n",
    "        \"\"\"\n",
    "        :type strs: List[str]\n",
    "        :rtype: List[List[str]]\n",
    "        \"\"\"\n",
    "        d = defaultdict(list)\n",
    "        for i in strs:\n",
    "            sorted_word = \"\".join(sorted(i))\n",
    "            d[sorted_word].append(i)\n",
    "        return d.values()"
   ]
  },
  {
   "cell_type": "markdown",
   "id": "432be8a3",
   "metadata": {},
   "source": [
    "### Two Sum"
   ]
  },
  {
   "cell_type": "code",
   "execution_count": null,
   "id": "3a3f97c1",
   "metadata": {},
   "outputs": [],
   "source": [
    "# Hashing, Time: O(N), Space: O(N)\n",
    "class Solution(object):\n",
    "    def twoSum(self, nums, target):\n",
    "        \"\"\"\n",
    "        :type nums: List[int]\n",
    "        :type target: int\n",
    "        :rtype: List[int]\n",
    "        \"\"\"\n",
    "        hashmap = dict()\n",
    "\n",
    "        for i in range(len(nums)):\n",
    "            temp = target - nums[i]\n",
    "            if temp in hashmap:\n",
    "                return [hashmap[temp], i]\n",
    "            hashmap[nums[i]] = i"
   ]
  },
  {
   "cell_type": "markdown",
   "id": "0af6eb8f",
   "metadata": {},
   "source": [
    "### Contains Duplicate"
   ]
  },
  {
   "cell_type": "code",
   "execution_count": null,
   "id": "1f3b8d46",
   "metadata": {},
   "outputs": [],
   "source": [
    "# hashing\n",
    "class Solution(object):\n",
    "    def containsDuplicate(self, nums):\n",
    "        \"\"\"\n",
    "        :type nums: List[int]\n",
    "        :rtype: bool\n",
    "        \"\"\"\n",
    "        hashmap = dict()\n",
    "        for i in range(len(nums)):\n",
    "            if nums[i] in hashmap:\n",
    "                return True\n",
    "            hashmap[nums[i]] = i"
   ]
  },
  {
   "cell_type": "markdown",
   "id": "9756df45",
   "metadata": {},
   "source": [
    "### Valid Anagram"
   ]
  },
  {
   "cell_type": "code",
   "execution_count": null,
   "id": "a9b2babf",
   "metadata": {},
   "outputs": [],
   "source": [
    "# Input: s = \"anagram\", t = \"nagaram\"\n",
    "# Output: true\n",
    "# can be rearranged\n",
    "\n",
    "class Solution(object):\n",
    "    def isAnagram(self, s, t):\n",
    "        \"\"\"\n",
    "        :type s: str\n",
    "        :type t: str\n",
    "        :rtype: bool\n",
    "        \"\"\"\n",
    "        hashmap = dict()\n",
    "        for i in s:\n",
    "            hashmap[i] = 1 + hashmap.get(i,0)\n",
    "\n",
    "        for j in t:\n",
    "            if j not in hashmap:\n",
    "                return False\n",
    "            else:\n",
    "                hashmap[j] -= 1\n",
    "        for k in hashmap.keys():\n",
    "            if hashmap[k] != 0:\n",
    "                return False\n",
    "        return True"
   ]
  },
  {
   "cell_type": "markdown",
   "id": "eff92c72",
   "metadata": {},
   "source": [
    "### Longest Consecutive Sequence\n"
   ]
  },
  {
   "cell_type": "code",
   "execution_count": null,
   "id": "98730ea8",
   "metadata": {},
   "outputs": [],
   "source": [
    "# do not sort it since sort it requires O(nlogn) time but we want O(n) so we utilize memory with O(n) to have less time\n",
    "# Input: nums = [100,4,200,1,3,2]\n",
    "# Output: 4 \n",
    "# since [1,2,3,4]\n",
    "class Solution(object):\n",
    "    def longestConsecutive(self, nums):\n",
    "        \"\"\"\n",
    "        :type nums: List[int]\n",
    "        :rtype: int\n",
    "        \"\"\"\n",
    "        numSet = set(nums)\n",
    "        longest = 0\n",
    "        for n in nums:\n",
    "            # check if it is the start of a sequence\n",
    "            if (n-1) not in numSet:\n",
    "                length = 1\n",
    "                while (n+length) in numSet:\n",
    "                    length+=1\n",
    "                longest = max(longest, length)\n",
    "        return longest"
   ]
  }
 ],
 "metadata": {
  "kernelspec": {
   "display_name": "Python 3.10.11 64-bit",
   "language": "python",
   "name": "python3"
  },
  "language_info": {
   "codemirror_mode": {
    "name": "ipython",
    "version": 3
   },
   "file_extension": ".py",
   "mimetype": "text/x-python",
   "name": "python",
   "nbconvert_exporter": "python",
   "pygments_lexer": "ipython3",
   "version": "3.10.11"
  },
  "vscode": {
   "interpreter": {
    "hash": "aee8b7b246df8f9039afb4144a1f6fd8d2ca17a180786b69acc140d282b71a49"
   }
  }
 },
 "nbformat": 4,
 "nbformat_minor": 5
}
