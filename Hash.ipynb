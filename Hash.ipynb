{
 "cells": [
  {
   "cell_type": "markdown",
   "id": "8ffa42ac-8b6c-4f04-94a9-dd90cefe5b87",
   "metadata": {},
   "source": [
    "# Hash"
   ]
  },
  {
   "cell_type": "markdown",
   "id": "af644f00-6356-40ec-96ba-acf5a68e1284",
   "metadata": {},
   "source": [
    "### Detect loop in linked list"
   ]
  },
  {
   "cell_type": "code",
   "execution_count": 1,
   "id": "bf67ad4e-29bb-4eea-9872-3eae5b6a412c",
   "metadata": {},
   "outputs": [],
   "source": [
    "### look in linkedlist doc"
   ]
  },
  {
   "cell_type": "markdown",
   "id": "c45600a4-72d0-4a34-95f0-e943f7cae032",
   "metadata": {},
   "source": [
    "### Print all unique rows of the given matrix"
   ]
  },
  {
   "cell_type": "code",
   "execution_count": null,
   "id": "917d615c-d4f8-45b5-bbe6-bd9514348d69",
   "metadata": {},
   "outputs": [],
   "source": [
    "### in tree doc"
   ]
  },
  {
   "cell_type": "markdown",
   "id": "6b1bb09c-a1d7-402e-9f87-f744de6478c4",
   "metadata": {
    "tags": []
   },
   "source": [
    "### Contains Duplicate II"
   ]
  },
  {
   "cell_type": "code",
   "execution_count": null,
   "id": "a4a1c59c-98bf-4119-a5f6-1bc3c8677627",
   "metadata": {},
   "outputs": [],
   "source": [
    "## naive solution \n",
    "## loop through all elements and set condition to remain range k\n",
    "## O(N*K)"
   ]
  },
  {
   "cell_type": "code",
   "execution_count": 3,
   "id": "d17b0b3d-d0c4-41a8-9bc7-41f534f8414a",
   "metadata": {},
   "outputs": [
    {
     "name": "stdout",
     "output_type": "stream",
     "text": [
      "Yes\n"
     ]
    }
   ],
   "source": [
    "## Hash table\n",
    "## O(n)\n",
    "def containsNearbyDuplicate(nums, k):\n",
    "    \"\"\"\n",
    "    :type nums: List[int]\n",
    "    :type k: int\n",
    "    :rtype: bool\n",
    "    \"\"\"\n",
    "    n = len(nums)\n",
    "    mydict = dict()\n",
    "    for i in range(n):\n",
    "        if nums[i] not in mydict:\n",
    "            mydict[nums[i]] = i\n",
    "        else:\n",
    "            if i - mydict[nums[i]] <= k:\n",
    "                return True\n",
    "            else:\n",
    "                mydict[nums[i]] = i\n",
    "    return False\n",
    "\n",
    "if __name__ == \"__main__\":\n",
    "     \n",
    "    arr = [10, 5, 3, 5, 4, 6]\n",
    "    n = len(arr)\n",
    "    if (containsNearbyDuplicate(arr, 3)):\n",
    "        print(\"Yes\")\n",
    "    else:\n",
    "        print(\"No\")"
   ]
  },
  {
   "cell_type": "markdown",
   "id": "cf82f39f-9358-4772-a51a-2ca10cec20a8",
   "metadata": {},
   "source": [
    "### Two Sum"
   ]
  },
  {
   "cell_type": "code",
   "execution_count": null,
   "id": "40fdce62-6e37-4734-a7ab-6949ef186dd4",
   "metadata": {},
   "outputs": [],
   "source": [
    "### look in w1_sequences"
   ]
  },
  {
   "cell_type": "markdown",
   "id": "99031f6f-1852-423d-801a-3ccd1f19c4ca",
   "metadata": {},
   "source": [
    "### Group Anagrams"
   ]
  },
  {
   "cell_type": "code",
   "execution_count": null,
   "id": "eb9c94be-2892-4d37-a314-e89e5ff8230a",
   "metadata": {},
   "outputs": [],
   "source": [
    "# Input: strs = [\"eat\",\"tea\",\"tan\",\"ate\",\"nat\",\"bat\"]\n",
    "# Output: [[\"bat\"],[\"nat\",\"tan\"],[\"ate\",\"eat\",\"tea\"]]\n",
    "\n",
    "class Solution(object):\n",
    "    def groupAnagrams(self, strs):\n",
    "        \"\"\"\n",
    "        :type strs: List[str]\n",
    "        :rtype: List[List[str]]\n",
    "        \"\"\"\n",
    "        d = dict()\n",
    "        for i in strs:\n",
    "            sorted_word = \"\".join(sorted(i))\n",
    "            if sorted_word not in d:\n",
    "                d[sorted_word] = []\n",
    "            d[sorted_word].append(i)\n",
    "        return d.values()"
   ]
  },
  {
   "cell_type": "markdown",
   "id": "eff92c72",
   "metadata": {},
   "source": [
    "\n"
   ]
  }
 ],
 "metadata": {
  "kernelspec": {
   "display_name": "Python 3.10.11 64-bit",
   "language": "python",
   "name": "python3"
  },
  "language_info": {
   "codemirror_mode": {
    "name": "ipython",
    "version": 3
   },
   "file_extension": ".py",
   "mimetype": "text/x-python",
   "name": "python",
   "nbconvert_exporter": "python",
   "pygments_lexer": "ipython3",
   "version": "3.10.11"
  },
  "vscode": {
   "interpreter": {
    "hash": "aee8b7b246df8f9039afb4144a1f6fd8d2ca17a180786b69acc140d282b71a49"
   }
  }
 },
 "nbformat": 4,
 "nbformat_minor": 5
}
