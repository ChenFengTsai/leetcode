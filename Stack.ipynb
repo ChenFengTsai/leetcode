{
 "cells": [
  {
   "cell_type": "markdown",
   "id": "bc5aa579-aba0-46fc-945a-4e5757f52de8",
   "metadata": {},
   "source": [
    "# Stack"
   ]
  },
  {
   "cell_type": "markdown",
   "id": "1aa7fef1-44cc-47cc-9ece-064d8332947b",
   "metadata": {
    "tags": []
   },
   "source": [
    "### Zigzig Traversal for binary tree"
   ]
  },
  {
   "cell_type": "code",
   "execution_count": null,
   "id": "2c5e865e-2d99-4732-87ae-f76a42cdc7f7",
   "metadata": {},
   "outputs": [],
   "source": [
    "# look in tree doc"
   ]
  },
  {
   "cell_type": "markdown",
   "id": "d43a94b5-6507-45ca-b194-67bb89699789",
   "metadata": {},
   "source": [
    "### Infix expression to Postfix expression"
   ]
  },
  {
   "cell_type": "code",
   "execution_count": 2,
   "id": "f032ca7e-55b0-41b2-801f-b4b5ab3aaba7",
   "metadata": {},
   "outputs": [],
   "source": [
    "priority = {'+': 1, '-': 1, '*': 2, '/': 2, '^': 3}\n",
    "def InToPost(exp):\n",
    "    operand = []\n",
    "    arr = []\n",
    "    for i in exp:\n",
    "        if i.isalpha():\n",
    "            operand.append(i)\n",
    "        elif i == '(':\n",
    "            arr.append(i)\n",
    "        elif i == ')':\n",
    "            while (len(arr) > 0) and (arr[-1] != '('):\n",
    "                a = arr.pop()\n",
    "                operand.append(a)\n",
    "            arr.pop()\n",
    "        # operator encounter\n",
    "        else:\n",
    "            while(len(arr) > 0) and (arr[-1] != '(') and (priority[i] <= priority[arr[-1]]):\n",
    "                a = arr.pop()\n",
    "                operand.append(a)\n",
    "            arr.append(i)\n",
    "    while len(arr)>0:\n",
    "        a = arr.pop()\n",
    "        operand.append(a)\n",
    "    print (\"\".join(operand))"
   ]
  },
  {
   "cell_type": "code",
   "execution_count": 3,
   "id": "f6d293b1-3839-4ba9-85fc-34eb4e7b918d",
   "metadata": {},
   "outputs": [
    {
     "name": "stdout",
     "output_type": "stream",
     "text": [
      "mn*pqa*-r*+\n"
     ]
    }
   ],
   "source": [
    "exp = \"m*n+(p-q*a)*r\"\n",
    "InToPost(exp)"
   ]
  },
  {
   "cell_type": "markdown",
   "id": "89ac5005-e6aa-4674-a72c-3a5451b123db",
   "metadata": {},
   "source": [
    "### Valid Parantheses"
   ]
  },
  {
   "cell_type": "code",
   "execution_count": null,
   "id": "67ad00a0-18c5-4a63-a963-3ad2497f62d0",
   "metadata": {},
   "outputs": [],
   "source": [
    "class Solution(object):\n",
    "    def isValid(self, s):\n",
    "        \"\"\"\n",
    "        :type s: str\n",
    "        :rtype: bool\n",
    "        \"\"\"\n",
    "        stack = []\n",
    "        closeopen = {\")\" : \"(\",\n",
    "                    \"]\" : \"[\",\n",
    "                    \"}\" : \"{\"}\n",
    "        for c in s:\n",
    "            if c in closeopen:\n",
    "                if stack and stack[-1] == closeopen[c]:\n",
    "                    stack.pop()\n",
    "                else:\n",
    "                    return False\n",
    "            else:\n",
    "                stack.append(c)\n",
    "        return True if not stack else False"
   ]
  },
  {
   "cell_type": "markdown",
   "id": "bf0e5769",
   "metadata": {},
   "source": [
    "### Longest Valid Parentheses (save index not parenthesis)"
   ]
  },
  {
   "cell_type": "code",
   "execution_count": null,
   "id": "3c08fe9f",
   "metadata": {},
   "outputs": [],
   "source": [
    "class Solution(object):\n",
    "    def longestValidParentheses(self, s):\n",
    "        \"\"\"\n",
    "        :type s: str\n",
    "        :rtype: int\n",
    "        \"\"\"\n",
    "        max_length = 0\n",
    "        stack = [-1]  # Initialize the stack with -1 since the valid paranthesis can be started at the beginning\n",
    "        for i in range(len(s)):\n",
    "            if s[i] == '(':\n",
    "                stack.append(i)\n",
    "            else:\n",
    "                stack.pop()\n",
    "                if not stack:  # If the stack is empty, push the current index, this is used to handle ')' at the start after valid pair\n",
    "                    stack.append(i)\n",
    "                else:\n",
    "                    max_length = max(max_length, i - stack[-1])\n",
    "        return max_length"
   ]
  },
  {
   "cell_type": "markdown",
   "id": "1ae0664a",
   "metadata": {},
   "source": [
    "### MinStack"
   ]
  },
  {
   "cell_type": "code",
   "execution_count": null,
   "id": "5501297a",
   "metadata": {},
   "outputs": [],
   "source": [
    "class MinStack(object):\n",
    "\n",
    "    def __init__(self):\n",
    "        self.stack = []\n",
    "        self.min_val = []\n",
    "\n",
    "    def push(self, val):\n",
    "        \"\"\"\n",
    "        :type val: int\n",
    "        :rtype: None\n",
    "        \"\"\"\n",
    "        self.stack += [val]\n",
    "        if self.min_val:\n",
    "            self.min_val += [min(val, self.min_val[-1])]\n",
    "        else:\n",
    "            self.min_val += [val]\n",
    "\n",
    "    def pop(self):\n",
    "        \"\"\"\n",
    "        :rtype: None\n",
    "        \"\"\"\n",
    "        self.stack = self.stack[:-1]\n",
    "        self.min_val = self.min_val[:-1]\n",
    "        \n",
    "    def top(self):\n",
    "        \"\"\"\n",
    "        :rtype: int\n",
    "        \"\"\"\n",
    "        return self.stack[-1]\n",
    "\n",
    "    def getMin(self):\n",
    "        \"\"\"\n",
    "        :rtype: int\n",
    "        \"\"\"\n",
    "        return self.min_val[-1]\n",
    "        \n",
    "\n",
    "\n",
    "# Your MinStack object will be instantiated and called as such:\n",
    "# obj = MinStack()\n",
    "# obj.push(val)\n",
    "# obj.pop()\n",
    "# param_3 = obj.top()\n",
    "# param_4 = obj.getMin()"
   ]
  },
  {
   "cell_type": "markdown",
   "id": "2dd785c4",
   "metadata": {},
   "source": [
    "### Decode String"
   ]
  },
  {
   "cell_type": "code",
   "execution_count": null,
   "id": "5890a62f",
   "metadata": {},
   "outputs": [],
   "source": [
    "class Solution(object):\n",
    "    def decodeString(self, s):\n",
    "        \"\"\"\n",
    "        :type s: str\n",
    "        :rtype: str\n",
    "        \"\"\"\n",
    "        stack = []\n",
    "        curString = ''\n",
    "        curnum = 0\n",
    "        for c in s:\n",
    "            if c.isdigit():\n",
    "                curnum = curnum*10 + int(c)\n",
    "            elif c.isalpha():\n",
    "                curString += c\n",
    "            elif c == '[':\n",
    "                stack.append(curString)\n",
    "                stack.append(curnum)\n",
    "                # into a new bracket\n",
    "                curString = ''\n",
    "                curnum = 0\n",
    "            elif c == ']':\n",
    "                prevnum = stack.pop()\n",
    "                prevString = stack.pop()\n",
    "                curString = prevString + curString*prevnum\n",
    "\n",
    "        return curString"
   ]
  },
  {
   "cell_type": "markdown",
   "id": "79618817",
   "metadata": {},
   "source": [
    "### Largest Rectangle in Histogram"
   ]
  },
  {
   "cell_type": "code",
   "execution_count": null,
   "id": "feedfbba",
   "metadata": {},
   "outputs": [],
   "source": [
    "# https://www.youtube.com/watch?v=zx5Sw9130L0\n",
    "\n",
    "class Solution(object):\n",
    "    def largestRectangleArea(self, heights):\n",
    "        \"\"\"\n",
    "        :type heights: List[int]\n",
    "        :rtype: int\n",
    "        \"\"\"\n",
    "        maxArea = 0\n",
    "        stack = [] # pair: (start_index, height)\n",
    "        for i, h in enumerate(heights):\n",
    "            start = i\n",
    "            while stack and stack[-1][1] > h:\n",
    "                index, height = stack.pop()\n",
    "                maxArea = max(maxArea, height * (i-index))\n",
    "                start = index\n",
    "            stack.append((start, h))\n",
    "        for i, h in stack:\n",
    "            maxArea = max(maxArea, h * (len(heights)-i))\n",
    "        return maxArea"
   ]
  },
  {
   "cell_type": "markdown",
   "id": "26f43ef2",
   "metadata": {},
   "source": [
    "### Maximal Rectangle (similar to above histogram question but expand to matrix so look at each row individually)"
   ]
  },
  {
   "cell_type": "code",
   "execution_count": null,
   "id": "2ed73e2f",
   "metadata": {},
   "outputs": [],
   "source": [
    "class Solution(object):\n",
    "    def maximalRectangle(self, matrix):\n",
    "        \"\"\"\n",
    "        :type matrix: List[List[str]]\n",
    "        :rtype: int\n",
    "        \"\"\"\n",
    "        rows, cols = len(matrix), len(matrix[0])\n",
    "        heights = [0] * cols\n",
    "        max_area = 0\n",
    "        for i in range(rows):\n",
    "            for j in range(cols):\n",
    "                if matrix[i][j] == '1':\n",
    "                    heights[j] += 1\n",
    "                else:\n",
    "                    heights[j] = 0\n",
    "            max_area = max(max_area, self.max_rectangle(heights))\n",
    "        return max_area\n",
    "\n",
    "    def max_rectangle(self, heights):\n",
    "        maxArea = 0\n",
    "        stack = [] # pair: (start_index, height)\n",
    "        for i, h in enumerate(heights):\n",
    "            start = i\n",
    "            while stack and stack[-1][1] > h:\n",
    "                index, height = stack.pop()\n",
    "                maxArea = max(maxArea, height * (i-index))\n",
    "                start = index\n",
    "            stack.append((start, h))\n",
    "        for i, h in stack:\n",
    "            maxArea = max(maxArea, h * (len(heights)-i))\n",
    "        return maxArea"
   ]
  }
 ],
 "metadata": {
  "kernelspec": {
   "display_name": "Python 3.10.11 64-bit",
   "language": "python",
   "name": "python3"
  },
  "language_info": {
   "codemirror_mode": {
    "name": "ipython",
    "version": 3
   },
   "file_extension": ".py",
   "mimetype": "text/x-python",
   "name": "python",
   "nbconvert_exporter": "python",
   "pygments_lexer": "ipython3",
   "version": "3.10.11"
  },
  "vscode": {
   "interpreter": {
    "hash": "aee8b7b246df8f9039afb4144a1f6fd8d2ca17a180786b69acc140d282b71a49"
   }
  }
 },
 "nbformat": 4,
 "nbformat_minor": 5
}
