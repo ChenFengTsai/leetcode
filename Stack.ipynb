{
 "cells": [
  {
   "cell_type": "markdown",
   "id": "bc5aa579-aba0-46fc-945a-4e5757f52de8",
   "metadata": {},
   "source": [
    "# Stack"
   ]
  },
  {
   "cell_type": "markdown",
   "id": "1aa7fef1-44cc-47cc-9ece-064d8332947b",
   "metadata": {
    "tags": []
   },
   "source": [
    "### Zigzig Traversal for binary tree"
   ]
  },
  {
   "cell_type": "code",
   "execution_count": null,
   "id": "2c5e865e-2d99-4732-87ae-f76a42cdc7f7",
   "metadata": {},
   "outputs": [],
   "source": [
    "# look in tree doc"
   ]
  },
  {
   "cell_type": "markdown",
   "id": "d43a94b5-6507-45ca-b194-67bb89699789",
   "metadata": {},
   "source": [
    "### Infix expression to Postfix expression"
   ]
  },
  {
   "cell_type": "code",
   "execution_count": 2,
   "id": "f032ca7e-55b0-41b2-801f-b4b5ab3aaba7",
   "metadata": {},
   "outputs": [],
   "source": [
    "priority = {'+': 1, '-': 1, '*': 2, '/': 2, '^': 3}\n",
    "def InToPost(exp):\n",
    "    operand = []\n",
    "    arr = []\n",
    "    for i in exp:\n",
    "        if i.isalpha():\n",
    "            operand.append(i)\n",
    "        elif i == '(':\n",
    "            arr.append(i)\n",
    "        elif i == ')':\n",
    "            while (len(arr) > 0) and (arr[-1] != '('):\n",
    "                a = arr.pop()\n",
    "                operand.append(a)\n",
    "            arr.pop()\n",
    "        # operator encounter\n",
    "        else:\n",
    "            while(len(arr) > 0) and (arr[-1] != '(') and (priority[i] <= priority[arr[-1]]):\n",
    "                a = arr.pop()\n",
    "                operand.append(a)\n",
    "            arr.append(i)\n",
    "    while len(arr)>0:\n",
    "        a = arr.pop()\n",
    "        operand.append(a)\n",
    "    print (\"\".join(operand))"
   ]
  },
  {
   "cell_type": "code",
   "execution_count": 3,
   "id": "f6d293b1-3839-4ba9-85fc-34eb4e7b918d",
   "metadata": {},
   "outputs": [
    {
     "name": "stdout",
     "output_type": "stream",
     "text": [
      "mn*pqa*-r*+\n"
     ]
    }
   ],
   "source": [
    "exp = \"m*n+(p-q*a)*r\"\n",
    "InToPost(exp)"
   ]
  },
  {
   "cell_type": "markdown",
   "id": "89ac5005-e6aa-4674-a72c-3a5451b123db",
   "metadata": {},
   "source": [
    "### Valid Parantheses"
   ]
  },
  {
   "cell_type": "code",
   "execution_count": null,
   "id": "67ad00a0-18c5-4a63-a963-3ad2497f62d0",
   "metadata": {},
   "outputs": [],
   "source": [
    "class Solution(object):\n",
    "    def isValid(self, s):\n",
    "        \"\"\"\n",
    "        :type s: str\n",
    "        :rtype: bool\n",
    "        \"\"\"\n",
    "        stack = []\n",
    "        closeopen = {\")\" : \"(\",\n",
    "                    \"]\" : \"[\",\n",
    "                    \"}\" : \"{\"}\n",
    "        for c in s:\n",
    "            if c in closeopen:\n",
    "                if stack and stack[-1] == closeopen[c]:\n",
    "                    stack.pop()\n",
    "                else:\n",
    "                    return False\n",
    "            else:\n",
    "                stack.append(c)\n",
    "        return True if not stack else False"
   ]
  },
  {
   "cell_type": "markdown",
   "id": "1ae0664a",
   "metadata": {},
   "source": [
    "### MinStack"
   ]
  },
  {
   "cell_type": "code",
   "execution_count": null,
   "id": "5501297a",
   "metadata": {},
   "outputs": [],
   "source": [
    "class MinStack(object):\n",
    "\n",
    "    def __init__(self):\n",
    "        self.stack = []\n",
    "        self.min_val = []\n",
    "\n",
    "    def push(self, val):\n",
    "        \"\"\"\n",
    "        :type val: int\n",
    "        :rtype: None\n",
    "        \"\"\"\n",
    "        self.stack += [val]\n",
    "        if self.min_val:\n",
    "            self.min_val += [min(val, self.min_val[-1])]\n",
    "        else:\n",
    "            self.min_val += [val]\n",
    "\n",
    "    def pop(self):\n",
    "        \"\"\"\n",
    "        :rtype: None\n",
    "        \"\"\"\n",
    "        self.stack = self.stack[:-1]\n",
    "        self.min_val = self.min_val[:-1]\n",
    "        \n",
    "    def top(self):\n",
    "        \"\"\"\n",
    "        :rtype: int\n",
    "        \"\"\"\n",
    "        return self.stack[-1]\n",
    "\n",
    "    def getMin(self):\n",
    "        \"\"\"\n",
    "        :rtype: int\n",
    "        \"\"\"\n",
    "        return self.min_val[-1]\n",
    "        \n",
    "\n",
    "\n",
    "# Your MinStack object will be instantiated and called as such:\n",
    "# obj = MinStack()\n",
    "# obj.push(val)\n",
    "# obj.pop()\n",
    "# param_3 = obj.top()\n",
    "# param_4 = obj.getMin()"
   ]
  }
 ],
 "metadata": {
  "kernelspec": {
   "display_name": "Python 3.10.11 64-bit",
   "language": "python",
   "name": "python3"
  },
  "language_info": {
   "codemirror_mode": {
    "name": "ipython",
    "version": 3
   },
   "file_extension": ".py",
   "mimetype": "text/x-python",
   "name": "python",
   "nbconvert_exporter": "python",
   "pygments_lexer": "ipython3",
   "version": "3.10.11"
  },
  "vscode": {
   "interpreter": {
    "hash": "aee8b7b246df8f9039afb4144a1f6fd8d2ca17a180786b69acc140d282b71a49"
   }
  }
 },
 "nbformat": 4,
 "nbformat_minor": 5
}
