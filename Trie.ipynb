{
 "cells": [
  {
   "cell_type": "markdown",
   "id": "660195fe-cc66-4500-90d6-858eaf3c889f",
   "metadata": {},
   "source": [
    "# Trie"
   ]
  },
  {
   "cell_type": "markdown",
   "id": "91947c0a-af81-4041-a90c-055deae47c9a",
   "metadata": {},
   "source": [
    "### Print all unique rows of the given matrix"
   ]
  },
  {
   "cell_type": "code",
   "execution_count": null,
   "id": "33a5d45d-3cd3-4905-b121-c798c5432a66",
   "metadata": {},
   "outputs": [],
   "source": [
    "### in tree doc"
   ]
  },
  {
   "cell_type": "code",
   "execution_count": null,
   "id": "6c5e3cf5-d96d-4084-bd88-16eeb744119c",
   "metadata": {},
   "outputs": [],
   "source": []
  },
  {
   "cell_type": "code",
   "execution_count": null,
   "id": "afaebd12-6b7c-44f5-890e-4a78b8a06563",
   "metadata": {},
   "outputs": [],
   "source": []
  },
  {
   "cell_type": "code",
   "execution_count": null,
   "id": "690f0c80-a361-47cc-965f-2d6991c12abe",
   "metadata": {},
   "outputs": [],
   "source": []
  }
 ],
 "metadata": {
  "kernelspec": {
   "display_name": "Python 3 (ipykernel)",
   "language": "python",
   "name": "python3"
  },
  "language_info": {
   "codemirror_mode": {
    "name": "ipython",
    "version": 3
   },
   "file_extension": ".py",
   "mimetype": "text/x-python",
   "name": "python",
   "nbconvert_exporter": "python",
   "pygments_lexer": "ipython3",
   "version": "3.8.10"
  }
 },
 "nbformat": 4,
 "nbformat_minor": 5
}
