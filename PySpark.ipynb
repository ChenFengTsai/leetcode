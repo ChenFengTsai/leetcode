{
 "cells": [
  {
   "cell_type": "code",
   "execution_count": null,
   "id": "89ab595c-d044-4fa1-a481-8f7276292ca2",
   "metadata": {},
   "outputs": [],
   "source": [
    "#https://colab.research.google.com/drive/1vkJbVcmsXAoNTpRvvwAK4fbA49bjS7He\n",
    "# Imports\n",
    "from pyspark.sql import SparkSession\n",
    "from pyspark.sql.function import *\n",
    "from pyspark.sql.window import Window\n",
    "from pyspark.sql.types import *\n",
    "\n",
    "# Create SparkSession\n",
    "spark = SparkSession.builder \\\n",
    "            .appName('SparkByExamples.com') \\\n",
    "            .getOrCreate()"
   ]
  },
  {
   "cell_type": "code",
   "execution_count": null,
   "id": "021ac500-c524-49f3-835f-555c98a2be80",
   "metadata": {},
   "outputs": [],
   "source": [
    "!ls -lrt\n",
    "!head tickets.dat"
   ]
  },
  {
   "cell_type": "code",
   "execution_count": null,
   "id": "cc55921b-d139-42c4-abda-5de964a8bf52",
   "metadata": {},
   "outputs": [],
   "source": [
    "# load data\n",
    "df1=spark.read.csv(dat_file,sep=\"|\",inferSchema=True,header=True)\n",
    "spark.read.json()\n",
    "spark.read.text()\n",
    "spar.read.load(\"parquet\")"
   ]
  },
  {
   "cell_type": "code",
   "execution_count": null,
   "id": "17511143-4867-427c-bb55-190b9fb5e277",
   "metadata": {},
   "outputs": [],
   "source": [
    "# inspect data\n",
    "df.printSchema()\n",
    "df.head()\n",
    "df.first() # first row\n",
    "df.distinct()\n",
    "df.count()\n",
    "df.distinct().count()"
   ]
  },
  {
   "cell_type": "code",
   "execution_count": null,
   "id": "03a341d7-611a-4124-9910-b713126db52f",
   "metadata": {},
   "outputs": [],
   "source": [
    "# filter\n",
    "df.filter(df.age > 24).show()\n",
    "df.filter(df.age.between(22,44)).show()\n",
    "df.filter(col('languages').isin('S','A')).show()\n",
    "# not in\n",
    "df.filter(~col('languages').isin('S','A')).show()\n",
    "# contain\n",
    "df.filter(df.location.contains('google.com'))"
   ]
  },
  {
   "cell_type": "code",
   "execution_count": null,
   "id": "891c7365-8736-4a06-991d-45e6296b22a6",
   "metadata": {},
   "outputs": [],
   "source": [
    "# drop duplicate\n",
    "df = df.dropDuplicates()"
   ]
  },
  {
   "cell_type": "code",
   "execution_count": null,
   "id": "de31b50a-54b4-47d3-8199-09920d2cff7d",
   "metadata": {},
   "outputs": [],
   "source": [
    "# add columns value\n",
    "df.withColumn('total', 'mark1'+'mark2'+'mark3')"
   ]
  },
  {
   "cell_type": "code",
   "execution_count": null,
   "id": "ee1267be-3e3f-451a-bc56-afe095ef369c",
   "metadata": {},
   "outputs": [],
   "source": [
    "# select\n",
    "df.select('mark1', 'mark2').show()\n",
    "df.select(df.age, df['age']+1)\n",
    "\n",
    "# when (numerical) like case when in sql\n",
    "df.select(when(df.age>3,1).when(df.age>5,2).otherwise(3)).show()\n",
    "cols = ('age','name')\n",
    "df = df.withColumn('bucket', when(df.age>3,1).when(df.age>5,2).otherwise(3)).drop(*cols)\n",
    "\n",
    "# startswith / endswith\n",
    "df.select(col('firstName').startswith('Sm')).show()\n",
    "df.select(col('firstName').endswith('ith')).show()\n",
    "\n",
    "# substring\n",
    "df.select(df.firstname.substr(1,3).alias('short'))"
   ]
  },
  {
   "cell_type": "code",
   "execution_count": null,
   "id": "d2462754-1c4b-4084-993f-924f1b3cc0f4",
   "metadata": {},
   "outputs": [],
   "source": [
    "# join df\n",
    "df.join(df2, df.name == df2.name, how = inner)"
   ]
  },
  {
   "cell_type": "code",
   "execution_count": null,
   "id": "cf2026fc-e11b-4517-a0ca-00a3ab1a7735",
   "metadata": {},
   "outputs": [],
   "source": [
    "# union df\n",
    "df.union(df2)"
   ]
  },
  {
   "cell_type": "code",
   "execution_count": null,
   "id": "88c6b85e-b586-44f6-b978-baceb176976f",
   "metadata": {},
   "outputs": [],
   "source": [
    "# explode nested array\n",
    "df.select(df.name, explode(df.subjects)).show(truncate=False)\n",
    "# flatten to nested array\n",
    "df.select(df.name, flatten(df.subjects)).show(truncate=False)"
   ]
  },
  {
   "cell_type": "code",
   "execution_count": null,
   "id": "aaabfde3-4d94-4e58-9228-6e5dac585044",
   "metadata": {},
   "outputs": [],
   "source": [
    "# rename column\n",
    "df = df.withColumnRenamed('Mark2', 'Mark22')"
   ]
  },
  {
   "cell_type": "code",
   "execution_count": null,
   "id": "5bf5f68f-c691-494c-95fd-2e1d84c64245",
   "metadata": {},
   "outputs": [],
   "source": [
    "# missing value\n",
    "df.na.fill(50)\n",
    "df.na.drop()"
   ]
  },
  {
   "cell_type": "code",
   "execution_count": null,
   "id": "cbee17fa-58a4-4e80-96a7-c8172ef36de8",
   "metadata": {},
   "outputs": [],
   "source": [
    "# replace\n",
    "df.na.replace(10,20,col)\n",
    "df.na.replace(['Tom','Amy'], ['T','A'], 'name').show()\n",
    "# regrex replace\n",
    "df.withColumn('address', \n",
    "    when(df.address.endswith('Rd'),regexp_replace(df.address,'Rd','Road')).show()"
   ]
  },
  {
   "cell_type": "code",
   "execution_count": null,
   "id": "9449bd59-c028-4aa5-a84e-f96e2d83e006",
   "metadata": {},
   "outputs": [],
   "source": [
    "# group by\n",
    "df.groupby('age').agg(count('*').alias('count')).show()"
   ]
  },
  {
   "cell_type": "code",
   "execution_count": null,
   "id": "d746cb26-7ceb-4192-823a-a0f8c4a98822",
   "metadata": {},
   "outputs": [],
   "source": [
    "# partition by order by\n",
    "windowSpec  = Window.partitionBy(\"department\").orderBy(\"salary\")\n",
    "df.withColumn(\"lag\",lag(\"salary\",2).over(windowSpec)).show()\n",
    "# window function\n",
    "row_number().over(windowSpec)\n",
    "rank().over(windowSpec)\n",
    "dense_rank().over()\n",
    "percent_rank().over()\n",
    "lag('age',3).over()\n",
    "lead('age',3).over()\n",
    "# ntile return relative rank value in that selected interval\n",
    "ntil(2).over(partitionBy('department').orderBy('salary'))"
   ]
  },
  {
   "cell_type": "code",
   "execution_count": null,
   "id": "5a3bff89-0c0f-411c-8cc6-cc87f2d48dd6",
   "metadata": {},
   "outputs": [],
   "source": [
    "# sort\n",
    "df.sort('age', ascending = 'False')"
   ]
  },
  {
   "cell_type": "code",
   "execution_count": null,
   "id": "fedcba36-5055-4009-9467-62207b5ad456",
   "metadata": {},
   "outputs": [],
   "source": [
    "# sql query\n",
    "df.createOrReplaceTempView(\"customer\")\n",
    "df5 = spark.sql(\"SELECT * FROM customer\").show()"
   ]
  },
  {
   "cell_type": "code",
   "execution_count": null,
   "id": "14505f14-ac8d-45e9-8982-be298a738eaf",
   "metadata": {},
   "outputs": [],
   "source": [
    "# convert to different data struct\n",
    "df.toPandas()\n",
    "df.toJSON()\n",
    "df.rdd"
   ]
  },
  {
   "cell_type": "code",
   "execution_count": null,
   "id": "efdd7b1d-8920-4943-99b7-51be5206b84f",
   "metadata": {},
   "outputs": [],
   "source": [
    "# write & save\n",
    "df.select('age').write.save('age.parquet')\n",
    "df.select('age').write.save('age.json', format = 'jason')"
   ]
  },
  {
   "cell_type": "code",
   "execution_count": null,
   "id": "f0ed5c97-4416-4944-8b99-32f1d8710a35",
   "metadata": {},
   "outputs": [],
   "source": [
    "# handling sentence\n",
    "df.writeColumn('word_count', size(split('sentence'),' '))"
   ]
  },
  {
   "cell_type": "code",
   "execution_count": null,
   "id": "3a224651-e639-4ac3-aa05-30e271de4f65",
   "metadata": {},
   "outputs": [],
   "source": [
    "# datetime\n",
    "df.select(\n",
    "    year(\"datetime\").alias('year'), \n",
    "    month(\"datetime\").alias('month'), \n",
    "    dayofmonth(\"datetime\").alias('day')\n",
    ").show()"
   ]
  },
  {
   "cell_type": "code",
   "execution_count": null,
   "id": "28b57cd2-8338-4117-a5de-81fbf6f92160",
   "metadata": {},
   "outputs": [],
   "source": []
  }
 ],
 "metadata": {
  "kernelspec": {
   "display_name": "Python 3 (ipykernel)",
   "language": "python",
   "name": "python3"
  },
  "language_info": {
   "codemirror_mode": {
    "name": "ipython",
    "version": 3
   },
   "file_extension": ".py",
   "mimetype": "text/x-python",
   "name": "python",
   "nbconvert_exporter": "python",
   "pygments_lexer": "ipython3",
   "version": "3.8.10"
  }
 },
 "nbformat": 4,
 "nbformat_minor": 5
}
