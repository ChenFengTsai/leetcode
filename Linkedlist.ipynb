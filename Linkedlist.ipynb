{
 "cells": [
  {
   "cell_type": "markdown",
   "id": "17d6875d-8bf0-4676-8560-00bc22181ec3",
   "metadata": {},
   "source": [
    "# Linked List"
   ]
  },
  {
   "cell_type": "markdown",
   "id": "12c827c7-cb5f-459f-a3f0-19aca537b866",
   "metadata": {
    "jp-MarkdownHeadingCollapsed": true,
    "tags": []
   },
   "source": [
    "### Insertion"
   ]
  },
  {
   "cell_type": "code",
   "execution_count": null,
   "id": "85bfdf47-6143-43a1-b13e-0d0ec5cbfc87",
   "metadata": {},
   "outputs": [],
   "source": [
    "# Initilize\n",
    "class Node:\n",
    "    def __init__(self, data):\n",
    "        self.data = data\n",
    "        self.next = None\n",
    "\n",
    "class LinkedList:\n",
    "    def __init__(self):\n",
    "        self.head = None\n",
    "        \n",
    "    # add at the front (common in real application)\n",
    "    def push(self, new_data):\n",
    "        new_node = Node(new_data)\n",
    "        new_node.next = self.head\n",
    "        self.head = new_node\n",
    "\n",
    "    # add at given location\n",
    "    def insert(self, prev_data, new_data):\n",
    "        # check if prev_data in linkedlist\n",
    "        if not prev_data:\n",
    "            return\n",
    "        new_node = Node(new_data)\n",
    "        new_node.next = prev_data.next\n",
    "        prev_data.next = new_node\n",
    "\n",
    "    # add at the end\n",
    "    def append(self, new_data):\n",
    "        # if original linkedlist is empty then new node is the whole new linkedlist\n",
    "        new_node = Node(new_data)\n",
    "        if not self.head:\n",
    "            self.head = new_node\n",
    "            return\n",
    "        last = self.head\n",
    "        while last.next:\n",
    "            last = last.next\n",
    "        last.next = new_node"
   ]
  },
  {
   "cell_type": "markdown",
   "id": "66d4cdc8-1e89-40b3-9588-c7d90dfc73cd",
   "metadata": {
    "jp-MarkdownHeadingCollapsed": true,
    "tags": []
   },
   "source": [
    "### Deletion"
   ]
  },
  {
   "cell_type": "code",
   "execution_count": null,
   "id": "8b150bb8-cb4f-43a0-9f74-21392e15e2f1",
   "metadata": {},
   "outputs": [],
   "source": [
    "class Node:\n",
    "    def __init__(self, data):\n",
    "        self.data = data\n",
    "        self.next = None\n",
    "\n",
    "class LinkedList:\n",
    "    def __init__(self):\n",
    "        self.head = None\n",
    "    \n",
    "    def push(self, data):\n",
    "        new_node = Node(data)\n",
    "        new_node.next = self.head\n",
    "        self.head = new_node\n",
    "    \n",
    "    # iterative method to delete (two pointer)\n",
    "    def deleteN(self, position):\n",
    "        temp = self.head\n",
    "        prev = self.head\n",
    "        if position == 0:\n",
    "            self.head = self.head.next\n",
    "        else:\n",
    "            for i in range(position):\n",
    "                if i == position and temp is not None:\n",
    "                    prev.next = temp.next\n",
    "                else:\n",
    "                    prev = temp\n",
    "                    # position greater than the linkedlist\n",
    "                    if prev is None:\n",
    "                        break\n",
    "                    temp = temp.next\n",
    "        \n",
    "\n",
    "\n",
    "            \n",
    "    # delete node that equals to certain value (iterative) runtime, space O(n), O(n) (two pointer) \n",
    "    def deletNo(self, val):\n",
    "        temp = self.head\n",
    "        prev = self.head\n",
    "        \n",
    "        # at the first position\n",
    "        if temp is not None:\n",
    "            if temp.data == val:\n",
    "                self.head = temp.next\n",
    "                temp = None\n",
    "                return\n",
    "        \n",
    "        while temp is not None:\n",
    "            if temp.data == val:\n",
    "                break\n",
    "            prev = temp\n",
    "            temp = temp.next\n",
    "        # not in the list\n",
    "        if temp == None:\n",
    "            return \n",
    "        # crucial point\n",
    "        prev.next = temp.next\n",
    "        # free temp to reduce space\n",
    "        temp = None"
   ]
  },
  {
   "cell_type": "markdown",
   "id": "7ba31716-f335-4dca-b80f-e0eba4286f39",
   "metadata": {
    "jp-MarkdownHeadingCollapsed": true,
    "tags": []
   },
   "source": [
    "### Find the middle of a given linked list (median)"
   ]
  },
  {
   "cell_type": "code",
   "execution_count": null,
   "id": "cf05b4dd-2daf-46d9-a2e8-55a03ba8f286",
   "metadata": {},
   "outputs": [],
   "source": [
    "class Node:\n",
    "    def __init__(self, data):\n",
    "        self.data = data\n",
    "        self.next = None\n",
    "\n",
    "class LinkedList:\n",
    "    def __init__(self):\n",
    "        self.head = None\n",
    "    \n",
    "    def push(self, data):\n",
    "        new_node = Node(data)\n",
    "        new_node.next = self.head\n",
    "        self.head = new_node\n",
    "    \n",
    "    # find median using two pointer, fast run two times faster than slow (did not consider odd or even count)\n",
    "    def median(self):\n",
    "        slow = self.head\n",
    "        fast = self.head\n",
    "        \n",
    "        while fast and fast.next:\n",
    "            slow = slow.next\n",
    "            fast = fast.next.next\n",
    "        return slow.data"
   ]
  },
  {
   "cell_type": "markdown",
   "id": "e6b2ac5f-3e36-463e-8318-463a6b86b6b9",
   "metadata": {
    "jp-MarkdownHeadingCollapsed": true,
    "tags": []
   },
   "source": [
    "### Nth node from the end of a Linked List (simlar to remove nth node from the end of linked list, use the remove one since better, ignore this one)"
   ]
  },
  {
   "cell_type": "code",
   "execution_count": 53,
   "id": "bed6f933-453d-4404-b77c-ae4a5c053df8",
   "metadata": {},
   "outputs": [],
   "source": [
    "class Node:\n",
    "    def __init__(self, data):\n",
    "        self.data = data\n",
    "        self.next = None\n",
    "\n",
    "class LinkedList:\n",
    "    def __init__(self):\n",
    "        self.head = None\n",
    "    \n",
    "    def push(self, data):\n",
    "        new_node = Node(data)\n",
    "        new_node.next = self.head\n",
    "        self.head = new_node\n",
    "        \n",
    "    # using two pointer, one is at position of the subtraction of the total one starts to count\n",
    "    def NthEnd(self, N):\n",
    "        # initialize two pointers\n",
    "        main = self.head\n",
    "        ref = self.head\n",
    "        # count the elements in linkedlist\n",
    "        count = 0\n",
    "        if self.head is not None:\n",
    "            while count < N:\n",
    "                # N larger than number of elements in linkedlist\n",
    "                if ref is None:\n",
    "                    return\n",
    "                ref = ref.next\n",
    "                count += 1\n",
    "        if ref is None:\n",
    "            print(\"Node no. % d from last is % d \"% (N, main.data))\n",
    "        else:\n",
    "            while ref is not None:\n",
    "                main = main.next\n",
    "                ref = ref.next\n",
    "            print(\"Node no. % d from last is % d \"% (N, main.data))\n",
    "  \n",
    "# recursive way to do it\n",
    "def NthEndRecur(head, N):\n",
    "    i = 0\n",
    "    if head == None:\n",
    "        return\n",
    "    NthEndRecur(head.next, N);\n",
    "    # since recursion count from the back\n",
    "    i+=1\n",
    "    if i == N:\n",
    "        print(head.data)"
   ]
  },
  {
   "cell_type": "markdown",
   "id": "eb044915-d963-42ac-9d2c-1b90df6cf0c6",
   "metadata": {
    "jp-MarkdownHeadingCollapsed": true,
    "tags": []
   },
   "source": [
    "### Sort a linked list of 0s, 1s and 2s by changing links"
   ]
  },
  {
   "cell_type": "code",
   "execution_count": 55,
   "id": "ed219c86-4bf3-43f8-8b0f-0b1c57fa9bf3",
   "metadata": {},
   "outputs": [],
   "source": [
    "class Node:\n",
    "    def __init__(self, data):\n",
    "        self.data = data\n",
    "        self.next = None\n",
    "\n",
    "class LinkedList:\n",
    "    def __init__(self):\n",
    "        self.head = None\n",
    "    \n",
    "    def push(self, data):\n",
    "        new_node = Node(data)\n",
    "        new_node.next = self.head\n",
    "        self.head = new_node\n",
    "\n",
    "def sortList(head):\n",
    "    if head == None or head.next == None:\n",
    "        return head\n",
    "    \n",
    "    # initialize three nodes\n",
    "    zero_h = Node(0)\n",
    "    one_h = Node(0)\n",
    "    two_h = Node(0)\n",
    "    \n",
    "    # create pointer for each initilized nodes to move forward\n",
    "    zero = zero_h\n",
    "    one = one_h\n",
    "    two = two_h\n",
    "    \n",
    "    # traverse the list\n",
    "    curr = head\n",
    "    while curr:\n",
    "        if curr.val == 0:\n",
    "            zero.next = curr\n",
    "            zero = zero.next\n",
    "        elif curr.val == 1:\n",
    "            one.next = curr\n",
    "            one = one.next\n",
    "        elif curr.val == 2:\n",
    "            two.next = curr\n",
    "            two = two.next\n",
    "        curr = curr.next\n",
    "    # connect\n",
    "    if one_h.next:\n",
    "        zero.next = one_h.next\n",
    "        one.next = two_h.next\n",
    "    else:\n",
    "        zero.next = two_h.next\n",
    "    \n",
    "    \n",
    "    # assign null to the end\n",
    "    two.next = None\n",
    "    # assign head to the front\n",
    "    head = zero_h.next\n",
    "    return head"
   ]
  },
  {
   "cell_type": "markdown",
   "id": "7de423ab-8a21-4b46-9863-fda32f620cf5",
   "metadata": {
    "tags": []
   },
   "source": [
    "### Detect loop in linked list (Hashing)"
   ]
  },
  {
   "cell_type": "code",
   "execution_count": null,
   "id": "2170764a-3450-469a-b89f-a58e6a0a3957",
   "metadata": {},
   "outputs": [],
   "source": [
    "class Node:\n",
    "    def __init__(self, data):\n",
    "        self.data = data\n",
    "        self.next = None\n",
    "\n",
    "class LinkedList:\n",
    "    def __init__(self):\n",
    "        self.head = None\n",
    "    \n",
    "    def push(self, data):\n",
    "        new_node = Node(data)\n",
    "        new_node.next = self.head\n",
    "        self.head = new_node\n",
    "    \n",
    "    def detect(self):\n",
    "        # create a hash table to detect\n",
    "        s = set()\n",
    "        temp = self.head\n",
    "        while temp:\n",
    "            if temp in s:\n",
    "                return True\n",
    "            else:\n",
    "                s.add(temp)\n",
    "                temp = temp.next\n",
    "        return False"
   ]
  },
  {
   "cell_type": "markdown",
   "id": "f9bbd5f2-db31-4109-915d-fe4050fff623",
   "metadata": {},
   "source": [
    "### Convert BST to Sorted Doubly Linkedlist"
   ]
  },
  {
   "cell_type": "code",
   "execution_count": null,
   "id": "56264d7f-8f2f-4188-b2e1-7e316d1fb06a",
   "metadata": {},
   "outputs": [],
   "source": [
    "### in tree doc"
   ]
  },
  {
   "cell_type": "markdown",
   "id": "1df12b30-676d-4ddf-b908-f7ec1c03204b",
   "metadata": {},
   "source": [
    "### Convert Binary Tree to Linked List with DFS (preorder traversal)"
   ]
  },
  {
   "cell_type": "code",
   "execution_count": null,
   "id": "3387cc36-27c7-4fd8-9087-5a47192f86d7",
   "metadata": {},
   "outputs": [],
   "source": [
    "### in tree doc"
   ]
  },
  {
   "cell_type": "markdown",
   "id": "7598294b-da95-4470-b0ab-e5974562e783",
   "metadata": {},
   "source": [
    "### Convert sorted linkedlist to BST"
   ]
  },
  {
   "cell_type": "code",
   "execution_count": null,
   "id": "cd956a8c-ace7-4053-ab31-787deb6a3dd5",
   "metadata": {},
   "outputs": [],
   "source": [
    "### in tree doc"
   ]
  },
  {
   "cell_type": "markdown",
   "id": "295d0f92-23b1-493b-85cd-29439b6edb3f",
   "metadata": {
    "jp-MarkdownHeadingCollapsed": true,
    "tags": []
   },
   "source": [
    "### Sort Linkedlist (Merge Sort)"
   ]
  },
  {
   "cell_type": "code",
   "execution_count": null,
   "id": "a259a427-1d8d-4b64-8a11-805a600b97c3",
   "metadata": {},
   "outputs": [],
   "source": [
    "class Node:\n",
    "    def __init__(self, data):\n",
    "        self.data = data\n",
    "        self.next = None\n",
    "\n",
    "### Time complexity for merge sort is O(nlogn)\n",
    "class Solution(object):\n",
    "    def sortList(self, head):\n",
    "        \"\"\"\n",
    "        :type head: ListNode\n",
    "        :rtype: ListNode\n",
    "        \"\"\"\n",
    "        def split(head, k):\n",
    "            while k > 1 and head:\n",
    "                head = head.next\n",
    "                k -= 1\n",
    "            if head:\n",
    "                rest = head.next\n",
    "            else:\n",
    "                rest = None\n",
    "            return rest\n",
    "        \n",
    "        def merge(l1, l2):\n",
    "            dummy = Node(0)\n",
    "            tail = dummy\n",
    "            while l1 and l2:\n",
    "                # swap smaller element to l1\n",
    "                if l1.data > l2.data:\n",
    "                    l1, l2 = l2, l1\n",
    "                tail.next = l1\n",
    "                l1 = l1.next\n",
    "                tail = tail.next\n",
    "                \n",
    "            if l1:\n",
    "                tail.next = l1\n",
    "            else:\n",
    "                tail.next = l2\n",
    "            # traverse to the end for the tail\n",
    "            while tail.next:\n",
    "                tail = tail.next\n",
    "            return dummy.next, tail\n",
    "        \n",
    "        # count how many nodes\n",
    "        length = 0\n",
    "        curr = head\n",
    "        while curr:\n",
    "            length += 1\n",
    "            curr = curr.next\n",
    "            \n",
    "        dummy = Node(0, head)\n",
    "        # start from 1 and then increase by two times\n",
    "        k = 1\n",
    "        while k < length:\n",
    "            # initialize the curr and tail\n",
    "            curr = dummy.next\n",
    "            tail = dummy\n",
    "            while curr:\n",
    "                l = curr\n",
    "                r = split(l, k)\n",
    "                # update the curr to the rest of the list\n",
    "                curr = split(r, k)\n",
    "                merged_head, merged_tail = merge(l, r)\n",
    "                tail.next = merged_head\n",
    "                tail = merged_tail\n",
    "            k*=2\n",
    "        return dummy.next"
   ]
  },
  {
   "cell_type": "code",
   "execution_count": 1,
   "id": "bd787173",
   "metadata": {},
   "outputs": [],
   "source": [
    "### Selection sort (slower than merge sort O(n^2))\n",
    "def sort_linked_list(head):\n",
    "    if head is None:\n",
    "        return None\n",
    "    if head.next is None:\n",
    "        return head\n",
    "    current = head\n",
    "    # count how many nodes in the linkedlist\n",
    "    count = 0\n",
    "    while current is not None:\n",
    "        count += 1\n",
    "        current = current.next\n",
    "\n",
    "    for i in range(count):\n",
    "        # move pointers to currect location\n",
    "        current = head\n",
    "        for k in range(i):\n",
    "            current = current.next\n",
    "        for j in range(i+1, count):\n",
    "            currentj = head\n",
    "            for k in range(j):\n",
    "                currentj = currentj.next\n",
    "            # switch the smallest to the i location\n",
    "            if current.data > currentj.data:\n",
    "                current.data, currentj.data = currentj.data, current.data\n",
    "    return head"
   ]
  },
  {
   "cell_type": "markdown",
   "id": "9fd47bf7-47a6-4c98-8ead-71a8d5a1cdbc",
   "metadata": {},
   "source": [
    "### Quicksort in doubly linkedlist"
   ]
  },
  {
   "cell_type": "code",
   "execution_count": null,
   "id": "24ecdccb-aa35-4053-9829-a5ddae456602",
   "metadata": {},
   "outputs": [],
   "source": [
    "### in array doc"
   ]
  },
  {
   "cell_type": "markdown",
   "id": "3af93bf2-957b-4620-9a55-b8166c0714a2",
   "metadata": {
    "tags": []
   },
   "source": [
    "### Reverse linkedlist"
   ]
  },
  {
   "cell_type": "code",
   "execution_count": null,
   "id": "5721e964-b8e8-4dea-8046-b6b2e79e9181",
   "metadata": {},
   "outputs": [],
   "source": [
    "def reverse(head):\n",
    "    prev = None\n",
    "    current = head\n",
    "    while current:\n",
    "        temp = current.next\n",
    "        current.next = prev\n",
    "        prev = current\n",
    "        current = temp\n",
    "    head = prev\n",
    "    return head"
   ]
  },
  {
   "cell_type": "markdown",
   "id": "f341899a-99e0-4a2a-8c0c-cd12dd91521e",
   "metadata": {
    "tags": []
   },
   "source": [
    "### Rervese doubly linkedlist"
   ]
  },
  {
   "cell_type": "code",
   "execution_count": null,
   "id": "a9d3b8f6-0bcb-44c9-ad59-1ed9c28af39f",
   "metadata": {},
   "outputs": [],
   "source": [
    "def reversedll(head):\n",
    "    prev = None\n",
    "    current = head\n",
    "    while current:\n",
    "        # current.left is now Null at first\n",
    "        temp = current.left\n",
    "        current.left = current.right\n",
    "        # let current.right point to Null at first round\n",
    "        current.right = temp\n",
    "        prev = current\n",
    "        current = current.left\n",
    "    return prev"
   ]
  },
  {
   "cell_type": "markdown",
   "id": "63f6a396-3de5-4802-8cf9-484c6264e1c2",
   "metadata": {},
   "source": [
    "### Remove Nth Node From End Of List"
   ]
  },
  {
   "cell_type": "code",
   "execution_count": null,
   "id": "18babc11-322c-4f13-bf25-d0faf4278155",
   "metadata": {},
   "outputs": [],
   "source": [
    "class Node(object):\n",
    "    def __init__(self, val=0):\n",
    "        self.val = val\n",
    "        self.next = None\n",
    " \n",
    "# Input: head = [1,2,3,4,5], n = 2\n",
    "# Output: [1,2,3,5]       \n",
    "class Solution(object):\n",
    "    def removeNthFromEnd(self, head, n):\n",
    "        \"\"\"\n",
    "        :type head: Node\n",
    "        :type n: int\n",
    "        :rtype: Node\n",
    "        \"\"\"\n",
    "        dummy = Node(0)\n",
    "        left = dummy\n",
    "        right = head \n",
    "        while n > 0:\n",
    "            right = right.next\n",
    "            n -= 1\n",
    "        while right:\n",
    "            left = left.next\n",
    "            right = right.next\n",
    "        # delete\n",
    "        left.next = left.next.next\n",
    "        return dummy.next\n",
    "    "
   ]
  },
  {
   "cell_type": "markdown",
   "id": "af05b27e",
   "metadata": {},
   "source": [
    "### Merge k Sorted Lists"
   ]
  },
  {
   "cell_type": "code",
   "execution_count": 4,
   "id": "14e7cffa-1507-4a15-bf8f-e71ad26bd4da",
   "metadata": {},
   "outputs": [],
   "source": [
    "# Input: lists = [[1,4,5],[1,3,4],[2,6]]\n",
    "# Output: [1,1,2,3,4,4,5,6]\n",
    "import heapq\n",
    "\n",
    "class Solution(object):\n",
    "    def mergeKLists(self, lists):\n",
    "        \"\"\"\n",
    "        :type lists: List[ListNode]\n",
    "        :rtype: ListNode\n",
    "        \"\"\"\n",
    "        res = Node()\n",
    "        p = res\n",
    "        h = []\n",
    "        count = 0\n",
    "        for lst in lists:\n",
    "            if lst:\n",
    "                heapq.heappush(h, (lst.val, count, lst))\n",
    "                count += 1\n",
    "                \n",
    "        while h:\n",
    "            # the smallest element is popped\n",
    "            smallest_combo = heapq.heappop(h)\n",
    "            smallestPnt = smallest_combo[2]\n",
    "            p.next = smallestPnt\n",
    "            p = p.next\n",
    "            if smallestPnt.next:\n",
    "                smallestPnt = smallestPnt.next\n",
    "                heapq.heappush(h, (smallestPnt.val, smallest_combo[1], smallestPnt))\n",
    "        return res.next"
   ]
  },
  {
   "cell_type": "markdown",
   "id": "875b7aa6",
   "metadata": {},
   "source": [
    "### Remove Duplicates from Sorted List"
   ]
  },
  {
   "cell_type": "code",
   "execution_count": null,
   "id": "f358d7e4",
   "metadata": {},
   "outputs": [],
   "source": [
    "## Input : [1,2,3,3,4,4,5]\n",
    "## Output: [1,2,3,4,5]\n",
    "class Solution(object):\n",
    "    def deleteDuplicates(self, head):\n",
    "        \"\"\"\n",
    "        :type head: ListNode\n",
    "        :rtype: ListNode\n",
    "        \"\"\"\n",
    "        if not head:\n",
    "            return head\n",
    "        temp = head\n",
    "        while temp.next:\n",
    "            if temp.next.val == temp.val:\n",
    "                temp.next = temp.next.next\n",
    "            else:\n",
    "                temp = temp.next\n",
    "        return head"
   ]
  },
  {
   "cell_type": "markdown",
   "id": "3c734229",
   "metadata": {},
   "source": [
    "### Remove Duplicates from Sorted List II\n"
   ]
  },
  {
   "cell_type": "code",
   "execution_count": 1,
   "id": "9594b4c3",
   "metadata": {},
   "outputs": [],
   "source": [
    "# Definition for singly-linked list.\n",
    "class ListNode(object):\n",
    "    def __init__(self, val=0, next=None):\n",
    "        self.val = val\n",
    "        self.next = next\n",
    "\n",
    "## Input : [1,2,3,3,4,4,5]\n",
    "## Output: [1,2,5]\n",
    "class Solution(object):\n",
    "    def deleteDuplicates(self, head):\n",
    "        \"\"\"\n",
    "        :type head: ListNode\n",
    "        :rtype: ListNode\n",
    "        \"\"\"\n",
    "        dummy = ListNode()\n",
    "        dummy.next = head\n",
    "        prev = dummy\n",
    "        while head:\n",
    "            if head.next and head.next.val == head.val:\n",
    "                while head.next and head.next.val == head.val:\n",
    "                    head = head.next\n",
    "                head = head.next # move to the next start\n",
    "                prev.next = head # assign pointer to the start\n",
    "\n",
    "            else:\n",
    "                head = head.next\n",
    "                prev = prev.next\n",
    "        return dummy.next"
   ]
  },
  {
   "cell_type": "markdown",
   "id": "d5da427b",
   "metadata": {},
   "source": [
    "### Add Two Numbers\n"
   ]
  },
  {
   "cell_type": "code",
   "execution_count": null,
   "id": "1b1752d3",
   "metadata": {},
   "outputs": [],
   "source": [
    "## two linkedlist and make it into one\n",
    "class Solution(object):\n",
    "    def addTwoNumbers(self, l1, l2):\n",
    "        \"\"\"\n",
    "        :type l1: ListNode\n",
    "        :type l2: ListNode\n",
    "        :rtype: ListNode\n",
    "        \"\"\"\n",
    "        dummy = ListNode(0)  # Initialize dummy with value 0.\n",
    "        current = dummy\n",
    "        carry = 0\n",
    "\n",
    "        while l1 or l2 or carry:\n",
    "            if l1:\n",
    "                x = l1.val\n",
    "            else:\n",
    "                x = 0\n",
    "            if l2:\n",
    "                y = l2.val \n",
    "            else:\n",
    "                y = 0\n",
    "            total_sum = x + y + carry\n",
    "\n",
    "            carry = total_sum // 10\n",
    "            current.next = ListNode(total_sum % 10)\n",
    "            current = current.next\n",
    "            if l1: \n",
    "                l1 = l1.next\n",
    "            if l2: \n",
    "                l2 = l2.next\n",
    "\n",
    "        return dummy.next"
   ]
  },
  {
   "cell_type": "markdown",
   "id": "83d62f90",
   "metadata": {},
   "source": [
    "### Copy List with Random Pointer"
   ]
  },
  {
   "cell_type": "code",
   "execution_count": null,
   "id": "14d442fe",
   "metadata": {},
   "outputs": [],
   "source": [
    "\"\"\"\n",
    "# Definition for a Node.\n",
    "class Node:\n",
    "    def __init__(self, x, next=None, random=None):\n",
    "        self.val = int(x)\n",
    "        self.next = next\n",
    "        self.random = random\n",
    "\"\"\"\n",
    "# Time and space complexity O(N)\n",
    "class Solution(object):\n",
    "    def copyRandomList(self, head):\n",
    "        \"\"\"\n",
    "        :type head: Node\n",
    "        :rtype: Node\n",
    "        \"\"\"\n",
    "        if not head:\n",
    "            return None\n",
    "\n",
    "        # Create a mapping from original nodes to their corresponding copied nodes\n",
    "        mp = {}\n",
    "        \n",
    "        # First pass: Create the copied nodes and the \"next\" attribute\n",
    "        temp = head \n",
    "        new_head = Node(temp.val)\n",
    "        mp[temp] = new_head    \n",
    "        while temp.next:\n",
    "            new_head.next = Node(temp.next.val)\n",
    "            temp = temp.next\n",
    "            new_head = new_head.next\n",
    "            mp[temp] = new_head\n",
    "\n",
    "        # Second pass: Populate the \"random\" attribute\n",
    "        temp = head\n",
    "        while temp:\n",
    "            if temp.random:\n",
    "                mp[temp].random = mp[temp.random]\n",
    "\n",
    "            temp = temp.next     \n",
    "        return mp[head]"
   ]
  }
 ],
 "metadata": {
  "kernelspec": {
   "display_name": "Python 3.10.11 64-bit",
   "language": "python",
   "name": "python3"
  },
  "language_info": {
   "codemirror_mode": {
    "name": "ipython",
    "version": 3
   },
   "file_extension": ".py",
   "mimetype": "text/x-python",
   "name": "python",
   "nbconvert_exporter": "python",
   "pygments_lexer": "ipython3",
   "version": "3.10.11"
  },
  "vscode": {
   "interpreter": {
    "hash": "aee8b7b246df8f9039afb4144a1f6fd8d2ca17a180786b69acc140d282b71a49"
   }
  }
 },
 "nbformat": 4,
 "nbformat_minor": 5
}
