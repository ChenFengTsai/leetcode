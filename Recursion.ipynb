{
 "cells": [
  {
   "cell_type": "markdown",
   "metadata": {},
   "source": [
    "### K-th Symbol in Grammar (Recursion)"
   ]
  },
  {
   "cell_type": "code",
   "execution_count": null,
   "metadata": {},
   "outputs": [],
   "source": [
    "# Input: n = 2, k = 2\n",
    "# Output: 1\n",
    "# 0\n",
    "# 01\n",
    "import math\n",
    "class Solution(object):\n",
    "    def kthGrammar(self, n, k):\n",
    "        \"\"\"\n",
    "        :type n: int\n",
    "        :type k: int\n",
    "        :rtype: int\n",
    "        \"\"\"\n",
    "        if n == 1:\n",
    "            return 0\n",
    "        parent = self.kthGrammar(n-1, math.ceil(float(k)/2))\n",
    "        if k%2 == 0:\n",
    "            isodd = False\n",
    "        else:\n",
    "            isodd = True\n",
    "        if parent == 1: # 1 0\n",
    "            return 1 if isodd else 0\n",
    "        elif parent == 0: # 0 1\n",
    "            return 0 if isodd else 1"
   ]
  },
  {
   "cell_type": "markdown",
   "metadata": {},
   "source": [
    "### Interleaving String (Caching/Memoization is important otherwise cannot pass time limit for long input)"
   ]
  },
  {
   "cell_type": "code",
   "execution_count": null,
   "metadata": {},
   "outputs": [],
   "source": [
    "class Solution:\n",
    "    def __init__(self):\n",
    "        ## This is crucial for this question to prevent duplicate operation on same input\n",
    "        self.map = dict()\n",
    "    def isInterleave(self, s1: str, s2: str, s3: str):\n",
    "        if not s1 and not s2 and not s3:\n",
    "            return True\n",
    "        if (s1, s2, s3) in self.map:\n",
    "            return self.map[(s1, s2, s3)]\n",
    "        valid1, valid2 = False, False\n",
    "        if s3 and s1 and s1[0] == s3[0] and self.isInterleave(s1[1:], s2, s3[1:]):\n",
    "            valid1 = True\n",
    "        if s3 and s2 and s2[0] == s3[0] and self.isInterleave(s1, s2[1:], s3[1:]):\n",
    "            valid2 = True\n",
    "        self.map[(s1, s2, s3)] = valid1 or valid2\n",
    "        return valid1 or valid2"
   ]
  }
 ],
 "metadata": {
  "kernelspec": {
   "display_name": "Python 3.10.11 64-bit",
   "language": "python",
   "name": "python3"
  },
  "language_info": {
   "name": "python",
   "version": "3.10.11"
  },
  "orig_nbformat": 4,
  "vscode": {
   "interpreter": {
    "hash": "aee8b7b246df8f9039afb4144a1f6fd8d2ca17a180786b69acc140d282b71a49"
   }
  }
 },
 "nbformat": 4,
 "nbformat_minor": 2
}
