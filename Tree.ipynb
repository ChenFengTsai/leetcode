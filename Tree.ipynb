{
 "cells": [
  {
   "cell_type": "markdown",
   "id": "b46f9482-4d08-4837-a2f4-da809701fde5",
   "metadata": {},
   "source": [
    "# Tree"
   ]
  },
  {
   "cell_type": "markdown",
   "id": "6c06c650-518f-4b49-99e5-534af5dc470b",
   "metadata": {
    "tags": []
   },
   "source": [
    "### Binary Tree Traversals"
   ]
  },
  {
   "cell_type": "code",
   "execution_count": null,
   "id": "98f591f7-9bcd-43c9-9e25-9218c6713219",
   "metadata": {},
   "outputs": [],
   "source": [
    "class Node:\n",
    "    def __init__(self, key):\n",
    "        self.left = None\n",
    "        self.right = None\n",
    "        self.val = key\n",
    "\n",
    "# Inorder Traversal\n",
    "def inorder(root):\n",
    "    if root:\n",
    "        inorder(root.left)\n",
    "        print(root.val)\n",
    "        inorder(root.right)\n",
    "\n",
    "# Preorder Traversal\n",
    "def preorder(root):\n",
    "    if root:\n",
    "        print(root.val)\n",
    "        preorder(root.left)\n",
    "        preorder(root.right)\n",
    "\n",
    "# Postorder Traversal\n",
    "def postorder(root):\n",
    "    if root:\n",
    "        postorder(root.left)\n",
    "        postorder(root.right)\n",
    "        print(root.val)"
   ]
  },
  {
   "cell_type": "code",
   "execution_count": null,
   "id": "603fe168-1b93-407f-a88a-a1f291cbe21c",
   "metadata": {},
   "outputs": [],
   "source": [
    "# return list instead of printing\n",
    "def inorder(root):\n",
    "    if root == None:\n",
    "        return []\n",
    "    arr = []\n",
    "    arr += inorder(root.left)\n",
    "    arr.append(root.val)\n",
    "    arr += inorder(root.right)\n",
    "    return arr\n",
    "\n",
    "## different approach\n",
    "def inorder(root):\n",
    "    if not root:\n",
    "        return []\n",
    "    left_arr = inorder(root.left)\n",
    "    arr = [root.val]\n",
    "    right_arr = inorder(root.right)\n",
    "    return left_arr + arr + right_arr"
   ]
  },
  {
   "cell_type": "markdown",
   "id": "54481762-db95-4ff7-bca9-8df1cbdeb6a8",
   "metadata": {
    "tags": []
   },
   "source": [
    "### Level Traversal\n",
    "#### Recursion method"
   ]
  },
  {
   "cell_type": "code",
   "execution_count": null,
   "id": "753790cb-3c25-43e4-b96d-961a5a087187",
   "metadata": {},
   "outputs": [],
   "source": [
    "class Node:\n",
    "    def __init__(self, key):\n",
    "        self.left = None\n",
    "        self.right = None\n",
    "        self.val = key\n",
    "        \n",
    "# use DFS (recursion) to find max depth\n",
    "def height(node):\n",
    "    # base case\n",
    "    if node is None:\n",
    "        return 0\n",
    "\n",
    "    lheight = height(node.left)\n",
    "    rheight = height(node.right)\n",
    "    return 1 + max(lheight, rheight)\n",
    "\n",
    "# go through each level recursively\n",
    "def levelorder(root):\n",
    "    h = height(root)\n",
    "    for i in range(1, h+1):\n",
    "        currlevel(root, i)\n",
    "\n",
    "# print each level\n",
    "def currlevel(root, level):\n",
    "    # base case do nothing just stop\n",
    "    if root is None:\n",
    "        return\n",
    "    if level == 1:\n",
    "        print(root.val, end =\" \")\n",
    "    elif level > 1:\n",
    "        currlevel(root.left, level-1)\n",
    "        currlevel(root.right, level-1)\n"
   ]
  },
  {
   "cell_type": "markdown",
   "id": "f89335de",
   "metadata": {},
   "source": [
    "### DFS using stack"
   ]
  },
  {
   "cell_type": "code",
   "execution_count": null,
   "id": "2d9f0bd7",
   "metadata": {},
   "outputs": [],
   "source": [
    "class TreeNode:\n",
    "    def __init__(self, val=0, left=None, right=None):\n",
    "        self.val = val\n",
    "        self.left = left\n",
    "        self.right = right\n",
    "\n",
    "def find_height(root):\n",
    "    if not root:\n",
    "        return 0\n",
    "    \n",
    "    stack = [(root, 1)]\n",
    "    max_height = 0\n",
    "    \n",
    "    while stack:\n",
    "        node, height = stack.pop()\n",
    "        max_height = max(max_height, height)\n",
    "        \n",
    "        if node.left:\n",
    "            stack.append((node.left, height + 1))\n",
    "        if node.right:\n",
    "            stack.append((node.right, height + 1))\n",
    "    \n",
    "    return max_height\n",
    "\n",
    "# Example usage\n",
    "root = TreeNode(10)\n",
    "root.left = TreeNode(5)\n",
    "root.right = TreeNode(15)\n",
    "root.left.left = TreeNode(3)\n",
    "root.left.right = TreeNode(7)\n",
    "root.right.right = TreeNode(18)\n",
    "\n",
    "print(find_height(root))  # Output should be 3\n"
   ]
  },
  {
   "cell_type": "markdown",
   "id": "f3d3987e-ed83-4ecd-9adc-71ed9304cc49",
   "metadata": {
    "jp-MarkdownHeadingCollapsed": true,
    "tags": []
   },
   "source": [
    "#### BFS method (Queue)"
   ]
  },
  {
   "cell_type": "code",
   "execution_count": null,
   "id": "ec657e77-70f4-4bb6-99a2-f4b0317fe43a",
   "metadata": {},
   "outputs": [],
   "source": [
    "class Node:\n",
    "    def __init__(self, key):\n",
    "        self.left = None\n",
    "        self.right = None\n",
    "        self.val = key\n",
    "        \n",
    "def levelorder(root):\n",
    "    # there is nothing in the root\n",
    "    if root is None:\n",
    "        return\n",
    "    \n",
    "    # initialize queue\n",
    "    queue = []\n",
    "    \n",
    "    queue.append(root)\n",
    "    while queue:\n",
    "        print(queue[0].val)\n",
    "        node = queue.pop(0)\n",
    "        \n",
    "        if node.left:\n",
    "            queue.append(node.left)\n",
    "        if node.right:\n",
    "            queue.append(node.right)\n",
    "\n",
    "\n",
    "# find height using BFS            \n",
    "def height(root):\n",
    "    height = 0\n",
    "    if not root:\n",
    "        return 0\n",
    "    q=[]\n",
    "    q.append(root)\n",
    "    \n",
    "    while q:\n",
    "        node_ct = len(q)\n",
    "        while node_ct > 0:\n",
    "            node = q.pop(0)\n",
    "            if node.left:\n",
    "                q.append(node.left)\n",
    "            if node.right:\n",
    "                q.append(node.right)\n",
    "            node_ct -= 1\n",
    "        height += 1\n",
    "    return height"
   ]
  },
  {
   "cell_type": "markdown",
   "id": "6e5545f4-ae89-4f8e-802b-3d585751ffe3",
   "metadata": {
    "jp-MarkdownHeadingCollapsed": true,
    "tags": []
   },
   "source": [
    "### ZigZag Tree Traversal (Queue method with flag is better)"
   ]
  },
  {
   "cell_type": "code",
   "execution_count": null,
   "id": "d9d75c84-15dd-4ef5-bfab-d7ee3384e4c5",
   "metadata": {},
   "outputs": [],
   "source": [
    "class Node:\n",
    "    def __init__(self, key):\n",
    "        self.left = None\n",
    "        self.right = None\n",
    "        self.val = key\n",
    "        \n",
    "# using two stacks to handle this  (like using queue to traverse)   \n",
    "def ZigZagTrav(root):\n",
    "    if root is None:\n",
    "        return\n",
    "    #initialize two stacks\n",
    "    cur_level = []\n",
    "    nextlevel = []\n",
    "    ltr = True\n",
    "    \n",
    "    cur_level.append(root)\n",
    "    while cur_level:\n",
    "        temp = cur_level.pop()\n",
    "        print(temp.val, \" \", end=\"\")\n",
    "        if ltr:\n",
    "            if temp.left:\n",
    "                next_level.append(temp.left)\n",
    "            if temp.right:\n",
    "                next_level.append(temp.right)\n",
    "        else:\n",
    "            if temp.right:\n",
    "                next_level.append(temp.right)\n",
    "            if temp.left:\n",
    "                next_level.append(temp.left)\n",
    "        # finish going through the current level\n",
    "        if len(cur_level) == 0:\n",
    "            # preparation for going to next level\n",
    "            ltr = not ltr\n",
    "            cur_level, next_level = next_level, cur_level\n",
    "\n",
    "# using one queue to solve but adding a flag to keep track\n",
    "def ZigZagTravQ(root):\n",
    "    if root is None:\n",
    "        return\n",
    "    # store the final result\n",
    "    ans = []\n",
    "    q = []\n",
    "    flag = False\n",
    "    q.append(root)\n",
    "    while len(q) > 0:\n",
    "        node_ct = len(q)\n",
    "        level = []\n",
    "        while node_ct > 0:\n",
    "            node = q.pop(0)\n",
    "            level.append(node.val)\n",
    "            if node.left:\n",
    "                q.append(node.left)\n",
    "            if node.right:\n",
    "                q.append(node.right)\n",
    "            node_ct -= 1\n",
    "        flag = not flag\n",
    "        if flag == False:\n",
    "            level = level[::-1]\n",
    "        for i in range(len(level)):\n",
    "            ans.append(level[i])\n",
    "    return ans"
   ]
  },
  {
   "cell_type": "markdown",
   "id": "a62e0042-0915-4a7d-814a-a7e392e5491e",
   "metadata": {
    "jp-MarkdownHeadingCollapsed": true,
    "tags": []
   },
   "source": [
    "### Merge Two Balanced Binary Search Tree"
   ]
  },
  {
   "cell_type": "code",
   "execution_count": null,
   "id": "6cd69cf1-2a35-4f5d-9e2a-30e4c49e5356",
   "metadata": {},
   "outputs": [],
   "source": [
    "# naive method - insert each element in A tree to B\n",
    "# Runtime O(m*logn) quite large"
   ]
  },
  {
   "cell_type": "code",
   "execution_count": 8,
   "id": "a61970bb-5da4-4816-81c6-20033e4feebc",
   "metadata": {},
   "outputs": [
    {
     "name": "stdout",
     "output_type": "stream",
     "text": [
      "[40, 80, 120]\n",
      "20 40 50 70 80 100 120 300 "
     ]
    }
   ],
   "source": [
    "# Merge two arrays that created by Inorder Traversal of the two trees\n",
    "# runtime O(m+n)\n",
    "# space : O(m+n)\n",
    "class Node:\n",
    "    def __init__(self, val):\n",
    "        self.val = val\n",
    "        self.left = None\n",
    "        self.right = None\n",
    "    \n",
    "def insert(root, key):\n",
    "    if root is None:\n",
    "        return Node(key)\n",
    "    else:\n",
    "        if root == key:\n",
    "            return root\n",
    "        elif root.val > key:\n",
    "            root.left = insert(root.left , key)\n",
    "        else:\n",
    "            root.right = insert(root.right, key)\n",
    "    return root\n",
    "\n",
    "# inorder traversal to get the sorted arrays\n",
    "def inorder(root):\n",
    "    if root == None:\n",
    "        return []\n",
    "    arr = []\n",
    "    arr += inorder(root.left)\n",
    "    arr.append(root.val)\n",
    "    arr += inorder(root.right)\n",
    "    return arr\n",
    "\n",
    "def merge_sorted_arr(arr1, arr2):\n",
    "    # Create a new empty list to hold the merged array\n",
    "    merged_array = []\n",
    "    # Initialize indices for each array\n",
    "    i = 0\n",
    "    j = 0\n",
    "    # Iterate through both arrays, comparing the current element of each\n",
    "    for _ in range(len(arr1)+len(arr2)):\n",
    "        if i < len(arr1) and (j == len(arr2) or arr1[i] < arr2[j]):\n",
    "            merged_array.append(arr1[i])\n",
    "            i += 1\n",
    "        else:\n",
    "            merged_array.append(arr2[j])\n",
    "            j += 1\n",
    "    return merged_array\n",
    "\n",
    "# array to bst\n",
    "def arr_to_bst(arr):\n",
    "    # base case \n",
    "    if len(arr)==0:\n",
    "        return\n",
    "    mid = len(arr)//2\n",
    "    root = Node(arr[mid])\n",
    "    root.left = arr_to_bst(arr[:mid])\n",
    "    root.right = arr_to_bst(arr[mid+1 :])\n",
    "    return root\n",
    "\n",
    "\n",
    "if __name__=='__main__':\n",
    "    root1 = root2 = None\n",
    "     \n",
    "    # Inserting values in first tree\n",
    "    root1 = insert(root1, 100)\n",
    "    root1 = insert(root1, 50)\n",
    "    root1 = insert(root1, 300)\n",
    "    root1 = insert(root1, 20)\n",
    "    root1 = insert(root1, 70)\n",
    "     \n",
    "    # Inserting values in second tree\n",
    "    root2 = insert(root2, 80)\n",
    "    root2 = insert(root2, 40)\n",
    "    root2 = insert(root2, 120)\n",
    "    arr1 = []\n",
    "    arr1 = inorder(root1)\n",
    "    arr2 = inorder(root2)\n",
    "    print(arr2)\n",
    "    arr = merge_sorted_arr(arr1, arr2)\n",
    "    root = arr_to_bst(arr)\n",
    "    res = []\n",
    "    res = inorder(root)\n",
    "    #print('Following is Inorder traversal of the merged tree')\n",
    "    for i in res:\n",
    "        print(i, end = ' ')"
   ]
  },
  {
   "cell_type": "markdown",
   "id": "0a5044aa",
   "metadata": {},
   "source": [
    "### Sum of Binary Tree"
   ]
  },
  {
   "cell_type": "code",
   "execution_count": 9,
   "id": "7b002446",
   "metadata": {},
   "outputs": [
    {
     "name": "stdout",
     "output_type": "stream",
     "text": [
      "Sum of all the nodes is: 36\n"
     ]
    }
   ],
   "source": [
    "class newNode:\n",
    " \n",
    "    # Construct to create a new node\n",
    "    def __init__(self, key):\n",
    "        self.key = key\n",
    "        self.left = None\n",
    "        self.right = None\n",
    "         \n",
    "# Function to find sum of all the element\n",
    "def addBT(root):\n",
    "    if (root == None):\n",
    "        return 0\n",
    "    #inorder traversal to sum\n",
    "    sum = 0\n",
    "    sum += addBT(root.left)\n",
    "    sum += root.key\n",
    "    sum += addBT(root.right)\n",
    "    return sum\n",
    " \n",
    "# Driver Code\n",
    "if __name__ == '__main__':\n",
    "    root = newNode(1)\n",
    "    root.left = newNode(2)\n",
    "    root.right = newNode(3)\n",
    "    root.left.left = newNode(4)\n",
    "    root.left.right = newNode(5)\n",
    "    root.right.left = newNode(6)\n",
    "    root.right.right = newNode(7)\n",
    "    root.right.left.right = newNode(8)\n",
    " \n",
    "    sum = addBT(root)\n",
    " \n",
    "    print(\"Sum of all the nodes is:\", sum)"
   ]
  },
  {
   "cell_type": "code",
   "execution_count": null,
   "id": "84265cfe-ea77-41b2-8139-0f36ff27eb95",
   "metadata": {},
   "outputs": [],
   "source": [
    "# can also do this by converting BST to doubly linkedlist"
   ]
  },
  {
   "cell_type": "markdown",
   "id": "49fc220c-e9be-4677-9918-f0d477c5de83",
   "metadata": {
    "jp-MarkdownHeadingCollapsed": true,
    "tags": []
   },
   "source": [
    "### Convert BST to Doubly Linkedlist (inorder traversal)"
   ]
  },
  {
   "cell_type": "code",
   "execution_count": null,
   "id": "2d396608-395d-4f95-b64b-7ecdc7f8e408",
   "metadata": {},
   "outputs": [],
   "source": [
    "class Node:\n",
    "    def __init__(self, val):\n",
    "        self.val = val\n",
    "        self.left = None\n",
    "        self.right = None\n",
    "# convert bst to reversed doubly linkedlist (not accurate so we have to tranform it back)\n",
    "def convert(root, head):\n",
    "    #base case\n",
    "    if root is None:\n",
    "        return head\n",
    "    \n",
    "    # first recursively convert the left subtree\n",
    "    head = convert(root.left, head)\n",
    "    root.left = None\n",
    "    \n",
    "    # store the right subtree\n",
    "    right = root.right\n",
    "    # insert at the beginning of the doubly linkedlist\n",
    "    root.right = head\n",
    "    if head:\n",
    "        head.left = root\n",
    "    head = root\n",
    "    \n",
    "    return convert(right, head)\n",
    "\n",
    "# reverse the doubly linkedlist to make direction correct\n",
    "def reverse(head):\n",
    "    prev = None\n",
    "    current = head\n",
    "    while current:\n",
    "        # current.left is now Null at first and \n",
    "        temp = current.left\n",
    "        current.left = current.right\n",
    "        # let current.right point to Null at first round\n",
    "        current.right = temp\n",
    "        prev = current\n",
    "        current = current.left\n",
    "    return prev\n",
    "#https://www.techiedelight.com/place-convert-given-binary-tree-to-doubly-linked-list/"
   ]
  },
  {
   "cell_type": "markdown",
   "id": "27d716e7-2003-489b-9121-b3451114531d",
   "metadata": {
    "jp-MarkdownHeadingCollapsed": true,
    "tags": []
   },
   "source": [
    "### Convert Binary Tree to Doubly Linked List with DFS (preorder traversal)"
   ]
  },
  {
   "cell_type": "code",
   "execution_count": null,
   "id": "18a64e31-3e18-4aa7-afb9-ba300f1920f7",
   "metadata": {},
   "outputs": [],
   "source": [
    "# recursion\n",
    "# https://www.youtube.com/watch?v=rKnD7rLT0lI&ab_channel=NeetCode\n",
    "class Node:\n",
    "    def __init__(self, val):\n",
    "        self.val = val\n",
    "        self.left = None\n",
    "        self.right = None\n",
    "\n",
    "def flatten(root):\n",
    "    def dfs(root):\n",
    "        if root is None:\n",
    "            return None\n",
    "        lefttail = dfs(root.left)\n",
    "        righttail = dfs(root.right)\n",
    "        \n",
    "        if root.left:\n",
    "            lefttail.right = root.right\n",
    "            root.right = root.left\n",
    "            root.left = None\n",
    "        # set the last element as the right subtree\n",
    "        last = righttail or lefttail or root\n",
    "        return last\n",
    "    dfs(root)\n",
    "        "
   ]
  },
  {
   "cell_type": "markdown",
   "id": "a4d32400-6575-472c-9804-75ed51eebcc0",
   "metadata": {
    "tags": []
   },
   "source": [
    "### Convert Sorted Linkedlist to BST"
   ]
  },
  {
   "cell_type": "code",
   "execution_count": null,
   "id": "c0900296-5ba7-4864-96a8-144e38de6f03",
   "metadata": {},
   "outputs": [],
   "source": [
    "# simple method\n",
    "# find n//2 position and set as root and finish it recursively\n",
    "# Runtime O(n*logn)"
   ]
  },
  {
   "cell_type": "code",
   "execution_count": 65,
   "id": "abc53599-95cd-4b08-a8cd-956552fa28a0",
   "metadata": {},
   "outputs": [],
   "source": [
    "# faster solution with Time O(n) Space(logn)\n",
    "# use inorder traversal\n",
    "# https://www.geeksforgeeks.org/in-place-conversion-of-sorted-dll-to-balanced-bst/\n",
    "\n",
    "# linkedlist node\n",
    "class LNode :\n",
    "    def __init__(self):\n",
    "        self.data = None\n",
    "        self.next = None\n",
    "# tree node\n",
    "class TNode :\n",
    "    def __init__(self,data):\n",
    "        self.val = data\n",
    "        self.left = None\n",
    "        self.right = None\n",
    "\n",
    "class Solution(object):\n",
    "    def sortedListToBST(self, head):\n",
    "        \"\"\"\n",
    "        :type head: Optional[ListNode]\n",
    "        :rtype: Optional[TreeNode]\n",
    "        \"\"\"\n",
    "        if not head:\n",
    "            return None\n",
    "            \n",
    "        if not head.next:\n",
    "            return TNode(head.val)\n",
    "\n",
    "        # create two pointer, one for slow, one for fast\n",
    "        slow = fast = head\n",
    "        # create previous pointer to break the connection between root and slow\n",
    "        pre = None\n",
    "        while fast and fast.next:\n",
    "            pre = slow\n",
    "            slow = slow.next\n",
    "            fast = fast.next.next\n",
    "        pre.next = None\n",
    "        root = TNode(slow.val)\n",
    "        root.left = self.sortedListToBST(head)\n",
    "        root.right = self.sortedListToBST(slow.next)\n",
    "\n",
    "        return root\n",
    "  "
   ]
  },
  {
   "cell_type": "markdown",
   "id": "6129683f-9ef7-4fbf-9fef-5a71a68be9f5",
   "metadata": {},
   "source": [
    "### Convert Sorted Doubly Linkedlist to BST"
   ]
  },
  {
   "cell_type": "code",
   "execution_count": null,
   "id": "1e9d3ff5-5f0d-4a28-8083-666394a06aca",
   "metadata": {},
   "outputs": [],
   "source": [
    "# same as simply linkedlist cause we always traverse through the linked list using only next"
   ]
  },
  {
   "cell_type": "markdown",
   "id": "8a8c6dbc-9ff1-4359-8cb4-11cfab1861dd",
   "metadata": {
    "jp-MarkdownHeadingCollapsed": true,
    "tags": []
   },
   "source": [
    "### Print all unique rows of the given matrix"
   ]
  },
  {
   "cell_type": "code",
   "execution_count": null,
   "id": "d4b960af-2476-4b67-aa49-50319778b06a",
   "metadata": {},
   "outputs": [],
   "source": [
    "## simple method is to loop through all rows and compare\n",
    "## Time complexity O(ROW^2 x COL)"
   ]
  },
  {
   "cell_type": "code",
   "execution_count": 15,
   "id": "21aa2c3e-f9d5-41b4-870e-7145734378d0",
   "metadata": {},
   "outputs": [],
   "source": [
    "## Another method is to use hashing to assign each row a distinct value\n",
    "## use set or dict\n",
    "## Time complexity: O( ROW x COL )\n",
    "def printArray(matrix):\n",
    " \n",
    "    rowCount = len(matrix)\n",
    "    if rowCount == 0:\n",
    "        return\n",
    " \n",
    "    columnCount = len(matrix[0])\n",
    "    if columnCount == 0:\n",
    "        return\n",
    " \n",
    "    row_output_format = \"\".join([\"%s\"] * columnCount)\n",
    " \n",
    "    printed = set()\n",
    " \n",
    "    for row in matrix:\n",
    "        routput = row_output_format % tuple(row)\n",
    "        if routput not in printed:\n",
    "            printed.add(routput)\n",
    "            print(routput)"
   ]
  },
  {
   "cell_type": "code",
   "execution_count": null,
   "id": "4915b063-326f-4308-8c6d-374e78dbc539",
   "metadata": {},
   "outputs": [],
   "source": [
    "## another method is to use BST with hashing\n",
    "## Time complexity: O( ROW x COL) + O(ROW x log( ROW ) )\n",
    "## first term is traverse through the matrix, second term is insertion \n",
    "## Space is O(Row) to save BST\n",
    "class Node:\n",
    "    def __init__(self, val):\n",
    "        self.val = val\n",
    "        self.left = None\n",
    "        self.right = None\n",
    "    \n",
    "# hashing function to assign each row distinct value\n",
    "def hashing(arr):\n",
    "    for i in range(len(arr)):\n",
    "        sum = 0\n",
    "        sum += (2**i)*arr[i]\n",
    "    return sum\n",
    "\n",
    "# insert distinct node to the tree\n",
    "def insert(root, value):\n",
    "    # insert first elements\n",
    "    if root is None:\n",
    "        return Node(value)\n",
    "    \n",
    "    # if value exists already\n",
    "    if value == root.val:\n",
    "        return root\n",
    "    \n",
    "    # go through left nodes\n",
    "    if value < root.val:\n",
    "        root.left = insert(root.left, value)\n",
    "    # go through right nodes\n",
    "    elif value > root.val:\n",
    "        root.right = insert(root.right, value)\n",
    "    return root\n",
    "    \n",
    "\n",
    "# traverse through the final tree to get thr result\n",
    "def inorder(root):\n",
    "    if root == None:\n",
    "        return None\n",
    "    result = []\n",
    "    result += inorder(root.left)\n",
    "    result.append(root.val)\n",
    "    result += inorder(root.right)\n",
    "    return result\n",
    "\n",
    "def findunique(M):\n",
    "    row, col = M.shape\n",
    "    root = None\n",
    "    for i in range(row):\n",
    "        root = insert(root, hashing(M[arr]))\n",
    "    result = inorder(root)\n",
    "    return result"
   ]
  },
  {
   "cell_type": "code",
   "execution_count": null,
   "id": "c9428808-6027-416c-a77e-87646bc9ddfc",
   "metadata": {},
   "outputs": [],
   "source": [
    "### fastest method is to use trie\n",
    "# Time complexity is O(Row*Col)\n",
    "# Space is O(Row*Col)"
   ]
  },
  {
   "cell_type": "markdown",
   "id": "90ed4461-5c05-4a2f-92a2-a5a09b1e3760",
   "metadata": {
    "jp-MarkdownHeadingCollapsed": true,
    "tags": []
   },
   "source": [
    "### Count Number of Nodes in a Binary Tree"
   ]
  },
  {
   "cell_type": "code",
   "execution_count": null,
   "id": "95faed50-93d1-46bc-a860-e8ff85164489",
   "metadata": {},
   "outputs": [],
   "source": [
    "# Time: O(N)\n",
    "# Space: O(h)\n",
    "def count_nodes(root):\n",
    "    count = 1\n",
    "    if root == None:\n",
    "        return 0\n",
    "    count += count_nodes(root.left)\n",
    "    count += count_nodes(root.right)\n",
    "    return count"
   ]
  },
  {
   "cell_type": "markdown",
   "id": "a46afe62-c371-4c10-b90c-9a55f88f7b25",
   "metadata": {
    "jp-MarkdownHeadingCollapsed": true,
    "tags": []
   },
   "source": [
    "### Connect nodes at same level (BFS)"
   ]
  },
  {
   "cell_type": "code",
   "execution_count": 83,
   "id": "7bbfbfab-4f86-44b2-8da7-23fe5a4e1546",
   "metadata": {},
   "outputs": [
    {
     "name": "stdout",
     "output_type": "stream",
     "text": [
      "Following are populated nextRight pointers in the tree (-1 is printed if there is no nextRight)\n",
      "nextRight of 10 is -1\n",
      "nextRight of 8 is 2\n",
      "nextRight of 2 is -1\n",
      "nextRight of 3 is -1\n"
     ]
    }
   ],
   "source": [
    "# Time: O(n)\n",
    "# Space: O(n)\n",
    "class Node:\n",
    "    def __init__(self, data):\n",
    "        self.data = data\n",
    "        self.left = None \n",
    "        self.right = None \n",
    "        self.nextRight = None\n",
    "    \n",
    "def connect(root):\n",
    "    if root is None:\n",
    "        return\n",
    "    q = []\n",
    "    q.append(root)\n",
    "    while q:\n",
    "        size = len(q)\n",
    "        prev = Node(None)\n",
    "        while size > 0:\n",
    "            temp = q.pop(0)\n",
    "            if temp.left:\n",
    "                q.append(temp.left)\n",
    "            if temp.right:\n",
    "                q.append(temp.right)\n",
    "            if prev != None:\n",
    "                prev.nextRight = temp\n",
    "                prev = prev.nextRight\n",
    "            size -= 1\n",
    "        prev.nextRight = None\n",
    "\n",
    "if __name__ == '__main__':\n",
    " \n",
    "    # Constructed binary tree is\n",
    "    # 10\n",
    "    #     / \\\n",
    "    # 8     2\n",
    "    # /\n",
    "    # 3\n",
    "    root = Node(10)\n",
    "    root.left = Node(8)\n",
    "    root.right = Node(2)\n",
    "    root.left.left = Node(3)\n",
    " \n",
    "    # Populates nextRight pointer in all nodes\n",
    "    connect(root)\n",
    " \n",
    "    # Let us check the values of nextRight pointers\n",
    "    print(\"Following are populated nextRight\",\n",
    "          \"pointers in the tree (-1 is printed\",\n",
    "          \"if there is no nextRight)\")\n",
    "    print(\"nextRight of\", root.data, \"is \", end=\"\")\n",
    "    if root.nextRight:\n",
    "        print(root.nextRight.data)\n",
    "    else:\n",
    "        print(-1)\n",
    "    print(\"nextRight of\", root.left.data, \"is \", end=\"\")\n",
    "    if root.left.nextRight:\n",
    "        print(root.left.nextRight.data)\n",
    "    else:\n",
    "        print(-1)\n",
    "    print(\"nextRight of\", root.right.data, \"is \", end=\"\")\n",
    "    if root.right.nextRight:\n",
    "        print(root.right.nextRight.data)\n",
    "    else:\n",
    "        print(-1)\n",
    "    print(\"nextRight of\", root.left.left.data, \"is \", end=\"\")\n",
    "    if root.left.left.nextRight:\n",
    "        print(root.left.left.nextRight.data)\n",
    "    else:\n",
    "        print(-1)"
   ]
  },
  {
   "cell_type": "markdown",
   "id": "eb266ace-4e4a-4dda-a8e0-a0bd0119ee35",
   "metadata": {
    "tags": []
   },
   "source": [
    "### Left View of Binary Tree (BFS is better approach)"
   ]
  },
  {
   "cell_type": "code",
   "execution_count": 104,
   "id": "38950727-d0e7-4a0e-b6a1-eb8e038b437c",
   "metadata": {},
   "outputs": [],
   "source": [
    "# method one DFS recursion \n",
    "# Time: O(n)\n",
    "# Space: O(h)\n",
    "class Node:\n",
    "    def __init__(self, data):\n",
    "        self.data = data\n",
    "        self.left = None\n",
    "        self.right = None\n",
    "\n",
    "def leftViewUtil(root, level):\n",
    "    global max_level\n",
    "    # Base Case\n",
    "    if root is None:\n",
    "        return\n",
    " \n",
    "    # If this is the first node of its level\n",
    "    if (max_level < level):\n",
    "        print (root.data, end = \" \")\n",
    "        max_level = level\n",
    " \n",
    "    # Recur for left and right subtree\n",
    "    leftViewUtil(root.left, level + 1)\n",
    "    leftViewUtil(root.right, level + 1)\n",
    "\n",
    "max_level = 0\n",
    "# A wrapper over leftViewUtil()\n",
    "def leftView(root):\n",
    "    leftViewUtil(root, 1)"
   ]
  },
  {
   "cell_type": "code",
   "execution_count": 103,
   "id": "11ed0813-6d4e-4554-baa4-bfbafa13c2f4",
   "metadata": {},
   "outputs": [
    {
     "name": "stdout",
     "output_type": "stream",
     "text": [
      "10 2 7 14 "
     ]
    }
   ],
   "source": [
    "# method two BFS and print the first node of each level\n",
    "# Time: O(N)\n",
    "# Spca: O(N)\n",
    "class Node:\n",
    "    def __init__(self, data):\n",
    "        self.data = data\n",
    "        self.right = None\n",
    "        self.left = None\n",
    "    \n",
    "def leftview(root):\n",
    "    if root is None:\n",
    "        return\n",
    "    \n",
    "    q = []\n",
    "    q.append(root)\n",
    "    while q:\n",
    "        for i in range(len(q)):\n",
    "            temp = q.pop(0)\n",
    "            # print the first element in each level\n",
    "            if i == 0:\n",
    "                print(temp.data, end=\" \")\n",
    "            if temp.left:\n",
    "                q.append(temp.left)\n",
    "            if temp.right:\n",
    "                q.append(temp.right)\n",
    "            \n",
    "if __name__ == '__main__':\n",
    "    root = Node(10)\n",
    "    root.left = Node(2)\n",
    "    root.right = Node(3)\n",
    "    root.left.left = Node(7)\n",
    "    root.left.right = Node(8)\n",
    "    root.right.right = Node(15)\n",
    "    root.right.left = Node(12)\n",
    "    root.right.right.left = Node(14)\n",
    "     \n",
    "    leftview(root)"
   ]
  },
  {
   "cell_type": "markdown",
   "id": "c44e3f08-4187-4153-bb11-b29d38d76010",
   "metadata": {},
   "source": [
    "### Invert Binary Tree"
   ]
  },
  {
   "cell_type": "code",
   "execution_count": null,
   "id": "24878737-cc47-4fca-870a-8011b25dd3a1",
   "metadata": {},
   "outputs": [],
   "source": [
    "class Solution(object):\n",
    "    def invertTree(self, root):\n",
    "        \"\"\"\n",
    "        :type root: TreeNode\n",
    "        :rtype: TreeNode\n",
    "        \"\"\"\n",
    "        if not root:\n",
    "            return None\n",
    "        \n",
    "        tmp = root.left\n",
    "        root.left = root.right\n",
    "        root.right = tmp\n",
    "\n",
    "        self.invertTree(root.left)\n",
    "        self.invertTree(root.right)\n",
    "        return root"
   ]
  },
  {
   "cell_type": "markdown",
   "id": "323232a3-e358-41e5-b82d-f4762f66c687",
   "metadata": {},
   "source": [
    "### Validate Binary Search Tree"
   ]
  },
  {
   "cell_type": "code",
   "execution_count": null,
   "id": "03b990ae-7c5c-432c-abf6-74018d4c5999",
   "metadata": {},
   "outputs": [],
   "source": [
    "### DFS\n",
    "class Solution(object):\n",
    "    def isValidBST(self, root):\n",
    "        \"\"\"\n",
    "        :type root: TreeNode\n",
    "        :rtype: bool\n",
    "        \"\"\"\n",
    "        def valid(node, left, right):\n",
    "            if not node:\n",
    "                return True\n",
    "            if not (node.val < right and node.val > left):\n",
    "                return False\n",
    "\n",
    "            return (valid(node.left, left, node.val) and\n",
    "                    valid(node.right, node.val, right))\n",
    "        return valid(root, float(\"-inf\"), float(\"inf\"))"
   ]
  },
  {
   "cell_type": "markdown",
   "id": "4bd63c2b-4f62-4066-bfc0-cb86511e66e6",
   "metadata": {},
   "source": [
    "### Construct Binary Tree from Preorder and Inorder Traversal"
   ]
  },
  {
   "cell_type": "code",
   "execution_count": null,
   "id": "3416428e-5c98-486d-aab1-e904859c7b08",
   "metadata": {},
   "outputs": [],
   "source": [
    "class Solution(object):\n",
    "    def buildTree(self, preorder, inorder):\n",
    "        \"\"\"\n",
    "        :type preorder: List[int]\n",
    "        :type inorder: List[int]\n",
    "        :rtype: TreeNode\n",
    "        \"\"\"\n",
    "        if not preorder or not inorder:\n",
    "            return None\n",
    "        root = TreeNode(preorder[0])\n",
    "        mid = inorder.index(preorder[0])\n",
    "        root.left = self.buildTree(preorder[1:mid+1], inorder[:mid])\n",
    "        root.right = self.buildTree(preorder[mid+1:], inorder[mid+1:])\n",
    "        return root"
   ]
  },
  {
   "cell_type": "markdown",
   "id": "6a41ff68-7f77-4b06-9224-9d24509e9662",
   "metadata": {},
   "source": [
    "### Serialize and Deserialize Binary Tree"
   ]
  },
  {
   "cell_type": "code",
   "execution_count": null,
   "id": "be1be68c-26ac-43ba-8c1c-65ddaeef9004",
   "metadata": {},
   "outputs": [],
   "source": [
    "class Codec:\n",
    "\n",
    "    def serialize(self, root):\n",
    "        \"\"\"Encodes a tree to a single string.\n",
    "        \n",
    "        :type root: TreeNode\n",
    "        :rtype: str\n",
    "        \"\"\"\n",
    "        res = []\n",
    "\n",
    "        def dfs(node):\n",
    "            if not node:\n",
    "                res.append('N')\n",
    "                return \n",
    "            res.append(str(node.val))\n",
    "            dfs(node.left)\n",
    "            dfs(node.right)\n",
    "            return res\n",
    "        dfs(root)\n",
    "        # to a aggregated string\n",
    "        return ','.join(res)\n",
    "\n",
    "\n",
    "    def deserialize(self, data):\n",
    "        \"\"\"Decodes your encoded data to tree.\n",
    "        \n",
    "        :type data: str\n",
    "        :rtype: TreeNode\n",
    "        \"\"\"\n",
    "        vals = data.split(',')\n",
    "        self.i = 0\n",
    "        def dfs():\n",
    "            if vals[self.i] == 'N':\n",
    "                self.i += 1\n",
    "                return None\n",
    "            node = TreeNode(int(vals[self.i]))\n",
    "            self.i += 1\n",
    "            node.left = dfs()\n",
    "            node.right = dfs()\n",
    "            return node\n",
    "        return dfs()"
   ]
  },
  {
   "cell_type": "markdown",
   "id": "89b1497c",
   "metadata": {},
   "source": [
    "### Binary Tree Maximum Path Sum\n"
   ]
  },
  {
   "cell_type": "code",
   "execution_count": null,
   "id": "e141a8b5",
   "metadata": {},
   "outputs": [],
   "source": [
    "class Solution(object):\n",
    "    def maxPathSum(self, root):\n",
    "        \"\"\"\n",
    "        :type root: TreeNode\n",
    "        :rtype: int\n",
    "        \"\"\"\n",
    "        # use list to make it global\n",
    "        res = [root.val]\n",
    "        def dfs(root):\n",
    "            if not root:\n",
    "                return 0\n",
    "            leftMax = dfs(root.left)\n",
    "            rightMax = dfs(root.right)\n",
    "            # make sure they are not negative\n",
    "            leftMax = max(leftMax, 0)\n",
    "            rightMax = max(rightMax, 0)\n",
    "            #global res\n",
    "            #compute max path sum With split\n",
    "            res[0] = max(res[0], root.val + leftMax + rightMax)\n",
    "            #compute max path sum Without split\n",
    "            return root.val + max(leftMax, rightMax)\n",
    "        dfs(root)\n",
    "        return res[0]"
   ]
  },
  {
   "cell_type": "markdown",
   "id": "e7fcb296",
   "metadata": {},
   "source": [
    "### Same Tree"
   ]
  },
  {
   "cell_type": "code",
   "execution_count": null,
   "id": "e61ee0aa",
   "metadata": {},
   "outputs": [],
   "source": [
    "class Solution(object):\n",
    "    def isSameTree(self, p, q):\n",
    "        \"\"\"\n",
    "        :type p: TreeNode\n",
    "        :type q: TreeNode\n",
    "        :rtype: bool\n",
    "        \"\"\"\n",
    "        if not p and not q:\n",
    "            return True\n",
    "        if not p or not q or p.val != q.val:\n",
    "            return False\n",
    "        return (self.isSameTree(p.left, q.left) and \n",
    "                self.isSameTree(p.right, q.right))"
   ]
  },
  {
   "cell_type": "markdown",
   "id": "fd5791a8",
   "metadata": {},
   "source": [
    "### Subtree of Another Tree"
   ]
  },
  {
   "cell_type": "code",
   "execution_count": null,
   "id": "1d78aa0e",
   "metadata": {},
   "outputs": [],
   "source": [
    "class Solution(object):\n",
    "    def isSubtree(self, root, subRoot):\n",
    "        \"\"\"\n",
    "        :type root: TreeNode\n",
    "        :type subRoot: TreeNode\n",
    "        :rtype: bool\n",
    "        \"\"\"\n",
    "        if not subRoot:\n",
    "            return True\n",
    "        if not root:\n",
    "            return False\n",
    "        if self.sameTree(root, subRoot):\n",
    "            return True\n",
    "        return (self.isSubtree(root.left, subRoot) or \n",
    "                self.isSubtree(root.right, subRoot))\n",
    "\n",
    "    def sameTree(self, s, t):\n",
    "        if not s and not t:\n",
    "            return True\n",
    "        if not s or not t or s.val != t.val:\n",
    "            return False\n",
    "        return (self.sameTree(s.left, t.left) and \n",
    "                    self.sameTree(s.right, t.right))"
   ]
  },
  {
   "cell_type": "markdown",
   "id": "a239b70b",
   "metadata": {},
   "source": [
    "### Lowest Common Ancestor of a Binary Search Tree\n"
   ]
  },
  {
   "cell_type": "code",
   "execution_count": null,
   "id": "5e415ebe",
   "metadata": {},
   "outputs": [],
   "source": [
    "class Solution(object):\n",
    "    def lowestCommonAncestor(self, root, p, q):\n",
    "        \"\"\"\n",
    "        :type root: TreeNode\n",
    "        :type p: TreeNode\n",
    "        :type q: TreeNode\n",
    "        :rtype: TreeNode\n",
    "        \"\"\"\n",
    "        cur = root\n",
    "        while cur:\n",
    "            if p.val > cur.val and q.val > cur.val:\n",
    "                cur = cur.right\n",
    "            elif p.val < cur.val and q.val < cur.val:\n",
    "                cur = cur.left\n",
    "            else:\n",
    "                return cur"
   ]
  },
  {
   "cell_type": "markdown",
   "id": "3fa4048a",
   "metadata": {},
   "source": [
    "### Kth Smallest Element in a BST\n"
   ]
  },
  {
   "cell_type": "code",
   "execution_count": null,
   "id": "557d3de0",
   "metadata": {},
   "outputs": [],
   "source": [
    "class Solution(object):\n",
    "    def kthSmallest(self, root, k):\n",
    "        \"\"\"\n",
    "        :type root: TreeNode\n",
    "        :type k: int\n",
    "        :rtype: int\n",
    "        \"\"\"\n",
    "        n = 0\n",
    "        stack = []\n",
    "        cur = root\n",
    "        while cur or stack:\n",
    "            while cur:\n",
    "                stack.append(cur)\n",
    "                cur = cur.left\n",
    "            # get the last element\n",
    "            cur = stack.pop()\n",
    "            n += 1\n",
    "            if n == k:\n",
    "                return cur.val\n",
    "            cur = cur.right\n",
    "            \n",
    "### Easier approach by using inorder traversal but use more space\n",
    "def kthSmallest(self, root, k):\n",
    "    # Helper function for inorder traversal\n",
    "    def inorder(root):\n",
    "        if not root:\n",
    "            return []\n",
    "        arr = []\n",
    "        arr += inorder(root.left)\n",
    "        arr.append(root.val)\n",
    "        arr += inorder(root.right)\n",
    "        return arr\n",
    "    return inorder(root)[k-1]"
   ]
  },
  {
   "cell_type": "markdown",
   "id": "48551304",
   "metadata": {},
   "source": [
    "### Balanced Binary Tree"
   ]
  },
  {
   "cell_type": "code",
   "execution_count": null,
   "id": "929cfec4",
   "metadata": {},
   "outputs": [],
   "source": [
    "class Solution(object):\n",
    "    def isBalanced(self, root):\n",
    "        if root is None:\n",
    "            return True\n",
    "        \n",
    "        l_height = self.height(root.left)\n",
    "        r_height = self.height(root.right)\n",
    "        \n",
    "        if abs(l_height - r_height) > 1:\n",
    "            return False\n",
    "        \n",
    "        return self.isBalanced(root.left) and self.isBalanced(root.right)\n",
    "    \n",
    "    def height(self, root):\n",
    "        if root is None:\n",
    "            return 0\n",
    "        return 1 + max(self.height(root.left), self.height(root.right))"
   ]
  },
  {
   "cell_type": "markdown",
   "id": "b45eaa4e",
   "metadata": {},
   "source": [
    "### Path Sum"
   ]
  },
  {
   "cell_type": "code",
   "execution_count": null,
   "id": "9701d057",
   "metadata": {},
   "outputs": [],
   "source": [
    "# Definition for a binary tree node.\n",
    "# class TreeNode(object):\n",
    "#     def __init__(self, val=0, left=None, right=None):\n",
    "#         self.val = val\n",
    "#         self.left = left\n",
    "#         self.right = right\n",
    "class Solution(object):\n",
    "    def hasPathSum(self, root, targetSum):\n",
    "        \"\"\"\n",
    "        :type root: TreeNode\n",
    "        :type targetSum: int\n",
    "        :rtype: bool\n",
    "        \"\"\"\n",
    "        def dfs(root, sum):\n",
    "            if not root:\n",
    "                return False\n",
    "            sum += root.val\n",
    "            if not root.left and not root.right and sum == targetSum:\n",
    "                return True\n",
    "            \n",
    "            left_sum = dfs(root.left, sum)\n",
    "            right_sum = dfs(root.right, sum)\n",
    "            return left_sum or right_sum\n",
    "\n",
    "        return dfs(root, 0)\n",
    "    \n",
    "\n",
    "### Another approach by recording the path (needs to pop out the last element to backtrack)\n",
    "def findPaths(root, targetSum):\n",
    "    def dfs(node, current_path):\n",
    "        if not node:\n",
    "            return\n",
    "\n",
    "        current_path.append(node.val)\n",
    "        current_sum = sum(current_path)\n",
    "\n",
    "        if not node.left and not node.right and current_sum == targetSum:\n",
    "            paths.append(current_path[:])  # Store a copy of the current path\n",
    "\n",
    "        dfs(node.left, current_path)\n",
    "        dfs(node.right, current_path)\n",
    "\n",
    "        # Backtrack: Remove the current node from the current path\n",
    "        current_path.pop()\n",
    "\n",
    "    paths = []\n",
    "    dfs(root, [])\n",
    "    return paths"
   ]
  }
 ],
 "metadata": {
  "kernelspec": {
   "display_name": "Python 3.10.11 64-bit",
   "language": "python",
   "name": "python3"
  },
  "language_info": {
   "codemirror_mode": {
    "name": "ipython",
    "version": 3
   },
   "file_extension": ".py",
   "mimetype": "text/x-python",
   "name": "python",
   "nbconvert_exporter": "python",
   "pygments_lexer": "ipython3",
   "version": "3.10.11"
  },
  "vscode": {
   "interpreter": {
    "hash": "aee8b7b246df8f9039afb4144a1f6fd8d2ca17a180786b69acc140d282b71a49"
   }
  }
 },
 "nbformat": 4,
 "nbformat_minor": 5
}
