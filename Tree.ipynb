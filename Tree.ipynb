{
 "cells": [
  {
   "cell_type": "markdown",
   "id": "b46f9482-4d08-4837-a2f4-da809701fde5",
   "metadata": {},
   "source": [
    "# Tree"
   ]
  },
  {
   "cell_type": "markdown",
   "id": "6c06c650-518f-4b49-99e5-534af5dc470b",
   "metadata": {
    "tags": []
   },
   "source": [
    "### Binary Tree Traversals"
   ]
  },
  {
   "cell_type": "code",
   "execution_count": null,
   "id": "98f591f7-9bcd-43c9-9e25-9218c6713219",
   "metadata": {},
   "outputs": [],
   "source": [
    "class Node:\n",
    "    def __init__(self, key):\n",
    "        self.left = None\n",
    "        self.right = None\n",
    "        self.val = key\n",
    "\n",
    "# Inorder Traversal\n",
    "def inorder(root):\n",
    "    if root:\n",
    "        inorder(root.left)\n",
    "        print(root.val)\n",
    "        inorder(root.right)\n",
    "\n",
    "# Preorder Traversal\n",
    "def preorder(root):\n",
    "    if root:\n",
    "        print(root.val)\n",
    "        preorder(root.left)\n",
    "        preorder(root.right)\n",
    "\n",
    "# Postorder Traversal\n",
    "def postorder(root):\n",
    "    if root:\n",
    "        postorder(root.left)\n",
    "        postorder(root.right)\n",
    "        print(root.val)"
   ]
  },
  {
   "cell_type": "code",
   "execution_count": null,
   "id": "603fe168-1b93-407f-a88a-a1f291cbe21c",
   "metadata": {},
   "outputs": [],
   "source": [
    "# return list instead of printing\n",
    "def inorder(root):\n",
    "    if root = None:\n",
    "        return None\n",
    "    arr = []\n",
    "    arr += inorder(root.left)\n",
    "    arr.append(root.val)\n",
    "    arr += inorder(root.right)\n",
    "    return arr\n"
   ]
  },
  {
   "cell_type": "markdown",
   "id": "54481762-db95-4ff7-bca9-8df1cbdeb6a8",
   "metadata": {
    "tags": []
   },
   "source": [
    "### Level Traversal\n",
    "#### Recursion method"
   ]
  },
  {
   "cell_type": "code",
   "execution_count": null,
   "id": "753790cb-3c25-43e4-b96d-961a5a087187",
   "metadata": {},
   "outputs": [],
   "source": [
    "class Node:\n",
    "    def __init__(self, key):\n",
    "        self.left = None\n",
    "        self.right = None\n",
    "        self.val = key\n",
    "        \n",
    "# use DFS (recursion) to find max depth\n",
    "def height(node):\n",
    "    # base case\n",
    "    if node is None:\n",
    "        return 0\n",
    "    else:\n",
    "        lheight = height(node.left)\n",
    "        rheight = height(node.right)\n",
    "        \n",
    "        if lheight > rheight:\n",
    "            return lheight +1\n",
    "        else:\n",
    "            return rheight+1\n",
    "\n",
    "# go through each level recursively\n",
    "def levelorder(root):\n",
    "    h = height(root)\n",
    "    for i in range(1, h+1):\n",
    "        currlevel(root, i)\n",
    "\n",
    "# print each level\n",
    "def currlevel(root, level):\n",
    "    # base case do nothing just stop\n",
    "    if root is None:\n",
    "        return\n",
    "    if level == 1:\n",
    "        print(root.val, end =\" \")\n",
    "    elif level >1:\n",
    "        currlevel(root.left, level-1)\n",
    "        currlevel(root.right, level-1)\n"
   ]
  },
  {
   "cell_type": "markdown",
   "id": "f3d3987e-ed83-4ecd-9adc-71ed9304cc49",
   "metadata": {
    "jp-MarkdownHeadingCollapsed": true,
    "tags": []
   },
   "source": [
    "#### BFS method (Queue)"
   ]
  },
  {
   "cell_type": "code",
   "execution_count": null,
   "id": "ec657e77-70f4-4bb6-99a2-f4b0317fe43a",
   "metadata": {},
   "outputs": [],
   "source": [
    "class Node:\n",
    "    def __init__(self, key):\n",
    "        self.left = None\n",
    "        self.right = None\n",
    "        self.val = key\n",
    "        \n",
    "def levelorder(root):\n",
    "    # there is nothing in the root\n",
    "    if root is None:\n",
    "        return\n",
    "    \n",
    "    # initialize queue\n",
    "    queue = []\n",
    "    \n",
    "    queue.append(root)\n",
    "    while len(queue) > 0:\n",
    "        print(queue[0].val)\n",
    "        node = queue.pop(0)\n",
    "        \n",
    "        if node.left is not None:\n",
    "            queue.append(node.left)\n",
    "        if node.right is not None:\n",
    "            queue.append(node.right)\n",
    "\n",
    "# find height using BFS            \n",
    "def height(root):\n",
    "    if root is None:\n",
    "        return\n",
    "    q=[]\n",
    "    q.append(root)\n",
    "    \n",
    "    while len(q) > 0:\n",
    "        node_ct = len(q)\n",
    "        while node_ct > 0:\n",
    "            node = q.pop(0)\n",
    "            if node.left is not None:\n",
    "                q.append(node.left)\n",
    "            if node.right is not None:\n",
    "                q.append(node.right)\n",
    "            node_ct -= 1\n",
    "        height += 1\n",
    "    return height\n",
    "        "
   ]
  },
  {
   "cell_type": "markdown",
   "id": "6e5545f4-ae89-4f8e-802b-3d585751ffe3",
   "metadata": {
    "jp-MarkdownHeadingCollapsed": true,
    "tags": []
   },
   "source": [
    "### ZigZag Tree Traversal"
   ]
  },
  {
   "cell_type": "code",
   "execution_count": null,
   "id": "d9d75c84-15dd-4ef5-bfab-d7ee3384e4c5",
   "metadata": {},
   "outputs": [],
   "source": [
    "class Node:\n",
    "    def __init__(self, key):\n",
    "        self.left = None\n",
    "        self.right = None\n",
    "        self.val = key\n",
    "        \n",
    "# using two stacks to handle this  (like using queue to traverse)   \n",
    "def ZigZagTrav(root):\n",
    "    if root is None:\n",
    "        return\n",
    "    #initialize two stacks\n",
    "    cur_level = []\n",
    "    nextlevel = []\n",
    "    ltr = True\n",
    "    \n",
    "    cur_level.append(root)\n",
    "    while len(cur_level) > 0:\n",
    "        temp = cur_level.pop(-1)\n",
    "        print(temp.val, \" \", end=\"\")\n",
    "        if ltr:\n",
    "            if temp.left:\n",
    "                next_level.append(temp.left)\n",
    "            if temp.right:\n",
    "                next_level.append(temp.right)\n",
    "        else:\n",
    "            if temp.right:\n",
    "                next_level.append(temp.right)\n",
    "            if temp.left:\n",
    "                next_level.append(temp.left)\n",
    "        # finish going through the current level\n",
    "        if len(cur_level) == 0:\n",
    "            # preparation for going to next level\n",
    "            ltr = not ltr\n",
    "            cur_level, next_level = next_level, cur_level\n",
    "\n",
    "# using one queue to solve but adding a flag to keep track\n",
    "def ZigZagTravQ(root):\n",
    "    if root is None:\n",
    "        return\n",
    "    # store the final result\n",
    "    ans = []\n",
    "    q = []\n",
    "    flag = False\n",
    "    q.append(root)\n",
    "    while len(q) > 0:\n",
    "        node_ct = len(q)\n",
    "        level = []\n",
    "        while node_ct > 0:\n",
    "            node = q.pop(0)\n",
    "            level.append(node.val)\n",
    "            if node.left:\n",
    "                q.append(node.left)\n",
    "            if node.right:\n",
    "                q.append(node.right)\n",
    "            node_ct -= 1\n",
    "        flag = not flag\n",
    "        if flag == False:\n",
    "            level = level[::-1]\n",
    "        for i in range(len(level)):\n",
    "            ans.append(level[i])\n",
    "    return ans"
   ]
  },
  {
   "cell_type": "markdown",
   "id": "a62e0042-0915-4a7d-814a-a7e392e5491e",
   "metadata": {
    "jp-MarkdownHeadingCollapsed": true,
    "tags": []
   },
   "source": [
    "### Merge Two Balanced Binary Tree"
   ]
  },
  {
   "cell_type": "code",
   "execution_count": null,
   "id": "6cd69cf1-2a35-4f5d-9e2a-30e4c49e5356",
   "metadata": {},
   "outputs": [],
   "source": [
    "# naive method - insert each element in A tree to B\n",
    "# Runtime O(m*logn) quite large"
   ]
  },
  {
   "cell_type": "code",
   "execution_count": 23,
   "id": "a61970bb-5da4-4816-81c6-20033e4feebc",
   "metadata": {},
   "outputs": [],
   "source": [
    "# Merge two arrays that created by Inorder Traversal of the two trees\n",
    "# runtime O(m+n)\n",
    "# space : O(m+n)\n",
    "class Node:\n",
    "    def __init__(self, val):\n",
    "        self.val = val\n",
    "        self.left = None\n",
    "        self.right = None\n",
    "    \n",
    "def insert(root, key):\n",
    "    if root is None:\n",
    "        return Node(key)\n",
    "    else:\n",
    "        if root == key:\n",
    "            return root\n",
    "        elif root.val > key:\n",
    "            root.left = insert(root.left , key)\n",
    "        else:\n",
    "            root.right = insert(root.right, key)\n",
    "    return root\n",
    "\n",
    "# inorder traversal to get the sorted arrays\n",
    "def inorder(root):\n",
    "    arr = []\n",
    "    if root:\n",
    "        arr = arr + inorder(root.left)\n",
    "        arr.append(root.val)\n",
    "        arr = arr + inorder(root.right)\n",
    "    return arr\n",
    "\n",
    "def merge_sorted_arr(arr1, arr2):\n",
    "    # Create a new empty list to hold the merged array\n",
    "    merged_array = []\n",
    "    # Initialize indices for each array\n",
    "    i = 0\n",
    "    j = 0\n",
    "    # Iterate through both arrays, comparing the current element of each\n",
    "    for _ in range(len(arr1)+len(arr2)):\n",
    "        if i < len(arr1) and (j == len(arr2) or arr1[i] < arr2[j]):\n",
    "            merged_array.append(arr1[i])\n",
    "            i += 1\n",
    "        else:\n",
    "            merged_array.append(arr2[j])\n",
    "            j += 1\n",
    "    return merged_array\n",
    "\n",
    "# array to bst\n",
    "def arr_to_bst(arr):\n",
    "    # base case \n",
    "    if len(arr)==0:\n",
    "        return\n",
    "    mid = len(arr)//2\n",
    "    root = Node(arr[mid])\n",
    "    root.left = arr_to_bst(arr[:mid])\n",
    "    root.right = arr_to_bst(arr[mid+1 :])\n",
    "    return root\n",
    "\n",
    "if __name__=='__main__':\n",
    "    root1 = root2 = None\n",
    "     \n",
    "    # Inserting values in first tree\n",
    "    root1 = insert(root1, 100)\n",
    "    root1 = insert(root1, 50)\n",
    "    root1 = insert(root1, 300)\n",
    "    root1 = insert(root1, 20)\n",
    "    root1 = insert(root1, 70)\n",
    "     \n",
    "    # Inserting values in second tree\n",
    "    root2 = insert(root2, 80)\n",
    "    root2 = insert(root2, 40)\n",
    "    root2 = insert(root2, 120)\n",
    "    arr1 = []\n",
    "    arr1 = inorder(root1)\n",
    "    arr2 = inorder(root2)\n",
    "    print(arr2)\n",
    "    arr = merge_sorted_arr(arr1, arr2)\n",
    "    root = arr_to_bst(arr)\n",
    "    res = []\n",
    "    res = inorder(root)\n",
    "    #print('Following is Inorder traversal of the merged tree')\n",
    "    for i in res:\n",
    "        print(i, end = ' ')"
   ]
  },
  {
   "cell_type": "code",
   "execution_count": null,
   "id": "84265cfe-ea77-41b2-8139-0f36ff27eb95",
   "metadata": {},
   "outputs": [],
   "source": [
    "# can also do this by converting BST to doubly linkedlist"
   ]
  },
  {
   "cell_type": "markdown",
   "id": "49fc220c-e9be-4677-9918-f0d477c5de83",
   "metadata": {
    "jp-MarkdownHeadingCollapsed": true,
    "tags": []
   },
   "source": [
    "### Convert BST to Doubly Linkedlist"
   ]
  },
  {
   "cell_type": "code",
   "execution_count": null,
   "id": "2d396608-395d-4f95-b64b-7ecdc7f8e408",
   "metadata": {},
   "outputs": [],
   "source": [
    "class Node:\n",
    "    def __init__(self, val):\n",
    "        self.val = val\n",
    "        self.left = None\n",
    "        self.right = None\n",
    "# convert bst to reversed doubly linkedlist (not accurate so we have to tranform it back)\n",
    "def convert(root, head):\n",
    "    #base case\n",
    "    if root is None:\n",
    "        return head\n",
    "    \n",
    "    # first recursively convert the left subtree\n",
    "    head = convert(root.left, head)\n",
    "    root.left = None\n",
    "    \n",
    "    # store the right subtree\n",
    "    right = root.right\n",
    "    # insert at the beginning of the doubly linkedlist\n",
    "    root.right = head\n",
    "    if head:\n",
    "        head.left = root\n",
    "    head = root\n",
    "    \n",
    "    return convert(right, head)\n",
    "\n",
    "# reverse the doubly linkedlist to make direction correct\n",
    "def reverse(head):\n",
    "    prev = None\n",
    "    current = head\n",
    "    while current:\n",
    "        # current.left is now Null at first and \n",
    "        temp = current.left\n",
    "        current.left = current.right\n",
    "        # let current.right point to Null at first round\n",
    "        current.right = temp\n",
    "        prev = current\n",
    "        current = current.left\n",
    "    return prev\n",
    "#https://www.techiedelight.com/place-convert-given-binary-tree-to-doubly-linked-list/"
   ]
  },
  {
   "cell_type": "markdown",
   "id": "27d716e7-2003-489b-9121-b3451114531d",
   "metadata": {
    "jp-MarkdownHeadingCollapsed": true,
    "tags": []
   },
   "source": [
    "### Convert Binary Tree to Doubly Linked List with DFS (preorder traversal)"
   ]
  },
  {
   "cell_type": "code",
   "execution_count": null,
   "id": "18a64e31-3e18-4aa7-afb9-ba300f1920f7",
   "metadata": {},
   "outputs": [],
   "source": [
    "# recursion\n",
    "class Node:\n",
    "    def __init__(self, val):\n",
    "        self.val = val\n",
    "        self.left = None\n",
    "        self.right = None\n",
    "\n",
    "def flatten(root):\n",
    "    def dfs(root):\n",
    "        if root is None:\n",
    "            return None\n",
    "        lefttail = dfs(root.left)\n",
    "        righttail = dfs(root.right)\n",
    "        \n",
    "        if root.left:\n",
    "            lefttail.right = root.right\n",
    "            root.right = root.left\n",
    "            root.left = None\n",
    "        last = righttail or lefttail or root\n",
    "        return last\n",
    "    dfs(root)\n",
    "        "
   ]
  },
  {
   "cell_type": "markdown",
   "id": "a4d32400-6575-472c-9804-75ed51eebcc0",
   "metadata": {
    "tags": []
   },
   "source": [
    "### Convert Sorted Linkedlist to BST"
   ]
  },
  {
   "cell_type": "code",
   "execution_count": null,
   "id": "c0900296-5ba7-4864-96a8-144e38de6f03",
   "metadata": {},
   "outputs": [],
   "source": [
    "# simple method\n",
    "# find n//2 position and set as root and finish it recursively\n",
    "# Runtime O(n*logn)"
   ]
  },
  {
   "cell_type": "code",
   "execution_count": 65,
   "id": "abc53599-95cd-4b08-a8cd-956552fa28a0",
   "metadata": {},
   "outputs": [],
   "source": [
    "# faster solution with Time O(n) Space(logn)\n",
    "# use inorder traversal\n",
    "# https://www.geeksforgeeks.org/in-place-conversion-of-sorted-dll-to-balanced-bst/\n",
    "\n",
    "# linkedlist node\n",
    "class LNode :\n",
    "    def __init__(self):\n",
    "        self.data = None\n",
    "        self.next = None\n",
    "# tree node\n",
    "class TNode :\n",
    "    def __init__(self,data):\n",
    "        self.val = data\n",
    "        self.left = None\n",
    "        self.right = None\n",
    "\n",
    "head = None\n",
    "\n",
    "# count linkedlist nodes\n",
    "def count_nodes(head):\n",
    "    count = 0\n",
    "    temp = head\n",
    "    while temp != None:\n",
    "        temp = temp.next\n",
    "        count += 1\n",
    "    return count\n",
    "\n",
    "\n",
    "def treeify(n):\n",
    "    global head\n",
    "    if n == 0: \n",
    "        return None\n",
    "    left = treeify(n//2)\n",
    "    \n",
    "    # root now is the middle node than assign current head\n",
    "    root = head\n",
    "    root.left = left\n",
    "    head = head.next\n",
    "    root.right = treeify(n-n//2-1) \n",
    "    return root\n",
    "        \n",
    "def sortedListToBST(head):\n",
    "    count = count_nodes(head)\n",
    "    return treeify(count)\n",
    "  "
   ]
  },
  {
   "cell_type": "markdown",
   "id": "6129683f-9ef7-4fbf-9fef-5a71a68be9f5",
   "metadata": {},
   "source": [
    "### Convert Sorted Doubly Linkedlist to BST"
   ]
  },
  {
   "cell_type": "code",
   "execution_count": null,
   "id": "1e9d3ff5-5f0d-4a28-8083-666394a06aca",
   "metadata": {},
   "outputs": [],
   "source": [
    "# same as simply linkedlist cause we always traverse through the linked list using only next"
   ]
  },
  {
   "cell_type": "markdown",
   "id": "8a8c6dbc-9ff1-4359-8cb4-11cfab1861dd",
   "metadata": {
    "jp-MarkdownHeadingCollapsed": true,
    "tags": []
   },
   "source": [
    "### Print all unique rows of the given matrix"
   ]
  },
  {
   "cell_type": "code",
   "execution_count": null,
   "id": "d4b960af-2476-4b67-aa49-50319778b06a",
   "metadata": {},
   "outputs": [],
   "source": [
    "## simple method is to loop through all rows and compare\n",
    "## Time complexity O(ROW^2 x COL)"
   ]
  },
  {
   "cell_type": "code",
   "execution_count": 69,
   "id": "21aa2c3e-f9d5-41b4-870e-7145734378d0",
   "metadata": {},
   "outputs": [
    {
     "name": "stdout",
     "output_type": "stream",
     "text": [
      "0 1 0 0 1\n",
      "1 0 1 1 0\n",
      "1 1 1 0 0\n"
     ]
    }
   ],
   "source": [
    "## Another method is to use hashing to assign each row a distinct value\n",
    "## use set or dict\n",
    "## Time complexity: O( ROW x COL )\n",
    "def printArray(matrix):\n",
    " \n",
    "    rowCount = len(matrix)\n",
    "    if rowCount == 0:\n",
    "        return\n",
    " \n",
    "    columnCount = len(matrix[0])\n",
    "    if columnCount == 0:\n",
    "        return\n",
    " \n",
    "    row_output_format = \" \".join([\"%s\"] * columnCount)\n",
    " \n",
    "    printed = set()\n",
    " \n",
    "    for row in matrix:\n",
    "        routput = row_output_format % tuple(row)\n",
    "        if routput not in printed:\n",
    "            printed.add(routput)\n",
    "            print(routput)\n"
   ]
  },
  {
   "cell_type": "code",
   "execution_count": null,
   "id": "4915b063-326f-4308-8c6d-374e78dbc539",
   "metadata": {},
   "outputs": [],
   "source": [
    "## another method is to use BST with hashing\n",
    "## Time complexity: O( ROW x COL) + O(ROW x log( ROW ) )\n",
    "## first term is traverse through the matrix, second term is insertion \n",
    "## Space is O(Row) to save BST\n",
    "class Node:\n",
    "    def __init__(self, val):\n",
    "        self.val = val\n",
    "        self.left = None\n",
    "        self.right = None\n",
    "    \n",
    "# hashing function to assign each row distinct value\n",
    "def hashing(arr):\n",
    "    for i in range(len(arr)):\n",
    "        sum = 0\n",
    "        sum += (2**i)*arr[i]\n",
    "    return sum\n",
    "\n",
    "# insert distinct node to the tree\n",
    "def insert(root, value):\n",
    "    # insert first elements\n",
    "    if root is None:\n",
    "        return Node(value)\n",
    "    \n",
    "    # if value exists already\n",
    "    if value == root.val:\n",
    "        return root\n",
    "    \n",
    "    # go through left nodes\n",
    "    if value < root.val:\n",
    "        root.left = insert(root.left, value)\n",
    "    # go through right nodes\n",
    "    elif value > root.val:\n",
    "        root.right = insert(root.right, value)\n",
    "    return root\n",
    "    \n",
    "\n",
    "# traverse through the final tree to get thr result\n",
    "def inorder(root):\n",
    "    if root = None:\n",
    "        return None\n",
    "    result = []\n",
    "    result += inorder(root.left)\n",
    "    result.append(root.val)\n",
    "    result += inorder(root.right)\n",
    "    return result\n",
    "\n",
    "def findunique(M):\n",
    "    row, col = M.shape\n",
    "    root = None\n",
    "    for i in range(row):\n",
    "        root = insert(root, hashing(M[arr]))\n",
    "    result = inorder(root)\n",
    "    return result"
   ]
  },
  {
   "cell_type": "code",
   "execution_count": null,
   "id": "c9428808-6027-416c-a77e-87646bc9ddfc",
   "metadata": {},
   "outputs": [],
   "source": [
    "### fastest method is to use trie\n",
    "# Time complexity is O(Row*Col)\n",
    "# Space is O(Row*Col)"
   ]
  },
  {
   "cell_type": "markdown",
   "id": "90ed4461-5c05-4a2f-92a2-a5a09b1e3760",
   "metadata": {
    "jp-MarkdownHeadingCollapsed": true,
    "tags": []
   },
   "source": [
    "### Count Number of Nodes in a Binary Tree"
   ]
  },
  {
   "cell_type": "code",
   "execution_count": null,
   "id": "95faed50-93d1-46bc-a860-e8ff85164489",
   "metadata": {},
   "outputs": [],
   "source": [
    "# Time: O(N)\n",
    "# Space: O(h)\n",
    "def count_nodes(root):\n",
    "    count = 1\n",
    "    if root == None:\n",
    "        return 0\n",
    "    count += count_nodes(root.left)\n",
    "    count += count_nodes(root.right)\n",
    "    return count"
   ]
  },
  {
   "cell_type": "markdown",
   "id": "a46afe62-c371-4c10-b90c-9a55f88f7b25",
   "metadata": {
    "jp-MarkdownHeadingCollapsed": true,
    "tags": []
   },
   "source": [
    "### Connect nodes at same level (BFS)"
   ]
  },
  {
   "cell_type": "code",
   "execution_count": 83,
   "id": "7bbfbfab-4f86-44b2-8da7-23fe5a4e1546",
   "metadata": {},
   "outputs": [
    {
     "name": "stdout",
     "output_type": "stream",
     "text": [
      "Following are populated nextRight pointers in the tree (-1 is printed if there is no nextRight)\n",
      "nextRight of 10 is -1\n",
      "nextRight of 8 is 2\n",
      "nextRight of 2 is -1\n",
      "nextRight of 3 is -1\n"
     ]
    }
   ],
   "source": [
    "# Time: O(n)\n",
    "# Space: O(n)\n",
    "class Node:\n",
    "    def __init__(self, data):\n",
    "        self.data = data\n",
    "        self.left = None \n",
    "        self.right = None \n",
    "        self.nextRight = None\n",
    "    \n",
    "def connect(root):\n",
    "    if root is None:\n",
    "        return\n",
    "    q = []\n",
    "    q.append(root)\n",
    "    while len(q) > 0:\n",
    "        size = len(q)\n",
    "        prev= Node(None)\n",
    "        while size > 0:\n",
    "            temp = q.pop(0)\n",
    "            if temp.left:\n",
    "                q.append(temp.left)\n",
    "            if temp.right:\n",
    "                q.append(temp.right)\n",
    "            if prev != None:\n",
    "                prev.nextRight = temp\n",
    "                prev = prev.nextRight\n",
    "            size -= 1\n",
    "        prev.nextRight = None\n",
    "\n",
    "if __name__ == '__main__':\n",
    " \n",
    "    # Constructed binary tree is\n",
    "    # 10\n",
    "    #     / \\\n",
    "    # 8     2\n",
    "    # /\n",
    "    # 3\n",
    "    root = Node(10)\n",
    "    root.left = Node(8)\n",
    "    root.right = Node(2)\n",
    "    root.left.left = Node(3)\n",
    " \n",
    "    # Populates nextRight pointer in all nodes\n",
    "    connect(root)\n",
    " \n",
    "    # Let us check the values of nextRight pointers\n",
    "    print(\"Following are populated nextRight\",\n",
    "          \"pointers in the tree (-1 is printed\",\n",
    "          \"if there is no nextRight)\")\n",
    "    print(\"nextRight of\", root.data, \"is \", end=\"\")\n",
    "    if root.nextRight:\n",
    "        print(root.nextRight.data)\n",
    "    else:\n",
    "        print(-1)\n",
    "    print(\"nextRight of\", root.left.data, \"is \", end=\"\")\n",
    "    if root.left.nextRight:\n",
    "        print(root.left.nextRight.data)\n",
    "    else:\n",
    "        print(-1)\n",
    "    print(\"nextRight of\", root.right.data, \"is \", end=\"\")\n",
    "    if root.right.nextRight:\n",
    "        print(root.right.nextRight.data)\n",
    "    else:\n",
    "        print(-1)\n",
    "    print(\"nextRight of\", root.left.left.data, \"is \", end=\"\")\n",
    "    if root.left.left.nextRight:\n",
    "        print(root.left.left.nextRight.data)\n",
    "    else:\n",
    "        print(-1)"
   ]
  },
  {
   "cell_type": "markdown",
   "id": "eb266ace-4e4a-4dda-a8e0-a0bd0119ee35",
   "metadata": {
    "tags": []
   },
   "source": [
    "### Left View of Binary Tree"
   ]
  },
  {
   "cell_type": "code",
   "execution_count": 104,
   "id": "38950727-d0e7-4a0e-b6a1-eb8e038b437c",
   "metadata": {},
   "outputs": [],
   "source": [
    "# method one DFS recursion \n",
    "# Time: O(n)\n",
    "# Space: O(h)\n",
    "class Node:\n",
    "    def __init__(self, data):\n",
    "        self.data = data\n",
    "        self.left = None\n",
    "        self.right = None\n",
    "\n",
    "def leftViewUtil(root, level):\n",
    "    global max_level\n",
    "    # Base Case\n",
    "    if root is None:\n",
    "        return\n",
    " \n",
    "    # If this is the first node of its level\n",
    "    if (max_level < level):\n",
    "        print (root.data, end = \" \")\n",
    "        max_level = level\n",
    " \n",
    "    # Recur for left and right subtree\n",
    "    leftViewUtil(root.left, level + 1)\n",
    "    leftViewUtil(root.right, level + 1)\n",
    "\n",
    "max_level = 0\n",
    "# A wrapper over leftViewUtil()\n",
    "def leftView(root):\n",
    "    leftViewUtil(root, 1)\n"
   ]
  },
  {
   "cell_type": "code",
   "execution_count": 103,
   "id": "11ed0813-6d4e-4554-baa4-bfbafa13c2f4",
   "metadata": {},
   "outputs": [
    {
     "name": "stdout",
     "output_type": "stream",
     "text": [
      "10 2 7 14 "
     ]
    }
   ],
   "source": [
    "# method two BFS and print the first node of each level\n",
    "# Time: O(N)\n",
    "# Spca: O(N)\n",
    "class Node:\n",
    "    def __init__(self, data):\n",
    "        self.data = data\n",
    "        self.right = None\n",
    "        self.left = None\n",
    "    \n",
    "def leftview(root):\n",
    "    if root is None:\n",
    "        return\n",
    "    \n",
    "    q = []\n",
    "    q.append(root)\n",
    "    while len(q) >0:\n",
    "        for i in range(len(q)):\n",
    "            temp = q.pop(0)\n",
    "            \n",
    "            # print the first element in each level\n",
    "            if i == 0:\n",
    "                print(temp.data, end=\" \")\n",
    "            if temp.left:\n",
    "                q.append(temp.left)\n",
    "            if temp.right:\n",
    "                q.append(temp.right)\n",
    "            \n",
    "# if __name__ == '__main__':\n",
    "#     root = Node(10)\n",
    "#     root.left = Node(2)\n",
    "#     root.right = Node(3)\n",
    "#     root.left.left = Node(7)\n",
    "#     root.left.right = Node(8)\n",
    "#     root.right.right = Node(15)\n",
    "#     root.right.left = Node(12)\n",
    "#     root.right.right.left = Node(14)\n",
    "     \n",
    "#     leftview(root)"
   ]
  },
  {
   "cell_type": "markdown",
   "id": "c44e3f08-4187-4153-bb11-b29d38d76010",
   "metadata": {},
   "source": [
    "### Invert Binary Tree"
   ]
  },
  {
   "cell_type": "code",
   "execution_count": null,
   "id": "24878737-cc47-4fca-870a-8011b25dd3a1",
   "metadata": {},
   "outputs": [],
   "source": [
    "class Solution(object):\n",
    "    def invertTree(self, root):\n",
    "        \"\"\"\n",
    "        :type root: TreeNode\n",
    "        :rtype: TreeNode\n",
    "        \"\"\"\n",
    "        if not root:\n",
    "            return None\n",
    "        \n",
    "        tmp = root.left\n",
    "        root.left = root.right\n",
    "        root.right = tmp\n",
    "\n",
    "        self.invertTree(root.left)\n",
    "        self.invertTree(root.right)\n",
    "        return root"
   ]
  },
  {
   "cell_type": "markdown",
   "id": "323232a3-e358-41e5-b82d-f4762f66c687",
   "metadata": {},
   "source": [
    "### Validate Binary Search Tree"
   ]
  },
  {
   "cell_type": "code",
   "execution_count": null,
   "id": "03b990ae-7c5c-432c-abf6-74018d4c5999",
   "metadata": {},
   "outputs": [],
   "source": [
    "### DFS\n",
    "class Solution(object):\n",
    "    def isValidBST(self, root):\n",
    "        \"\"\"\n",
    "        :type root: TreeNode\n",
    "        :rtype: bool\n",
    "        \"\"\"\n",
    "        def valid(node, left, right):\n",
    "            if not node:\n",
    "                return True\n",
    "            if not (node.val < right and node.val > left):\n",
    "                return False\n",
    "\n",
    "            return (valid(node.left, left, node.val) and\n",
    "                    valid(node.right, node.val, right))\n",
    "        return valid(root, float(\"-inf\"), float(\"inf\"))"
   ]
  },
  {
   "cell_type": "code",
   "execution_count": null,
   "id": "c7254178-d86c-4f86-b645-7a13386d017e",
   "metadata": {},
   "outputs": [],
   "source": []
  },
  {
   "cell_type": "code",
   "execution_count": null,
   "id": "3416428e-5c98-486d-aab1-e904859c7b08",
   "metadata": {},
   "outputs": [],
   "source": []
  }
 ],
 "metadata": {
  "kernelspec": {
   "display_name": "Python 3 (ipykernel)",
   "language": "python",
   "name": "python3"
  },
  "language_info": {
   "codemirror_mode": {
    "name": "ipython",
    "version": 3
   },
   "file_extension": ".py",
   "mimetype": "text/x-python",
   "name": "python",
   "nbconvert_exporter": "python",
   "pygments_lexer": "ipython3",
   "version": "3.8.10"
  }
 },
 "nbformat": 4,
 "nbformat_minor": 5
}
