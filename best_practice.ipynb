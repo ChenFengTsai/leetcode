{
 "cells": [
  {
   "cell_type": "markdown",
   "id": "fdd3e165-df8c-4cd7-9302-6f14be8d0545",
   "metadata": {},
   "source": [
    "# W1-Sequences"
   ]
  },
  {
   "cell_type": "markdown",
   "id": "18b52fed-a8f9-4aeb-8b31-2102fa734abf",
   "metadata": {},
   "source": [
    "### Two sum"
   ]
  },
  {
   "cell_type": "code",
   "execution_count": null,
   "id": "d501173b-4328-4491-842f-0524a7612598",
   "metadata": {},
   "outputs": [],
   "source": [
    "# Hashing, Time: O(N), Space: O(N)\n",
    "class Solution(object):\n",
    "    def twoSum(self, nums, target):\n",
    "        \"\"\"\n",
    "        :type nums: List[int]\n",
    "        :type target: int\n",
    "        :rtype: List[int]\n",
    "        \"\"\"\n",
    "        hashmap = dict()\n",
    "\n",
    "        for i in range(len(nums)):\n",
    "            temp = target - nums[i]\n",
    "            if temp in hashmap:\n",
    "                return [hashmap[temp], i]\n",
    "            hashmap[nums[i]] = i"
   ]
  },
  {
   "cell_type": "code",
   "execution_count": null,
   "id": "69b517fe-5c97-4d6e-8e80-9d810fd61b2b",
   "metadata": {},
   "outputs": [],
   "source": [
    "# if wanna do it with two pointers or binary search you need to create a way to track the original index "
   ]
  },
  {
   "cell_type": "markdown",
   "id": "626ca489-e68e-49ed-9e5c-cf9478cc4bae",
   "metadata": {},
   "source": [
    "### Contains Duplicate"
   ]
  },
  {
   "cell_type": "code",
   "execution_count": null,
   "id": "b1cf51d1-1579-4cf4-90ba-a5515f4cb47f",
   "metadata": {},
   "outputs": [],
   "source": [
    "# hashing\n",
    "class Solution(object):\n",
    "    def containsDuplicate(self, nums):\n",
    "        \"\"\"\n",
    "        :type nums: List[int]\n",
    "        :rtype: bool\n",
    "        \"\"\"\n",
    "        hashmap = dict()\n",
    "        for i in range(len(nums)):\n",
    "            if nums[i] in hashmap:\n",
    "                return True\n",
    "            hashmap[nums[i]] = i"
   ]
  },
  {
   "cell_type": "markdown",
   "id": "c00629fb-9a08-43d2-a757-d4709dec1cb2",
   "metadata": {},
   "source": [
    "### Best Time to Buy and Sell Stock"
   ]
  },
  {
   "cell_type": "code",
   "execution_count": null,
   "id": "12a9be0e-5850-4922-9f22-b0fc802cfe0d",
   "metadata": {},
   "outputs": [],
   "source": [
    "# two pointer to find the largest gap Time: O(N)\n",
    "class Solution(object):\n",
    "    def maxProfit(self, prices):\n",
    "        \"\"\"\n",
    "        :type prices: List[int]\n",
    "        :rtype: int\n",
    "        \"\"\"\n",
    "        l = 0\n",
    "        r = 1\n",
    "        max_p = 0\n",
    "        while r < len(prices):\n",
    "            if prices[l]<prices[r]:\n",
    "                profit = prices[r] - prices[l]\n",
    "                max_p = max(max_p, profit)\n",
    "            else:\n",
    "                l=r\n",
    "            r+= 1\n",
    "        return max_p"
   ]
  },
  {
   "cell_type": "markdown",
   "id": "dac67480-7458-4e52-846d-c23af25bb935",
   "metadata": {},
   "source": [
    "### Valid Anagram"
   ]
  },
  {
   "cell_type": "code",
   "execution_count": null,
   "id": "f310265a-a7f2-4dc5-b6db-7a3af254786b",
   "metadata": {},
   "outputs": [],
   "source": [
    "# Input: s = \"anagram\", t = \"nagaram\"\n",
    "# Output: true\n",
    "# can be rearranged\n",
    "\n",
    "class Solution(object):\n",
    "    def isAnagram(self, s, t):\n",
    "        \"\"\"\n",
    "        :type s: str\n",
    "        :type t: str\n",
    "        :rtype: bool\n",
    "        \"\"\"\n",
    "        hashmap = dict()\n",
    "        for i in s:\n",
    "            hashmap[i] = 1 + hashmap.get(i,0)\n",
    "\n",
    "        for j in t:\n",
    "            if j not in hashmap:\n",
    "                return False\n",
    "            else:\n",
    "                hashmap[j] -= 1\n",
    "        for k in hashmap.keys():\n",
    "            if hashmap[k] != 0:\n",
    "                return False\n",
    "        return True"
   ]
  },
  {
   "cell_type": "markdown",
   "id": "53d88f7a-ea71-40f2-b239-5d981cdfeb83",
   "metadata": {},
   "source": [
    "### Maximum Product Subarray (only include integers)"
   ]
  },
  {
   "cell_type": "code",
   "execution_count": null,
   "id": "80875528-b0f7-4e35-9adc-c338d1ae0874",
   "metadata": {},
   "outputs": [],
   "source": [
    "class Solution(object):\n",
    "    def maxProduct(self, nums):\n",
    "        \"\"\"\n",
    "        :type nums: List[int]\n",
    "        :rtype: int\n",
    "        \"\"\"\n",
    "        res = float('-inf')\n",
    "        curMin = 1\n",
    "        curMax = 1\n",
    "\n",
    "        for n in nums:\n",
    "            if n == 0:\n",
    "                curMin = 1\n",
    "                curMax = 1\n",
    "                # this is when 0 is the largest product of subarray and set result to 0\n",
    "                res = max(n, res)\n",
    "            else:\n",
    "                tmp_max = curMax*n # track positive\n",
    "                tmp_min = curMin*n # track negative\n",
    "                curMax = max(tmp_max, tmp_min, n)\n",
    "                curMin = min(tmp_max, tmp_min, n)\n",
    "                res = max(res, curMax)\n",
    "        return res"
   ]
  },
  {
   "cell_type": "markdown",
   "id": "fc7aa056-d018-4220-b767-ce53a4f73567",
   "metadata": {},
   "source": [
    "# W2-Data Structures"
   ]
  },
  {
   "cell_type": "markdown",
   "id": "269002cb-b6bb-4dd0-9a36-f55c01b9fe21",
   "metadata": {},
   "source": [
    "### Palindromic Substrings"
   ]
  },
  {
   "cell_type": "code",
   "execution_count": null,
   "id": "224e8177-e541-47ac-8fa6-8f15e56ca576",
   "metadata": {},
   "outputs": [],
   "source": [
    "### Look into sliding window"
   ]
  },
  {
   "cell_type": "markdown",
   "id": "dc1a7892-b1c7-4ccf-aab5-fdddecac42db",
   "metadata": {},
   "source": [
    "### Pacific Atlantic Water Flow"
   ]
  },
  {
   "cell_type": "code",
   "execution_count": null,
   "id": "6456ed05-f7bb-4db5-b98a-4aef36e45144",
   "metadata": {},
   "outputs": [],
   "source": [
    "class Solution(object):\n",
    "    def pacificAtlantic(self, heights):\n",
    "        \"\"\"\n",
    "        :type heights: List[List[int]]\n",
    "        :rtype: List[List[int]]\n",
    "        \"\"\"\n",
    "        rows, cols = len(heights), len(heights[0])\n",
    "        pac, atl = set(), set()\n",
    "\n",
    "        def dfs(r, c, visit, prev_height):\n",
    "            if ((r, c) in visit or r < 0 or c < 0 \n",
    "                or r > rows-1 or c > cols-1\n",
    "                or heights[r][c] < prev_height):\n",
    "                return\n",
    "            visit.add((r, c))\n",
    "            dfs(r+1, c, visit, heights[r][c])\n",
    "            dfs(r-1, c, visit, heights[r][c])\n",
    "            dfs(r, c+1, visit, heights[r][c])\n",
    "            dfs(r, c-1, visit, heights[r][c])\n",
    "\n",
    "        for c in range(cols):\n",
    "            dfs(0, c, pac, 0)\n",
    "            dfs(rows-1, c, atl, 0)\n",
    "        \n",
    "        for r in range(rows):\n",
    "            dfs(r, 0, pac, 0)\n",
    "            dfs(r, cols-1, atl, 0)\n",
    "        \n",
    "        res = []\n",
    "        for r in range(rows):\n",
    "            for c in range(cols):\n",
    "                if (r,c) in pac and (r,c) in atl:\n",
    "                    res.append([r, c])\n",
    "        return res"
   ]
  },
  {
   "cell_type": "markdown",
   "id": "b4346aeb-5cba-476e-a76b-6ca294dd5fc8",
   "metadata": {},
   "source": [
    "### Minimum Window Substring"
   ]
  },
  {
   "cell_type": "code",
   "execution_count": null,
   "id": "cb4a360d-13c2-4978-889a-4dd54d6ef438",
   "metadata": {},
   "outputs": [],
   "source": [
    "# Input: s = \"ADOBECODEBANC\", t = \"ABC\"\n",
    "# Output: \"BANC\"\n",
    "# Explanation: The minimum window substring \"BANC\" includes 'A', 'B', and 'C' from string t.\n",
    "\n",
    "class Solution(object):\n",
    "    def minWindow(self, s, t):\n",
    "        \"\"\"\n",
    "        :type s: str\n",
    "        :type t: str\n",
    "        :rtype: str\n",
    "        \"\"\"\n",
    "        # edge case\n",
    "        if t == \"\":\n",
    "            return \"\"\n",
    "        # initialization\n",
    "        countT = {}\n",
    "        window = {}\n",
    "\n",
    "        for c in t:\n",
    "            countT[c] = 1 + countT.get(c, 0)\n",
    "        \n",
    "        have = 0\n",
    "        need = len(countT)\n",
    "        # left right pointer\n",
    "        res = [0, 0]\n",
    "        # length\n",
    "        resLen = float('inf')\n",
    "        l = 0\n",
    "        for r in range(len(s)):\n",
    "            c = s[r]\n",
    "            window[c] = 1 + window.get(c, 0)\n",
    "\n",
    "            if c in countT and window[c] == countT[c]:\n",
    "                have += 1\n",
    "            while have == need:\n",
    "                # update\n",
    "                if (r - l + 1) < resLen:\n",
    "                    res = [l, r]\n",
    "                    resLen = r-l+1\n",
    "                # pop from the left of the window\n",
    "                window[s[l]] -= 1\n",
    "                if s[l] in countT and window[s[l]] < countT[s[l]]:\n",
    "                    # move out the loop and r pointer go right\n",
    "                    have -= 1\n",
    "                l += 1\n",
    "        l, r = res\n",
    "        return s[l: r+1] if resLen != float('Infinity') else \"\""
   ]
  },
  {
   "cell_type": "markdown",
   "id": "f88fbf11-4dbb-401b-aa68-b3e5156f5f79",
   "metadata": {},
   "source": [
    "### Non-overlapping Intervals"
   ]
  },
  {
   "cell_type": "code",
   "execution_count": null,
   "id": "676a0555-abc9-475c-be8d-d0b457f6b323",
   "metadata": {},
   "outputs": [],
   "source": [
    "### look into Array"
   ]
  },
  {
   "cell_type": "markdown",
   "id": "d9654ca6-3709-4425-8d65-3306fda4b57c",
   "metadata": {},
   "source": [
    "### Construct Binary Tree from Preorder and Inorder Traversal"
   ]
  },
  {
   "cell_type": "code",
   "execution_count": null,
   "id": "3591e901-2fb9-4b34-9d37-5ba2cee444c1",
   "metadata": {},
   "outputs": [],
   "source": [
    "### look into Tree"
   ]
  },
  {
   "cell_type": "markdown",
   "id": "d0d3b6e6-e8cc-42f4-b0d1-f964603cdc84",
   "metadata": {},
   "source": [
    "# W3- Non-linear data structures"
   ]
  },
  {
   "cell_type": "markdown",
   "id": "77814e96-9170-4a88-a4fd-46837874d6d7",
   "metadata": {},
   "source": [
    "### Course Schedule"
   ]
  },
  {
   "cell_type": "code",
   "execution_count": null,
   "id": "2f51456d-9e3e-4d78-88ef-69e177fbd8b4",
   "metadata": {},
   "outputs": [],
   "source": [
    "### look at Graph notebook it is a topological sort problem"
   ]
  }
 ],
 "metadata": {
  "kernelspec": {
   "display_name": "Python 3.10.11 64-bit",
   "language": "python",
   "name": "python3"
  },
  "language_info": {
   "codemirror_mode": {
    "name": "ipython",
    "version": 3
   },
   "file_extension": ".py",
   "mimetype": "text/x-python",
   "name": "python",
   "nbconvert_exporter": "python",
   "pygments_lexer": "ipython3",
   "version": "3.10.11"
  },
  "vscode": {
   "interpreter": {
    "hash": "aee8b7b246df8f9039afb4144a1f6fd8d2ca17a180786b69acc140d282b71a49"
   }
  }
 },
 "nbformat": 4,
 "nbformat_minor": 5
}
