{
 "cells": [
  {
   "cell_type": "markdown",
   "id": "6beb47ae-e7ba-4f37-aabd-911c350e8a9b",
   "metadata": {},
   "source": [
    "# Dynamic Programming"
   ]
  },
  {
   "cell_type": "markdown",
   "id": "a6e559c0-f789-43fb-be14-729db9e0b9b9",
   "metadata": {},
   "source": [
    "### Find Longest Subsequence with Increasing order"
   ]
  },
  {
   "cell_type": "code",
   "execution_count": null,
   "id": "aa120734-2c7b-4aa1-a62e-97aa7a8a66a3",
   "metadata": {},
   "outputs": [],
   "source": [
    "### in array doc"
   ]
  },
  {
   "cell_type": "markdown",
   "id": "83c6e0f4-13a8-45b4-a212-886987a3bb14",
   "metadata": {
    "tags": []
   },
   "source": [
    "### Number of Unique BST with a given key"
   ]
  },
  {
   "cell_type": "code",
   "execution_count": null,
   "id": "719df8ea-abea-405d-819a-8f79c2781d3d",
   "metadata": {},
   "outputs": [],
   "source": [
    "# https://www.youtube.com/watch?v=OIc0mHgHUww&t=300s&ab_channel=TECHDOSE\n",
    "def numberOfBST(n):\n",
    " \n",
    "    # DP to store the number of unique\n",
    "    # BST with key i\n",
    "    dp = [0] * (n + 1)\n",
    " \n",
    "    # Base case\n",
    "    dp[0], dp[1] = 1, 1\n",
    " \n",
    "    # i is how many nodes\n",
    "    # j is to control how many nodes on both sides\n",
    "    # start from 2 since we already check if there is only one node already\n",
    "    for i in range(2, n + 1):\n",
    "        # total is the number of BST combination with i number of nodes\n",
    "        total = 0\n",
    "        for j in range(0, i):\n",
    "            left = j\n",
    "            # minus one since there is one node as root\n",
    "            right = i-j-1\n",
    "            total += dp[left]*dp[right]\n",
    "        dp[i] = total\n",
    "    return dp[n]  "
   ]
  },
  {
   "cell_type": "markdown",
   "id": "4128d5ad-2bf9-4ea2-ac8a-2b5c79269f37",
   "metadata": {},
   "source": [
    "### Maximum Product Subarray"
   ]
  },
  {
   "cell_type": "code",
   "execution_count": null,
   "id": "aef5d1b8-6ee6-478c-8b51-a4d4b6180595",
   "metadata": {},
   "outputs": [],
   "source": [
    "### look into w1_sequences"
   ]
  },
  {
   "cell_type": "markdown",
   "id": "d705bc6d",
   "metadata": {},
   "source": [
    "### Climbing Stairs\n"
   ]
  },
  {
   "cell_type": "code",
   "execution_count": null,
   "id": "0282a9d7",
   "metadata": {},
   "outputs": [],
   "source": [
    "# Input: n = 2\n",
    "# Output: 2\n",
    "# Explanation: There are two ways to climb to the top.\n",
    "# 1. 1 step + 1 step\n",
    "# 2. 2 steps\n",
    "# Each time you can either climb 1 or 2 steps.\n",
    "\n",
    "class Solution(object):\n",
    "    def climbStairs(self, n):\n",
    "        \"\"\"\n",
    "        :type n: int\n",
    "        :rtype: int\n",
    "        \"\"\"\n",
    "        dp = [0]*(n+1)\n",
    "        dp[0], dp[1] = 1, 1\n",
    "        \n",
    "        for i in range(2, n+1):\n",
    "            dp[i] = dp[i-1] + dp[i-2]\n",
    "        return dp[n]"
   ]
  },
  {
   "cell_type": "markdown",
   "id": "0c5f268f",
   "metadata": {},
   "source": [
    "### Coin Change\n"
   ]
  },
  {
   "cell_type": "code",
   "execution_count": null,
   "id": "8d984f56",
   "metadata": {},
   "outputs": [],
   "source": [
    "# Input: coins = [1,2,5], amount = 11\n",
    "# Output: 3\n",
    "# Explanation: 11 = 5 + 5 + 1\n",
    "# Return the fewest number of coins that you need to make up that amount.\n",
    "class Solution(object):\n",
    "    def coinChange(self, coins, amount):\n",
    "        \"\"\"\n",
    "        :type coins: List[int]\n",
    "        :type amount: int\n",
    "        :rtype: int\n",
    "        \"\"\"\n",
    "        dp = [float('inf')]*(amount+1)\n",
    "        dp[0] = 0\n",
    "        for a in range(1, amount+1):\n",
    "            for c in coins:\n",
    "                if a-c >= 0:\n",
    "                    # update the fewest coin by looping through each coin you have\n",
    "                    dp[a] = min(dp[a], 1+dp[a-c])\n",
    "        return dp[amount] if dp[amount] != float('inf') else -1"
   ]
  },
  {
   "cell_type": "markdown",
   "id": "4a8d1795",
   "metadata": {},
   "source": [
    "### Combination Sum IV\n"
   ]
  },
  {
   "cell_type": "code",
   "execution_count": null,
   "id": "00d18fdb",
   "metadata": {},
   "outputs": [],
   "source": [
    "# Input: nums = [1,2,3], target = 4\n",
    "# Output: 7\n",
    "# Explanation:\n",
    "# The possible combination ways are:\n",
    "# (1, 1, 1, 1)\n",
    "# (1, 1, 2)\n",
    "# (1, 2, 1)\n",
    "# (1, 3)\n",
    "# (2, 1, 1)\n",
    "# (2, 2)\n",
    "# (3, 1)\n",
    "# Note that different sequences are counted as different combinations.\n",
    "\n",
    "class Solution(object):\n",
    "    def combinationSum4(self, nums, target):\n",
    "        \"\"\"\n",
    "        :type nums: List[int]\n",
    "        :type target: int\n",
    "        :rtype: int\n",
    "        \"\"\"\n",
    "        dp = {0: 1}\n",
    "        for total in range(1, target+1):\n",
    "            dp[total] = 0\n",
    "            for n in nums:\n",
    "                # if not exist in dp dic, get 0\n",
    "                dp[total] += dp.get(total-n, 0)\n",
    "        return dp[target]\n",
    "    \n",
    "    ### Another way using list, which is same as above question\n",
    "    def combinationSum4(self, nums, target):\n",
    "        dp = [0]*(target+1)\n",
    "        dp[0] = 1\n",
    "        for total in range(1, target+1):\n",
    "            for n in nums:\n",
    "                # if not exist in dp dic, get 0\n",
    "                if total-n >= 0:\n",
    "                    dp[total] += dp[total-n]\n",
    "        return dp[target]"
   ]
  },
  {
   "cell_type": "markdown",
   "id": "8d014a39",
   "metadata": {},
   "source": [
    "### House Robber\n"
   ]
  },
  {
   "cell_type": "code",
   "execution_count": null,
   "id": "ee11e59b",
   "metadata": {},
   "outputs": [],
   "source": [
    "# Given an integer array nums representing the amount of money of each house, \n",
    "# return the maximum amount of money you can rob tonight \n",
    "# without alerting the police(if two adjacent houses were broken into on the same night.).\n",
    "\n",
    "# Input: nums = [1,2,3,1]\n",
    "# Output: 4\n",
    "# Explanation: Rob house 1 (money = 1) and then rob house 3 (money = 3).\n",
    "# Total amount you can rob = 1 + 3 = 4.\n",
    "\n",
    "class Solution(object):\n",
    "    def rob(self, nums):\n",
    "        \"\"\"\n",
    "        :type nums: List[int]\n",
    "        :rtype: int\n",
    "        \"\"\"\n",
    "        rob1, rob2 = 0, 0\n",
    "\n",
    "        # [rob1, rob2, n, ...]\n",
    "        for n in nums:\n",
    "            temp = max(rob1 + n, rob2)\n",
    "            rob1 = rob2\n",
    "            rob2 = temp\n",
    "        return rob2\n",
    "    \n",
    "    # another approach that is more similar to the above practice by saving processes\n",
    "class Solution(object):\n",
    "    def rob(self, nums):\n",
    "        \"\"\"\n",
    "        :type nums: List[int]\n",
    "        :rtype: int\n",
    "        \"\"\"\n",
    "        n = len(nums)\n",
    "        if n == 1:\n",
    "            return nums[0]\n",
    "        r = [0]*(n)\n",
    "        r[0], r[1] = nums[0], max(nums[:2])\n",
    "        # [rob1, max(rob1,rob2), n, ...]\n",
    "        for i in range(2, n):\n",
    "            r[i] = max(r[i-2]+nums[i], r[i-1])\n",
    "        return r[-1]"
   ]
  },
  {
   "cell_type": "markdown",
   "id": "c4a1eda4",
   "metadata": {},
   "source": [
    "### House Robber II"
   ]
  },
  {
   "cell_type": "code",
   "execution_count": null,
   "id": "6ebc3bf4",
   "metadata": {},
   "outputs": [],
   "source": [
    "#  All houses at this place are arranged in a circle. That means the first house is the neighbor of the last one.\n",
    "class Solution(object):\n",
    "    def rob(self, nums):\n",
    "        \"\"\"\n",
    "        :type nums: List[int]\n",
    "        :rtype: int\n",
    "        \"\"\"\n",
    "        return max(nums[0], self.helper(nums[1:]), self.helper(nums[:-1]))\n",
    "        \n",
    "    # from house robber I\n",
    "    def helper(self, nums):\n",
    "        rob1, rob2 = 0,0\n",
    "        for n in nums:\n",
    "            newRob = max(rob1 + n, rob2)\n",
    "            rob1 = rob2\n",
    "            rob2 = newRob\n",
    "        return rob2"
   ]
  },
  {
   "cell_type": "markdown",
   "id": "716a65e3",
   "metadata": {},
   "source": [
    "### Decode Ways"
   ]
  },
  {
   "cell_type": "code",
   "execution_count": null,
   "id": "8e6ad354",
   "metadata": {},
   "outputs": [],
   "source": [
    "class Solution(object):\n",
    "    def numDecodings(self, s):\n",
    "        \"\"\"\n",
    "        :type s: str\n",
    "        :rtype: int\n",
    "        \"\"\"\n",
    "        n = len(s)\n",
    "        dp = [0] * n\n",
    "        if s[0] != '0':\n",
    "            dp[0]=1\n",
    "        for i in range(1, n):\n",
    "            x = int(s[i])\n",
    "            y = int(s[i-1:i+1])\n",
    "\n",
    "            if x >= 1 and x <= 9:\n",
    "                dp[i]+=dp[i-1]\n",
    "            if y >= 10 and y <= 26:\n",
    "                if i-2>=0:\n",
    "                    dp[i] += dp[i-2]\n",
    "                else:\n",
    "                    dp[i] += 1\n",
    "        return dp[-1]\n",
    "    \n",
    "    # another method using climbing stairs and add some of the condition\n",
    "    def numDecodings(self, s):\n",
    "        n = len(s)\n",
    "        dp = [0]*(n+1)\n",
    "        if s[0] != '0':\n",
    "            dp[0] = 1\n",
    "            dp[1] = 1\n",
    "        for i in range(2, n+1):\n",
    "            x = int(s[i-1])\n",
    "            y = int(s[i-2:i])\n",
    " \n",
    "            if x >= 1 and x <= 9:\n",
    "                dp[i] += dp[i-1]\n",
    "            if y >= 10 and y <= 26:\n",
    "                dp[i]+= dp[i-2]\n",
    "        return dp[-1]\n",
    "    \n",
    "12475"
   ]
  },
  {
   "cell_type": "markdown",
   "id": "fbf0f2f0",
   "metadata": {},
   "source": [
    "### Unique Paths\n"
   ]
  },
  {
   "cell_type": "code",
   "execution_count": null,
   "id": "ed5a91cc",
   "metadata": {},
   "outputs": [],
   "source": [
    "# Given the two integers m and n, return the number of possible unique paths \n",
    "# that the robot can take to reach the bottom-right corner.\n",
    "# m x n grid\n",
    "class Solution(object):\n",
    "    def uniquePaths(self, m, n):\n",
    "        \"\"\"\n",
    "        :type m: int\n",
    "        :type n: int\n",
    "        :rtype: int\n",
    "        \"\"\"\n",
    "        dp = [0]*n\n",
    "        dp[-1] = 1\n",
    "        for r in reversed(range(m)):\n",
    "            for c in reversed(range(n)):\n",
    "                if c < n-1:\n",
    "                    dp[c] = dp[c] + dp[c+1]\n",
    "        return dp[0]"
   ]
  },
  {
   "cell_type": "markdown",
   "id": "6c2516ae",
   "metadata": {},
   "source": [
    "### Unique Paths 2"
   ]
  },
  {
   "cell_type": "code",
   "execution_count": null,
   "id": "4a1266c1",
   "metadata": {},
   "outputs": [],
   "source": [
    "class Solution(object):\n",
    "    def uniquePathsWithObstacles(self, obstacleGrid):\n",
    "        \"\"\"\n",
    "        :type obstacleGrid: List[List[int]]\n",
    "        :rtype: int\n",
    "        \"\"\"\n",
    "        m = len(obstacleGrid)\n",
    "        n = len(obstacleGrid[0])\n",
    "        dp = [0]*n\n",
    "        dp[n-1] = 1\n",
    "        for r in reversed(range(m)):\n",
    "            for c in reversed(range(n)):\n",
    "                if obstacleGrid[r][c]:\n",
    "                    dp[c] = 0\n",
    "                elif c+1 < n:\n",
    "                    dp[c] = dp[c] + dp[c+1]\n",
    "        return dp[0]"
   ]
  },
  {
   "cell_type": "markdown",
   "id": "11c2e480",
   "metadata": {},
   "source": [
    "### Jump Game\n"
   ]
  },
  {
   "cell_type": "code",
   "execution_count": null,
   "id": "ad3e6c57",
   "metadata": {},
   "outputs": [],
   "source": [
    "# You are initially positioned at the array's first index, and each element in \n",
    "# the array represents your maximum jump length at that position.\n",
    "# Return true if you can reach the last index, or false otherwise.\n",
    "\n",
    "# Input: nums = [2,3,1,1,4]\n",
    "# Output: true\n",
    "# Explanation: Jump 1 step from index 0 to 1, then 3 steps to the last index.\n",
    "\n",
    "class Solution(object):\n",
    "    def canJump(self, nums):\n",
    "        \"\"\"\n",
    "        :type nums: List[int]\n",
    "        :rtype: bool\n",
    "        \"\"\"\n",
    "        goal = len(nums) - 1\n",
    "        for i in range(len(nums) - 1, -1, -1):\n",
    "            # current goal position + how many steps it can move\n",
    "            if i + nums[i] >= goal:\n",
    "                goal = i\n",
    "        return True if goal == 0 else False"
   ]
  },
  {
   "cell_type": "markdown",
   "id": "1214637c",
   "metadata": {},
   "source": [
    "### Jump Game II (Can solve it with DP, but we solve it using Greedy to make it easier)"
   ]
  },
  {
   "cell_type": "code",
   "execution_count": null,
   "id": "1a8e3a84",
   "metadata": {},
   "outputs": [],
   "source": [
    "class Solution(object):\n",
    "    def jump(self, nums):\n",
    "        \"\"\"\n",
    "        :type nums: List[int]\n",
    "        :rtype: int\n",
    "        \"\"\"\n",
    "        res = 0\n",
    "        l = r = 0\n",
    "        while r < len(nums)-1:\n",
    "            # reset furthest distance each time \n",
    "            furthest = 0\n",
    "            # find the maximum distance\n",
    "            for i in range(l, r + 1):\n",
    "                furthest = max(furthest, i + nums[i])\n",
    "            l = r\n",
    "            r = furthest\n",
    "            res += 1\n",
    "        return res"
   ]
  },
  {
   "cell_type": "markdown",
   "id": "abf2b707",
   "metadata": {},
   "source": [
    "### Word Break\n"
   ]
  },
  {
   "cell_type": "code",
   "execution_count": null,
   "id": "e8d9713b",
   "metadata": {},
   "outputs": [],
   "source": [
    "# Input: s = \"leetcode\", wordDict = [\"leet\",\"code\"]\n",
    "# Output: true\n",
    "# Explanation: Return true because \"leetcode\" can be segmented as \"leet code\".\n",
    "class Solution(object):\n",
    "    def wordBreak(self, s, wordDict):\n",
    "        \"\"\"\n",
    "        :type s: str\n",
    "        :type wordDict: List[str]\n",
    "        :rtype: bool\n",
    "        \"\"\"\n",
    "        dp = [False]*(len(s) + 1)\n",
    "        dp[len(s)] = True\n",
    "        for i in range(len(s)-1, -1, -1):\n",
    "            for w in wordDict:\n",
    "                if (i + len(w)) <= len(s) and s[i:i+len(w)] == w:\n",
    "                    dp[i] = dp[i + len(w)]\n",
    "                # terminate once it finds it is possible to fit the word in the dict\n",
    "                if dp[i]:\n",
    "                    break\n",
    "        return dp[0]"
   ]
  },
  {
   "cell_type": "markdown",
   "id": "d156fb3c",
   "metadata": {},
   "source": [
    "### Next Permutation (Hard)"
   ]
  },
  {
   "cell_type": "code",
   "execution_count": null,
   "id": "6167563f",
   "metadata": {},
   "outputs": [],
   "source": [
    "class Solution(object):\n",
    "    def nextPermutation(self, nums):\n",
    "        \"\"\"\n",
    "        :type nums: List[int]\n",
    "        :rtype: None Do not return anything, modify nums in-place instead.\n",
    "        \"\"\"\n",
    "        if sorted(nums, reverse = True) == nums:\n",
    "            nums.reverse()\n",
    "            return\n",
    "\n",
    "        for i in range(len(nums)-1 , 0, -1):\n",
    "            if nums[i]>nums[i-1]:\n",
    "                pivot = i-1\n",
    "                break\n",
    "\n",
    "        swap = len(nums)-1\n",
    "        while nums[swap] <= nums[pivot]:\n",
    "            swap -= 1\n",
    "        \n",
    "        nums[swap], nums[pivot] = nums[pivot], nums[swap]\n",
    "        nums[pivot+1:] = reversed(nums[pivot+1:])\n",
    "        return"
   ]
  },
  {
   "cell_type": "markdown",
   "id": "ca29003c",
   "metadata": {},
   "source": [
    "### Combination Sum (Backtrack and easier since same elements can use many times)"
   ]
  },
  {
   "cell_type": "code",
   "execution_count": null,
   "id": "a4f15ab3",
   "metadata": {},
   "outputs": [],
   "source": [
    "# Input: candidates = [2,3,6,7], target = 7\n",
    "# Output: [[2,2,3],[7]]\n",
    "# Explanation:\n",
    "# 2 and 3 are candidates, and 2 + 2 + 3 = 7. Note that 2 can be used multiple times.\n",
    "# 7 is a candidate, and 7 = 7.\n",
    "# These are the only two combinations.\n",
    "class Solution(object):\n",
    "    def combinationSum(self, candidates, target):\n",
    "        \"\"\"\n",
    "        :type candidates: List[int]\n",
    "        :type target: int\n",
    "        :rtype: List[List[int]]\n",
    "        \"\"\"\n",
    "        res = []\n",
    "        def backtrack(temp, target):\n",
    "            if target == 0:\n",
    "                res.append(temp[:])\n",
    "                return\n",
    "            elif target < 0:\n",
    "                return\n",
    "            \n",
    "            for i in range(len(candidates)):\n",
    "                if temp and temp[-1] > candidates[i]:\n",
    "                    continue\n",
    "                temp.append(candidates[i])\n",
    "                backtrack(temp, target-candidates[i])\n",
    "                temp.pop()\n",
    "\n",
    "        backtrack([], target)\n",
    "        return res"
   ]
  },
  {
   "cell_type": "markdown",
   "id": "757c6139",
   "metadata": {},
   "source": [
    "### Combination Sum2 (like CombinationSum above but harder since can only pick one time)"
   ]
  },
  {
   "cell_type": "code",
   "execution_count": null,
   "id": "78c71401",
   "metadata": {},
   "outputs": [],
   "source": [
    "# Each number in candidates may only be used once in the combination.\n",
    "class Solution(object):\n",
    "    def combinationSum2(self, candidates, target):\n",
    "        \"\"\"\n",
    "        :type candidates: List[int]\n",
    "        :type target: int\n",
    "        :rtype: List[List[int]]\n",
    "        \"\"\"\n",
    "        candidates.sort()\n",
    "        res = []\n",
    "        \n",
    "        def backtrack(cur, pos, target):\n",
    "            if target == 0:\n",
    "                res.append(cur[:])  # Append a copy of cur\n",
    "                return\n",
    "            elif target < 0:\n",
    "                return\n",
    "            \n",
    "            for i in range(pos, len(candidates)):\n",
    "                # Skip duplicate candidates to avoid duplicate combinations\n",
    "                if i != pos and candidates[i] == candidates[i - 1]:\n",
    "                    continue\n",
    "                \n",
    "                cur.append(candidates[i])\n",
    "                backtrack(cur, i + 1, target - candidates[i])\n",
    "                cur.pop()\n",
    "                \n",
    "        backtrack([], 0, target)\n",
    "        return res"
   ]
  },
  {
   "cell_type": "markdown",
   "id": "67562db5",
   "metadata": {},
   "source": [
    "### Short Palindrome(super hard)"
   ]
  },
  {
   "cell_type": "code",
   "execution_count": 1,
   "id": "ddd4cd5c",
   "metadata": {},
   "outputs": [],
   "source": [
    "#https://www.hackerrank.com/challenges/short-palindrome/problem\n",
    "def shortPalindrome(s):\n",
    "    # Write your code here\n",
    "    arr1 = [0]*26\n",
    "    arr2 = [[0]*26 for i in range(26)]\n",
    "    arr3 = [0]*26\n",
    "    ans = 0\n",
    "    for i in range(len(s)):\n",
    "        idx = ord(s[i]) - ord('a')\n",
    "        ans += arr3[idx]\n",
    "        for j in range(26):\n",
    "            arr3[j] += arr2[j][idx]\n",
    "        for j in range(26):\n",
    "            arr2[j][idx] += arr1[j]\n",
    "        arr1[idx] += 1\n",
    "    return ans % (10**9+7)"
   ]
  },
  {
   "cell_type": "code",
   "execution_count": 2,
   "id": "43a4b26b",
   "metadata": {},
   "outputs": [
    {
     "data": {
      "text/plain": [
       "4"
      ]
     },
     "execution_count": 2,
     "metadata": {},
     "output_type": "execute_result"
    }
   ],
   "source": [
    "shortPalindrome(\"ababba\")"
   ]
  },
  {
   "cell_type": "markdown",
   "id": "aa4fcd41",
   "metadata": {},
   "source": [
    "### Paint Fence"
   ]
  },
  {
   "cell_type": "code",
   "execution_count": null,
   "id": "ac44b15b",
   "metadata": {},
   "outputs": [],
   "source": [
    "# have n posts and k colors, \"at most\" two adjacent posts have same color\n",
    "# https://www.geeksforgeeks.org/painting-fence-algorithm/\n",
    "class Solution(object):\n",
    "    def numWays(self, n, k):\n",
    "        if n == 0 or k == 0:\n",
    "            return 0\n",
    "        if n == 1:\n",
    "            return k\n",
    "        \n",
    "        same = k\n",
    "        diff = k*(k-1)\n",
    "        for i in range(3, n+1):\n",
    "            # same means two posts are the same\n",
    "            # diff means two posts are different\n",
    "            same, diff = diff*1, same*(k-1)+diff*(k-1)\n",
    "        return same + diff\n",
    "        "
   ]
  },
  {
   "cell_type": "markdown",
   "id": "c7dfa2e3",
   "metadata": {},
   "source": [
    "### Min Cost Climbing Stairs"
   ]
  },
  {
   "cell_type": "code",
   "execution_count": null,
   "id": "8dcc566b",
   "metadata": {},
   "outputs": [],
   "source": [
    "class Solution(object):\n",
    "    def minCostClimbingStairs(self, cost):\n",
    "        \"\"\"\n",
    "        :type cost: List[int]\n",
    "        :rtype: int\n",
    "        \"\"\"\n",
    "        prev_2 = cost[0]\n",
    "        prev_1 = cost[1]\n",
    "        for i in range(2, len(cost)):\n",
    "            temp = cost[i] + min(prev_2, prev_1)\n",
    "            prev_2 = prev_1\n",
    "            prev_1 = temp\n",
    "        return min(prev_2, prev_1)"
   ]
  },
  {
   "cell_type": "markdown",
   "id": "b7135e6a",
   "metadata": {},
   "source": [
    "### Maximum Product Subarray (only include integers)"
   ]
  },
  {
   "cell_type": "code",
   "execution_count": null,
   "id": "48f54adb",
   "metadata": {},
   "outputs": [],
   "source": [
    "class Solution(object):\n",
    "    def maxProduct(self, nums):\n",
    "        \"\"\"\n",
    "        :type nums: List[int]\n",
    "        :rtype: int\n",
    "        \"\"\"\n",
    "        res = float('-inf')\n",
    "        curMin = 1\n",
    "        curMax = 1\n",
    "\n",
    "        for n in nums:\n",
    "            if n == 0:\n",
    "                curMin = 1\n",
    "                curMax = 1\n",
    "                # this is when 0 is the largest product of subarray and set result to 0\n",
    "                res = max(n, res)\n",
    "            else:\n",
    "                tmp_max = curMax*n # track positive\n",
    "                tmp_min = curMin*n # track negative\n",
    "                curMax = max(tmp_max, tmp_min, n)\n",
    "                curMin = min(tmp_max, tmp_min, n)\n",
    "                res = max(res, curMax)\n",
    "        return res"
   ]
  },
  {
   "cell_type": "markdown",
   "id": "0e41454d",
   "metadata": {},
   "source": [
    "### Edit Distance"
   ]
  },
  {
   "cell_type": "code",
   "execution_count": null,
   "id": "f47ac01b",
   "metadata": {},
   "outputs": [],
   "source": [
    "class Solution(object):\n",
    "    def minDistance(self, word1, word2):\n",
    "        \"\"\"\n",
    "        :type word1: str\n",
    "        :type word2: str\n",
    "        :rtype: int\n",
    "        \"\"\"\n",
    "        m = len(word1)\n",
    "        n = len(word2)\n",
    "\n",
    "        # Create a 2D table to store the edit distances\n",
    "        dp = [[0 for _ in range(n+1)] for _ in range(m+1)]\n",
    "\n",
    "        # Initialize the first row and first column\n",
    "        # represent the edit distance between an empty string and a prefix of str1. \n",
    "        for i in range(m+1):\n",
    "            dp[i][0] = i\n",
    "        for j in range(n+1):\n",
    "            dp[0][j] = j\n",
    "\n",
    "        # Fill in the dp table using dynamic programming\n",
    "        for i in range(1, m+1):\n",
    "            for j in range(1, n+1):\n",
    "                # no operation needed so just copy [i-1][j-1]\n",
    "                if word1[i-1] == word2[j-1]:\n",
    "                    dp[i][j] = dp[i-1][j-1]\n",
    "                else:\n",
    "                    # Operation on word1:\n",
    "                    # dp[i][j-1] : insertion\n",
    "                    # dp[i-1][j] : removal\n",
    "                    # dp[i-1][j-1] : replacement\n",
    "                    dp[i][j] = 1 + min(dp[i][j-1], dp[i-1][j], dp[i-1][j-1])\n",
    "\n",
    "        return dp[m][n]"
   ]
  },
  {
   "cell_type": "markdown",
   "id": "ba169539",
   "metadata": {},
   "source": [
    "### Regular Expression Matching"
   ]
  },
  {
   "cell_type": "code",
   "execution_count": null,
   "id": "de7489e9",
   "metadata": {},
   "outputs": [],
   "source": [
    "# https://www.geeksforgeeks.org/implementing-regular-expression-matching/#\n",
    "class Solution(object):\n",
    "    def isMatch(self, s, p):\n",
    "        \"\"\"\n",
    "        :type s: str\n",
    "        :type p: str\n",
    "        :rtype: bool\n",
    "        \"\"\"\n",
    "        rows, columns = len(s), len(p)\n",
    "        # DP array\n",
    "        dp = [[False for j in range(columns + 1)] for i in range(rows + 1)]\n",
    "        # Since empty string and empty pattern are a match\n",
    "        dp[0][0] = True\n",
    "        # Deals with patterns containing * but empty str\n",
    "        # (start from 2 since it needs preceding element)\n",
    "        for i in range(2, columns + 1):\n",
    "            if p[i - 1] == '*':\n",
    "                dp[0][i] = dp[0][i - 2]\n",
    "        # For remaining characters\n",
    "        for i in range(1, rows + 1):\n",
    "            for j in range(1, columns + 1):\n",
    "                if s[i - 1] == p[j - 1] or p[j - 1] == '.':\n",
    "                    dp[i][j] = dp[i - 1][j - 1]\n",
    "                elif j > 1 and p[j - 1] == '*':\n",
    "                    # this is when there is 0 char needed for that pattern char\n",
    "                    dp[i][j] = dp[i][j - 2]\n",
    "                    # when the current str char is same as the pattern char before *\n",
    "                    if p[j - 2] == '.' or p[j - 2] == s[i - 1]:\n",
    "                        dp[i][j] = dp[i][j] or dp[i - 1][j]\n",
    "        return dp[rows][columns]"
   ]
  },
  {
   "cell_type": "markdown",
   "id": "c704f455",
   "metadata": {},
   "source": [
    "### Wildcard Matching (Simple version of Regex Matching above, dont need to consider preceeding char)"
   ]
  },
  {
   "cell_type": "code",
   "execution_count": null,
   "id": "71e16f70",
   "metadata": {},
   "outputs": [],
   "source": [
    "class Solution(object):\n",
    "    def isMatch(self, s, p):\n",
    "        \"\"\"\n",
    "        :type s: str\n",
    "        :type p: str\n",
    "        :rtype: bool\n",
    "        \"\"\"\n",
    "        rows, columns = len(s), len(p)\n",
    "        # DP array\n",
    "        dp = [[False for j in range(columns + 1)] for i in range(rows + 1)]\n",
    "        # Since empty string and empty pattern are a match\n",
    "        dp[0][0] = True\n",
    "        # Deals with patterns containing * \n",
    "        for i in range(1, columns + 1):\n",
    "            if p[i - 1] == '*':\n",
    "                dp[0][i] = dp[0][i-1]\n",
    "        # For remaining characters\n",
    "        for i in range(1, rows + 1):\n",
    "            for j in range(1, columns + 1):\n",
    "                if s[i - 1] == p[j - 1] or p[j - 1] == '?':\n",
    "                    dp[i][j] = dp[i - 1][j - 1]\n",
    "                elif p[j - 1] == '*':\n",
    "                    # First, consider zero occurrences of the preceding character and skip '*'\n",
    "                    dp[i][j] = dp[i][j-1] or dp[i - 1][j]\n",
    "        return dp[rows][columns]"
   ]
  },
  {
   "cell_type": "markdown",
   "id": "c3671061",
   "metadata": {},
   "source": [
    "### Burst Balloons (DP table is always a upper triangular matrix since record the max to the end of the first line)"
   ]
  },
  {
   "cell_type": "code",
   "execution_count": null,
   "id": "98b9575d",
   "metadata": {},
   "outputs": [],
   "source": [
    "class Solution(object):\n",
    "    def maxCoins(self, nums):\n",
    "        \"\"\"\n",
    "        :type nums: List[int]\n",
    "        :rtype: int\n",
    "        \"\"\"\n",
    "        N = len(nums)\n",
    "        A = [1] + nums + [1]\n",
    "        dp = [[0]*len(A) for _ in range(len(A))]\n",
    "        for length in range(1, N+1):\n",
    "            for left in range(1, N-length+2):\n",
    "                right = left+length-1\n",
    "                for last in range(left, right+1):\n",
    "                    cur = A[left-1]*A[last]*A[right+1]\n",
    "                    dp[left][right] = max(dp[left][right],\\\n",
    "                                        dp[left][last-1]+ cur + dp[last+1][right])\n",
    "        return dp[1][N]"
   ]
  },
  {
   "cell_type": "markdown",
   "id": "054def38",
   "metadata": {},
   "source": [
    "### Best Time to Buy and Sell Stock III\n",
    "#### Find the maximum profit you can achieve. You may complete at most \"two transactions\"."
   ]
  },
  {
   "cell_type": "code",
   "execution_count": null,
   "id": "4af978cb",
   "metadata": {},
   "outputs": [],
   "source": [
    "class Solution(object):\n",
    "    def maxProfit(self, prices):\n",
    "        \"\"\"\n",
    "        :type prices: List[int]\n",
    "        :rtype: int\n",
    "        \"\"\"\n",
    "        # since max transaction is two times, so we can do it in forward and backward\n",
    "        # dont need to record them, just update them\n",
    "        first_pf = []\n",
    "        cur_mxpf = 0\n",
    "        cur_min = float(\"inf\")\n",
    "        # forward\n",
    "        for p in prices:\n",
    "            cur_min = min(cur_min, p)\n",
    "            cur_mxpf = max(cur_mxpf, p-cur_min)\n",
    "            first_pf.append(cur_mxpf)\n",
    "        print(first_pf)\n",
    "        # backward\n",
    "        total = 0\n",
    "        cur_mxpf = 0\n",
    "        cur_max = 0\n",
    "        for i in range(len(prices)-1,-1,-1):\n",
    "            p = prices[i]\n",
    "            cur_max = max(cur_max, p)\n",
    "            cur_mxpf = max(cur_mxpf, cur_max-p)\n",
    "            total = max(total, cur_mxpf + first_pf[i])\n",
    "            print(total)\n",
    "        return total"
   ]
  },
  {
   "cell_type": "markdown",
   "id": "63bb67f5",
   "metadata": {},
   "source": [
    "### Best Time to Buy and Sell Stock IV (k transactions)\n",
    "#### II is \"as many transactions\", I is \"one transaction(using two pointer)\""
   ]
  },
  {
   "cell_type": "code",
   "execution_count": 1,
   "id": "b86c138c",
   "metadata": {},
   "outputs": [],
   "source": [
    "class Solution(object):\n",
    "    def maxProfit(self, k, prices):\n",
    "        \"\"\"\n",
    "        :type k: int\n",
    "        :type prices: List[int]\n",
    "        :rtype: int\n",
    "        \"\"\"\n",
    "        N = len(prices)\n",
    "        dp = [0]*N\n",
    "        if k > N:\n",
    "            l = [prices[i] - prices[i-1] for i in range(1,N)]\n",
    "            return sum([p for p in l if p > 0])\n",
    "\n",
    "        for t in range(k):\n",
    "            pos = -prices[0]\n",
    "            profit = 0\n",
    "            for i in range(1, N):\n",
    "                pos = max(pos, dp[i]-prices[i])\n",
    "                profit = max(profit, pos + prices[i])\n",
    "                dp[i] = profit\n",
    "        return dp[-1]"
   ]
  },
  {
   "cell_type": "markdown",
   "id": "ae8a7748",
   "metadata": {},
   "source": [
    "### Dungeon Game"
   ]
  },
  {
   "cell_type": "code",
   "execution_count": null,
   "id": "b72e3fbc",
   "metadata": {},
   "outputs": [],
   "source": [
    "class Solution(object):\n",
    "    def calculateMinimumHP(self, dungeon):\n",
    "        \"\"\"\n",
    "        :type dungeon: List[List[int]]\n",
    "        :rtype: int\n",
    "        \"\"\"\n",
    "        rows = len(dungeon)\n",
    "        cols = len(dungeon[0])\n",
    "        \n",
    "        # Create a dp table to store minimum health points needed at each cell\n",
    "        dp = [[0] * cols for _ in range(rows)]\n",
    "        \n",
    "        # Fill the dp table from bottom-right to top-left\n",
    "        for i in range(rows-1, -1, -1):\n",
    "            for j in range(cols-1, -1, -1):\n",
    "                # If we are at the bottom-right cell\n",
    "                if i == rows-1 and j == cols-1:\n",
    "                    # Minimum health points needed at this cell\n",
    "                    dp[i][j] = max(1, 1 - dungeon[i][j])\n",
    "                # If we are at the last row\n",
    "                elif i == rows-1:\n",
    "                    # Minimum health points needed at this cell based on the right neighbor\n",
    "                    dp[i][j] = max(1, dp[i][j+1] - dungeon[i][j])\n",
    "                # If we are at the last column\n",
    "                elif j == cols-1:\n",
    "                    # Minimum health points needed at this cell based on the bottom neighbor\n",
    "                    dp[i][j] = max(1, dp[i+1][j] - dungeon[i][j])\n",
    "                else:\n",
    "                    # Minimum health points needed at this cell based on the minimum of right and bottom neighbors\n",
    "                    dp[i][j] = max(1, min(dp[i][j+1], dp[i+1][j]) - dungeon[i][j])\n",
    "        \n",
    "        # Minimum initial health points needed at the start\n",
    "        return dp[0][0]"
   ]
  },
  {
   "cell_type": "markdown",
   "id": "fdbfb830",
   "metadata": {},
   "source": [
    "### Distinct Subsequences"
   ]
  },
  {
   "cell_type": "code",
   "execution_count": 2,
   "id": "357b3ec0",
   "metadata": {},
   "outputs": [],
   "source": [
    "class Solution:\n",
    "    def numDistinct(self, s, t):\n",
    "        # imagine this is a 2D map which each entry corresponds to each char\n",
    "        dp = [[0]*(len(s)+1) for _ in range(len(t)+1)]\n",
    "        for col in range(len(dp[0])):\n",
    "            dp[0][col] = 1\n",
    "        for r in range(1, len(t) + 1):\n",
    "            for c in range(1, len(s) + 1):\n",
    "                if s[c - 1] == t[r - 1]:\n",
    "                    # Add up the two possibilities: included and excluded\n",
    "                    dp[r][c] = dp[r - 1][c - 1] + dp[r][c - 1]\n",
    "                else:\n",
    "                    dp[r][c] = dp[r][c - 1]\n",
    "        \n",
    "        return dp[-1][-1]"
   ]
  },
  {
   "cell_type": "markdown",
   "id": "facc1fc6",
   "metadata": {},
   "source": [
    "### Palindrome Partitioning II"
   ]
  },
  {
   "cell_type": "code",
   "execution_count": null,
   "id": "bc9dfa41",
   "metadata": {},
   "outputs": [],
   "source": [
    "class Solution(object):\n",
    "    def minCut(self, s):\n",
    "        \"\"\"\n",
    "        :type s: str\n",
    "        :rtype: int\n",
    "        \"\"\"\n",
    "        dp = [[-1]*len(s) for _ in range(len(s))]\n",
    "\n",
    "        def isPalindrome(s):\n",
    "            return s == s[::-1]\n",
    "        \n",
    "        def min_cut_cnt(i,j):\n",
    "            if i>=j:\n",
    "                return 0\n",
    "            if isPalindrome(s[i:j+1]):\n",
    "                dp[i][j] = 0\n",
    "                return 0\n",
    "            # already computed before\n",
    "            if dp[i][j] != -1:\n",
    "                return dp[i][j]\n",
    "            min_val = float(\"inf\")\n",
    "            for k in range(i,j):\n",
    "                # check left side is palindrome first then proceed\n",
    "                if isPalindrome(s[i:k+1]):\n",
    "                    # add the right part cut, dont need to add left part since it is already palindrome which means 0 cut\n",
    "                    temp = 1 + min_cut_cnt(k+1,j)\n",
    "                    min_val = min(min_val, temp)\n",
    "            dp[i][j] = min_val\n",
    "            return min_val\n",
    "\n",
    "        return min_cut_cnt(0, len(s)-1)"
   ]
  }
 ],
 "metadata": {
  "kernelspec": {
   "display_name": "Python 3.10.11 64-bit",
   "language": "python",
   "name": "python3"
  },
  "language_info": {
   "codemirror_mode": {
    "name": "ipython",
    "version": 3
   },
   "file_extension": ".py",
   "mimetype": "text/x-python",
   "name": "python",
   "nbconvert_exporter": "python",
   "pygments_lexer": "ipython3",
   "version": "3.10.11"
  },
  "vscode": {
   "interpreter": {
    "hash": "aee8b7b246df8f9039afb4144a1f6fd8d2ca17a180786b69acc140d282b71a49"
   }
  }
 },
 "nbformat": 4,
 "nbformat_minor": 5
}
