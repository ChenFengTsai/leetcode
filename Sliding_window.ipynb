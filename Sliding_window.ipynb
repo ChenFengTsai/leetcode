{
 "cells": [
  {
   "cell_type": "markdown",
   "id": "0aae8910-a83a-4e26-b327-d2e74ea31cdc",
   "metadata": {},
   "source": [
    "# Sliding Window"
   ]
  },
  {
   "cell_type": "markdown",
   "id": "a2e66300-0d4c-42a4-8252-e5fb2e506ac5",
   "metadata": {
    "jp-MarkdownHeadingCollapsed": true,
    "tags": []
   },
   "source": [
    "### Sliding Window Maximum (Maximum of all subarrays of size K)"
   ]
  },
  {
   "cell_type": "code",
   "execution_count": 18,
   "id": "3611d203-8bfc-4794-ba0a-f090f7fe83b5",
   "metadata": {},
   "outputs": [
    {
     "data": {
      "text/plain": [
       "[17, 18, 18]"
      ]
     },
     "execution_count": 18,
     "metadata": {},
     "output_type": "execute_result"
    }
   ],
   "source": [
    "# using Deque to solve \n",
    "# runtime O(N) by using more space O(K)\n",
    "\n",
    "from collections import deque\n",
    "\n",
    "def windowMaxQ(arr, K):\n",
    "    # initialize\n",
    "    Q_i = deque()\n",
    "    result = []\n",
    "    # we first check the first window since here does not have moving issue (exchange with big element)\n",
    "    for i in range(K):\n",
    "        while Q_i and arr[i] >= arr[Q_i[-1]]: \n",
    "            Q_i.pop()\n",
    "        Q_i.append(i)\n",
    "    # add max of the first window\n",
    "    result.append(arr[i])\n",
    "    \n",
    "    # check further elements and consider moving issue, only execute len(arr) - k times\n",
    "    for i in range(K, len(arr)):\n",
    "\n",
    "        # remove elements that are out of the window\n",
    "        # need Q_i to be true otherwise after popping left element and empty, it will raise error for Q_i[0]\n",
    "        while Q_i and Q_i[0] < i-K+1:\n",
    "            Q_i.popleft()\n",
    "        \n",
    "        # pop out small element and let the larger element move to the front\n",
    "        while Q_i and arr[i] >= arr[Q_i[-1]]: \n",
    "            Q_i.pop()\n",
    "        Q_i.append(i)\n",
    "        # add maximum\n",
    "        result.append(arr[Q_i[0]])\n",
    "    return result\n",
    "\n",
    "    \n",
    "\n",
    "windowMaxQ([5,3,17,18,14], 3)"
   ]
  },
  {
   "cell_type": "markdown",
   "id": "20b0f629-97fe-4386-ab8b-dfe810257807",
   "metadata": {
    "tags": []
   },
   "source": [
    "### Number of subarrays having product less than K (elements are all >= 1)"
   ]
  },
  {
   "cell_type": "code",
   "execution_count": null,
   "id": "89ff846d-0bf3-45d0-ba04-baa3dac3bb36",
   "metadata": {},
   "outputs": [],
   "source": [
    "## Naive way loop through and observe \n",
    "## Time is too large O(n**2)"
   ]
  },
  {
   "cell_type": "code",
   "execution_count": null,
   "id": "00eb3456-37ff-4c6d-bb06-64bc1cb51241",
   "metadata": {},
   "outputs": [],
   "source": [
    "# sliding window method O(n)\n",
    "# also a two pointers method\n",
    "def number_k(arr, k):\n",
    "    n = len(arr)\n",
    "    start = 0\n",
    "    end = 0\n",
    "    result = 0\n",
    "    p=1\n",
    "    while end < n:\n",
    "        p *= arr[end]\n",
    "        # start can never exceed end\n",
    "        while p >= k and start <= end:\n",
    "            p = int(p//arr[start])\n",
    "            start += 1\n",
    "        combo = end-start+1\n",
    "        result += combo\n",
    "        end += 1\n",
    "    return result"
   ]
  },
  {
   "cell_type": "markdown",
   "id": "db5c72d8-c28e-4376-a9c2-8b5e6c88607f",
   "metadata": {},
   "source": [
    "### Best Time to Buy and Sell Stock"
   ]
  },
  {
   "cell_type": "code",
   "execution_count": null,
   "id": "daa3cabe-de95-4837-8469-bca57de35078",
   "metadata": {},
   "outputs": [],
   "source": [
    "## look in w1_sequences"
   ]
  },
  {
   "cell_type": "markdown",
   "id": "25381902-cb78-4855-b461-c77f8ce58fb3",
   "metadata": {},
   "source": [
    "### 3Sum"
   ]
  },
  {
   "cell_type": "code",
   "execution_count": 19,
   "id": "cb8a1d5a-a705-4e52-99dc-83deb6f8d5bf",
   "metadata": {},
   "outputs": [],
   "source": [
    "# sum of the three integers is zero\n",
    "class Solution(object):\n",
    "    def threeSum(self, nums):\n",
    "        \"\"\"\n",
    "        :type nums: List[int]\n",
    "        :rtype: List[List[int]]\n",
    "        \"\"\"\n",
    "        res = []\n",
    "        nums.sort()\n",
    "\n",
    "        for i in range(len(nums)):\n",
    "            # avoid duplicate answer\n",
    "            if i > 0 and nums[i] == nums[i-1]:\n",
    "                continue\n",
    "            l = i+1 \n",
    "            r = len(nums) - 1\n",
    "            while l < r:\n",
    "                three_sum = nums[i] + nums[l] + nums[r]\n",
    "                if three_sum > 0:\n",
    "                    r -= 1\n",
    "                elif three_sum < 0:\n",
    "                    l += 1 \n",
    "                else:\n",
    "                    res.append([nums[i], nums[l], nums[r]])\n",
    "                    l += 1\n",
    "                    while nums[l] == nums[l-1] and l < r:\n",
    "                        l += 1\n",
    "        return res"
   ]
  },
  {
   "cell_type": "markdown",
   "id": "b8eb6847-cc71-4d31-95a4-d6c7a21f76b7",
   "metadata": {},
   "source": [
    "### Container With Most Water"
   ]
  },
  {
   "cell_type": "code",
   "execution_count": null,
   "id": "4b36dce8-82c6-49b5-aeac-d5eae1f76e39",
   "metadata": {},
   "outputs": [],
   "source": [
    "class Solution(object):\n",
    "    def maxArea(self, height):\n",
    "        \"\"\"\n",
    "        :type height: List[int]\n",
    "        :rtype: int\n",
    "        \"\"\"\n",
    "        area = 0\n",
    "        l = 0\n",
    "        r = len(height) - 1\n",
    "        while l < r:\n",
    "            area = max(area, (r-l)*min(height[l], height[r]))\n",
    "            if height[l] < height[r]:\n",
    "                l +=1\n",
    "            else:\n",
    "                r -= 1\n",
    "        return area"
   ]
  },
  {
   "cell_type": "markdown",
   "id": "28bcaf77-9e23-48e0-b80d-aa6fab42ec93",
   "metadata": {},
   "source": [
    "### Longest Repeating Character Replacement"
   ]
  },
  {
   "cell_type": "code",
   "execution_count": null,
   "id": "d533c0eb-713a-4972-b7d9-1250effe40dd",
   "metadata": {},
   "outputs": [],
   "source": [
    "from collections import defaultdict\n",
    "class Solution(object):\n",
    "    def characterReplacement(self, s, k):\n",
    "        \"\"\"\n",
    "        :type s: str\n",
    "        :type k: int\n",
    "        :rtype: int\n",
    "        \"\"\"\n",
    "        count = defaultdict()\n",
    "        res = 0\n",
    "        l = 0\n",
    "\n",
    "        for r in range(len(s)):\n",
    "            count[s[r]] = 1 + count[s[r]]\n",
    "            # keep executing until the difference equals the the allowed change number\n",
    "            while (r-l+1) - max(count.values()) > k:\n",
    "                # update the frequency of the most left char\n",
    "                count[s[l]] -= 1\n",
    "                l += 1\n",
    "                \n",
    "            res = max(res, r-l+1)\n",
    "        return res"
   ]
  },
  {
   "cell_type": "markdown",
   "id": "e0664747-c2d4-495c-8ae9-69cf13a6f508",
   "metadata": {},
   "source": [
    "### Longest Substring Without Repeating Characters"
   ]
  },
  {
   "cell_type": "code",
   "execution_count": null,
   "id": "d789e461-8b1c-4cc0-af85-ad0b4979a2b0",
   "metadata": {},
   "outputs": [],
   "source": [
    "class Solution(object):\n",
    "    def lengthOfLongestSubstring(self, s):\n",
    "        \"\"\"\n",
    "        :type s: str\n",
    "        :rtype: int\n",
    "        \"\"\"\n",
    "        l = 0\n",
    "        res = 0\n",
    "        chars = dict()\n",
    "        for r in range(len(s)):\n",
    "            if s[r] in chars:\n",
    "                # move the left pointer to the right if there are duplicate\n",
    "                l = max(l, chars[s[r]]+1)\n",
    "            # update the current position every time\n",
    "            chars[s[r]] = r\n",
    "            res = max(res, r-l+1)\n",
    "        return res"
   ]
  },
  {
   "cell_type": "markdown",
   "id": "d2181ff7-bec4-447b-bcdf-19363bee7709",
   "metadata": {},
   "source": [
    "### Palindromic Substrings"
   ]
  },
  {
   "cell_type": "code",
   "execution_count": null,
   "id": "819593e8-6022-4179-8b0a-fed9a4b44275",
   "metadata": {},
   "outputs": [],
   "source": [
    "# Input: s = \"aaa\"\n",
    "# Output: 6\n",
    "# Explanation: Six palindromic strings: \"a\", \"a\", \"a\", \"aa\", \"aa\", \"aaa\".\n",
    "class Solution(object):\n",
    "    def countSubstrings(self, s):\n",
    "        \"\"\"\n",
    "        :type s: str\n",
    "        :rtype: int\n",
    "        \"\"\"\n",
    "        res = 0\n",
    "        for i in range(len(s)):\n",
    "            # odd number substring\n",
    "            l = r = i\n",
    "            while l >= 0 and r < len(s) and s[l] == s[r]:\n",
    "                res += 1\n",
    "                l -= 1\n",
    "                r += 1\n",
    "            \n",
    "            # even number substring\n",
    "            l = i\n",
    "            r = i+1\n",
    "            while l >= 0 and r < len(s) and s[l] == s[r]:\n",
    "                res += 1\n",
    "                l -= 1\n",
    "                r += 1\n",
    "        return res"
   ]
  },
  {
   "cell_type": "markdown",
   "id": "bf8f18ed-f46a-4b90-a2c0-fe3855563dbc",
   "metadata": {},
   "source": [
    "### Minimum Window Substring"
   ]
  },
  {
   "cell_type": "code",
   "execution_count": null,
   "id": "f1e9caa6-e382-433f-89ed-0bdea36e1698",
   "metadata": {},
   "outputs": [],
   "source": [
    "### look into best_practice"
   ]
  },
  {
   "cell_type": "markdown",
   "id": "50e263d9",
   "metadata": {},
   "source": [
    "### Capacity To Ship Packages Within D Days (BS)"
   ]
  },
  {
   "cell_type": "code",
   "execution_count": null,
   "id": "dfa996ff",
   "metadata": {},
   "outputs": [],
   "source": [
    "# Input: weights = [1,2,3,4,5,6,7,8,9,10], days = 5\n",
    "# Output: 15\n",
    "# Explanation: A ship capacity of 15 is the minimum to ship all the packages in 5 days like this:\n",
    "# 1st day: 1, 2, 3, 4, 5\n",
    "# 2nd day: 6, 7\n",
    "# 3rd day: 8\n",
    "# 4th day: 9\n",
    "# 5th day: 10\n",
    "class Solution(object):\n",
    "    def shipWithinDays(self, weights, days):\n",
    "        \"\"\"\n",
    "        :type weights: List[int]\n",
    "        :type days: int\n",
    "        :rtype: int\n",
    "        \"\"\"\n",
    "        l = max(weights)\n",
    "        r = sum(weights)\n",
    "        res = r\n",
    "        def canship(cap):\n",
    "            ships = 1\n",
    "            currcap = cap\n",
    "            for w in weights:\n",
    "                if currcap - w < 0:\n",
    "                    ships += 1\n",
    "                    # reset back since new ship\n",
    "                    currcap = cap\n",
    "                currcap -= w\n",
    "            if ships <= days:\n",
    "                return True\n",
    "            else:\n",
    "                return False\n",
    "\n",
    "        while l <= r:\n",
    "            cap = (l+r)//2\n",
    "            if canship(cap):\n",
    "                res = min(res, cap)\n",
    "                r = cap-1\n",
    "            else:\n",
    "                l = cap+1\n",
    "        return res"
   ]
  },
  {
   "cell_type": "markdown",
   "id": "875d7a88",
   "metadata": {},
   "source": [
    "### Koko Eating Bananas"
   ]
  },
  {
   "cell_type": "code",
   "execution_count": null,
   "id": "3687693c",
   "metadata": {},
   "outputs": [],
   "source": [
    "class Solution(object):\n",
    "    def minEatingSpeed(self, piles, h):\n",
    "        \"\"\"\n",
    "        :type piles: List[int]\n",
    "        :type h: int\n",
    "        :rtype: int\n",
    "        \"\"\"\n",
    "        l = min(piles)//h or 1\n",
    "        r = max(piles)\n",
    "        res = r\n",
    "        def caneat(amount):\n",
    "            time = 0\n",
    "            for p in piles:\n",
    "                need_time = math.ceil(float(p)/amount)\n",
    "                time += need_time\n",
    "            if time <= h:\n",
    "                return True\n",
    "            else:\n",
    "                return False\n",
    "        while l <= r:\n",
    "            amount = (l+r)//2\n",
    "            if caneat(amount):\n",
    "                res = min(res, amount)\n",
    "                r = amount - 1\n",
    "            else:\n",
    "                l = amount + 1\n",
    "        return res"
   ]
  },
  {
   "cell_type": "markdown",
   "id": "9ded5253",
   "metadata": {},
   "source": [
    "### Two Sum BSTs"
   ]
  },
  {
   "cell_type": "code",
   "execution_count": null,
   "id": "423c831c",
   "metadata": {},
   "outputs": [],
   "source": [
    "class TreeNode:\n",
    "    def __init__(self, val):\n",
    "        self.val = val\n",
    "        self.left = None\n",
    "        self.right = None\n",
    "\n",
    "class Solution:\n",
    "    def twoSumBSTs(self, root1: TreeNode, root2: TreeNode, target: int) -> bool:\n",
    "        def inorder(root):\n",
    "            if not root:\n",
    "                return []\n",
    "            return inorder(root.left) + [root.val] + inorder(root.right)\n",
    "        \n",
    "        list1 = inorder(root1)\n",
    "        list2 = inorder(root2)\n",
    "        # sliding window\n",
    "        i = 0\n",
    "        j = len(list2)-1\n",
    "        while i < len(list1) and j >= 0:\n",
    "            two_sum = list1[i] + list2[j]\n",
    "            if two_sum == target:\n",
    "                return True\n",
    "            elif two_sum < target:\n",
    "                i += 1\n",
    "            else:\n",
    "                j -= 1\n",
    "        return False"
   ]
  },
  {
   "cell_type": "markdown",
   "id": "97fa63b6",
   "metadata": {},
   "source": [
    "### Move Zeros"
   ]
  },
  {
   "cell_type": "code",
   "execution_count": 1,
   "id": "cf212b01",
   "metadata": {},
   "outputs": [],
   "source": [
    "# Input: nums = [0,1,0,3,12]\n",
    "# Output: [1,3,12,0,0]\n",
    "class Solution(object):\n",
    "    def moveZeroes(self, nums):\n",
    "        \"\"\"\n",
    "        :type nums: List[int]\n",
    "        :rtype: None Do not return anything, modify nums in-place instead.\n",
    "        \"\"\"\n",
    "        l = len(nums)-1\n",
    "        r = len(nums)\n",
    "        while l >= 0:\n",
    "            if nums[l] == 0:\n",
    "                nums[l:r-1] = nums[l+1:r]\n",
    "                nums[r-1] = 0\n",
    "                r -= 1\n",
    "            l -= 1\n",
    "        return"
   ]
  },
  {
   "cell_type": "markdown",
   "id": "46d4d59d",
   "metadata": {},
   "source": [
    "### Shortest Unsorted Continuous Subarray"
   ]
  },
  {
   "cell_type": "code",
   "execution_count": null,
   "id": "2c981834",
   "metadata": {},
   "outputs": [],
   "source": [
    "# Input: nums = [2,6,4,8,10,9,15]\n",
    "# Output: 5\n",
    "# Explanation: You need to sort [6, 4, 8, 10, 9] in ascending order to make the whole array sorted in ascending order.\n",
    "class Solution(object):\n",
    "    def findUnsortedSubarray(self, nums):\n",
    "        \"\"\"\n",
    "        :type nums: List[int]\n",
    "        :rtype: int\n",
    "        \"\"\"\n",
    "        if len(nums) == 1:\n",
    "            return 0\n",
    "        \n",
    "        # include the elements that are larger than the smallest element from their right\n",
    "        curr_min = float(\"inf\")\n",
    "        l = len(nums)\n",
    "        for i in range(len(nums)-1, -1, -1):\n",
    "            if nums[i] < curr_min:\n",
    "                curr_min = nums[i]\n",
    "            elif nums[i] > curr_min:\n",
    "                l = i\n",
    "        # include the elements that are smaller than the largest element from their left\n",
    "        curr_max = -float(\"inf\")\n",
    "        r = -1\n",
    "        for i in range(len(nums)):\n",
    "            if nums[i] > curr_max:\n",
    "                curr_max = nums[i]\n",
    "            elif nums[i] < curr_max:\n",
    "                r = i\n",
    "\n",
    "        return r-l+1 if r > -1 and l < len(nums) else 0"
   ]
  }
 ],
 "metadata": {
  "kernelspec": {
   "display_name": "Python 3.10.11 64-bit",
   "language": "python",
   "name": "python3"
  },
  "language_info": {
   "codemirror_mode": {
    "name": "ipython",
    "version": 3
   },
   "file_extension": ".py",
   "mimetype": "text/x-python",
   "name": "python",
   "nbconvert_exporter": "python",
   "pygments_lexer": "ipython3",
   "version": "3.10.11"
  },
  "vscode": {
   "interpreter": {
    "hash": "aee8b7b246df8f9039afb4144a1f6fd8d2ca17a180786b69acc140d282b71a49"
   }
  }
 },
 "nbformat": 4,
 "nbformat_minor": 5
}
