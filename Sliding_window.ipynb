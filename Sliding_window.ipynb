{
 "cells": [
  {
   "cell_type": "markdown",
   "id": "0aae8910-a83a-4e26-b327-d2e74ea31cdc",
   "metadata": {},
   "source": [
    "# Sliding Window"
   ]
  },
  {
   "cell_type": "markdown",
   "id": "a2e66300-0d4c-42a4-8252-e5fb2e506ac5",
   "metadata": {
    "jp-MarkdownHeadingCollapsed": true,
    "tags": []
   },
   "source": [
    "### Sliding Window Maximum (Maximum of all subarrays of size K)"
   ]
  },
  {
   "cell_type": "code",
   "execution_count": null,
   "id": "0487f3dc-eb58-452a-becb-7834ebac20ef",
   "metadata": {},
   "outputs": [],
   "source": [
    "# easy approach (loop through with window)\n",
    "def windowMax(arr, K):\n",
    "    result = []\n",
    "    for i in range(len(arr) - K + 1):\n",
    "        maxi = arr[i]\n",
    "        for j in (1,K):\n",
    "            maxi = max(maxi,arr[i+j])\n",
    "        result.append(maxi)\n",
    "    return result\n",
    "# runtime very large O(N*K)"
   ]
  },
  {
   "cell_type": "code",
   "execution_count": null,
   "id": "3611d203-8bfc-4794-ba0a-f090f7fe83b5",
   "metadata": {},
   "outputs": [],
   "source": [
    "# using Deque to solve \n",
    "# runtime O(N) by using more space O(K)\n",
    "\n",
    "from collections import deque\n",
    "result = []\n",
    "def windowMaxQ(arr, K):\n",
    "    # initialize\n",
    "    Q_i = deque()\n",
    "    # we first check the first window since here does not have moving issue (exchange with big element)\n",
    "    for i in range(K):\n",
    "        while Q_i and arr[i] >= arr[Q_i[-1]]: \n",
    "            Q_i.pop()\n",
    "        Q_i.append(i)\n",
    "    \n",
    "    # check further elements and consider moving issue\n",
    "    for i in range(K, len(arr)):\n",
    "        # add the maximum to result\n",
    "        result.append(arr[Q_i[0]])\n",
    "        while Q_i and Q_i[0] <= i-K:\n",
    "            Q_i.popleft()\n",
    "        \n",
    "        #(exchange with big element)\n",
    "        while Q_i and arr[i] >= arr[Q_i[-1]]: \n",
    "            Q_i.pop()\n",
    "        Q_i.append(i)\n",
    "    return result\n"
   ]
  },
  {
   "cell_type": "markdown",
   "id": "20b0f629-97fe-4386-ab8b-dfe810257807",
   "metadata": {
    "tags": []
   },
   "source": [
    "### Number of subarrays having product less than K"
   ]
  },
  {
   "cell_type": "code",
   "execution_count": null,
   "id": "89ff846d-0bf3-45d0-ba04-baa3dac3bb36",
   "metadata": {},
   "outputs": [],
   "source": [
    "## Naive way loop through and observe \n",
    "## Time is too large O(n**2)"
   ]
  },
  {
   "cell_type": "code",
   "execution_count": null,
   "id": "00eb3456-37ff-4c6d-bb06-64bc1cb51241",
   "metadata": {},
   "outputs": [],
   "source": [
    "# sliding window method O(n)\n",
    "# also a two pointers method\n",
    "def number_k(arr, k):\n",
    "    n = len(arr)\n",
    "    start = 0\n",
    "    end = 0\n",
    "    result = 0\n",
    "    p=1\n",
    "    while end < n:\n",
    "        p *= arr[end]\n",
    "        # start can never exceed end\n",
    "        while p >= k and start < end:\n",
    "            p = int(p//arr[start])\n",
    "            start += 1\n",
    "        if p < k:\n",
    "            combo = end-start+1\n",
    "            result += combo\n",
    "        end += 1\n",
    "    return result"
   ]
  },
  {
   "cell_type": "markdown",
   "id": "db5c72d8-c28e-4376-a9c2-8b5e6c88607f",
   "metadata": {},
   "source": [
    "### Best Time to Buy and Sell Stock"
   ]
  },
  {
   "cell_type": "code",
   "execution_count": null,
   "id": "daa3cabe-de95-4837-8469-bca57de35078",
   "metadata": {},
   "outputs": [],
   "source": [
    "## look in w1_sequences"
   ]
  },
  {
   "cell_type": "markdown",
   "id": "25381902-cb78-4855-b461-c77f8ce58fb3",
   "metadata": {},
   "source": [
    "### 3Sum"
   ]
  },
  {
   "cell_type": "code",
   "execution_count": null,
   "id": "cb8a1d5a-a705-4e52-99dc-83deb6f8d5bf",
   "metadata": {},
   "outputs": [],
   "source": [
    "class Solution(object):\n",
    "    def threeSum(self, nums):\n",
    "        \"\"\"\n",
    "        :type nums: List[int]\n",
    "        :rtype: List[List[int]]\n",
    "        \"\"\"\n",
    "        res = []\n",
    "        nums.sort()\n",
    "\n",
    "        for i, a in enumerate(nums):\n",
    "            if i > 0 and a == nums[i-1]:\n",
    "                continue\n",
    "            l = i+1 \n",
    "            r = len(nums) - 1\n",
    "            #print(l)\n",
    "            while l < r:\n",
    "                three = a + nums[l] + nums[r]\n",
    "\n",
    "                if three > 0:\n",
    "                    r -= 1\n",
    "                elif three < 0:\n",
    "                    l += 1 \n",
    "                else:\n",
    "                    \n",
    "                    res.append([a, nums[l], nums[r]])\n",
    "                    l += 1\n",
    "                    while nums[l] == nums[l-1] and l < r:\n",
    "                        l+=1\n",
    "        return res"
   ]
  },
  {
   "cell_type": "markdown",
   "id": "b8eb6847-cc71-4d31-95a4-d6c7a21f76b7",
   "metadata": {},
   "source": [
    "### Container With Most Water"
   ]
  },
  {
   "cell_type": "code",
   "execution_count": null,
   "id": "4b36dce8-82c6-49b5-aeac-d5eae1f76e39",
   "metadata": {},
   "outputs": [],
   "source": [
    "class Solution(object):\n",
    "    def maxArea(self, height):\n",
    "        \"\"\"\n",
    "        :type height: List[int]\n",
    "        :rtype: int\n",
    "        \"\"\"\n",
    "        area = 0\n",
    "        l = 0\n",
    "        r = len(height) - 1\n",
    "        while l < r:\n",
    "            area = max(area, (r-l)*min(height[l],height[r]))\n",
    "            if height[l] < height[r]:\n",
    "                l +=1\n",
    "            else:\n",
    "                r -= 1\n",
    "        return area"
   ]
  },
  {
   "cell_type": "markdown",
   "id": "28bcaf77-9e23-48e0-b80d-aa6fab42ec93",
   "metadata": {},
   "source": [
    "### Longest Repeating Character Replacement"
   ]
  },
  {
   "cell_type": "code",
   "execution_count": null,
   "id": "d533c0eb-713a-4972-b7d9-1250effe40dd",
   "metadata": {},
   "outputs": [],
   "source": [
    "class Solution(object):\n",
    "    def characterReplacement(self, s, k):\n",
    "        \"\"\"\n",
    "        :type s: str\n",
    "        :type k: int\n",
    "        :rtype: int\n",
    "        \"\"\"\n",
    "        count = {}\n",
    "        res = 0\n",
    "        l = 0\n",
    "\n",
    "        for r in range(len(s)):\n",
    "            # dict.get() extract value with key or else give 0\n",
    "            count[s[r]] = 1 + count.get(s[r], 0) \n",
    "            \n",
    "            while (r-l+1) - max(count.values()) > k:\n",
    "                # update the freauency of the most left char\n",
    "                count[s[l]] -= 1\n",
    "                l += 1\n",
    "            res = max(res, r-l+1)\n",
    "        return res"
   ]
  },
  {
   "cell_type": "markdown",
   "id": "e0664747-c2d4-495c-8ae9-69cf13a6f508",
   "metadata": {},
   "source": [
    "### Longest Substring Without Repeating Characters"
   ]
  },
  {
   "cell_type": "code",
   "execution_count": null,
   "id": "d789e461-8b1c-4cc0-af85-ad0b4979a2b0",
   "metadata": {},
   "outputs": [],
   "source": [
    "class Solution(object):\n",
    "    def lengthOfLongestSubstring(self, s):\n",
    "        \"\"\"\n",
    "        :type s: str\n",
    "        :rtype: int\n",
    "        \"\"\"\n",
    "        l = 0\n",
    "        res = 0\n",
    "        chars = dict()\n",
    "        for r in range(len(s)):\n",
    "            if s[r] in chars:\n",
    "                l = max(l, chars[s[r]]+1)\n",
    "            chars[s[r]] = r\n",
    "            res = max(res, r-l+1)\n",
    "        return res"
   ]
  }
 ],
 "metadata": {
  "kernelspec": {
   "display_name": "Python 3 (ipykernel)",
   "language": "python",
   "name": "python3"
  },
  "language_info": {
   "codemirror_mode": {
    "name": "ipython",
    "version": 3
   },
   "file_extension": ".py",
   "mimetype": "text/x-python",
   "name": "python",
   "nbconvert_exporter": "python",
   "pygments_lexer": "ipython3",
   "version": "3.8.10"
  }
 },
 "nbformat": 4,
 "nbformat_minor": 5
}
