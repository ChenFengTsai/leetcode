{
 "cells": [
  {
   "cell_type": "markdown",
   "id": "0aae8910-a83a-4e26-b327-d2e74ea31cdc",
   "metadata": {},
   "source": [
    "# Sliding Window"
   ]
  },
  {
   "cell_type": "markdown",
   "id": "a2e66300-0d4c-42a4-8252-e5fb2e506ac5",
   "metadata": {
    "jp-MarkdownHeadingCollapsed": true,
    "tags": []
   },
   "source": [
    "### Sliding Window Maximum (Maximum of all subarrays of size K)"
   ]
  },
  {
   "cell_type": "code",
   "execution_count": 1,
   "id": "3611d203-8bfc-4794-ba0a-f090f7fe83b5",
   "metadata": {},
   "outputs": [
    {
     "data": {
      "text/plain": [
       "[17, 18, 18]"
      ]
     },
     "execution_count": 1,
     "metadata": {},
     "output_type": "execute_result"
    }
   ],
   "source": [
    "# using Deque to solve \n",
    "# runtime O(N) by using more space O(K)\n",
    "\n",
    "from collections import deque\n",
    "\n",
    "### Important: put the largest at the left-most position\n",
    "def windowMaxQ(arr, K):\n",
    "    # initialize\n",
    "    Q_i = deque()\n",
    "    result = []\n",
    "    # we first check the first window since here does not have moving issue (exchange with big element)\n",
    "    for i in range(K):\n",
    "        while Q_i and arr[i] >= arr[Q_i[-1]]: \n",
    "            Q_i.pop()\n",
    "        Q_i.append(i)\n",
    "    # add max of the first window\n",
    "    result.append(arr[Q_i[0]])\n",
    "    \n",
    "    # check further elements and consider moving issue, only execute len(arr) - k times\n",
    "    for i in range(K, len(arr)):\n",
    "\n",
    "        # remove elements that are out of the window\n",
    "        # need Q_i to be true otherwise after popping left element and empty, it will raise error for Q_i[0]\n",
    "        if Q_i and Q_i[0] < i-K+1:\n",
    "            Q_i.popleft()\n",
    "        \n",
    "        # pop out small element and let the larger element move to the front\n",
    "        while Q_i and arr[i] >= arr[Q_i[-1]]: \n",
    "            Q_i.pop()\n",
    "        Q_i.append(i)\n",
    "        # add maximum\n",
    "        result.append(arr[Q_i[0]])\n",
    "    return result\n",
    "\n",
    "    \n",
    "\n",
    "windowMaxQ([5,17,3,18,14], 3)"
   ]
  },
  {
   "cell_type": "markdown",
   "id": "db5c72d8-c28e-4376-a9c2-8b5e6c88607f",
   "metadata": {},
   "source": [
    "### Best Time to Buy and Sell Stock"
   ]
  },
  {
   "cell_type": "code",
   "execution_count": null,
   "id": "daa3cabe-de95-4837-8469-bca57de35078",
   "metadata": {},
   "outputs": [],
   "source": [
    "## look in w1_sequences"
   ]
  },
  {
   "cell_type": "markdown",
   "id": "25381902-cb78-4855-b461-c77f8ce58fb3",
   "metadata": {},
   "source": [
    "### 3Sum"
   ]
  },
  {
   "cell_type": "code",
   "execution_count": 19,
   "id": "cb8a1d5a-a705-4e52-99dc-83deb6f8d5bf",
   "metadata": {},
   "outputs": [],
   "source": [
    "# sum of the three integers is zero\n",
    "# Time O(n^2)\n",
    "class Solution(object):\n",
    "    def threeSum(self, nums):\n",
    "        \"\"\"\n",
    "        :type nums: List[int]\n",
    "        :rtype: List[List[int]]\n",
    "        \"\"\"\n",
    "        res = []\n",
    "        nums.sort()\n",
    "\n",
    "        for i in range(len(nums)):\n",
    "            # avoid duplicate answer\n",
    "            if i > 0 and nums[i] == nums[i-1]:\n",
    "                continue\n",
    "            l = i+1 \n",
    "            r = len(nums) - 1\n",
    "            while l < r:\n",
    "                three_sum = nums[i] + nums[l] + nums[r]\n",
    "                if three_sum > 0:\n",
    "                    r -= 1\n",
    "                elif three_sum < 0:\n",
    "                    l += 1 \n",
    "                else:\n",
    "                    res.append([nums[i], nums[l], nums[r]])\n",
    "                    l += 1\n",
    "                    while nums[l] == nums[l-1] and l < r:\n",
    "                        l += 1\n",
    "        return res"
   ]
  },
  {
   "cell_type": "markdown",
   "id": "28bcaf77-9e23-48e0-b80d-aa6fab42ec93",
   "metadata": {},
   "source": [
    "### Longest Repeating Character Replacement"
   ]
  },
  {
   "cell_type": "code",
   "execution_count": null,
   "id": "d533c0eb-713a-4972-b7d9-1250effe40dd",
   "metadata": {},
   "outputs": [],
   "source": [
    "from collections import defaultdict\n",
    "# Input: s = \"ABAB\", k = 2\n",
    "# Output: 4\n",
    "# Explanation: Replace the two 'A's with two 'B's or vice versa.\n",
    "\n",
    "class Solution(object):\n",
    "    def characterReplacement(self, s, k):\n",
    "        \"\"\"\n",
    "        :type s: str\n",
    "        :type k: int\n",
    "        :rtype: int\n",
    "        \"\"\"\n",
    "        count = defaultdict()\n",
    "        res = 0\n",
    "        l = 0\n",
    "\n",
    "        for r in range(len(s)):\n",
    "            count[s[r]] = 1 + count[s[r]]\n",
    "            # keep executing until the difference equals the the allowed change number\n",
    "            while (r-l+1) - max(count.values()) > k:\n",
    "                # update the frequency of the most left char\n",
    "                count[s[l]] -= 1\n",
    "                l += 1\n",
    "                \n",
    "            res = max(res, r-l+1)\n",
    "        return res"
   ]
  },
  {
   "cell_type": "markdown",
   "id": "e0664747-c2d4-495c-8ae9-69cf13a6f508",
   "metadata": {},
   "source": [
    "### Longest Substring Without Repeating Characters"
   ]
  },
  {
   "cell_type": "code",
   "execution_count": null,
   "id": "d789e461-8b1c-4cc0-af85-ad0b4979a2b0",
   "metadata": {},
   "outputs": [],
   "source": [
    "class Solution(object):\n",
    "    def lengthOfLongestSubstring(self, s):\n",
    "        \"\"\"\n",
    "        :type s: str\n",
    "        :rtype: int\n",
    "        \"\"\"\n",
    "        l = 0\n",
    "        res = 0\n",
    "        chars = dict()\n",
    "        for r in range(len(s)):\n",
    "            if s[r] in chars:\n",
    "                # move the left pointer to the right if there are duplicate\n",
    "                l = max(l, chars[s[r]]+1)\n",
    "            # update the current position every time\n",
    "            chars[s[r]] = r\n",
    "            res = max(res, r-l+1)\n",
    "        return res"
   ]
  },
  {
   "cell_type": "markdown",
   "id": "d2181ff7-bec4-447b-bcdf-19363bee7709",
   "metadata": {},
   "source": [
    "### Palindromic Substrings"
   ]
  },
  {
   "cell_type": "code",
   "execution_count": null,
   "id": "819593e8-6022-4179-8b0a-fed9a4b44275",
   "metadata": {},
   "outputs": [],
   "source": [
    "# Input: s = \"aaa\"\n",
    "# Output: 6\n",
    "# Explanation: Six palindromic strings: \"a\", \"a\", \"a\", \"aa\", \"aa\", \"aaa\".\n",
    "# Time O(n^2)\n",
    "class Solution(object):\n",
    "    def countSubstrings(self, s):\n",
    "        \"\"\"\n",
    "        :type s: str\n",
    "        :rtype: int\n",
    "        \"\"\"\n",
    "        res = 0\n",
    "        for i in range(len(s)):\n",
    "            # odd number substring\n",
    "            l = r = i\n",
    "            while l >= 0 and r < len(s) and s[l] == s[r]:\n",
    "                res += 1\n",
    "                l -= 1\n",
    "                r += 1\n",
    "            \n",
    "            # even number substring\n",
    "            l = i\n",
    "            r = i+1\n",
    "            while l >= 0 and r < len(s) and s[l] == s[r]:\n",
    "                res += 1\n",
    "                l -= 1\n",
    "                r += 1\n",
    "        return res"
   ]
  },
  {
   "cell_type": "markdown",
   "id": "9ded5253",
   "metadata": {},
   "source": [
    "### Two Sum BSTs (also two sorted array find target value exists)"
   ]
  },
  {
   "cell_type": "code",
   "execution_count": null,
   "id": "423c831c",
   "metadata": {},
   "outputs": [],
   "source": [
    "class TreeNode:\n",
    "    def __init__(self, val):\n",
    "        self.val = val\n",
    "        self.left = None\n",
    "        self.right = None\n",
    "\n",
    "class Solution:\n",
    "    def twoSumBSTs(self, root1: TreeNode, root2: TreeNode, target: int) -> bool:\n",
    "        def inorder(root):\n",
    "            if not root:\n",
    "                return []\n",
    "            return inorder(root.left) + [root.val] + inorder(root.right)\n",
    "        \n",
    "        list1 = inorder(root1)\n",
    "        list2 = inorder(root2)\n",
    "        # sliding window\n",
    "        i = 0\n",
    "        j = len(list2)-1\n",
    "        while i < len(list1) and j >= 0:\n",
    "            two_sum = list1[i] + list2[j]\n",
    "            if two_sum == target:\n",
    "                return True\n",
    "            elif two_sum < target:\n",
    "                i += 1\n",
    "            else:\n",
    "                j -= 1\n",
    "        return False"
   ]
  },
  {
   "cell_type": "markdown",
   "id": "46d4d59d",
   "metadata": {},
   "source": [
    "### Shortest Unsorted Continuous Subarray"
   ]
  },
  {
   "cell_type": "code",
   "execution_count": null,
   "id": "2c981834",
   "metadata": {},
   "outputs": [],
   "source": [
    "# Input: nums = [2,6,4,8,10,9,15]\n",
    "# Output: 5\n",
    "# Explanation: You need to sort [6, 4, 8, 10, 9] in ascending order to make the whole array sorted in ascending order.\n",
    "class Solution(object):\n",
    "    def findUnsortedSubarray(self, nums):\n",
    "        \"\"\"\n",
    "        :type nums: List[int]\n",
    "        :rtype: int\n",
    "        \"\"\"\n",
    "        if len(nums) == 1:\n",
    "            return 0\n",
    "        \n",
    "        # include the elements that are larger than the smallest element from their right\n",
    "        curr_min = float(\"inf\")\n",
    "        l = len(nums)\n",
    "        for i in range(len(nums)-1, -1, -1):\n",
    "            if nums[i] < curr_min:\n",
    "                curr_min = nums[i]\n",
    "            elif nums[i] > curr_min:\n",
    "                l = i\n",
    "        # include the elements that are smaller than the largest element from their left\n",
    "        curr_max = -float(\"inf\")\n",
    "        r = -1\n",
    "        for i in range(len(nums)):\n",
    "            if nums[i] > curr_max:\n",
    "                curr_max = nums[i]\n",
    "            elif nums[i] < curr_max:\n",
    "                r = i\n",
    "\n",
    "        return r-l+1 if r > -1 and l < len(nums) else 0"
   ]
  },
  {
   "cell_type": "markdown",
   "id": "4c337695",
   "metadata": {},
   "source": [
    "### Move Zeros\n",
    "### Container With Most Water\n",
    "### Number of subarrays having product less than K (elements are all >= 1) "
   ]
  },
  {
   "cell_type": "code",
   "execution_count": null,
   "id": "8986f744",
   "metadata": {},
   "outputs": [],
   "source": [
    "# in two_pointers"
   ]
  },
  {
   "cell_type": "markdown",
   "id": "03c8f24d",
   "metadata": {},
   "source": [
    "### Minimum Window Substring"
   ]
  },
  {
   "cell_type": "code",
   "execution_count": null,
   "id": "1259cfcc",
   "metadata": {},
   "outputs": [],
   "source": [
    "# Input: s = \"ADOBECODEBANC\", t = \"ABC\"\n",
    "# Output: \"BANC\"\n",
    "# Explanation: The minimum window substring \"BANC\" includes 'A', 'B', and 'C' from string t.\n",
    "\n",
    "class Solution(object):\n",
    "    def minWindow(self, s, t):\n",
    "        \"\"\"\n",
    "        :type s: str\n",
    "        :type t: str\n",
    "        :rtype: str\n",
    "        \"\"\"\n",
    "        # edge case\n",
    "        if t == \"\":\n",
    "            return \"\"\n",
    "        # initialization\n",
    "        countT = dict()\n",
    "        window = dict()\n",
    "\n",
    "        for c in t:\n",
    "            countT[c] = 1 + countT.get(c, 0)\n",
    "        \n",
    "        have = 0\n",
    "        need = len(countT)\n",
    "        # left right pointer\n",
    "        res = [0, 0]\n",
    "        # length\n",
    "        resLen = float('inf')\n",
    "        l = 0\n",
    "        for r in range(len(s)):\n",
    "            c = s[r]\n",
    "            window[c] = 1 + window.get(c, 0)\n",
    "\n",
    "            if c in countT and window[c] == countT[c]:\n",
    "                have += 1\n",
    "            while have == need:\n",
    "                # update\n",
    "                if (r - l + 1) < resLen:\n",
    "                    res = [l, r]\n",
    "                    resLen = r-l+1\n",
    "                # pop from the left of the window\n",
    "                window[s[l]] -= 1\n",
    "                if s[l] in countT and window[s[l]] < countT[s[l]]:\n",
    "                    # move out the loop and r pointer go right\n",
    "                    have -= 1\n",
    "                l += 1\n",
    "        l, r = res\n",
    "        return s[l: r+1] if resLen != float('Infinity') else \"\""
   ]
  },
  {
   "cell_type": "markdown",
   "id": "0ed5f635",
   "metadata": {},
   "source": [
    "### Best Time to Buy and Sell Stock"
   ]
  },
  {
   "cell_type": "code",
   "execution_count": null,
   "id": "0804913f",
   "metadata": {},
   "outputs": [],
   "source": [
    "# two pointer to find the largest gap Time: O(N)\n",
    "class Solution(object):\n",
    "    def maxProfit(self, prices):\n",
    "        \"\"\"\n",
    "        :type prices: List[int]\n",
    "        :rtype: int\n",
    "        \"\"\"\n",
    "        l = 0\n",
    "        r = 1\n",
    "        max_p = 0\n",
    "        while r < len(prices):\n",
    "            if prices[l]<prices[r]:\n",
    "                profit = prices[r] - prices[l]\n",
    "                max_p = max(max_p, profit)\n",
    "            else:\n",
    "                l=r\n",
    "            r += 1\n",
    "        return max_p"
   ]
  },
  {
   "cell_type": "markdown",
   "id": "8545cfc1",
   "metadata": {},
   "source": [
    "### Find All Anagrams in a String"
   ]
  },
  {
   "cell_type": "code",
   "execution_count": null,
   "id": "e326e5f5",
   "metadata": {},
   "outputs": [],
   "source": [
    "from collections import defaultdict\n",
    "# time complexity of O(N), where N is the length of string s\n",
    "# Input: s = \"cbaebabacd\", p = \"abc\"\n",
    "# Output: [0,6]\n",
    "# Explanation:\n",
    "# The substring with start index = 0 is \"cba\", which is an anagram of \"abc\".\n",
    "# The substring with start index = 6 is \"bac\", which is an anagram of \"abc\".\n",
    "class Solution(object):\n",
    "    def findAnagrams(self, s, p):\n",
    "        if len(p) > len(s):\n",
    "            return []\n",
    "        \n",
    "        p_dic = defaultdict(int)\n",
    "        s_dic = defaultdict(int)\n",
    "        \n",
    "        for char in p:\n",
    "            p_dic[char] += 1\n",
    "        \n",
    "        need = len(p_dic)\n",
    "        done = 0\n",
    "        res = []\n",
    "\n",
    "        # Initialize the s_dic for the first window\n",
    "        for i in range(len(p)):\n",
    "            if s[i] in p_dic:\n",
    "                s_dic[s[i]] += 1\n",
    "                if s_dic[s[i]] == p_dic[s[i]]:\n",
    "                    done += 1\n",
    "\n",
    "        # Check each window in s\n",
    "        for i in range(len(s) - len(p)):\n",
    "            if done == need:\n",
    "                res.append(i)\n",
    "\n",
    "            # Update s_dic for the new window, contract\n",
    "            if s[i] in p_dic:\n",
    "                if s_dic[s[i]] == p_dic[s[i]]:\n",
    "                    done -= 1\n",
    "                s_dic[s[i]] -= 1\n",
    "            # extend\n",
    "            if s[i + len(p)] in p_dic:\n",
    "                if s_dic[s[i + len(p)]] == p_dic[s[i + len(p)]] - 1:\n",
    "                    done += 1\n",
    "                s_dic[s[i + len(p)]] += 1\n",
    "\n",
    "        # Check the last window\n",
    "        if done == need:\n",
    "            res.append(len(s) - len(p))\n",
    "\n",
    "        return res"
   ]
  },
  {
   "cell_type": "markdown",
   "id": "4ebe4c7a",
   "metadata": {},
   "source": [
    "### Longest Substring with At Most K Distinct Characters (simlar to minimum window substring)"
   ]
  },
  {
   "cell_type": "code",
   "execution_count": 2,
   "id": "75df6979",
   "metadata": {},
   "outputs": [
    {
     "name": "stdout",
     "output_type": "stream",
     "text": [
      "5\n"
     ]
    }
   ],
   "source": [
    "# Input: s = abcdae, k = 5\n",
    "# Ouput: 5 since bcdae\n",
    "# Time comlexity O(n) since they only loop through s 2 times\n",
    "import collections\n",
    "class Solution:\n",
    "    def lengthOfLongestSubstringKDistinct(self, s, k):\n",
    "        cnt_dic = collections.defaultdict(int)\n",
    "        res = 0\n",
    "        distinct = 0\n",
    "        l = 0\n",
    "        for r, char in enumerate(s):\n",
    "            cnt_dic[char] += 1\n",
    "            if cnt_dic[char] == 1:\n",
    "                distinct += 1\n",
    "            # contract\n",
    "            while distinct > k:\n",
    "                cnt_dic[s[l]] -= 1\n",
    "                if not cnt_dic[s[l]]:\n",
    "                    distinct -= 1\n",
    "                l += 1\n",
    "            res = max(res, r-l)\n",
    "        return res\n",
    "\n",
    "solution = Solution()\n",
    "ans = solution.lengthOfLongestSubstringKDistinct('abcdae', 5)\n",
    "print(ans)"
   ]
  },
  {
   "cell_type": "code",
   "execution_count": null,
   "id": "7a49bd1d",
   "metadata": {},
   "outputs": [],
   "source": []
  }
 ],
 "metadata": {
  "kernelspec": {
   "display_name": "Python 3.10.11 64-bit",
   "language": "python",
   "name": "python3"
  },
  "language_info": {
   "codemirror_mode": {
    "name": "ipython",
    "version": 3
   },
   "file_extension": ".py",
   "mimetype": "text/x-python",
   "name": "python",
   "nbconvert_exporter": "python",
   "pygments_lexer": "ipython3",
   "version": "3.10.11"
  },
  "vscode": {
   "interpreter": {
    "hash": "aee8b7b246df8f9039afb4144a1f6fd8d2ca17a180786b69acc140d282b71a49"
   }
  }
 },
 "nbformat": 4,
 "nbformat_minor": 5
}
